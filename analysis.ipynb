{
 "cells": [
  {
   "cell_type": "markdown",
   "id": "e4b3f8ad-dfb5-4831-95ab-ca08ab582a23",
   "metadata": {},
   "source": [
    "# \n",
    "# **DAVI CA2 Part 2**\n",
    "- Visualisations\n",
    "- ---"
   ]
  },
  {
   "cell_type": "markdown",
   "id": "902956df-20d1-4b43-b738-f9d6be01915a",
   "metadata": {},
   "source": [
    "#"
   ]
  },
  {
   "cell_type": "markdown",
   "id": "ded4165c-ac6a-4e55-8bce-a7955f8041b1",
   "metadata": {},
   "source": [
    "### Our problem statement : \n",
    "**To analyze student academic performance patterns across different educational programs and identify key factors that influence student success, providing actionable insights to improve educational outcomes and support strategies.**"
   ]
  },
  {
   "cell_type": "markdown",
   "id": "98d3f58c-d7ea-4bbd-91b7-ca7682f9078c",
   "metadata": {},
   "source": [
    "#"
   ]
  },
  {
   "cell_type": "markdown",
   "id": "6caec7f4",
   "metadata": {},
   "source": [
    "#\n",
    "# *Group Dash Template*\n",
    "- Here we make our template for our dashboard.\n",
    "- There will be slight modifications / improvements to this template.\n",
    "- Graphs in this template moat likely will be used by EuZin, as he added his planned graphs into the dash template, to view position of where graphs are placed on the dash.\n",
    "- This is not a complete representation of our built dashboard, so we will use any random data and the graphs are all inaccurate.\n",
    "- This is only a draft to be viewed while doing the assignment."
   ]
  },
  {
   "cell_type": "code",
   "execution_count": 1,
   "id": "6049ee6f",
   "metadata": {},
   "outputs": [
    {
     "data": {
      "text/html": [
       "\n",
       "        <iframe\n",
       "            width=\"100%\"\n",
       "            height=\"650\"\n",
       "            src=\"http://127.0.0.1:8050/\"\n",
       "            frameborder=\"0\"\n",
       "            allowfullscreen\n",
       "            \n",
       "        ></iframe>\n",
       "        "
      ],
      "text/plain": [
       "<IPython.lib.display.IFrame at 0x24445fa9940>"
      ]
     },
     "metadata": {},
     "output_type": "display_data"
    }
   ],
   "source": [
    "# app.py\n",
    "import dash\n",
    "from dash import dcc, html\n",
    "import plotly.express as px\n",
    "import pandas as pd\n",
    "import numpy as np\n",
    "\n",
    "# --------------------------------------------------\n",
    "# Create some quick sample data to fill the charts\n",
    "# --------------------------------------------------\n",
    "np.random.seed(0)  # keep things the same each run\n",
    "df = pd.DataFrame({\n",
    "    \"Category\": np.random.choice([\"A\", \"B\", \"C\"], 30),\n",
    "    \"X\": np.random.randint(20, 60, 30),\n",
    "    \"Y\": np.random.uniform(2.0, 4.0, 30),\n",
    "    \"Group\": np.random.choice([\"G1\", \"G2\", \"G3\"], 30)\n",
    "})\n",
    "\n",
    "# --------------------------------------------------\n",
    "# Create four example figures\n",
    "# --------------------------------------------------\n",
    "fig1 = px.box(df, x=\"Category\", y=\"Y\", title=\"Example Box Plot\")\n",
    "fig2 = px.sunburst(df, path=[\"Category\", \"Group\"], title=\"Example Sunburst\")\n",
    "fig3 = px.scatter(df, x=\"X\", y=\"Y\", color=\"Group\", title=\"Example Scatter Plot\")\n",
    "fig4 = px.bar(df, x=\"Group\", y=\"Y\", title=\"Example Bar Chart\")\n",
    "\n",
    "# --------------------------------------------------\n",
    "# Set up the Dash app\n",
    "# --------------------------------------------------\n",
    "app = dash.Dash(__name__)\n",
    "\n",
    "app.layout = html.Div([\n",
    "    html.H1(\"Academic Performance Insights\"),  # page title\n",
    "    html.P(\"This template shows where the charts and filters will go.\"),\n",
    "\n",
    "    # Fake filters (purely visual, they don’t do anything here)\n",
    "    html.Div([\n",
    "        html.Div([\n",
    "            html.Label(\"Residency Status\"),\n",
    "            dcc.Dropdown(options=[\"All\", \"Singapore Citizen\", \"PR\", \"Foreigner\"], value=\"All\")\n",
    "        ], style={\"flex\": 1, \"marginRight\": \"10px\"}),\n",
    "\n",
    "        html.Div([\n",
    "            html.Label(\"Highest Qualification\"),\n",
    "            dcc.Dropdown(options=[\"All\", \"Certificate\", \"Diploma\", \"Degree\"], value=\"All\")\n",
    "        ], style={\"flex\": 1, \"marginRight\": \"10px\"}),\n",
    "\n",
    "        html.Div([\n",
    "            html.Label(\"Course Funding\"),\n",
    "            dcc.Dropdown(options=[\"All\", \"Individual\", \"Sponsored\"], value=\"All\")\n",
    "        ], style={\"flex\": 1})\n",
    "    ], style={\"display\": \"flex\", \"marginBottom\": \"10px\"}),\n",
    "\n",
    "    html.Label(\"Completion Date Range\"),\n",
    "    dcc.RangeSlider(min=2023, max=2025, value=[2023, 2025], marks={2023: \"2023\", 2024: \"2024\", 2025: \"2025\"}),\n",
    "\n",
    "    # First row of charts\n",
    "    html.Div([\n",
    "        html.Div([dcc.Graph(figure=fig1)], style={\"flex\": 1, \"paddingRight\": \"5px\"}),\n",
    "        html.Div([dcc.Graph(figure=fig2)], style={\"flex\": 1, \"paddingLeft\": \"5px\"})\n",
    "    ], style={\"display\": \"flex\", \"marginTop\": \"15px\"}),\n",
    "\n",
    "    # Second row of charts\n",
    "    html.Div([\n",
    "        html.Div([dcc.Graph(figure=fig3)], style={\"flex\": 1, \"paddingRight\": \"5px\"}),\n",
    "        html.Div([dcc.Graph(figure=fig4)], style={\"flex\": 1, \"paddingLeft\": \"5px\"})\n",
    "    ], style={\"display\": \"flex\", \"marginTop\": \"15px\"}),\n",
    "\n",
    "    # Placeholder text area\n",
    "    html.Div(\"Observations and notes will be written here.\", style={\"marginTop\": \"15px\", \"fontStyle\": \"italic\"})\n",
    "], style={\"maxWidth\": \"1200px\", \"margin\": \"auto\", \"padding\": \"20px\"})\n",
    "\n",
    "# --------------------------------------------------\n",
    "# Run the app\n",
    "# --------------------------------------------------\n",
    "if __name__ == \"__main__\":\n",
    "    app.run(debug=True, port=8050)"
   ]
  },
  {
   "cell_type": "markdown",
   "id": "e5d05149-7e84-4c6f-b7c4-1978e57d04b6",
   "metadata": {},
   "source": [
    "# **Tan Eu Zin's Part, 4 charts and 1 dashboard.**\n",
    "- Below is EuZin's part.\n",
    "- 4 charts are built for display first, and then built into the dashboard.\n",
    "- The final dashboard is done purely by Eu Zin. Ethan's part is below, where he built his second dashboard with 4 charts."
   ]
  },
  {
   "cell_type": "markdown",
   "id": "70507a52-102f-433c-95f0-5b79e1f0fa61",
   "metadata": {},
   "source": [
    "# \n",
    "# Imports\n",
    "---"
   ]
  },
  {
   "cell_type": "code",
   "execution_count": 2,
   "id": "ef86e431",
   "metadata": {},
   "outputs": [
    {
     "name": "stdout",
     "output_type": "stream",
     "text": [
      "Requirement already satisfied: dash-bootstrap-components in c:\\users\\ngwen\\anaconda3\\lib\\site-packages (2.0.3)\n",
      "Requirement already satisfied: dash>=3.0.4 in c:\\users\\ngwen\\anaconda3\\lib\\site-packages (from dash-bootstrap-components) (3.1.1)\n",
      "Requirement already satisfied: Flask<3.2,>=1.0.4 in c:\\users\\ngwen\\anaconda3\\lib\\site-packages (from dash>=3.0.4->dash-bootstrap-components) (3.0.3)\n",
      "Requirement already satisfied: Werkzeug<3.2 in c:\\users\\ngwen\\anaconda3\\lib\\site-packages (from dash>=3.0.4->dash-bootstrap-components) (3.0.3)\n",
      "Requirement already satisfied: plotly>=5.0.0 in c:\\users\\ngwen\\anaconda3\\lib\\site-packages (from dash>=3.0.4->dash-bootstrap-components) (5.22.0)\n",
      "Requirement already satisfied: importlib-metadata in c:\\users\\ngwen\\anaconda3\\lib\\site-packages (from dash>=3.0.4->dash-bootstrap-components) (7.0.1)\n",
      "Requirement already satisfied: typing-extensions>=4.1.1 in c:\\users\\ngwen\\anaconda3\\lib\\site-packages (from dash>=3.0.4->dash-bootstrap-components) (4.11.0)\n",
      "Requirement already satisfied: requests in c:\\users\\ngwen\\anaconda3\\lib\\site-packages (from dash>=3.0.4->dash-bootstrap-components) (2.32.2)\n",
      "Requirement already satisfied: retrying in c:\\users\\ngwen\\anaconda3\\lib\\site-packages (from dash>=3.0.4->dash-bootstrap-components) (1.4.1)\n",
      "Requirement already satisfied: nest-asyncio in c:\\users\\ngwen\\anaconda3\\lib\\site-packages (from dash>=3.0.4->dash-bootstrap-components) (1.6.0)\n",
      "Requirement already satisfied: setuptools in c:\\users\\ngwen\\anaconda3\\lib\\site-packages (from dash>=3.0.4->dash-bootstrap-components) (69.5.1)\n",
      "Requirement already satisfied: Jinja2>=3.1.2 in c:\\users\\ngwen\\anaconda3\\lib\\site-packages (from Flask<3.2,>=1.0.4->dash>=3.0.4->dash-bootstrap-components) (3.1.4)\n",
      "Requirement already satisfied: itsdangerous>=2.1.2 in c:\\users\\ngwen\\anaconda3\\lib\\site-packages (from Flask<3.2,>=1.0.4->dash>=3.0.4->dash-bootstrap-components) (2.2.0)\n",
      "Requirement already satisfied: click>=8.1.3 in c:\\users\\ngwen\\anaconda3\\lib\\site-packages (from Flask<3.2,>=1.0.4->dash>=3.0.4->dash-bootstrap-components) (8.1.7)\n",
      "Requirement already satisfied: blinker>=1.6.2 in c:\\users\\ngwen\\anaconda3\\lib\\site-packages (from Flask<3.2,>=1.0.4->dash>=3.0.4->dash-bootstrap-components) (1.6.2)\n",
      "Requirement already satisfied: tenacity>=6.2.0 in c:\\users\\ngwen\\anaconda3\\lib\\site-packages (from plotly>=5.0.0->dash>=3.0.4->dash-bootstrap-components) (8.2.2)\n",
      "Requirement already satisfied: packaging in c:\\users\\ngwen\\anaconda3\\lib\\site-packages (from plotly>=5.0.0->dash>=3.0.4->dash-bootstrap-components) (23.2)\n",
      "Requirement already satisfied: MarkupSafe>=2.1.1 in c:\\users\\ngwen\\anaconda3\\lib\\site-packages (from Werkzeug<3.2->dash>=3.0.4->dash-bootstrap-components) (2.1.3)\n",
      "Requirement already satisfied: zipp>=0.5 in c:\\users\\ngwen\\anaconda3\\lib\\site-packages (from importlib-metadata->dash>=3.0.4->dash-bootstrap-components) (3.17.0)\n",
      "Requirement already satisfied: charset-normalizer<4,>=2 in c:\\users\\ngwen\\anaconda3\\lib\\site-packages (from requests->dash>=3.0.4->dash-bootstrap-components) (2.0.4)\n",
      "Requirement already satisfied: idna<4,>=2.5 in c:\\users\\ngwen\\anaconda3\\lib\\site-packages (from requests->dash>=3.0.4->dash-bootstrap-components) (3.7)\n",
      "Requirement already satisfied: urllib3<3,>=1.21.1 in c:\\users\\ngwen\\anaconda3\\lib\\site-packages (from requests->dash>=3.0.4->dash-bootstrap-components) (2.2.2)\n",
      "Requirement already satisfied: certifi>=2017.4.17 in c:\\users\\ngwen\\anaconda3\\lib\\site-packages (from requests->dash>=3.0.4->dash-bootstrap-components) (2024.8.30)\n",
      "Requirement already satisfied: colorama in c:\\users\\ngwen\\anaconda3\\lib\\site-packages (from click>=8.1.3->Flask<3.2,>=1.0.4->dash>=3.0.4->dash-bootstrap-components) (0.4.6)\n",
      "Note: you may need to restart the kernel to use updated packages.\n"
     ]
    }
   ],
   "source": [
    "pip install dash-bootstrap-components"
   ]
  },
  {
   "cell_type": "code",
   "execution_count": 3,
   "id": "c5aac116-8dcb-4716-ab80-93b57aea8720",
   "metadata": {},
   "outputs": [],
   "source": [
    "import pandas as pd\n",
    "import numpy as np\n",
    "import plotly.express as px\n",
    "import plotly.graph_objects as go\n",
    "import re\n",
    "from dash import Dash, dcc, html, Input, Output, callback, dash_table\n",
    "import dash_bootstrap_components as dbc"
   ]
  },
  {
   "cell_type": "markdown",
   "id": "06a943ae-5f01-4246-9097-f7184607c4ff",
   "metadata": {},
   "source": [
    "# \n",
    "# Importing Data\n",
    "---"
   ]
  },
  {
   "cell_type": "code",
   "execution_count": 4,
   "id": "80f159b5-ed25-4575-b922-2d8fe7dddeca",
   "metadata": {},
   "outputs": [
    {
     "name": "stdout",
     "output_type": "stream",
     "text": [
      "Dataset loaded successfully!\n",
      "     STUDENT ID GENDER COUNTRY OF OTHER NATIONALITY        DOB  \\\n",
      "0  1101-009/001      F                     Malaysia 1981-09-13   \n",
      "1  1101-009/001      F                     Malaysia 1981-09-13   \n",
      "2  1101-009/001      F                     Malaysia 1981-09-13   \n",
      "3  1101-009/002      F                   SG CITIZEN 1979-07-26   \n",
      "4  1101-009/002      F                   SG CITIZEN 1979-07-26   \n",
      "\n",
      "  HIGHEST QUALIFICATION NAME OF QUALIFICATION AND INSTITUTION  \\\n",
      "0           Certificate                                   SPM   \n",
      "1           Certificate                                   SPM   \n",
      "2           Certificate                                   SPM   \n",
      "3           Certificate     Certificate in Office Skills, ITE   \n",
      "4           Certificate     Certificate in Office Skills, ITE   \n",
      "\n",
      "  DATE ATTAINED HIGHEST QUALIFICATION           DESIGNATION COMMENCEMENT DATE  \\\n",
      "0                          2018-01-08  Admin & HR Assistant        2022-04-18   \n",
      "1                          2018-01-08  Admin & HR Assistant        2022-04-18   \n",
      "2                          2018-01-08  Admin & HR Assistant        2022-04-18   \n",
      "3                          2016-06-08       Admin Assistant        2022-04-18   \n",
      "4                          2016-06-08       Admin Assistant        2022-04-18   \n",
      "\n",
      "  COMPLETION DATE  ... COURSE CODE                         COURSE NAME  \\\n",
      "0      2023-09-17  ...        1101  Diploma in Business Administration   \n",
      "1      2023-09-17  ...        1101  Diploma in Business Administration   \n",
      "2      2023-09-17  ...        1101  Diploma in Business Administration   \n",
      "3      2023-09-17  ...        1101  Diploma in Business Administration   \n",
      "4      2023-09-17  ...        1101  Diploma in Business Administration   \n",
      "\n",
      "    RESIDENCY STATUS PASS_STATUS  COURSE_CERTIFICATION_TYPE  \\\n",
      "0          Foreigner           P                    Diploma   \n",
      "1          Foreigner           P                    Diploma   \n",
      "2          Foreigner           P                    Diploma   \n",
      "3  Singapore Citizen           P                    Diploma   \n",
      "4  Singapore Citizen           P                    Diploma   \n",
      "\n",
      "  COURSE_DURATION_MONTHS  CUMULATIVE_GPA  SEMESTERS_COMPLETED  \\\n",
      "0                  16.68             3.6                    3   \n",
      "1                  16.68             3.6                    3   \n",
      "2                  16.68             3.6                    3   \n",
      "3                  16.68             3.5                    3   \n",
      "4                  16.68             3.5                    3   \n",
      "\n",
      "  CGPA_PERFORMANCE_CATEGORY AGE  \n",
      "0                 Very Good  44  \n",
      "1                 Very Good  44  \n",
      "2                 Very Good  44  \n",
      "3                 Very Good  46  \n",
      "4                 Very Good  46  \n",
      "\n",
      "[5 rows x 27 columns]\n"
     ]
    }
   ],
   "source": [
    "# Attempt to load the cleaned student data from the Excel file\n",
    "try:\n",
    "    df = pd.read_excel('cleaned_student_data.xlsx')\n",
    "    print(\"Dataset loaded successfully!\")\n",
    "    \n",
    "    # Preview the first few rows to verify the data has loaded correctly\n",
    "    print(df.head())\n",
    "\n",
    "# Handle the case where the file is missing from the working directory\n",
    "except FileNotFoundError:\n",
    "    print(\"Error: The file 'cleaned_student_data.xlsx' was not found.\")\n",
    "    print(\"Please check the file name and ensure it is located in the same directory as this script.\")\n",
    "\n",
    "# Handle any other unexpected errors that may occur during loading\n",
    "except Exception as e:\n",
    "    print(f\"An unexpected error occurred: {e}\")"
   ]
  },
  {
   "cell_type": "markdown",
   "id": "99b25169-86a6-4f7b-8cb1-7fb9fa07669d",
   "metadata": {},
   "source": [
    "# \n",
    "# **Visualisations**\n",
    "---"
   ]
  },
  {
   "cell_type": "markdown",
   "id": "f24b134c-836a-4d80-ae60-b9b2b3b21367",
   "metadata": {},
   "source": [
    "#\n"
   ]
  },
  {
   "cell_type": "markdown",
   "id": "2a46f007-28d5-4256-ae50-cd8e5b80d223",
   "metadata": {},
   "source": [
    "## **Chart 1 : Box plot (using plotly express)**"
   ]
  },
  {
   "cell_type": "code",
   "execution_count": 5,
   "id": "c7b3511a-812a-4409-b895-d8efcf3b7503",
   "metadata": {},
   "outputs": [
    {
     "data": {
      "application/vnd.plotly.v1+json": {
       "config": {
        "plotlyServerURL": "https://plot.ly"
       },
       "data": [
        {
         "alignmentgroup": "True",
         "boxpoints": "all",
         "hovertemplate": "COURSE_CERTIFICATION_TYPE=Diploma<br>COURSE NAME=%{x}<br>Cumulative GPA=%{y}<extra></extra>",
         "legendgroup": "Diploma",
         "marker": {
          "color": "#636efa"
         },
         "name": "Diploma",
         "notched": false,
         "offsetgroup": "Diploma",
         "orientation": "v",
         "showlegend": true,
         "type": "box",
         "x": [
          "Diploma in Business Administration",
          "Diploma in Business Administration",
          "Diploma in Business Administration",
          "Diploma in Business Administration",
          "Diploma in Business Administration",
          "Diploma in Business Administration",
          "Diploma in Business Administration",
          "Diploma in Business Administration",
          "Diploma in Business Administration",
          "Diploma in Business Administration",
          "Diploma in Business Administration",
          "Diploma in Business Administration",
          "Diploma in Business Administration",
          "Diploma in Business Administration",
          "Diploma in Business Administration",
          "Diploma in Business Administration",
          "Diploma in Business Administration",
          "Diploma in Business Administration",
          "Diploma in Business Administration",
          "Diploma in Business Administration",
          "Diploma in Business Administration",
          "Diploma in Business Administration",
          "Diploma in Business Administration",
          "Diploma in Business Administration",
          "Diploma in Business Administration",
          "Diploma in Business Administration",
          "Diploma in Business Administration",
          "Diploma in Business Administration",
          "Diploma in Business Administration",
          "Diploma in Business Administration",
          "Diploma in Business Administration",
          "Diploma in Business Administration",
          "Diploma in Business Administration",
          "Diploma in Business Administration",
          "Diploma in Business Administration",
          "Diploma in Business Administration",
          "Diploma in Business Administration",
          "Diploma in Business Administration",
          "Diploma in Business Administration",
          "Diploma in Business Administration",
          "Diploma in Business Administration",
          "Diploma in Business Administration",
          "Diploma in Business Administration",
          "Diploma in Business Administration",
          "Diploma in Business Administration",
          "Diploma in Business Administration",
          "Diploma in Business Administration",
          "Diploma in Business Administration",
          "Diploma in Business Administration",
          "Diploma in Business Administration",
          "Diploma in Business Administration",
          "Diploma in Business Administration",
          "Diploma in Business Administration",
          "Diploma in Business Administration",
          "Diploma in Business Administration",
          "Diploma in Business Administration",
          "Diploma in Business Administration",
          "Diploma in Business Administration",
          "Diploma in Business Administration",
          "Diploma in Business Administration",
          "Diploma in Business Administration",
          "Diploma in Business Administration",
          "Diploma in Business Administration",
          "Diploma in Business Administration",
          "Diploma in Business Administration",
          "Diploma in Business Administration",
          "Diploma in Business Administration",
          "Diploma in Business Administration",
          "Diploma in Business Administration",
          "Diploma in Business Administration",
          "Diploma in Business Administration",
          "Diploma in Business Administration",
          "Diploma in Business Administration",
          "Diploma in Business Administration",
          "Diploma in Business Administration",
          "Diploma in Business Administration",
          "Diploma in Business Administration",
          "Diploma in Business Administration",
          "Diploma in Business Administration",
          "Diploma in Business Administration",
          "Diploma in Business Administration",
          "Diploma in Business Administration",
          "Diploma in Business Administration",
          "Diploma in Business Administration",
          "Diploma in Business Administration",
          "Diploma in Business Administration",
          "Diploma in Business Administration",
          "Diploma in Business Administration",
          "Diploma in Business Administration",
          "Diploma in Business Administration",
          "Diploma in Business Administration",
          "Diploma in Business Administration",
          "Diploma in Business Administration",
          "Diploma in Business Administration",
          "Diploma in Business Administration",
          "Diploma in Business Administration",
          "Diploma in Business Administration",
          "Diploma in Business Administration",
          "Diploma in Business Administration",
          "Diploma in Business Administration",
          "Diploma in Business Administration",
          "Diploma in Business Administration",
          "Diploma in Business Administration",
          "Diploma in Business Administration",
          "Diploma in Business Administration",
          "Diploma in Business Administration",
          "Diploma in Business Administration",
          "Diploma in Business Administration",
          "Diploma in Business Administration",
          "Diploma in Business Administration",
          "Diploma in Business Administration",
          "Diploma in Business Administration",
          "Diploma in Business Administration",
          "Diploma in Business Administration",
          "Diploma in Business Administration",
          "Diploma in Business Administration",
          "Diploma in Business Administration",
          "Diploma in Business Administration",
          "Diploma in Business Administration",
          "Diploma in Business Administration",
          "Diploma in Business Administration",
          "Diploma in Business Administration",
          "Diploma in Business Administration",
          "Diploma in Business Administration",
          "Diploma in Business Administration",
          "Diploma in Business Administration",
          "Diploma in Business Administration",
          "Diploma in Business Analytics",
          "Diploma in Business Analytics",
          "Diploma in Business Analytics",
          "Diploma in Business Analytics",
          "Diploma in Business Analytics",
          "Diploma in Business Analytics",
          "Diploma in Business Analytics",
          "Diploma in Business Analytics",
          "Diploma in Business Analytics",
          "Diploma in Business Analytics",
          "Diploma in Business Analytics",
          "Diploma in Business Analytics",
          "Diploma in Business Analytics",
          "Diploma in Business Analytics",
          "Diploma in Business Analytics",
          "Diploma in Business Analytics",
          "Diploma in Business Analytics",
          "Diploma in Business Analytics",
          "Diploma in Business Analytics",
          "Diploma in Business Analytics",
          "Diploma in Business Analytics",
          "Diploma in Business Analytics",
          "Diploma in Business Analytics",
          "Diploma in Business Analytics",
          "Diploma in Business Analytics",
          "Diploma in Business Analytics",
          "Diploma in Business Analytics",
          "Diploma in Business Analytics",
          "Diploma in Business Analytics",
          "Diploma in Business Analytics",
          "Diploma in Business Analytics",
          "Diploma in Business Analytics",
          "Diploma in Business Analytics",
          "Diploma in Business Analytics",
          "Diploma in Business Analytics",
          "Diploma in Business Analytics",
          "Diploma in Business Analytics",
          "Diploma in Business Analytics",
          "Diploma in Business Analytics",
          "Diploma in Business Analytics",
          "Diploma in Business Analytics",
          "Diploma in Business Analytics",
          "Diploma in Business Analytics",
          "Diploma in Business Analytics",
          "Diploma in Business Analytics",
          "Diploma in Business Analytics",
          "Diploma in Business Analytics",
          "Diploma in Business Analytics",
          "Diploma in Business Analytics",
          "Diploma in Business Analytics",
          "Diploma in Business Analytics",
          "Diploma in Business Analytics",
          "Diploma in Business Analytics",
          "Diploma in Business Analytics",
          "Diploma in Business Analytics",
          "Diploma in Business Analytics",
          "Diploma in Business Analytics",
          "Diploma in Business Analytics",
          "Diploma in Business Analytics",
          "Diploma in Business Analytics",
          "Diploma in Business Analytics",
          "Diploma in Business Analytics",
          "Diploma in Business Analytics",
          "Diploma in Business Analytics",
          "Diploma in Business Analytics",
          "Diploma in Business Analytics",
          "Diploma in Business Analytics",
          "Diploma in Business Analytics",
          "Diploma in Business Analytics",
          "Diploma in Business Analytics",
          "Diploma in Business Analytics",
          "Diploma in Business Analytics",
          "Diploma in Business Analytics",
          "Diploma in Business Analytics",
          "Diploma in Business Analytics",
          "Diploma in Business Analytics",
          "Diploma in Business Analytics",
          "Diploma in Business Analytics",
          "Diploma in Business Analytics",
          "Diploma in Business Analytics",
          "Diploma in Business Analytics",
          "Diploma in Business Analytics",
          "Diploma in Business Analytics",
          "Diploma in Business Analytics",
          "Diploma in Business Analytics",
          "Diploma in Business Analytics",
          "Diploma in Business Analytics",
          "Diploma in Business Analytics",
          "Diploma in Business Analytics",
          "Diploma in Business Analytics",
          "Diploma in Business Analytics",
          "Specialist Diploma in Business Innovation and Design",
          "Specialist Diploma in Business Innovation and Design",
          "Specialist Diploma in Business Innovation and Design",
          "Specialist Diploma in Business Innovation and Design",
          "Specialist Diploma in Business Innovation and Design",
          "Specialist Diploma in Business Innovation and Design",
          "Specialist Diploma in Business Innovation and Design",
          "Specialist Diploma in Business Innovation and Design",
          "Specialist Diploma in Business Innovation and Design",
          "Specialist Diploma in Business Innovation and Design",
          "Specialist Diploma in Business Innovation and Design",
          "Specialist Diploma in Business Innovation and Design",
          "Specialist Diploma in Business Innovation and Design",
          "Specialist Diploma in Business Innovation and Design",
          "Specialist Diploma in Business Innovation and Design",
          "Specialist Diploma in Business Innovation and Design",
          "Specialist Diploma in Business Innovation and Design",
          "Specialist Diploma in Business Innovation and Design",
          "Specialist Diploma in Business Innovation and Design",
          "Specialist Diploma in Business Innovation and Design",
          "Specialist Diploma in Business Innovation and Design",
          "Specialist Diploma in Business Innovation and Design",
          "Specialist Diploma in Business Innovation and Design",
          "Specialist Diploma in Business Innovation and Design",
          "Specialist Diploma in Business Innovation and Design",
          "Specialist Diploma in Business Innovation and Design",
          "Specialist Diploma in Business Innovation and Design",
          "Specialist Diploma in Business Innovation and Design",
          "Specialist Diploma in Business Innovation and Design",
          "Specialist Diploma in Business Innovation and Design",
          "Specialist Diploma in Business Innovation and Design",
          "Specialist Diploma in Business Innovation and Design",
          "Specialist Diploma in Business Innovation and Design",
          "Specialist Diploma in Business Innovation and Design",
          "Specialist Diploma in Business Innovation and Design",
          "Specialist Diploma in Business Innovation and Design",
          "Specialist Diploma in Business Innovation and Design",
          "Specialist Diploma in Business Innovation and Design",
          "Specialist Diploma in Business Innovation and Design",
          "Specialist Diploma in Business Innovation and Design",
          "Specialist Diploma in Business Innovation and Design",
          "Specialist Diploma in Business Innovation and Design",
          "Specialist Diploma in Business Innovation and Design",
          "Specialist Diploma in Business Innovation and Design",
          "Specialist Diploma in Business Innovation and Design",
          "Specialist Diploma in Business Innovation and Design",
          "Specialist Diploma in Business Innovation and Design",
          "Specialist Diploma in Business Innovation and Design",
          "Specialist Diploma in Business Innovation and Design",
          "Specialist Diploma in Business Innovation and Design",
          "Specialist Diploma in Business Innovation and Design",
          "Specialist Diploma in Business Innovation and Design",
          "Specialist Diploma in Business Innovation and Design",
          "Specialist Diploma in Business Innovation and Design",
          "Specialist Diploma in Business Innovation and Design",
          "Specialist Diploma in Business Innovation and Design",
          "Specialist Diploma in Business Innovation and Design",
          "Specialist Diploma in Business Innovation and Design",
          "Specialist Diploma in Business Innovation and Design",
          "Specialist Diploma in Business Innovation and Design",
          "Specialist Diploma in Business Innovation and Design",
          "Specialist Diploma in Business Innovation and Design",
          "Specialist Diploma in Business Innovation and Design",
          "Specialist Diploma in Business Innovation and Design",
          "Specialist Diploma in Business Innovation and Design",
          "Specialist Diploma in Business Innovation and Design",
          "Specialist Diploma in Business Innovation and Design",
          "Specialist Diploma in Business Innovation and Design",
          "Specialist Diploma in Business Innovation and Design",
          "Specialist Diploma in Business Innovation and Design",
          "Specialist Diploma in Business Innovation and Design",
          "Specialist Diploma in Business Innovation and Design",
          "Specialist Diploma in Business Innovation and Design",
          "Specialist Diploma in Business Innovation and Design",
          "Specialist Diploma in Business Innovation and Design",
          "Specialist Diploma in Business Innovation and Design",
          "Specialist Diploma in Business Innovation and Design",
          "Specialist Diploma in Business Innovation and Design",
          "Specialist Diploma in Business Innovation and Design",
          "Specialist Diploma in Business Innovation and Design",
          "Specialist Diploma in Business Innovation and Design",
          "Specialist Diploma in Business Innovation and Design",
          "Specialist Diploma in Business Innovation and Design",
          "Specialist Diploma in Business Innovation and Design",
          "Specialist Diploma in Business Innovation and Design",
          "Specialist Diploma in Business Innovation and Design",
          "Specialist Diploma in Business Innovation and Design",
          "Specialist Diploma in Business Innovation and Design",
          "Specialist Diploma in Intelligent Systems",
          "Specialist Diploma in Intelligent Systems",
          "Specialist Diploma in Intelligent Systems",
          "Specialist Diploma in Intelligent Systems",
          "Specialist Diploma in Intelligent Systems",
          "Specialist Diploma in Intelligent Systems",
          "Specialist Diploma in Intelligent Systems",
          "Specialist Diploma in Intelligent Systems",
          "Specialist Diploma in Intelligent Systems",
          "Specialist Diploma in Intelligent Systems",
          "Specialist Diploma in Intelligent Systems",
          "Specialist Diploma in Intelligent Systems",
          "Specialist Diploma in Intelligent Systems",
          "Specialist Diploma in Intelligent Systems",
          "Specialist Diploma in Intelligent Systems",
          "Specialist Diploma in Intelligent Systems",
          "Specialist Diploma in Intelligent Systems",
          "Specialist Diploma in Intelligent Systems",
          "Specialist Diploma in Intelligent Systems",
          "Specialist Diploma in Intelligent Systems",
          "Specialist Diploma in Intelligent Systems",
          "Specialist Diploma in Intelligent Systems",
          "Specialist Diploma in Intelligent Systems",
          "Specialist Diploma in Intelligent Systems",
          "Specialist Diploma in Intelligent Systems",
          "Specialist Diploma in Intelligent Systems",
          "Specialist Diploma in Intelligent Systems",
          "Specialist Diploma in Intelligent Systems",
          "Specialist Diploma in Intelligent Systems",
          "Specialist Diploma in Intelligent Systems",
          "Specialist Diploma in Intelligent Systems",
          "Specialist Diploma in Intelligent Systems",
          "Specialist Diploma in Intelligent Systems",
          "Specialist Diploma in Intelligent Systems",
          "Specialist Diploma in Intelligent Systems",
          "Specialist Diploma in Intelligent Systems",
          "Specialist Diploma in Intelligent Systems",
          "Specialist Diploma in Intelligent Systems",
          "Specialist Diploma in Intelligent Systems",
          "Specialist Diploma in Intelligent Systems",
          "Specialist Diploma in Intelligent Systems",
          "Specialist Diploma in Intelligent Systems",
          "Specialist Diploma in Intelligent Systems",
          "Specialist Diploma in Intelligent Systems",
          "Specialist Diploma in Intelligent Systems",
          "Specialist Diploma in Intelligent Systems",
          "Specialist Diploma in Intelligent Systems",
          "Specialist Diploma in Intelligent Systems",
          "Specialist Diploma in Intelligent Systems",
          "Specialist Diploma in Intelligent Systems",
          "Specialist Diploma in Intelligent Systems",
          "Specialist Diploma in Intelligent Systems",
          "Specialist Diploma in Intelligent Systems",
          "Specialist Diploma in Intelligent Systems",
          "Specialist Diploma in Intelligent Systems",
          "Specialist Diploma in Intelligent Systems",
          "Specialist Diploma in Intelligent Systems",
          "Specialist Diploma in Intelligent Systems",
          "Specialist Diploma in Intelligent Systems",
          "Specialist Diploma in Intelligent Systems"
         ],
         "x0": " ",
         "xaxis": "x",
         "y": [
          3.6,
          3.6,
          3.6,
          3.5,
          3.5,
          3.5,
          3.366666666666667,
          3.366666666666667,
          3.366666666666667,
          3.8,
          3.8,
          3.8,
          2.9,
          2.9,
          2.9,
          2.1,
          2.1,
          2.1,
          2,
          2,
          2,
          2,
          2.9,
          2.9,
          2.9,
          3.4,
          3.4,
          3.4,
          3.4,
          3.4,
          3.4,
          2.2,
          2.2,
          2.2,
          2.1,
          2.1,
          2.1,
          3.1,
          3.1,
          3.1,
          3.9,
          3.9,
          3.9,
          3.5,
          3.5,
          3.5,
          2.9,
          2.9,
          2.9,
          3.5,
          3.5,
          3.5,
          2.6,
          2.6,
          2.6,
          3.5,
          3.5,
          3.5,
          2.5,
          2.5,
          2.5,
          3.7,
          3.7,
          3.7,
          3.9,
          3.9,
          3.9,
          2.3,
          2.3,
          2.3,
          3.2,
          3.2,
          3.2,
          3.5,
          3.5,
          3.5,
          3.799999999999999,
          3.799999999999999,
          3.799999999999999,
          2.4,
          2.4,
          2.4,
          3.6,
          3.6,
          3.6,
          3.7,
          3.7,
          3.7,
          3.5,
          3.5,
          3.5,
          2.9,
          2.9,
          2.9,
          2.4,
          2.4,
          2.4,
          3.6,
          3.6,
          3.6,
          3.8,
          3.8,
          3.8,
          2.1,
          2.1,
          2.1,
          3.1,
          3.1,
          3.1,
          2.5,
          2.5,
          2.5,
          3.5,
          3.5,
          3.5,
          3.8,
          3.8,
          3.8,
          4,
          4,
          4,
          3.6,
          3.6,
          3.6,
          3.4,
          3.4,
          3.4,
          3.6,
          3.6,
          3.6,
          2.6,
          2.6,
          2.6,
          2.2,
          2.2,
          2.2,
          2.1,
          2.1,
          2.1,
          2.025,
          2.025,
          2.025,
          2.025,
          2.9,
          2.9,
          2.9,
          3.4,
          3.4,
          3.4,
          2.2,
          2.2,
          2.2,
          2.7,
          2.7,
          2.7,
          3.9,
          3.9,
          3.9,
          2.9,
          2.9,
          2.9,
          3.5,
          3.5,
          3.5,
          3.2,
          3.2,
          3.2,
          2.799999999999999,
          2.799999999999999,
          2.799999999999999,
          3.5,
          3.5,
          3.5,
          2.1,
          2.1,
          2.1,
          3.4,
          3.4,
          3.4,
          2.3,
          2.3,
          2.3,
          2.5,
          2.5,
          2.5,
          3.7,
          3.7,
          3.7,
          3.4,
          3.4,
          3.4,
          3.5,
          3.5,
          3.5,
          3.8,
          3.8,
          3.8,
          3.7,
          3.7,
          3.7,
          2.2,
          2.2,
          2.2,
          3.6,
          3.6,
          3.6,
          3.4,
          3.4,
          3.4,
          3.3,
          3.3,
          3.3,
          3.7,
          3.7,
          3.7,
          2,
          2,
          2,
          3.6,
          3.6,
          3.6,
          3.6,
          3.2,
          3.2,
          3.2,
          3.2,
          3.6,
          3.6,
          3.3,
          3.3,
          2.7,
          2.7,
          3.4,
          3.4,
          3.6,
          3.6,
          3,
          3,
          3.3,
          3.3,
          2.6,
          2.6,
          3.2,
          3.2,
          2.7,
          2.7,
          3.5,
          3.5,
          3.1,
          3.1,
          2.2,
          2.2,
          2.7,
          2.7,
          2.9,
          2.9,
          2.5,
          2.5,
          2.1,
          2.1,
          3.8,
          3.8,
          3.5,
          3.5,
          2.3,
          2.3,
          3.6,
          3.6,
          3.2,
          3.2,
          3.2,
          3.2,
          3.6,
          3.6,
          3.5,
          3.5,
          2.7,
          2.7,
          3.4,
          3.4,
          3.6,
          3.6,
          3,
          3,
          3.3,
          3.3,
          2,
          2,
          4,
          4,
          2.6,
          2.6,
          2.6,
          2.6,
          3.2,
          3.2,
          3.8,
          3.8,
          3.6,
          3.6,
          3.2,
          3.2,
          2.1,
          2.1,
          3,
          3,
          2.3,
          2.3,
          3.3,
          3.3,
          3.2,
          3.2,
          3.2,
          3.2,
          2.4,
          2.4,
          3.6,
          3.6,
          3.4,
          3.4,
          3.8,
          3.8,
          3.9,
          3.9,
          2.6,
          2.6,
          3.2,
          3.2,
          2.5,
          2.5,
          3,
          3,
          2.8,
          2.8,
          2.4,
          2.4,
          2.4,
          3.2,
          3.2,
          2.7,
          2.7,
          3.8,
          3.8,
          3.5,
          3.5,
          3.7,
          3.7,
          3.9,
          3.9,
          2.4,
          2.4,
          2.4,
          2.4,
          2.4,
          3,
          3,
          3.4,
          3.4,
          3.3,
          3.3,
          3,
          3,
          1.8,
          1.8,
          3.95,
          3.95
         ],
         "y0": " ",
         "yaxis": "y"
        },
        {
         "alignmentgroup": "True",
         "boxpoints": "all",
         "hovertemplate": "COURSE_CERTIFICATION_TYPE=Certificate<br>COURSE NAME=%{x}<br>Cumulative GPA=%{y}<extra></extra>",
         "legendgroup": "Certificate",
         "marker": {
          "color": "#EF553B"
         },
         "name": "Certificate",
         "notched": false,
         "offsetgroup": "Certificate",
         "orientation": "v",
         "showlegend": true,
         "type": "box",
         "x": [
          "Certificate in Digital Marketing",
          "Certificate in Digital Marketing",
          "Certificate in Digital Marketing",
          "Certificate in Digital Marketing",
          "Certificate in Digital Marketing",
          "Certificate in Digital Marketing",
          "Certificate in Digital Marketing",
          "Certificate in Digital Marketing",
          "Certificate in Digital Marketing",
          "Certificate in Digital Marketing",
          "Certificate in Digital Marketing",
          "Certificate in Digital Marketing",
          "Certificate in Digital Marketing",
          "Certificate in Digital Marketing",
          "Certificate in Digital Marketing",
          "Certificate in Digital Marketing",
          "Certificate in Digital Marketing",
          "Certificate in Digital Marketing",
          "Certificate in Digital Marketing",
          "Certificate in Digital Marketing",
          "Certificate in Digital Marketing",
          "Certificate in Digital Marketing",
          "Certificate in Digital Marketing",
          "Certificate in Digital Marketing",
          "Certificate in Digital Marketing",
          "Certificate in Digital Marketing",
          "Certificate in Digital Marketing",
          "Certificate in Digital Marketing",
          "Certificate in Digital Marketing",
          "Certificate in Digital Marketing",
          "Certificate in Digital Marketing",
          "Certificate in Digital Marketing",
          "Certificate in Digital Marketing",
          "Certificate in HR Management",
          "Certificate in HR Management",
          "Certificate in HR Management",
          "Certificate in HR Management",
          "Certificate in HR Management",
          "Certificate in HR Management",
          "Certificate in HR Management",
          "Certificate in HR Management",
          "Certificate in HR Management",
          "Certificate in HR Management",
          "Certificate in HR Management",
          "Certificate in HR Management",
          "Certificate in HR Management",
          "Certificate in HR Management",
          "Certificate in HR Management",
          "Certificate in HR Management",
          "Certificate in HR Management",
          "Certificate in HR Management",
          "Certificate in HR Management",
          "Certificate in HR Management",
          "Certificate in HR Management",
          "Certificate in HR Management",
          "Certificate in HR Management",
          "Certificate in HR Management",
          "Certificate in HR Management",
          "Certificate in HR Management",
          "Certificate in HR Management",
          "Certificate in HR Management",
          "Certificate in HR Management",
          "Certificate in HR Management",
          "Certificate in HR Management",
          "Certificate in HR Management",
          "Certificate in HR Management",
          "Certificate in HR Management",
          "Certificate in HR Management",
          "Certificate in HR Management",
          "Certificate in HR Management",
          "Certificate in HR Management",
          "Certificate in HR Management",
          "Certificate in HR Management",
          "Certificate in HR Management",
          "Certificate in HR Management",
          "Certificate in HR Management",
          "Certificate in HR Management",
          "Certificate in HR Management",
          "Certificate in HR Management",
          "Certificate in HR Management",
          "Certificate in HR Management",
          "Certificate in HR Management",
          "Certificate in HR Management",
          "Certificate in HR Management",
          "Certificate in HR Management",
          "Certificate in HR Management",
          "Certificate in HR Management",
          "Certificate in HR Management",
          "Certificate in HR Management",
          "Certificate in HR Management",
          "Certificate in HR Management",
          "Certificate in HR Management",
          "Certificate in HR Management",
          "Certificate in HR Management",
          "Certificate in HR Management",
          "Certificate in HR Management",
          "Certificate in HR Management",
          "Certificate in HR Management",
          "Certificate in HR Management",
          "Certificate in HR Management",
          "Certificate in HR Management",
          "Certificate in HR Management",
          "Certificate in HR Management",
          "Certificate in HR Management",
          "Certificate in HR Management",
          "Certificate in HR Management",
          "Certificate in HR Management",
          "Certificate in HR Management",
          "Certificate in HR Management",
          "Certificate in HR Management",
          "Certificate in HR Management",
          "Certificate in HR Management",
          "Certificate in HR Management",
          "Certificate in HR Management",
          "Certificate in HR Management",
          "Certificate in HR Management",
          "Certificate in HR Management",
          "Certificate in HR Management",
          "Certificate in HR Management",
          "Certificate in HR Management",
          "Certificate in HR Management",
          "Certificate in HR Management",
          "Certificate in HR Management",
          "Certificate in HR Management",
          "Certificate in HR Management",
          "Certificate in HR Management",
          "Certificate in HR Management",
          "Certificate in HR Management",
          "Certificate in HR Management",
          "Certificate in HR Management",
          "Certificate in HR Management",
          "Certificate in HR Management",
          "Certificate in HR Management",
          "Certificate in HR Management"
         ],
         "x0": " ",
         "xaxis": "x",
         "y": [
          3.5,
          3.4,
          3.7,
          3.7,
          2.1,
          2.8,
          3.4,
          3.2,
          2.3,
          3.4,
          3.5,
          2.5,
          3.9,
          2.3,
          3.9,
          3.7,
          3.4,
          3.1,
          2.8,
          3.9,
          3.4,
          3.6,
          3.8,
          3.4,
          2.9,
          3.2,
          3.7,
          3.7,
          3.4,
          3.7,
          2,
          2.9,
          3.8,
          3.4,
          3.9,
          3,
          3,
          3.4,
          2.7,
          3.5,
          3.2,
          2.7,
          3.7,
          3.3,
          3.5,
          2.9,
          3.4,
          2.6,
          2.6,
          2.05,
          2.05,
          3.8,
          3.9,
          3.8,
          2.9,
          2.6,
          3.5,
          3.3,
          3.2,
          2.5,
          3.5,
          2.6,
          3.5,
          3.2,
          2.8,
          2.3,
          2.9,
          3.2,
          3.9,
          3.1,
          3.6,
          3.8,
          3.5,
          3.7,
          3.9,
          3.2,
          1.8,
          3.9,
          2.9,
          3.2,
          3.7,
          3.6,
          3.8,
          3.4,
          2.9,
          3.2,
          2.3,
          2.9,
          3.4,
          2.8,
          3.2,
          3.7,
          3.6,
          4,
          3.2,
          3.3,
          2.5,
          3,
          3.6,
          3.2,
          3.5,
          4,
          2.9,
          2.1,
          3.7,
          3.8,
          2.8,
          2.7,
          3.5,
          3.2,
          3.4,
          1.7,
          3,
          3.5,
          3.9,
          3.8,
          2,
          2,
          2.3,
          2.8,
          3.5,
          3,
          3.2,
          4,
          3.7,
          2.1,
          2.8,
          3.3,
          3.5,
          3.2,
          2.3,
          2.3,
          2.1,
          3.2
         ],
         "y0": " ",
         "yaxis": "y"
        }
       ],
       "layout": {
        "boxmode": "group",
        "font": {
         "color": "Black",
         "family": "Arial",
         "size": 12
        },
        "height": 800,
        "legend": {
         "title": {
          "text": "COURSE_CERTIFICATION_TYPE"
         },
         "tracegroupgap": 0
        },
        "template": {
         "data": {
          "bar": [
           {
            "error_x": {
             "color": "#2a3f5f"
            },
            "error_y": {
             "color": "#2a3f5f"
            },
            "marker": {
             "line": {
              "color": "white",
              "width": 0.5
             },
             "pattern": {
              "fillmode": "overlay",
              "size": 10,
              "solidity": 0.2
             }
            },
            "type": "bar"
           }
          ],
          "barpolar": [
           {
            "marker": {
             "line": {
              "color": "white",
              "width": 0.5
             },
             "pattern": {
              "fillmode": "overlay",
              "size": 10,
              "solidity": 0.2
             }
            },
            "type": "barpolar"
           }
          ],
          "carpet": [
           {
            "aaxis": {
             "endlinecolor": "#2a3f5f",
             "gridcolor": "#C8D4E3",
             "linecolor": "#C8D4E3",
             "minorgridcolor": "#C8D4E3",
             "startlinecolor": "#2a3f5f"
            },
            "baxis": {
             "endlinecolor": "#2a3f5f",
             "gridcolor": "#C8D4E3",
             "linecolor": "#C8D4E3",
             "minorgridcolor": "#C8D4E3",
             "startlinecolor": "#2a3f5f"
            },
            "type": "carpet"
           }
          ],
          "choropleth": [
           {
            "colorbar": {
             "outlinewidth": 0,
             "ticks": ""
            },
            "type": "choropleth"
           }
          ],
          "contour": [
           {
            "colorbar": {
             "outlinewidth": 0,
             "ticks": ""
            },
            "colorscale": [
             [
              0,
              "#0d0887"
             ],
             [
              0.1111111111111111,
              "#46039f"
             ],
             [
              0.2222222222222222,
              "#7201a8"
             ],
             [
              0.3333333333333333,
              "#9c179e"
             ],
             [
              0.4444444444444444,
              "#bd3786"
             ],
             [
              0.5555555555555556,
              "#d8576b"
             ],
             [
              0.6666666666666666,
              "#ed7953"
             ],
             [
              0.7777777777777778,
              "#fb9f3a"
             ],
             [
              0.8888888888888888,
              "#fdca26"
             ],
             [
              1,
              "#f0f921"
             ]
            ],
            "type": "contour"
           }
          ],
          "contourcarpet": [
           {
            "colorbar": {
             "outlinewidth": 0,
             "ticks": ""
            },
            "type": "contourcarpet"
           }
          ],
          "heatmap": [
           {
            "colorbar": {
             "outlinewidth": 0,
             "ticks": ""
            },
            "colorscale": [
             [
              0,
              "#0d0887"
             ],
             [
              0.1111111111111111,
              "#46039f"
             ],
             [
              0.2222222222222222,
              "#7201a8"
             ],
             [
              0.3333333333333333,
              "#9c179e"
             ],
             [
              0.4444444444444444,
              "#bd3786"
             ],
             [
              0.5555555555555556,
              "#d8576b"
             ],
             [
              0.6666666666666666,
              "#ed7953"
             ],
             [
              0.7777777777777778,
              "#fb9f3a"
             ],
             [
              0.8888888888888888,
              "#fdca26"
             ],
             [
              1,
              "#f0f921"
             ]
            ],
            "type": "heatmap"
           }
          ],
          "heatmapgl": [
           {
            "colorbar": {
             "outlinewidth": 0,
             "ticks": ""
            },
            "colorscale": [
             [
              0,
              "#0d0887"
             ],
             [
              0.1111111111111111,
              "#46039f"
             ],
             [
              0.2222222222222222,
              "#7201a8"
             ],
             [
              0.3333333333333333,
              "#9c179e"
             ],
             [
              0.4444444444444444,
              "#bd3786"
             ],
             [
              0.5555555555555556,
              "#d8576b"
             ],
             [
              0.6666666666666666,
              "#ed7953"
             ],
             [
              0.7777777777777778,
              "#fb9f3a"
             ],
             [
              0.8888888888888888,
              "#fdca26"
             ],
             [
              1,
              "#f0f921"
             ]
            ],
            "type": "heatmapgl"
           }
          ],
          "histogram": [
           {
            "marker": {
             "pattern": {
              "fillmode": "overlay",
              "size": 10,
              "solidity": 0.2
             }
            },
            "type": "histogram"
           }
          ],
          "histogram2d": [
           {
            "colorbar": {
             "outlinewidth": 0,
             "ticks": ""
            },
            "colorscale": [
             [
              0,
              "#0d0887"
             ],
             [
              0.1111111111111111,
              "#46039f"
             ],
             [
              0.2222222222222222,
              "#7201a8"
             ],
             [
              0.3333333333333333,
              "#9c179e"
             ],
             [
              0.4444444444444444,
              "#bd3786"
             ],
             [
              0.5555555555555556,
              "#d8576b"
             ],
             [
              0.6666666666666666,
              "#ed7953"
             ],
             [
              0.7777777777777778,
              "#fb9f3a"
             ],
             [
              0.8888888888888888,
              "#fdca26"
             ],
             [
              1,
              "#f0f921"
             ]
            ],
            "type": "histogram2d"
           }
          ],
          "histogram2dcontour": [
           {
            "colorbar": {
             "outlinewidth": 0,
             "ticks": ""
            },
            "colorscale": [
             [
              0,
              "#0d0887"
             ],
             [
              0.1111111111111111,
              "#46039f"
             ],
             [
              0.2222222222222222,
              "#7201a8"
             ],
             [
              0.3333333333333333,
              "#9c179e"
             ],
             [
              0.4444444444444444,
              "#bd3786"
             ],
             [
              0.5555555555555556,
              "#d8576b"
             ],
             [
              0.6666666666666666,
              "#ed7953"
             ],
             [
              0.7777777777777778,
              "#fb9f3a"
             ],
             [
              0.8888888888888888,
              "#fdca26"
             ],
             [
              1,
              "#f0f921"
             ]
            ],
            "type": "histogram2dcontour"
           }
          ],
          "mesh3d": [
           {
            "colorbar": {
             "outlinewidth": 0,
             "ticks": ""
            },
            "type": "mesh3d"
           }
          ],
          "parcoords": [
           {
            "line": {
             "colorbar": {
              "outlinewidth": 0,
              "ticks": ""
             }
            },
            "type": "parcoords"
           }
          ],
          "pie": [
           {
            "automargin": true,
            "type": "pie"
           }
          ],
          "scatter": [
           {
            "fillpattern": {
             "fillmode": "overlay",
             "size": 10,
             "solidity": 0.2
            },
            "type": "scatter"
           }
          ],
          "scatter3d": [
           {
            "line": {
             "colorbar": {
              "outlinewidth": 0,
              "ticks": ""
             }
            },
            "marker": {
             "colorbar": {
              "outlinewidth": 0,
              "ticks": ""
             }
            },
            "type": "scatter3d"
           }
          ],
          "scattercarpet": [
           {
            "marker": {
             "colorbar": {
              "outlinewidth": 0,
              "ticks": ""
             }
            },
            "type": "scattercarpet"
           }
          ],
          "scattergeo": [
           {
            "marker": {
             "colorbar": {
              "outlinewidth": 0,
              "ticks": ""
             }
            },
            "type": "scattergeo"
           }
          ],
          "scattergl": [
           {
            "marker": {
             "colorbar": {
              "outlinewidth": 0,
              "ticks": ""
             }
            },
            "type": "scattergl"
           }
          ],
          "scattermapbox": [
           {
            "marker": {
             "colorbar": {
              "outlinewidth": 0,
              "ticks": ""
             }
            },
            "type": "scattermapbox"
           }
          ],
          "scatterpolar": [
           {
            "marker": {
             "colorbar": {
              "outlinewidth": 0,
              "ticks": ""
             }
            },
            "type": "scatterpolar"
           }
          ],
          "scatterpolargl": [
           {
            "marker": {
             "colorbar": {
              "outlinewidth": 0,
              "ticks": ""
             }
            },
            "type": "scatterpolargl"
           }
          ],
          "scatterternary": [
           {
            "marker": {
             "colorbar": {
              "outlinewidth": 0,
              "ticks": ""
             }
            },
            "type": "scatterternary"
           }
          ],
          "surface": [
           {
            "colorbar": {
             "outlinewidth": 0,
             "ticks": ""
            },
            "colorscale": [
             [
              0,
              "#0d0887"
             ],
             [
              0.1111111111111111,
              "#46039f"
             ],
             [
              0.2222222222222222,
              "#7201a8"
             ],
             [
              0.3333333333333333,
              "#9c179e"
             ],
             [
              0.4444444444444444,
              "#bd3786"
             ],
             [
              0.5555555555555556,
              "#d8576b"
             ],
             [
              0.6666666666666666,
              "#ed7953"
             ],
             [
              0.7777777777777778,
              "#fb9f3a"
             ],
             [
              0.8888888888888888,
              "#fdca26"
             ],
             [
              1,
              "#f0f921"
             ]
            ],
            "type": "surface"
           }
          ],
          "table": [
           {
            "cells": {
             "fill": {
              "color": "#EBF0F8"
             },
             "line": {
              "color": "white"
             }
            },
            "header": {
             "fill": {
              "color": "#C8D4E3"
             },
             "line": {
              "color": "white"
             }
            },
            "type": "table"
           }
          ]
         },
         "layout": {
          "annotationdefaults": {
           "arrowcolor": "#2a3f5f",
           "arrowhead": 0,
           "arrowwidth": 1
          },
          "autotypenumbers": "strict",
          "coloraxis": {
           "colorbar": {
            "outlinewidth": 0,
            "ticks": ""
           }
          },
          "colorscale": {
           "diverging": [
            [
             0,
             "#8e0152"
            ],
            [
             0.1,
             "#c51b7d"
            ],
            [
             0.2,
             "#de77ae"
            ],
            [
             0.3,
             "#f1b6da"
            ],
            [
             0.4,
             "#fde0ef"
            ],
            [
             0.5,
             "#f7f7f7"
            ],
            [
             0.6,
             "#e6f5d0"
            ],
            [
             0.7,
             "#b8e186"
            ],
            [
             0.8,
             "#7fbc41"
            ],
            [
             0.9,
             "#4d9221"
            ],
            [
             1,
             "#276419"
            ]
           ],
           "sequential": [
            [
             0,
             "#0d0887"
            ],
            [
             0.1111111111111111,
             "#46039f"
            ],
            [
             0.2222222222222222,
             "#7201a8"
            ],
            [
             0.3333333333333333,
             "#9c179e"
            ],
            [
             0.4444444444444444,
             "#bd3786"
            ],
            [
             0.5555555555555556,
             "#d8576b"
            ],
            [
             0.6666666666666666,
             "#ed7953"
            ],
            [
             0.7777777777777778,
             "#fb9f3a"
            ],
            [
             0.8888888888888888,
             "#fdca26"
            ],
            [
             1,
             "#f0f921"
            ]
           ],
           "sequentialminus": [
            [
             0,
             "#0d0887"
            ],
            [
             0.1111111111111111,
             "#46039f"
            ],
            [
             0.2222222222222222,
             "#7201a8"
            ],
            [
             0.3333333333333333,
             "#9c179e"
            ],
            [
             0.4444444444444444,
             "#bd3786"
            ],
            [
             0.5555555555555556,
             "#d8576b"
            ],
            [
             0.6666666666666666,
             "#ed7953"
            ],
            [
             0.7777777777777778,
             "#fb9f3a"
            ],
            [
             0.8888888888888888,
             "#fdca26"
            ],
            [
             1,
             "#f0f921"
            ]
           ]
          },
          "colorway": [
           "#636efa",
           "#EF553B",
           "#00cc96",
           "#ab63fa",
           "#FFA15A",
           "#19d3f3",
           "#FF6692",
           "#B6E880",
           "#FF97FF",
           "#FECB52"
          ],
          "font": {
           "color": "#2a3f5f"
          },
          "geo": {
           "bgcolor": "white",
           "lakecolor": "white",
           "landcolor": "white",
           "showlakes": true,
           "showland": true,
           "subunitcolor": "#C8D4E3"
          },
          "hoverlabel": {
           "align": "left"
          },
          "hovermode": "closest",
          "mapbox": {
           "style": "light"
          },
          "paper_bgcolor": "white",
          "plot_bgcolor": "white",
          "polar": {
           "angularaxis": {
            "gridcolor": "#EBF0F8",
            "linecolor": "#EBF0F8",
            "ticks": ""
           },
           "bgcolor": "white",
           "radialaxis": {
            "gridcolor": "#EBF0F8",
            "linecolor": "#EBF0F8",
            "ticks": ""
           }
          },
          "scene": {
           "xaxis": {
            "backgroundcolor": "white",
            "gridcolor": "#DFE8F3",
            "gridwidth": 2,
            "linecolor": "#EBF0F8",
            "showbackground": true,
            "ticks": "",
            "zerolinecolor": "#EBF0F8"
           },
           "yaxis": {
            "backgroundcolor": "white",
            "gridcolor": "#DFE8F3",
            "gridwidth": 2,
            "linecolor": "#EBF0F8",
            "showbackground": true,
            "ticks": "",
            "zerolinecolor": "#EBF0F8"
           },
           "zaxis": {
            "backgroundcolor": "white",
            "gridcolor": "#DFE8F3",
            "gridwidth": 2,
            "linecolor": "#EBF0F8",
            "showbackground": true,
            "ticks": "",
            "zerolinecolor": "#EBF0F8"
           }
          },
          "shapedefaults": {
           "line": {
            "color": "#2a3f5f"
           }
          },
          "ternary": {
           "aaxis": {
            "gridcolor": "#DFE8F3",
            "linecolor": "#A2B1C6",
            "ticks": ""
           },
           "baxis": {
            "gridcolor": "#DFE8F3",
            "linecolor": "#A2B1C6",
            "ticks": ""
           },
           "bgcolor": "white",
           "caxis": {
            "gridcolor": "#DFE8F3",
            "linecolor": "#A2B1C6",
            "ticks": ""
           }
          },
          "title": {
           "x": 0.05
          },
          "xaxis": {
           "automargin": true,
           "gridcolor": "#EBF0F8",
           "linecolor": "#EBF0F8",
           "ticks": "",
           "title": {
            "standoff": 15
           },
           "zerolinecolor": "#EBF0F8",
           "zerolinewidth": 2
          },
          "yaxis": {
           "automargin": true,
           "gridcolor": "#EBF0F8",
           "linecolor": "#EBF0F8",
           "ticks": "",
           "title": {
            "standoff": 15
           },
           "zerolinecolor": "#EBF0F8",
           "zerolinewidth": 2
          }
         }
        },
        "title": {
         "text": "Distribution of Cumulative GPA by Course Name"
        },
        "width": 1000,
        "xaxis": {
         "anchor": "y",
         "domain": [
          0,
          1
         ],
         "tickangle": -45,
         "title": {
          "text": "Course Name"
         }
        },
        "yaxis": {
         "anchor": "x",
         "domain": [
          0,
          1
         ],
         "range": [
          1.4,
          4.1
         ],
         "title": {
          "text": "Cumulative GPA"
         }
        }
       }
      }
     },
     "metadata": {},
     "output_type": "display_data"
    }
   ],
   "source": [
    "# Create a box plot to visualize GPA distribution by course name\n",
    "fig = px.box(\n",
    "    df,\n",
    "    x='COURSE NAME',\n",
    "    y='CUMULATIVE_GPA',\n",
    "    color='COURSE_CERTIFICATION_TYPE',   # Differentiate courses by certification type\n",
    "    points='all',                        # Show all data points on top of the box plot\n",
    "    title='Distribution of Cumulative GPA by Course Name',\n",
    "    labels={\n",
    "        'COURSE_NAME': 'Course Name',\n",
    "        'CUMULATIVE_GPA': 'Cumulative GPA'\n",
    "    }\n",
    ")\n",
    "\n",
    "# Adjust the layout for readability and styling\n",
    "fig.update_layout(\n",
    "    xaxis={'title': {'text': 'Course Name'}},\n",
    "    yaxis={\n",
    "        'title': {'text': 'Cumulative GPA'},\n",
    "        'range': [1.4, 4.1]               # Set GPA range for better visual consistency\n",
    "    },\n",
    "    xaxis_tickangle=-45,                  # Rotate x-axis labels to avoid overlap\n",
    "    font=dict(family=\"Arial\", size=12, color=\"Black\"),\n",
    "    template='plotly_white',              # Light, clean background theme\n",
    "    height=800,\n",
    "    width=1000\n",
    ")\n",
    "\n",
    "# Render the plot\n",
    "fig.show()"
   ]
  },
  {
   "cell_type": "markdown",
   "id": "48bcdaf5-3891-461d-b05c-bf427ceeba6e",
   "metadata": {},
   "source": [
    "### **Insights**\n",
    "- Performance Patterns : Certificate programs generally show slightly higher and more consistent GPAs, while Diploma programs display wider variation and more low-GPA outliers.\n",
    "- Risk Identification : Certain Diplomas (e.g., Business Analytics, Intelligent Systems) have larger GPA spreads, suggesting greater performance disparities and potential at-risk students.\n",
    "- Actionable Insight : Data suggests focused support for underperforming Diploma students and the reason into why Certificate programs achieve more consistent outcomes may be because Certificate courses are easier (which in our real world context is true)."
   ]
  },
  {
   "cell_type": "markdown",
   "id": "adb093b6-af2f-494a-9233-5a6e9408a27c",
   "metadata": {},
   "source": [
    "#"
   ]
  },
  {
   "cell_type": "markdown",
   "id": "a9d946ab-8493-4e6a-aa31-121585d3596d",
   "metadata": {},
   "source": [
    "## Chart 2 : Sunburst plot (using plotly graph objects)"
   ]
  },
  {
   "cell_type": "code",
   "execution_count": 6,
   "id": "52d96726-3ff7-4fad-ba7a-9c68cbc5f17b",
   "metadata": {},
   "outputs": [
    {
     "data": {
      "application/vnd.plotly.v1+json": {
       "config": {
        "plotlyServerURL": "https://plot.ly"
       },
       "data": [
        {
         "branchvalues": "total",
         "hovertemplate": "<b>%{label}</b><br>Value: %{value:.2f}<extra></extra>",
         "ids": [
          "Foreigner",
          "Singapore Citizen",
          "Singapore PR",
          "Unknown/Missing Status",
          "Foreigner|Certificate",
          "Foreigner|Degree",
          "Foreigner|Diploma",
          "Foreigner|Master",
          "Foreigner|nan",
          "Singapore Citizen|Certificate",
          "Singapore Citizen|Degree",
          "Singapore Citizen|Diploma",
          "Singapore Citizen|Master",
          "Singapore PR|Certificate",
          "Singapore PR|Degree",
          "Singapore PR|Diploma",
          "Singapore PR|Master",
          "Unknown/Missing Status|Degree",
          "Foreigner|Certificate|Credit",
          "Foreigner|Certificate|Good",
          "Foreigner|Certificate|Good Credit",
          "Foreigner|Certificate|Very Good",
          "Foreigner|Degree|Good",
          "Foreigner|Degree|Very Good",
          "Foreigner|Diploma|Good Credit",
          "Foreigner|Diploma|Very Good",
          "Foreigner|Master|Good Credit",
          "Foreigner|Master|Very Good",
          "Foreigner|nan|Good Credit",
          "Singapore Citizen|Certificate|Credit",
          "Singapore Citizen|Certificate|Fail",
          "Singapore Citizen|Certificate|Good",
          "Singapore Citizen|Certificate|Good Credit",
          "Singapore Citizen|Certificate|Very Good",
          "Singapore Citizen|Degree|Credit",
          "Singapore Citizen|Degree|Excellent",
          "Singapore Citizen|Degree|Fail",
          "Singapore Citizen|Degree|Good",
          "Singapore Citizen|Degree|Good Credit",
          "Singapore Citizen|Degree|Very Good",
          "Singapore Citizen|Diploma|Credit",
          "Singapore Citizen|Diploma|Excellent",
          "Singapore Citizen|Diploma|Fail",
          "Singapore Citizen|Diploma|Good",
          "Singapore Citizen|Diploma|Good Credit",
          "Singapore Citizen|Diploma|Very Good",
          "Singapore Citizen|Master|Good",
          "Singapore Citizen|Master|Very Good",
          "Singapore PR|Certificate|Credit",
          "Singapore PR|Certificate|Good",
          "Singapore PR|Certificate|Very Good",
          "Singapore PR|Degree|Credit",
          "Singapore PR|Degree|Good",
          "Singapore PR|Degree|Good Credit",
          "Singapore PR|Degree|Very Good",
          "Singapore PR|Diploma|Good",
          "Singapore PR|Diploma|Good Credit",
          "Singapore PR|Diploma|Very Good",
          "Singapore PR|Master|Good",
          "Unknown/Missing Status|Degree|Excellent",
          "Unknown/Missing Status|Degree|Good"
         ],
         "labels": [
          "Foreigner",
          "Singapore Citizen",
          "Singapore PR",
          "Unknown/Missing Status",
          "Certificate",
          "Degree",
          "Diploma",
          "Master",
          "nan",
          "Certificate",
          "Degree",
          "Diploma",
          "Master",
          "Certificate",
          "Degree",
          "Diploma",
          "Master",
          "Degree",
          "Credit",
          "Good",
          "Good Credit",
          "Very Good",
          "Good",
          "Very Good",
          "Good Credit",
          "Very Good",
          "Good Credit",
          "Very Good",
          "Good Credit",
          "Credit",
          "Fail",
          "Good",
          "Good Credit",
          "Very Good",
          "Credit",
          "Excellent",
          "Fail",
          "Good",
          "Good Credit",
          "Very Good",
          "Credit",
          "Excellent",
          "Fail",
          "Good",
          "Good Credit",
          "Very Good",
          "Good",
          "Very Good",
          "Credit",
          "Good",
          "Very Good",
          "Credit",
          "Good",
          "Good Credit",
          "Very Good",
          "Good",
          "Good Credit",
          "Very Good",
          "Good",
          "Excellent",
          "Good"
         ],
         "maxdepth": 3,
         "name": "All",
         "parents": [
          "",
          "",
          "",
          "",
          "Foreigner",
          "Foreigner",
          "Foreigner",
          "Foreigner",
          "Foreigner",
          "Singapore Citizen",
          "Singapore Citizen",
          "Singapore Citizen",
          "Singapore Citizen",
          "Singapore PR",
          "Singapore PR",
          "Singapore PR",
          "Singapore PR",
          "Unknown/Missing Status",
          "Foreigner|Certificate",
          "Foreigner|Certificate",
          "Foreigner|Certificate",
          "Foreigner|Certificate",
          "Foreigner|Degree",
          "Foreigner|Degree",
          "Foreigner|Diploma",
          "Foreigner|Diploma",
          "Foreigner|Master",
          "Foreigner|Master",
          "Foreigner|nan",
          "Singapore Citizen|Certificate",
          "Singapore Citizen|Certificate",
          "Singapore Citizen|Certificate",
          "Singapore Citizen|Certificate",
          "Singapore Citizen|Certificate",
          "Singapore Citizen|Degree",
          "Singapore Citizen|Degree",
          "Singapore Citizen|Degree",
          "Singapore Citizen|Degree",
          "Singapore Citizen|Degree",
          "Singapore Citizen|Degree",
          "Singapore Citizen|Diploma",
          "Singapore Citizen|Diploma",
          "Singapore Citizen|Diploma",
          "Singapore Citizen|Diploma",
          "Singapore Citizen|Diploma",
          "Singapore Citizen|Diploma",
          "Singapore Citizen|Master",
          "Singapore Citizen|Master",
          "Singapore PR|Certificate",
          "Singapore PR|Certificate",
          "Singapore PR|Certificate",
          "Singapore PR|Degree",
          "Singapore PR|Degree",
          "Singapore PR|Degree",
          "Singapore PR|Degree",
          "Singapore PR|Diploma",
          "Singapore PR|Diploma",
          "Singapore PR|Diploma",
          "Singapore PR|Master",
          "Unknown/Missing Status|Degree",
          "Unknown/Missing Status|Degree"
         ],
         "type": "sunburst",
         "values": [
          204,
          1228.6,
          113.2,
          10.5,
          87,
          87,
          18.2,
          8.9,
          2.9,
          356.1,
          474.4,
          365.1,
          33,
          31.5,
          58.8,
          16.5,
          6.4,
          10.5,
          7.2,
          23.8,
          2.8,
          53.2,
          42.5,
          44.5,
          2.9,
          15.3,
          5.4,
          3.5,
          2.9,
          69.6,
          1.8,
          61.6,
          68.5,
          154.6,
          56.9,
          24,
          3.6,
          156.7,
          75.5,
          157.7,
          37.2,
          4,
          1.7,
          75.4,
          68,
          178.8,
          25.6,
          7.4,
          12.9,
          3.4,
          15.2,
          9,
          19.7,
          18.9,
          11.2,
          10.2,
          2.8,
          3.5,
          6.4,
          4,
          6.5
         ],
         "visible": true
        },
        {
         "branchvalues": "total",
         "hovertemplate": "<b>%{label}</b><br>Value: %{value:.2f}<extra></extra>",
         "ids": [
          "Foreigner",
          "Foreigner|Certificate",
          "Foreigner|Degree",
          "Foreigner|Diploma",
          "Foreigner|Master",
          "Foreigner|nan",
          "Foreigner|Certificate|Credit",
          "Foreigner|Certificate|Good",
          "Foreigner|Certificate|Good Credit",
          "Foreigner|Certificate|Very Good",
          "Foreigner|Degree|Good",
          "Foreigner|Degree|Very Good",
          "Foreigner|Diploma|Good Credit",
          "Foreigner|Diploma|Very Good",
          "Foreigner|Master|Good Credit",
          "Foreigner|Master|Very Good",
          "Foreigner|nan|Good Credit"
         ],
         "labels": [
          "Foreigner",
          "Certificate",
          "Degree",
          "Diploma",
          "Master",
          "nan",
          "Credit",
          "Good",
          "Good Credit",
          "Very Good",
          "Good",
          "Very Good",
          "Good Credit",
          "Very Good",
          "Good Credit",
          "Very Good",
          "Good Credit"
         ],
         "maxdepth": 3,
         "name": "Foreigner",
         "parents": [
          "",
          "Foreigner",
          "Foreigner",
          "Foreigner",
          "Foreigner",
          "Foreigner",
          "Foreigner|Certificate",
          "Foreigner|Certificate",
          "Foreigner|Certificate",
          "Foreigner|Certificate",
          "Foreigner|Degree",
          "Foreigner|Degree",
          "Foreigner|Diploma",
          "Foreigner|Diploma",
          "Foreigner|Master",
          "Foreigner|Master",
          "Foreigner|nan"
         ],
         "type": "sunburst",
         "values": [
          204,
          87,
          87,
          18.2,
          8.9,
          2.9,
          7.2,
          23.8,
          2.8,
          53.2,
          42.5,
          44.5,
          2.9,
          15.3,
          5.4,
          3.5,
          2.9
         ],
         "visible": false
        },
        {
         "branchvalues": "total",
         "hovertemplate": "<b>%{label}</b><br>Value: %{value:.2f}<extra></extra>",
         "ids": [
          "Singapore Citizen",
          "Singapore Citizen|Certificate",
          "Singapore Citizen|Degree",
          "Singapore Citizen|Diploma",
          "Singapore Citizen|Master",
          "Singapore Citizen|Certificate|Credit",
          "Singapore Citizen|Certificate|Fail",
          "Singapore Citizen|Certificate|Good",
          "Singapore Citizen|Certificate|Good Credit",
          "Singapore Citizen|Certificate|Very Good",
          "Singapore Citizen|Degree|Credit",
          "Singapore Citizen|Degree|Excellent",
          "Singapore Citizen|Degree|Fail",
          "Singapore Citizen|Degree|Good",
          "Singapore Citizen|Degree|Good Credit",
          "Singapore Citizen|Degree|Very Good",
          "Singapore Citizen|Diploma|Credit",
          "Singapore Citizen|Diploma|Excellent",
          "Singapore Citizen|Diploma|Fail",
          "Singapore Citizen|Diploma|Good",
          "Singapore Citizen|Diploma|Good Credit",
          "Singapore Citizen|Diploma|Very Good",
          "Singapore Citizen|Master|Good",
          "Singapore Citizen|Master|Very Good"
         ],
         "labels": [
          "Singapore Citizen",
          "Certificate",
          "Degree",
          "Diploma",
          "Master",
          "Credit",
          "Fail",
          "Good",
          "Good Credit",
          "Very Good",
          "Credit",
          "Excellent",
          "Fail",
          "Good",
          "Good Credit",
          "Very Good",
          "Credit",
          "Excellent",
          "Fail",
          "Good",
          "Good Credit",
          "Very Good",
          "Good",
          "Very Good"
         ],
         "maxdepth": 3,
         "name": "Singapore Citizen",
         "parents": [
          "",
          "Singapore Citizen",
          "Singapore Citizen",
          "Singapore Citizen",
          "Singapore Citizen",
          "Singapore Citizen|Certificate",
          "Singapore Citizen|Certificate",
          "Singapore Citizen|Certificate",
          "Singapore Citizen|Certificate",
          "Singapore Citizen|Certificate",
          "Singapore Citizen|Degree",
          "Singapore Citizen|Degree",
          "Singapore Citizen|Degree",
          "Singapore Citizen|Degree",
          "Singapore Citizen|Degree",
          "Singapore Citizen|Degree",
          "Singapore Citizen|Diploma",
          "Singapore Citizen|Diploma",
          "Singapore Citizen|Diploma",
          "Singapore Citizen|Diploma",
          "Singapore Citizen|Diploma",
          "Singapore Citizen|Diploma",
          "Singapore Citizen|Master",
          "Singapore Citizen|Master"
         ],
         "type": "sunburst",
         "values": [
          1228.6,
          356.1,
          474.4,
          365.1,
          33,
          69.6,
          1.8,
          61.6,
          68.5,
          154.6,
          56.9,
          24,
          3.6,
          156.7,
          75.5,
          157.7,
          37.2,
          4,
          1.7,
          75.4,
          68,
          178.8,
          25.6,
          7.4
         ],
         "visible": false
        },
        {
         "branchvalues": "total",
         "hovertemplate": "<b>%{label}</b><br>Value: %{value:.2f}<extra></extra>",
         "ids": [
          "Singapore PR",
          "Singapore PR|Certificate",
          "Singapore PR|Degree",
          "Singapore PR|Diploma",
          "Singapore PR|Master",
          "Singapore PR|Certificate|Credit",
          "Singapore PR|Certificate|Good",
          "Singapore PR|Certificate|Very Good",
          "Singapore PR|Degree|Credit",
          "Singapore PR|Degree|Good",
          "Singapore PR|Degree|Good Credit",
          "Singapore PR|Degree|Very Good",
          "Singapore PR|Diploma|Good",
          "Singapore PR|Diploma|Good Credit",
          "Singapore PR|Diploma|Very Good",
          "Singapore PR|Master|Good"
         ],
         "labels": [
          "Singapore PR",
          "Certificate",
          "Degree",
          "Diploma",
          "Master",
          "Credit",
          "Good",
          "Very Good",
          "Credit",
          "Good",
          "Good Credit",
          "Very Good",
          "Good",
          "Good Credit",
          "Very Good",
          "Good"
         ],
         "maxdepth": 3,
         "name": "Singapore PR",
         "parents": [
          "",
          "Singapore PR",
          "Singapore PR",
          "Singapore PR",
          "Singapore PR",
          "Singapore PR|Certificate",
          "Singapore PR|Certificate",
          "Singapore PR|Certificate",
          "Singapore PR|Degree",
          "Singapore PR|Degree",
          "Singapore PR|Degree",
          "Singapore PR|Degree",
          "Singapore PR|Diploma",
          "Singapore PR|Diploma",
          "Singapore PR|Diploma",
          "Singapore PR|Master"
         ],
         "type": "sunburst",
         "values": [
          113.2,
          31.5,
          58.8,
          16.5,
          6.4,
          12.9,
          3.4,
          15.2,
          9,
          19.7,
          18.9,
          11.2,
          10.2,
          2.8,
          3.5,
          6.4
         ],
         "visible": false
        },
        {
         "branchvalues": "total",
         "hovertemplate": "<b>%{label}</b><br>Value: %{value:.2f}<extra></extra>",
         "ids": [
          "Unknown/Missing Status",
          "Unknown/Missing Status|Degree",
          "Unknown/Missing Status|Degree|Excellent",
          "Unknown/Missing Status|Degree|Good"
         ],
         "labels": [
          "Unknown/Missing Status",
          "Degree",
          "Excellent",
          "Good"
         ],
         "maxdepth": 3,
         "name": "Unknown/Missing Status",
         "parents": [
          "",
          "Unknown/Missing Status",
          "Unknown/Missing Status|Degree",
          "Unknown/Missing Status|Degree"
         ],
         "type": "sunburst",
         "values": [
          10.5,
          10.5,
          4,
          6.5
         ],
         "visible": false
        }
       ],
       "layout": {
        "font": {
         "color": "Black",
         "family": "Arial",
         "size": 12
        },
        "height": 800,
        "margin": {
         "b": 0,
         "l": 0,
         "r": 0,
         "t": 50
        },
        "template": {
         "data": {
          "bar": [
           {
            "error_x": {
             "color": "#2a3f5f"
            },
            "error_y": {
             "color": "#2a3f5f"
            },
            "marker": {
             "line": {
              "color": "white",
              "width": 0.5
             },
             "pattern": {
              "fillmode": "overlay",
              "size": 10,
              "solidity": 0.2
             }
            },
            "type": "bar"
           }
          ],
          "barpolar": [
           {
            "marker": {
             "line": {
              "color": "white",
              "width": 0.5
             },
             "pattern": {
              "fillmode": "overlay",
              "size": 10,
              "solidity": 0.2
             }
            },
            "type": "barpolar"
           }
          ],
          "carpet": [
           {
            "aaxis": {
             "endlinecolor": "#2a3f5f",
             "gridcolor": "#C8D4E3",
             "linecolor": "#C8D4E3",
             "minorgridcolor": "#C8D4E3",
             "startlinecolor": "#2a3f5f"
            },
            "baxis": {
             "endlinecolor": "#2a3f5f",
             "gridcolor": "#C8D4E3",
             "linecolor": "#C8D4E3",
             "minorgridcolor": "#C8D4E3",
             "startlinecolor": "#2a3f5f"
            },
            "type": "carpet"
           }
          ],
          "choropleth": [
           {
            "colorbar": {
             "outlinewidth": 0,
             "ticks": ""
            },
            "type": "choropleth"
           }
          ],
          "contour": [
           {
            "colorbar": {
             "outlinewidth": 0,
             "ticks": ""
            },
            "colorscale": [
             [
              0,
              "#0d0887"
             ],
             [
              0.1111111111111111,
              "#46039f"
             ],
             [
              0.2222222222222222,
              "#7201a8"
             ],
             [
              0.3333333333333333,
              "#9c179e"
             ],
             [
              0.4444444444444444,
              "#bd3786"
             ],
             [
              0.5555555555555556,
              "#d8576b"
             ],
             [
              0.6666666666666666,
              "#ed7953"
             ],
             [
              0.7777777777777778,
              "#fb9f3a"
             ],
             [
              0.8888888888888888,
              "#fdca26"
             ],
             [
              1,
              "#f0f921"
             ]
            ],
            "type": "contour"
           }
          ],
          "contourcarpet": [
           {
            "colorbar": {
             "outlinewidth": 0,
             "ticks": ""
            },
            "type": "contourcarpet"
           }
          ],
          "heatmap": [
           {
            "colorbar": {
             "outlinewidth": 0,
             "ticks": ""
            },
            "colorscale": [
             [
              0,
              "#0d0887"
             ],
             [
              0.1111111111111111,
              "#46039f"
             ],
             [
              0.2222222222222222,
              "#7201a8"
             ],
             [
              0.3333333333333333,
              "#9c179e"
             ],
             [
              0.4444444444444444,
              "#bd3786"
             ],
             [
              0.5555555555555556,
              "#d8576b"
             ],
             [
              0.6666666666666666,
              "#ed7953"
             ],
             [
              0.7777777777777778,
              "#fb9f3a"
             ],
             [
              0.8888888888888888,
              "#fdca26"
             ],
             [
              1,
              "#f0f921"
             ]
            ],
            "type": "heatmap"
           }
          ],
          "heatmapgl": [
           {
            "colorbar": {
             "outlinewidth": 0,
             "ticks": ""
            },
            "colorscale": [
             [
              0,
              "#0d0887"
             ],
             [
              0.1111111111111111,
              "#46039f"
             ],
             [
              0.2222222222222222,
              "#7201a8"
             ],
             [
              0.3333333333333333,
              "#9c179e"
             ],
             [
              0.4444444444444444,
              "#bd3786"
             ],
             [
              0.5555555555555556,
              "#d8576b"
             ],
             [
              0.6666666666666666,
              "#ed7953"
             ],
             [
              0.7777777777777778,
              "#fb9f3a"
             ],
             [
              0.8888888888888888,
              "#fdca26"
             ],
             [
              1,
              "#f0f921"
             ]
            ],
            "type": "heatmapgl"
           }
          ],
          "histogram": [
           {
            "marker": {
             "pattern": {
              "fillmode": "overlay",
              "size": 10,
              "solidity": 0.2
             }
            },
            "type": "histogram"
           }
          ],
          "histogram2d": [
           {
            "colorbar": {
             "outlinewidth": 0,
             "ticks": ""
            },
            "colorscale": [
             [
              0,
              "#0d0887"
             ],
             [
              0.1111111111111111,
              "#46039f"
             ],
             [
              0.2222222222222222,
              "#7201a8"
             ],
             [
              0.3333333333333333,
              "#9c179e"
             ],
             [
              0.4444444444444444,
              "#bd3786"
             ],
             [
              0.5555555555555556,
              "#d8576b"
             ],
             [
              0.6666666666666666,
              "#ed7953"
             ],
             [
              0.7777777777777778,
              "#fb9f3a"
             ],
             [
              0.8888888888888888,
              "#fdca26"
             ],
             [
              1,
              "#f0f921"
             ]
            ],
            "type": "histogram2d"
           }
          ],
          "histogram2dcontour": [
           {
            "colorbar": {
             "outlinewidth": 0,
             "ticks": ""
            },
            "colorscale": [
             [
              0,
              "#0d0887"
             ],
             [
              0.1111111111111111,
              "#46039f"
             ],
             [
              0.2222222222222222,
              "#7201a8"
             ],
             [
              0.3333333333333333,
              "#9c179e"
             ],
             [
              0.4444444444444444,
              "#bd3786"
             ],
             [
              0.5555555555555556,
              "#d8576b"
             ],
             [
              0.6666666666666666,
              "#ed7953"
             ],
             [
              0.7777777777777778,
              "#fb9f3a"
             ],
             [
              0.8888888888888888,
              "#fdca26"
             ],
             [
              1,
              "#f0f921"
             ]
            ],
            "type": "histogram2dcontour"
           }
          ],
          "mesh3d": [
           {
            "colorbar": {
             "outlinewidth": 0,
             "ticks": ""
            },
            "type": "mesh3d"
           }
          ],
          "parcoords": [
           {
            "line": {
             "colorbar": {
              "outlinewidth": 0,
              "ticks": ""
             }
            },
            "type": "parcoords"
           }
          ],
          "pie": [
           {
            "automargin": true,
            "type": "pie"
           }
          ],
          "scatter": [
           {
            "fillpattern": {
             "fillmode": "overlay",
             "size": 10,
             "solidity": 0.2
            },
            "type": "scatter"
           }
          ],
          "scatter3d": [
           {
            "line": {
             "colorbar": {
              "outlinewidth": 0,
              "ticks": ""
             }
            },
            "marker": {
             "colorbar": {
              "outlinewidth": 0,
              "ticks": ""
             }
            },
            "type": "scatter3d"
           }
          ],
          "scattercarpet": [
           {
            "marker": {
             "colorbar": {
              "outlinewidth": 0,
              "ticks": ""
             }
            },
            "type": "scattercarpet"
           }
          ],
          "scattergeo": [
           {
            "marker": {
             "colorbar": {
              "outlinewidth": 0,
              "ticks": ""
             }
            },
            "type": "scattergeo"
           }
          ],
          "scattergl": [
           {
            "marker": {
             "colorbar": {
              "outlinewidth": 0,
              "ticks": ""
             }
            },
            "type": "scattergl"
           }
          ],
          "scattermapbox": [
           {
            "marker": {
             "colorbar": {
              "outlinewidth": 0,
              "ticks": ""
             }
            },
            "type": "scattermapbox"
           }
          ],
          "scatterpolar": [
           {
            "marker": {
             "colorbar": {
              "outlinewidth": 0,
              "ticks": ""
             }
            },
            "type": "scatterpolar"
           }
          ],
          "scatterpolargl": [
           {
            "marker": {
             "colorbar": {
              "outlinewidth": 0,
              "ticks": ""
             }
            },
            "type": "scatterpolargl"
           }
          ],
          "scatterternary": [
           {
            "marker": {
             "colorbar": {
              "outlinewidth": 0,
              "ticks": ""
             }
            },
            "type": "scatterternary"
           }
          ],
          "surface": [
           {
            "colorbar": {
             "outlinewidth": 0,
             "ticks": ""
            },
            "colorscale": [
             [
              0,
              "#0d0887"
             ],
             [
              0.1111111111111111,
              "#46039f"
             ],
             [
              0.2222222222222222,
              "#7201a8"
             ],
             [
              0.3333333333333333,
              "#9c179e"
             ],
             [
              0.4444444444444444,
              "#bd3786"
             ],
             [
              0.5555555555555556,
              "#d8576b"
             ],
             [
              0.6666666666666666,
              "#ed7953"
             ],
             [
              0.7777777777777778,
              "#fb9f3a"
             ],
             [
              0.8888888888888888,
              "#fdca26"
             ],
             [
              1,
              "#f0f921"
             ]
            ],
            "type": "surface"
           }
          ],
          "table": [
           {
            "cells": {
             "fill": {
              "color": "#EBF0F8"
             },
             "line": {
              "color": "white"
             }
            },
            "header": {
             "fill": {
              "color": "#C8D4E3"
             },
             "line": {
              "color": "white"
             }
            },
            "type": "table"
           }
          ]
         },
         "layout": {
          "annotationdefaults": {
           "arrowcolor": "#2a3f5f",
           "arrowhead": 0,
           "arrowwidth": 1
          },
          "autotypenumbers": "strict",
          "coloraxis": {
           "colorbar": {
            "outlinewidth": 0,
            "ticks": ""
           }
          },
          "colorscale": {
           "diverging": [
            [
             0,
             "#8e0152"
            ],
            [
             0.1,
             "#c51b7d"
            ],
            [
             0.2,
             "#de77ae"
            ],
            [
             0.3,
             "#f1b6da"
            ],
            [
             0.4,
             "#fde0ef"
            ],
            [
             0.5,
             "#f7f7f7"
            ],
            [
             0.6,
             "#e6f5d0"
            ],
            [
             0.7,
             "#b8e186"
            ],
            [
             0.8,
             "#7fbc41"
            ],
            [
             0.9,
             "#4d9221"
            ],
            [
             1,
             "#276419"
            ]
           ],
           "sequential": [
            [
             0,
             "#0d0887"
            ],
            [
             0.1111111111111111,
             "#46039f"
            ],
            [
             0.2222222222222222,
             "#7201a8"
            ],
            [
             0.3333333333333333,
             "#9c179e"
            ],
            [
             0.4444444444444444,
             "#bd3786"
            ],
            [
             0.5555555555555556,
             "#d8576b"
            ],
            [
             0.6666666666666666,
             "#ed7953"
            ],
            [
             0.7777777777777778,
             "#fb9f3a"
            ],
            [
             0.8888888888888888,
             "#fdca26"
            ],
            [
             1,
             "#f0f921"
            ]
           ],
           "sequentialminus": [
            [
             0,
             "#0d0887"
            ],
            [
             0.1111111111111111,
             "#46039f"
            ],
            [
             0.2222222222222222,
             "#7201a8"
            ],
            [
             0.3333333333333333,
             "#9c179e"
            ],
            [
             0.4444444444444444,
             "#bd3786"
            ],
            [
             0.5555555555555556,
             "#d8576b"
            ],
            [
             0.6666666666666666,
             "#ed7953"
            ],
            [
             0.7777777777777778,
             "#fb9f3a"
            ],
            [
             0.8888888888888888,
             "#fdca26"
            ],
            [
             1,
             "#f0f921"
            ]
           ]
          },
          "colorway": [
           "#636efa",
           "#EF553B",
           "#00cc96",
           "#ab63fa",
           "#FFA15A",
           "#19d3f3",
           "#FF6692",
           "#B6E880",
           "#FF97FF",
           "#FECB52"
          ],
          "font": {
           "color": "#2a3f5f"
          },
          "geo": {
           "bgcolor": "white",
           "lakecolor": "white",
           "landcolor": "white",
           "showlakes": true,
           "showland": true,
           "subunitcolor": "#C8D4E3"
          },
          "hoverlabel": {
           "align": "left"
          },
          "hovermode": "closest",
          "mapbox": {
           "style": "light"
          },
          "paper_bgcolor": "white",
          "plot_bgcolor": "white",
          "polar": {
           "angularaxis": {
            "gridcolor": "#EBF0F8",
            "linecolor": "#EBF0F8",
            "ticks": ""
           },
           "bgcolor": "white",
           "radialaxis": {
            "gridcolor": "#EBF0F8",
            "linecolor": "#EBF0F8",
            "ticks": ""
           }
          },
          "scene": {
           "xaxis": {
            "backgroundcolor": "white",
            "gridcolor": "#DFE8F3",
            "gridwidth": 2,
            "linecolor": "#EBF0F8",
            "showbackground": true,
            "ticks": "",
            "zerolinecolor": "#EBF0F8"
           },
           "yaxis": {
            "backgroundcolor": "white",
            "gridcolor": "#DFE8F3",
            "gridwidth": 2,
            "linecolor": "#EBF0F8",
            "showbackground": true,
            "ticks": "",
            "zerolinecolor": "#EBF0F8"
           },
           "zaxis": {
            "backgroundcolor": "white",
            "gridcolor": "#DFE8F3",
            "gridwidth": 2,
            "linecolor": "#EBF0F8",
            "showbackground": true,
            "ticks": "",
            "zerolinecolor": "#EBF0F8"
           }
          },
          "shapedefaults": {
           "line": {
            "color": "#2a3f5f"
           }
          },
          "ternary": {
           "aaxis": {
            "gridcolor": "#DFE8F3",
            "linecolor": "#A2B1C6",
            "ticks": ""
           },
           "baxis": {
            "gridcolor": "#DFE8F3",
            "linecolor": "#A2B1C6",
            "ticks": ""
           },
           "bgcolor": "white",
           "caxis": {
            "gridcolor": "#DFE8F3",
            "linecolor": "#A2B1C6",
            "ticks": ""
           }
          },
          "title": {
           "x": 0.05
          },
          "xaxis": {
           "automargin": true,
           "gridcolor": "#EBF0F8",
           "linecolor": "#EBF0F8",
           "ticks": "",
           "title": {
            "standoff": 15
           },
           "zerolinecolor": "#EBF0F8",
           "zerolinewidth": 2
          },
          "yaxis": {
           "automargin": true,
           "gridcolor": "#EBF0F8",
           "linecolor": "#EBF0F8",
           "ticks": "",
           "title": {
            "standoff": 15
           },
           "zerolinecolor": "#EBF0F8",
           "zerolinewidth": 2
          }
         }
        },
        "title": {
         "text": "Student Performance by Background (Toggle by Residency Status)"
        },
        "updatemenus": [
         {
          "active": 0,
          "buttons": [
           {
            "args": [
             {
              "visible": [
               true,
               false,
               false,
               false,
               false
              ]
             },
             {
              "title": "Student Performance - All"
             }
            ],
            "label": "All",
            "method": "update"
           },
           {
            "args": [
             {
              "visible": [
               false,
               true,
               false,
               false,
               false
              ]
             },
             {
              "title": "Student Performance - Foreigner"
             }
            ],
            "label": "Foreigner",
            "method": "update"
           },
           {
            "args": [
             {
              "visible": [
               false,
               false,
               true,
               false,
               false
              ]
             },
             {
              "title": "Student Performance - Singapore Citizen"
             }
            ],
            "label": "Singapore Citizen",
            "method": "update"
           },
           {
            "args": [
             {
              "visible": [
               false,
               false,
               false,
               true,
               false
              ]
             },
             {
              "title": "Student Performance - Singapore PR"
             }
            ],
            "label": "Singapore PR",
            "method": "update"
           },
           {
            "args": [
             {
              "visible": [
               false,
               false,
               false,
               false,
               true
              ]
             },
             {
              "title": "Student Performance - Unknown/Missing Status"
             }
            ],
            "label": "Unknown/Missing Status",
            "method": "update"
           }
          ],
          "x": 1.15,
          "xanchor": "left",
          "y": 1,
          "yanchor": "top"
         }
        ],
        "width": 800
       }
      }
     },
     "metadata": {},
     "output_type": "display_data"
    }
   ],
   "source": [
    "# Define hierarchy column names for the Sunburst chart\n",
    "LEVEL1 = 'RESIDENCY STATUS'\n",
    "LEVEL2 = 'HIGHEST QUALIFICATION'\n",
    "LEVEL3 = 'CGPA_PERFORMANCE_CATEGORY'\n",
    "VALUE  = 'GPA'\n",
    "\n",
    "def build_sunburst_trace(dfi, name_label):\n",
    "    \"\"\"\n",
    "    Create a Sunburst chart trace from a given DataFrame.\n",
    "    Displays a three-level hierarchy:\n",
    "    Level 1 → Level 2 → Level 3\n",
    "    Values at each parent level represent the sum of their children.\n",
    "    \"\"\"\n",
    "\n",
    "    # Aggregate GPA totals for each hierarchy level\n",
    "    g3 = dfi.groupby([LEVEL1, LEVEL2, LEVEL3], dropna=False)[VALUE].sum().reset_index()\n",
    "    g2 = dfi.groupby([LEVEL1, LEVEL2], dropna=False)[VALUE].sum().reset_index()\n",
    "    g1 = dfi.groupby([LEVEL1], dropna=False)[VALUE].sum().reset_index()\n",
    "\n",
    "    labels, parents, values, ids = [], [], [], []\n",
    "\n",
    "    # Add Level 1 nodes (Residency Status)\n",
    "    for _, r in g1.iterrows():\n",
    "        l1 = str(r[LEVEL1])\n",
    "        labels.append(l1)\n",
    "        parents.append(\"\")  # Top-level nodes have no parent\n",
    "        values.append(r[VALUE])\n",
    "        ids.append(f\"{l1}\")\n",
    "\n",
    "    # Add Level 2 nodes (Highest Qualification)\n",
    "    for _, r in g2.iterrows():\n",
    "        l1 = str(r[LEVEL1]); l2 = str(r[LEVEL2])\n",
    "        labels.append(l2)\n",
    "        parents.append(l1)\n",
    "        values.append(r[VALUE])\n",
    "        ids.append(f\"{l1}|{l2}\")\n",
    "\n",
    "    # Add Level 3 nodes (CGPA Performance Category)\n",
    "    for _, r in g3.iterrows():\n",
    "        l1 = str(r[LEVEL1]); l2 = str(r[LEVEL2]); l3 = str(r[LEVEL3])\n",
    "        labels.append(l3)\n",
    "        parents.append(f\"{l1}|{l2}\")  # Link to the Level 2 parent\n",
    "        values.append(r[VALUE])\n",
    "        ids.append(f\"{l1}|{l2}|{l3}\")\n",
    "\n",
    "    # Create the Sunburst trace\n",
    "    return go.Sunburst(\n",
    "        labels=labels,\n",
    "        parents=parents,\n",
    "        values=values,\n",
    "        ids=ids,\n",
    "        branchvalues=\"total\",  # Parent value equals sum of its children\n",
    "        maxdepth=3,\n",
    "        name=name_label,\n",
    "        hovertemplate=\"<b>%{label}</b><br>Value: %{value:.2f}<extra></extra>\"\n",
    "    )\n",
    "\n",
    "# Build a list of residency status values for the dropdown menu\n",
    "residency_statuses = sorted(df[LEVEL1].astype(str).unique().tolist())\n",
    "residency_statuses = [\"All\"] + residency_statuses  # Add \"All\" at the top\n",
    "\n",
    "# Create one Sunburst trace per residency status option\n",
    "traces = []\n",
    "for status in residency_statuses:\n",
    "    if status == \"All\":\n",
    "        dfi = df.copy()\n",
    "    else:\n",
    "        dfi = df[df[LEVEL1].astype(str) == status]\n",
    "    traces.append(build_sunburst_trace(dfi, name_label=status))\n",
    "\n",
    "# Combine all traces into a single figure\n",
    "fig = go.Figure(data=traces)\n",
    "\n",
    "# Show only the \"All\" trace when the chart first loads\n",
    "for i, tr in enumerate(fig.data):\n",
    "    tr.visible = (i == 0)\n",
    "\n",
    "# Create dropdown menu buttons to toggle residency status\n",
    "buttons = []\n",
    "for i, status in enumerate(residency_statuses):\n",
    "    visibility = [False] * len(residency_statuses)\n",
    "    visibility[i] = True\n",
    "    buttons.append(dict(\n",
    "        label=status,\n",
    "        method=\"update\",\n",
    "        args=[\n",
    "            {\"visible\": visibility},\n",
    "            {\"title\": f\"Student Performance - {status}\"}\n",
    "        ]\n",
    "    ))\n",
    "\n",
    "# Update layout for styling and spacing\n",
    "fig.update_layout(\n",
    "    updatemenus=[dict(\n",
    "        active=0,\n",
    "        buttons=buttons,\n",
    "        x=1.15, y=1,\n",
    "        xanchor='left', yanchor='top'\n",
    "    )],\n",
    "    template='plotly_white',\n",
    "    font=dict(family=\"Arial\", size=12, color=\"Black\"),\n",
    "    height=800,\n",
    "    width=800,\n",
    "    margin=dict(l=0, r=0, t=50, b=0),\n",
    "    title=\"Student Performance by Background (Toggle by Residency Status)\"\n",
    ")\n",
    "\n",
    "# Display the final chart\n",
    "fig.show()"
   ]
  },
  {
   "cell_type": "markdown",
   "id": "0e5aecf6-c49d-4e67-897a-95460fc28735",
   "metadata": {},
   "source": [
    "### **Insights**\n",
    "\n",
    "* Singapore Citizens dominate the dataset, making up the largest portion of students across all qualification types, especially in Diploma, Degree, and Certificate programs.\n",
    "* Diploma and Degree holders among Singapore Citizens and PRs generally achieve “Good” or “Very Good” performance, with fewer cases in the lower grade bands.\n",
    "* Foreign students have more balanced representation across qualification types but smaller overall proportions, with performance also leaning toward “Good” and “Very Good.”\n",
    "* The plot also highlights **underperforming groups**, such as specific residency–qualification combinations where a noticeable share of students fall into the “Fail” category, indicating potential need for targeted support. This group is seen to be a small minority of Singaporean Citizens, regardless of their Highest Qualification."
   ]
  },
  {
   "cell_type": "markdown",
   "id": "4db74641-3cf7-40a9-8160-62e6175722bf",
   "metadata": {},
   "source": [
    "#"
   ]
  },
  {
   "cell_type": "markdown",
   "id": "fa1f609e-9687-42a0-8cdf-1b9317e3650f",
   "metadata": {},
   "source": [
    "## **Chart 3 : Scatter plot (using plotly graph objects)**"
   ]
  },
  {
   "cell_type": "code",
   "execution_count": 7,
   "id": "20d483a6-1bc2-4880-bc83-f6f53a09f46a",
   "metadata": {},
   "outputs": [
    {
     "data": {
      "application/vnd.plotly.v1+json": {
       "config": {
        "plotlyServerURL": "https://plot.ly"
       },
       "data": [
        {
         "hovertemplate": "Funding: %{text}<br>Age: %{x}<br>GPA: %{y}<extra></extra>",
         "legendgroup": "Individual",
         "marker": {
          "color": "#636EFA",
          "line": {
           "color": "DarkSlateGrey",
           "width": 0.5
          },
          "opacity": 0.7,
          "size": 8
         },
         "mode": "markers",
         "name": "Individual",
         "text": [
          "Individual",
          "Individual",
          "Individual",
          "Individual",
          "Individual",
          "Individual",
          "Individual",
          "Individual",
          "Individual",
          "Individual",
          "Individual",
          "Individual",
          "Individual",
          "Individual",
          "Individual",
          "Individual",
          "Individual",
          "Individual",
          "Individual",
          "Individual",
          "Individual",
          "Individual",
          "Individual",
          "Individual",
          "Individual",
          "Individual",
          "Individual",
          "Individual",
          "Individual",
          "Individual",
          "Individual",
          "Individual",
          "Individual",
          "Individual",
          "Individual",
          "Individual",
          "Individual",
          "Individual",
          "Individual",
          "Individual",
          "Individual",
          "Individual",
          "Individual",
          "Individual",
          "Individual",
          "Individual",
          "Individual",
          "Individual",
          "Individual",
          "Individual",
          "Individual",
          "Individual",
          "Individual",
          "Individual",
          "Individual",
          "Individual",
          "Individual",
          "Individual",
          "Individual",
          "Individual",
          "Individual",
          "Individual",
          "Individual",
          "Individual",
          "Individual",
          "Individual",
          "Individual",
          "Individual",
          "Individual",
          "Individual",
          "Individual",
          "Individual",
          "Individual",
          "Individual",
          "Individual",
          "Individual",
          "Individual",
          "Individual",
          "Individual",
          "Individual",
          "Individual",
          "Individual",
          "Individual",
          "Individual",
          "Individual",
          "Individual",
          "Individual",
          "Individual",
          "Individual",
          "Individual",
          "Individual",
          "Individual",
          "Individual",
          "Individual",
          "Individual",
          "Individual",
          "Individual",
          "Individual",
          "Individual",
          "Individual",
          "Individual",
          "Individual",
          "Individual",
          "Individual",
          "Individual",
          "Individual",
          "Individual",
          "Individual",
          "Individual",
          "Individual",
          "Individual",
          "Individual",
          "Individual",
          "Individual",
          "Individual",
          "Individual",
          "Individual",
          "Individual",
          "Individual",
          "Individual",
          "Individual",
          "Individual",
          "Individual",
          "Individual",
          "Individual",
          "Individual",
          "Individual",
          "Individual",
          "Individual",
          "Individual",
          "Individual",
          "Individual",
          "Individual",
          "Individual",
          "Individual",
          "Individual",
          "Individual",
          "Individual",
          "Individual",
          "Individual",
          "Individual",
          "Individual",
          "Individual",
          "Individual",
          "Individual",
          "Individual",
          "Individual",
          "Individual",
          "Individual",
          "Individual",
          "Individual",
          "Individual",
          "Individual",
          "Individual",
          "Individual",
          "Individual",
          "Individual",
          "Individual",
          "Individual",
          "Individual",
          "Individual",
          "Individual",
          "Individual",
          "Individual",
          "Individual",
          "Individual",
          "Individual",
          "Individual",
          "Individual",
          "Individual",
          "Individual",
          "Individual",
          "Individual",
          "Individual",
          "Individual",
          "Individual",
          "Individual",
          "Individual",
          "Individual",
          "Individual",
          "Individual",
          "Individual",
          "Individual",
          "Individual",
          "Individual",
          "Individual",
          "Individual",
          "Individual",
          "Individual",
          "Individual",
          "Individual",
          "Individual",
          "Individual",
          "Individual",
          "Individual",
          "Individual",
          "Individual",
          "Individual",
          "Individual",
          "Individual",
          "Individual",
          "Individual",
          "Individual",
          "Individual",
          "Individual",
          "Individual",
          "Individual",
          "Individual",
          "Individual",
          "Individual",
          "Individual",
          "Individual",
          "Individual",
          "Individual",
          "Individual",
          "Individual",
          "Individual",
          "Individual",
          "Individual",
          "Individual",
          "Individual",
          "Individual",
          "Individual",
          "Individual",
          "Individual",
          "Individual",
          "Individual",
          "Individual",
          "Individual",
          "Individual",
          "Individual",
          "Individual",
          "Individual",
          "Individual",
          "Individual",
          "Individual",
          "Individual",
          "Individual",
          "Individual",
          "Individual",
          "Individual",
          "Individual",
          "Individual",
          "Individual",
          "Individual",
          "Individual",
          "Individual",
          "Individual",
          "Individual",
          "Individual",
          "Individual",
          "Individual",
          "Individual",
          "Individual",
          "Individual",
          "Individual",
          "Individual",
          "Individual",
          "Individual",
          "Individual",
          "Individual",
          "Individual",
          "Individual",
          "Individual",
          "Individual",
          "Individual",
          "Individual",
          "Individual"
         ],
         "type": "scatter",
         "x": [
          44,
          44,
          44,
          35,
          35,
          35,
          49,
          49,
          49,
          49,
          49,
          49,
          49,
          33,
          33,
          33,
          28,
          28,
          28,
          31,
          31,
          31,
          52,
          52,
          52,
          48,
          48,
          48,
          49,
          49,
          49,
          33,
          33,
          33,
          59,
          59,
          59,
          34,
          34,
          34,
          42,
          42,
          42,
          34,
          34,
          34,
          50,
          50,
          50,
          50,
          30,
          30,
          30,
          41,
          41,
          41,
          30,
          30,
          30,
          35,
          35,
          35,
          51,
          51,
          51,
          46,
          46,
          46,
          26,
          26,
          26,
          41,
          38,
          26,
          26,
          27,
          46,
          49,
          27,
          33,
          27,
          38,
          47,
          27,
          40,
          56,
          63,
          42,
          46,
          33,
          38,
          36,
          32,
          32,
          32,
          41,
          53,
          48,
          39,
          43,
          51,
          36,
          41,
          41,
          42,
          42,
          47,
          45,
          44,
          41,
          33,
          36,
          34,
          29,
          31,
          41,
          54,
          33,
          45,
          51,
          42,
          42,
          42,
          42,
          43,
          43,
          39,
          39,
          36,
          36,
          51,
          51,
          40,
          40,
          50,
          50,
          42,
          42,
          41,
          41,
          48,
          48,
          56,
          56,
          32,
          32,
          53,
          53,
          40,
          40,
          40,
          40,
          48,
          48,
          43,
          43,
          33,
          33,
          37,
          37,
          51,
          51,
          55,
          55,
          36,
          36,
          44,
          44,
          39,
          39,
          38,
          38,
          33,
          33,
          32,
          32,
          45,
          45,
          35,
          35,
          26,
          26,
          30,
          30,
          35,
          35,
          36,
          36,
          51,
          51,
          43,
          43,
          34,
          34,
          40,
          40,
          37,
          37,
          34,
          34,
          41,
          41,
          42,
          42,
          55,
          55,
          42,
          42,
          50,
          50,
          42,
          42,
          35,
          35,
          40,
          40,
          43,
          43,
          29,
          29,
          45,
          45,
          35,
          35,
          32,
          32,
          40,
          40,
          35,
          35,
          41,
          41,
          30,
          30,
          53,
          53,
          59,
          59,
          59,
          55,
          55,
          55,
          55,
          32,
          32,
          34,
          34,
          47,
          47,
          28,
          28,
          59,
          59,
          59,
          45,
          45,
          51,
          51,
          34,
          34,
          51,
          51,
          44,
          44,
          54,
          54,
          27,
          27
         ],
         "y": [
          3.6,
          3.6,
          3.6,
          3.366666666666667,
          3.366666666666667,
          3.366666666666667,
          3.8,
          3.8,
          3.8,
          2,
          2,
          2,
          2,
          3.4,
          3.4,
          3.4,
          2.9,
          2.9,
          2.9,
          3.5,
          3.5,
          3.5,
          2.3,
          2.3,
          2.3,
          3.2,
          3.2,
          3.2,
          3.5,
          3.5,
          3.5,
          3.7,
          3.7,
          3.7,
          2.9,
          2.9,
          2.9,
          3.5,
          3.5,
          3.5,
          3.8,
          3.8,
          3.8,
          3.6,
          3.6,
          3.6,
          2.025,
          2.025,
          2.025,
          2.025,
          3.4,
          3.4,
          3.4,
          2.9,
          2.9,
          2.9,
          3.2,
          3.2,
          3.2,
          3.5,
          3.5,
          3.5,
          2.3,
          2.3,
          2.3,
          2.5,
          2.5,
          2.5,
          3.4,
          3.4,
          3.4,
          3.5,
          3.4,
          3.7,
          3.4,
          3.2,
          2.5,
          2.3,
          3.9,
          3.4,
          3.1,
          3.9,
          3.4,
          3.6,
          3.8,
          3.4,
          3,
          3.5,
          3.2,
          2.7,
          3.7,
          2.9,
          2.6,
          2.05,
          2.05,
          3.9,
          3.3,
          3.2,
          2.5,
          3.5,
          2.3,
          3.9,
          3.1,
          3.9,
          3.6,
          3.8,
          3.4,
          2.3,
          3.4,
          3.2,
          3.3,
          3,
          4,
          3.8,
          2.7,
          3.2,
          1.7,
          2.8,
          3.2,
          2.1,
          3.6,
          3.6,
          3.6,
          3.6,
          3.2,
          3.2,
          3.2,
          3.2,
          3.6,
          3.6,
          3.3,
          3.3,
          2.7,
          2.7,
          3.4,
          3.4,
          3.6,
          3.6,
          3,
          3,
          3.3,
          3.3,
          2.6,
          2.6,
          3.2,
          3.2,
          2.7,
          2.7,
          3.5,
          3.5,
          3.1,
          3.1,
          2.2,
          2.2,
          2.7,
          2.7,
          2.9,
          2.9,
          2.5,
          2.5,
          2.1,
          2.1,
          3.8,
          3.8,
          3.5,
          3.5,
          2.3,
          2.3,
          3.6,
          3.6,
          3.2,
          3.2,
          3.2,
          3.2,
          3.6,
          3.6,
          3.5,
          3.5,
          2.7,
          2.7,
          3.4,
          3.4,
          3.6,
          3.6,
          3,
          3,
          3.3,
          3.3,
          2,
          2,
          4,
          4,
          2.6,
          2.6,
          2.6,
          2.6,
          3.2,
          3.2,
          3.8,
          3.8,
          3.6,
          3.6,
          3.2,
          3.2,
          2.1,
          2.1,
          3,
          3,
          2.3,
          2.3,
          3.3,
          3.3,
          3.2,
          3.2,
          3.2,
          3.2,
          2.4,
          2.4,
          3.6,
          3.6,
          3.4,
          3.4,
          3.8,
          3.8,
          3.9,
          3.9,
          2.6,
          2.6,
          3.2,
          3.2,
          2.5,
          2.5,
          3,
          3,
          2.8,
          2.8,
          2.4,
          2.4,
          2.4,
          3.2,
          3.2,
          2.7,
          2.7,
          3.8,
          3.8,
          3.5,
          3.5,
          3.7,
          3.7,
          3.9,
          3.9,
          2.4,
          2.4,
          2.4,
          2.4,
          2.4,
          3,
          3,
          3.4,
          3.4,
          3.3,
          3.3,
          3,
          3,
          1.8,
          1.8,
          3.95,
          3.95
         ]
        },
        {
         "hoverinfo": "skip",
         "legendgroup": "Individual",
         "line": {
          "color": "#636EFA",
          "width": 2
         },
         "mode": "lines",
         "name": "Trendline (Individual)",
         "showlegend": false,
         "type": "scatter",
         "x": [
          24,
          24.404040404040405,
          24.80808080808081,
          25.21212121212121,
          25.616161616161616,
          26.02020202020202,
          26.424242424242426,
          26.828282828282827,
          27.232323232323232,
          27.636363636363637,
          28.04040404040404,
          28.444444444444443,
          28.848484848484848,
          29.252525252525253,
          29.656565656565657,
          30.060606060606062,
          30.464646464646464,
          30.86868686868687,
          31.272727272727273,
          31.676767676767675,
          32.08080808080808,
          32.484848484848484,
          32.888888888888886,
          33.292929292929294,
          33.696969696969695,
          34.101010101010104,
          34.505050505050505,
          34.90909090909091,
          35.313131313131315,
          35.717171717171716,
          36.121212121212125,
          36.525252525252526,
          36.92929292929293,
          37.333333333333336,
          37.73737373737374,
          38.141414141414145,
          38.54545454545455,
          38.94949494949495,
          39.35353535353535,
          39.75757575757576,
          40.161616161616166,
          40.56565656565657,
          40.96969696969697,
          41.37373737373737,
          41.77777777777778,
          42.18181818181818,
          42.58585858585859,
          42.98989898989899,
          43.39393939393939,
          43.7979797979798,
          44.2020202020202,
          44.60606060606061,
          45.01010101010101,
          45.41414141414141,
          45.81818181818181,
          46.22222222222222,
          46.62626262626263,
          47.03030303030303,
          47.43434343434343,
          47.838383838383834,
          48.24242424242424,
          48.64646464646465,
          49.05050505050505,
          49.45454545454545,
          49.858585858585855,
          50.26262626262626,
          50.66666666666667,
          51.07070707070707,
          51.474747474747474,
          51.878787878787875,
          52.282828282828284,
          52.686868686868685,
          53.09090909090909,
          53.494949494949495,
          53.898989898989896,
          54.3030303030303,
          54.707070707070706,
          55.111111111111114,
          55.515151515151516,
          55.91919191919192,
          56.323232323232325,
          56.72727272727273,
          57.13131313131313,
          57.535353535353536,
          57.93939393939394,
          58.343434343434346,
          58.74747474747475,
          59.15151515151515,
          59.55555555555556,
          59.95959595959596,
          60.36363636363636,
          60.76767676767677,
          61.17171717171717,
          61.57575757575758,
          61.97979797979798,
          62.38383838383838,
          62.78787878787879,
          63.19191919191919,
          63.5959595959596,
          64
         ],
         "y": [
          3.62093179150447,
          3.6089022511611724,
          3.596872710817875,
          3.5848431704745773,
          3.5728136301312796,
          3.5607840897879823,
          3.5487545494446846,
          3.536725009101387,
          3.5246954687580896,
          3.5126659284147914,
          3.500636388071494,
          3.4886068477281964,
          3.4765773073848987,
          3.4645477670416014,
          3.4525182266983037,
          3.440488686355006,
          3.4284591460117086,
          3.416429605668411,
          3.404400065325113,
          3.3923705249818155,
          3.3803409846385177,
          3.3683114442952204,
          3.3562819039519227,
          3.344252363608625,
          3.3322228232653277,
          3.3201932829220295,
          3.3081637425787322,
          3.296134202235435,
          3.284104661892137,
          3.2720751215488395,
          3.2600455812055413,
          3.248016040862244,
          3.2359865005189468,
          3.2239569601756486,
          3.2119274198323513,
          3.1998978794890536,
          3.187868339145756,
          3.1758387988024586,
          3.1638092584591613,
          3.151779718115863,
          3.1397501777725654,
          3.1277206374292676,
          3.1156910970859704,
          3.103661556742673,
          3.091632016399375,
          3.0796024760560776,
          3.06757293571278,
          3.055543395369482,
          3.043513855026185,
          3.0314843146828867,
          3.0194547743395894,
          3.0074252339962917,
          2.995395693652994,
          2.9833661533096967,
          2.9713366129663994,
          2.959307072623101,
          2.947277532279804,
          2.935247991936506,
          2.9232184515932085,
          2.911188911249911,
          2.899159370906613,
          2.8871298305633157,
          2.875100290220018,
          2.8630707498767203,
          2.851041209533423,
          2.8390116691901253,
          2.8269821288468275,
          2.81495258850353,
          2.802923048160232,
          2.790893507816935,
          2.778863967473637,
          2.7668344271303393,
          2.754804886787042,
          2.7427753464437443,
          2.7307458061004466,
          2.7187162657571493,
          2.706686725413851,
          2.694657185070554,
          2.682627644727256,
          2.6705981043839584,
          2.658568564040661,
          2.6465390236973634,
          2.6345094833540657,
          2.6224799430107684,
          2.6104504026674706,
          2.598420862324173,
          2.586391321980875,
          2.5743617816375775,
          2.56233224129428,
          2.5503027009509824,
          2.5382731606076847,
          2.5262436202643874,
          2.5142140799210897,
          2.502184539577792,
          2.4901549992344947,
          2.4781254588911965,
          2.4660959185478992,
          2.4540663782046015,
          2.4420368378613038,
          2.4300072975180065
         ]
        },
        {
         "hovertemplate": "Funding: %{text}<br>Age: %{x}<br>GPA: %{y}<extra></extra>",
         "legendgroup": "Individual - SFC",
         "marker": {
          "color": "#EF553B",
          "line": {
           "color": "DarkSlateGrey",
           "width": 0.5
          },
          "opacity": 0.7,
          "size": 8
         },
         "mode": "markers",
         "name": "Individual - SFC",
         "text": [
          "Individual - SFC",
          "Individual - SFC",
          "Individual - SFC",
          "Individual - SFC",
          "Individual - SFC",
          "Individual - SFC",
          "Individual - SFC",
          "Individual - SFC",
          "Individual - SFC",
          "Individual - SFC",
          "Individual - SFC",
          "Individual - SFC",
          "Individual - SFC",
          "Individual - SFC",
          "Individual - SFC",
          "Individual - SFC",
          "Individual - SFC",
          "Individual - SFC",
          "Individual - SFC",
          "Individual - SFC",
          "Individual - SFC",
          "Individual - SFC",
          "Individual - SFC",
          "Individual - SFC",
          "Individual - SFC",
          "Individual - SFC",
          "Individual - SFC",
          "Individual - SFC",
          "Individual - SFC",
          "Individual - SFC",
          "Individual - SFC",
          "Individual - SFC",
          "Individual - SFC",
          "Individual - SFC",
          "Individual - SFC",
          "Individual - SFC",
          "Individual - SFC",
          "Individual - SFC",
          "Individual - SFC",
          "Individual - SFC",
          "Individual - SFC",
          "Individual - SFC",
          "Individual - SFC",
          "Individual - SFC",
          "Individual - SFC",
          "Individual - SFC",
          "Individual - SFC",
          "Individual - SFC",
          "Individual - SFC",
          "Individual - SFC",
          "Individual - SFC",
          "Individual - SFC",
          "Individual - SFC",
          "Individual - SFC",
          "Individual - SFC",
          "Individual - SFC",
          "Individual - SFC",
          "Individual - SFC",
          "Individual - SFC",
          "Individual - SFC",
          "Individual - SFC",
          "Individual - SFC",
          "Individual - SFC",
          "Individual - SFC",
          "Individual - SFC",
          "Individual - SFC",
          "Individual - SFC",
          "Individual - SFC",
          "Individual - SFC",
          "Individual - SFC",
          "Individual - SFC",
          "Individual - SFC",
          "Individual - SFC",
          "Individual - SFC",
          "Individual - SFC",
          "Individual - SFC",
          "Individual - SFC",
          "Individual - SFC",
          "Individual - SFC",
          "Individual - SFC",
          "Individual - SFC",
          "Individual - SFC",
          "Individual - SFC",
          "Individual - SFC",
          "Individual - SFC",
          "Individual - SFC",
          "Individual - SFC",
          "Individual - SFC",
          "Individual - SFC",
          "Individual - SFC",
          "Individual - SFC",
          "Individual - SFC",
          "Individual - SFC",
          "Individual - SFC",
          "Individual - SFC",
          "Individual - SFC",
          "Individual - SFC",
          "Individual - SFC",
          "Individual - SFC",
          "Individual - SFC",
          "Individual - SFC",
          "Individual - SFC",
          "Individual - SFC",
          "Individual - SFC",
          "Individual - SFC",
          "Individual - SFC",
          "Individual - SFC",
          "Individual - SFC",
          "Individual - SFC",
          "Individual - SFC",
          "Individual - SFC",
          "Individual - SFC",
          "Individual - SFC",
          "Individual - SFC",
          "Individual - SFC",
          "Individual - SFC",
          "Individual - SFC",
          "Individual - SFC",
          "Individual - SFC",
          "Individual - SFC"
         ],
         "type": "scatter",
         "x": [
          46,
          46,
          46,
          45,
          45,
          45,
          34,
          34,
          34,
          55,
          55,
          55,
          52,
          52,
          52,
          42,
          42,
          42,
          47,
          47,
          47,
          40,
          40,
          40,
          46,
          46,
          46,
          36,
          36,
          36,
          47,
          47,
          47,
          34,
          34,
          34,
          40,
          40,
          40,
          50,
          50,
          50,
          49,
          49,
          49,
          36,
          36,
          36,
          55,
          55,
          55,
          46,
          46,
          46,
          35,
          35,
          35,
          38,
          38,
          38,
          43,
          43,
          43,
          31,
          31,
          31,
          45,
          45,
          45,
          42,
          42,
          42,
          34,
          34,
          34,
          27,
          27,
          27,
          38,
          31,
          38,
          41,
          38,
          31,
          33,
          43,
          58,
          32,
          37,
          44,
          52,
          42,
          43,
          57,
          33,
          46,
          44,
          58,
          41,
          44,
          39,
          34,
          32,
          49,
          52,
          37,
          40,
          35,
          51,
          48,
          32,
          42,
          34,
          53,
          38,
          52,
          47,
          35,
          42,
          47
         ],
         "y": [
          3.5,
          3.5,
          3.5,
          2.2,
          2.2,
          2.2,
          3.1,
          3.1,
          3.1,
          3.5,
          3.5,
          3.5,
          2.6,
          2.6,
          2.6,
          2.5,
          2.5,
          2.5,
          3.9,
          3.9,
          3.9,
          3.799999999999999,
          3.799999999999999,
          3.799999999999999,
          2.4,
          2.4,
          2.4,
          3.6,
          3.6,
          3.6,
          3.5,
          3.5,
          3.5,
          3.6,
          3.6,
          3.6,
          3.8,
          3.8,
          3.8,
          3.1,
          3.1,
          3.1,
          2.5,
          2.5,
          2.5,
          4,
          4,
          4,
          2.2,
          2.2,
          2.2,
          2.2,
          2.2,
          2.2,
          2.7,
          2.7,
          2.7,
          2.799999999999999,
          2.799999999999999,
          2.799999999999999,
          2.1,
          2.1,
          2.1,
          3.7,
          3.7,
          3.7,
          3.5,
          3.5,
          3.5,
          3.7,
          3.7,
          3.7,
          3.3,
          3.3,
          3.3,
          3.7,
          3.7,
          3.7,
          2.3,
          3.4,
          3.7,
          2,
          2.9,
          3.8,
          3.9,
          3,
          3.4,
          3.3,
          3.5,
          3.4,
          3.8,
          2.9,
          2.6,
          2.8,
          2.9,
          3.6,
          3.7,
          1.8,
          3.9,
          2.9,
          3.2,
          2.9,
          3.7,
          3.6,
          4,
          3.2,
          2.5,
          3.5,
          2.1,
          3.9,
          3.8,
          2.3,
          4,
          3.7,
          2.1,
          3.3,
          3.5,
          2.3,
          2.3,
          3.2
         ]
        },
        {
         "hoverinfo": "skip",
         "legendgroup": "Individual - SFC",
         "line": {
          "color": "#EF553B",
          "width": 2
         },
         "mode": "lines",
         "name": "Trendline (Individual - SFC)",
         "showlegend": false,
         "type": "scatter",
         "x": [
          24,
          24.404040404040405,
          24.80808080808081,
          25.21212121212121,
          25.616161616161616,
          26.02020202020202,
          26.424242424242426,
          26.828282828282827,
          27.232323232323232,
          27.636363636363637,
          28.04040404040404,
          28.444444444444443,
          28.848484848484848,
          29.252525252525253,
          29.656565656565657,
          30.060606060606062,
          30.464646464646464,
          30.86868686868687,
          31.272727272727273,
          31.676767676767675,
          32.08080808080808,
          32.484848484848484,
          32.888888888888886,
          33.292929292929294,
          33.696969696969695,
          34.101010101010104,
          34.505050505050505,
          34.90909090909091,
          35.313131313131315,
          35.717171717171716,
          36.121212121212125,
          36.525252525252526,
          36.92929292929293,
          37.333333333333336,
          37.73737373737374,
          38.141414141414145,
          38.54545454545455,
          38.94949494949495,
          39.35353535353535,
          39.75757575757576,
          40.161616161616166,
          40.56565656565657,
          40.96969696969697,
          41.37373737373737,
          41.77777777777778,
          42.18181818181818,
          42.58585858585859,
          42.98989898989899,
          43.39393939393939,
          43.7979797979798,
          44.2020202020202,
          44.60606060606061,
          45.01010101010101,
          45.41414141414141,
          45.81818181818181,
          46.22222222222222,
          46.62626262626263,
          47.03030303030303,
          47.43434343434343,
          47.838383838383834,
          48.24242424242424,
          48.64646464646465,
          49.05050505050505,
          49.45454545454545,
          49.858585858585855,
          50.26262626262626,
          50.66666666666667,
          51.07070707070707,
          51.474747474747474,
          51.878787878787875,
          52.282828282828284,
          52.686868686868685,
          53.09090909090909,
          53.494949494949495,
          53.898989898989896,
          54.3030303030303,
          54.707070707070706,
          55.111111111111114,
          55.515151515151516,
          55.91919191919192,
          56.323232323232325,
          56.72727272727273,
          57.13131313131313,
          57.535353535353536,
          57.93939393939394,
          58.343434343434346,
          58.74747474747475,
          59.15151515151515,
          59.55555555555556,
          59.95959595959596,
          60.36363636363636,
          60.76767676767677,
          61.17171717171717,
          61.57575757575758,
          61.97979797979798,
          62.38383838383838,
          62.78787878787879,
          63.19191919191919,
          63.5959595959596,
          64
         ],
         "y": [
          3.5798955306347966,
          3.570113678222076,
          3.5603318258093557,
          3.550549973396635,
          3.5407681209839144,
          3.530986268571194,
          3.5212044161584735,
          3.5114225637457532,
          3.5016407113330326,
          3.4918588589203123,
          3.4820770065075917,
          3.472295154094871,
          3.4625133016821508,
          3.45273144926943,
          3.4429495968567094,
          3.433167744443989,
          3.4233858920312685,
          3.413604039618548,
          3.4038221872058276,
          3.394040334793107,
          3.3842584823803863,
          3.374476629967666,
          3.364694777554946,
          3.354912925142225,
          3.3451310727295045,
          3.335349220316784,
          3.3255673679040636,
          3.315785515491343,
          3.3060036630786227,
          3.296221810665902,
          3.2864399582531814,
          3.276658105840461,
          3.2668762534277405,
          3.25709440101502,
          3.2473125486022996,
          3.237530696189579,
          3.2277488437768582,
          3.217966991364138,
          3.2081851389514178,
          3.198403286538697,
          3.1886214341259764,
          3.178839581713256,
          3.1690577293005355,
          3.159275876887815,
          3.1494940244750946,
          3.139712172062374,
          3.1299303196496533,
          3.120148467236933,
          3.110366614824213,
          3.1005847624114917,
          3.0908029099987715,
          3.081021057586051,
          3.07123920517333,
          3.06145735276061,
          3.0516755003478897,
          3.041893647935169,
          3.0321117955224484,
          3.022329943109728,
          3.0125480906970075,
          3.002766238284287,
          2.9929843858715666,
          2.983202533458846,
          2.9734206810461252,
          2.963638828633405,
          2.9538569762206848,
          2.9440751238079637,
          2.9342932713952434,
          2.924511418982523,
          2.9147295665698025,
          2.904947714157082,
          2.8951658617443616,
          2.885384009331641,
          2.8756021569189203,
          2.8658203045062,
          2.8560384520934794,
          2.8462565996807587,
          2.8364747472680385,
          2.826692894855318,
          2.816911042442597,
          2.807129190029877,
          2.7973473376171563,
          2.7875654852044356,
          2.7777836327917154,
          2.768001780378995,
          2.7582199279662745,
          2.748438075553554,
          2.7386562231408336,
          2.728874370728113,
          2.7190925183153922,
          2.709310665902672,
          2.6995288134899518,
          2.6897469610772307,
          2.6799651086645104,
          2.6701832562517898,
          2.660401403839069,
          2.650619551426349,
          2.6408376990136286,
          2.631055846600908,
          2.6212739941881873,
          2.611492141775467
         ]
        },
        {
         "hovertemplate": "Funding: %{text}<br>Age: %{x}<br>GPA: %{y}<extra></extra>",
         "legendgroup": "Sponsored",
         "marker": {
          "color": "#00CC96",
          "line": {
           "color": "DarkSlateGrey",
           "width": 0.5
          },
          "opacity": 0.7,
          "size": 8
         },
         "mode": "markers",
         "name": "Sponsored",
         "text": [
          "Sponsored",
          "Sponsored",
          "Sponsored",
          "Sponsored",
          "Sponsored",
          "Sponsored",
          "Sponsored",
          "Sponsored",
          "Sponsored",
          "Sponsored",
          "Sponsored",
          "Sponsored",
          "Sponsored",
          "Sponsored",
          "Sponsored",
          "Sponsored",
          "Sponsored",
          "Sponsored",
          "Sponsored",
          "Sponsored",
          "Sponsored",
          "Sponsored",
          "Sponsored",
          "Sponsored",
          "Sponsored",
          "Sponsored",
          "Sponsored",
          "Sponsored",
          "Sponsored",
          "Sponsored",
          "Sponsored",
          "Sponsored",
          "Sponsored",
          "Sponsored",
          "Sponsored",
          "Sponsored",
          "Sponsored",
          "Sponsored",
          "Sponsored",
          "Sponsored",
          "Sponsored",
          "Sponsored",
          "Sponsored",
          "Sponsored",
          "Sponsored",
          "Sponsored",
          "Sponsored",
          "Sponsored",
          "Sponsored",
          "Sponsored",
          "Sponsored",
          "Sponsored",
          "Sponsored",
          "Sponsored",
          "Sponsored",
          "Sponsored",
          "Sponsored",
          "Sponsored",
          "Sponsored",
          "Sponsored",
          "Sponsored",
          "Sponsored",
          "Sponsored",
          "Sponsored",
          "Sponsored",
          "Sponsored",
          "Sponsored",
          "Sponsored",
          "Sponsored",
          "Sponsored",
          "Sponsored",
          "Sponsored",
          "Sponsored",
          "Sponsored",
          "Sponsored",
          "Sponsored",
          "Sponsored",
          "Sponsored",
          "Sponsored",
          "Sponsored",
          "Sponsored",
          "Sponsored",
          "Sponsored",
          "Sponsored",
          "Sponsored",
          "Sponsored",
          "Sponsored",
          "Sponsored",
          "Sponsored",
          "Sponsored",
          "Sponsored",
          "Sponsored",
          "Sponsored",
          "Sponsored",
          "Sponsored",
          "Sponsored",
          "Sponsored",
          "Sponsored",
          "Sponsored",
          "Sponsored"
         ],
         "type": "scatter",
         "x": [
          42,
          42,
          42,
          45,
          45,
          45,
          42,
          42,
          42,
          37,
          37,
          37,
          52,
          52,
          52,
          35,
          35,
          35,
          39,
          39,
          39,
          56,
          56,
          56,
          37,
          37,
          37,
          50,
          50,
          50,
          29,
          29,
          29,
          31,
          31,
          31,
          32,
          32,
          32,
          46,
          46,
          46,
          43,
          43,
          43,
          25,
          25,
          25,
          29,
          29,
          29,
          28,
          28,
          28,
          25,
          25,
          25,
          50,
          50,
          50,
          25,
          25,
          25,
          29,
          29,
          29,
          51,
          51,
          51,
          44,
          31,
          39,
          31,
          29,
          42,
          36,
          32,
          54,
          41,
          44,
          60,
          32,
          42,
          33,
          44,
          31,
          60,
          60,
          38,
          45,
          33,
          56,
          55,
          36,
          64,
          25,
          33,
          37,
          37,
          27
         ],
         "y": [
          2.9,
          2.9,
          2.9,
          2.1,
          2.1,
          2.1,
          2.9,
          2.9,
          2.9,
          3.4,
          3.4,
          3.4,
          2.1,
          2.1,
          2.1,
          3.9,
          3.9,
          3.9,
          3.5,
          3.5,
          3.5,
          3.7,
          3.7,
          3.7,
          2.4,
          2.4,
          2.4,
          2.1,
          2.1,
          2.1,
          3.6,
          3.6,
          3.6,
          3.4,
          3.4,
          3.4,
          2.6,
          2.6,
          2.6,
          2.1,
          2.1,
          2.1,
          2.9,
          2.9,
          2.9,
          3.9,
          3.9,
          3.9,
          3.5,
          3.5,
          3.5,
          3.4,
          3.4,
          3.4,
          3.8,
          3.8,
          3.8,
          2.2,
          2.2,
          2.2,
          3.6,
          3.6,
          3.6,
          3.4,
          3.4,
          3.4,
          2,
          2,
          2,
          3.7,
          2.8,
          3.5,
          3.9,
          3.7,
          2.8,
          3.4,
          3.2,
          2.7,
          2.6,
          3.8,
          3.5,
          3.2,
          3.8,
          3.5,
          3.2,
          2.9,
          3.2,
          3.7,
          2.8,
          3.6,
          3.2,
          2.9,
          2.8,
          3.5,
          3,
          3.5,
          3.5,
          3,
          3.2,
          2.8
         ]
        },
        {
         "hoverinfo": "skip",
         "legendgroup": "Sponsored",
         "line": {
          "color": "#00CC96",
          "width": 2
         },
         "mode": "lines",
         "name": "Trendline (Sponsored)",
         "showlegend": false,
         "type": "scatter",
         "x": [
          24,
          24.404040404040405,
          24.80808080808081,
          25.21212121212121,
          25.616161616161616,
          26.02020202020202,
          26.424242424242426,
          26.828282828282827,
          27.232323232323232,
          27.636363636363637,
          28.04040404040404,
          28.444444444444443,
          28.848484848484848,
          29.252525252525253,
          29.656565656565657,
          30.060606060606062,
          30.464646464646464,
          30.86868686868687,
          31.272727272727273,
          31.676767676767675,
          32.08080808080808,
          32.484848484848484,
          32.888888888888886,
          33.292929292929294,
          33.696969696969695,
          34.101010101010104,
          34.505050505050505,
          34.90909090909091,
          35.313131313131315,
          35.717171717171716,
          36.121212121212125,
          36.525252525252526,
          36.92929292929293,
          37.333333333333336,
          37.73737373737374,
          38.141414141414145,
          38.54545454545455,
          38.94949494949495,
          39.35353535353535,
          39.75757575757576,
          40.161616161616166,
          40.56565656565657,
          40.96969696969697,
          41.37373737373737,
          41.77777777777778,
          42.18181818181818,
          42.58585858585859,
          42.98989898989899,
          43.39393939393939,
          43.7979797979798,
          44.2020202020202,
          44.60606060606061,
          45.01010101010101,
          45.41414141414141,
          45.81818181818181,
          46.22222222222222,
          46.62626262626263,
          47.03030303030303,
          47.43434343434343,
          47.838383838383834,
          48.24242424242424,
          48.64646464646465,
          49.05050505050505,
          49.45454545454545,
          49.858585858585855,
          50.26262626262626,
          50.66666666666667,
          51.07070707070707,
          51.474747474747474,
          51.878787878787875,
          52.282828282828284,
          52.686868686868685,
          53.09090909090909,
          53.494949494949495,
          53.898989898989896,
          54.3030303030303,
          54.707070707070706,
          55.111111111111114,
          55.515151515151516,
          55.91919191919192,
          56.323232323232325,
          56.72727272727273,
          57.13131313131313,
          57.535353535353536,
          57.93939393939394,
          58.343434343434346,
          58.74747474747475,
          59.15151515151515,
          59.55555555555556,
          59.95959595959596,
          60.36363636363636,
          60.76767676767677,
          61.17171717171717,
          61.57575757575758,
          61.97979797979798,
          62.38383838383838,
          62.78787878787879,
          63.19191919191919,
          63.5959595959596,
          64
         ],
         "y": [
          3.528372009658708,
          3.5166300851737597,
          3.504888160688812,
          3.493146236203864,
          3.481404311718916,
          3.4696623872339676,
          3.4579204627490197,
          3.4461785382640717,
          3.4344366137791233,
          3.4226946892941754,
          3.4109527648092275,
          3.3992108403242796,
          3.387468915839331,
          3.3757269913543833,
          3.363985066869435,
          3.352243142384487,
          3.340501217899539,
          3.328759293414591,
          3.3170173689296427,
          3.305275444444695,
          3.293533519959747,
          3.2817915954747985,
          3.2700496709898506,
          3.2583077465049026,
          3.2465658220199547,
          3.2348238975350063,
          3.2230819730500584,
          3.2113400485651105,
          3.199598124080162,
          3.187856199595214,
          3.1761142751102662,
          3.1643723506253183,
          3.15263042614037,
          3.1408885016554215,
          3.1291465771704736,
          3.1174046526855257,
          3.1056627282005778,
          3.09392080371563,
          3.082178879230682,
          3.0704369547457335,
          3.058695030260785,
          3.0469531057758372,
          3.0352111812908893,
          3.0234692568059414,
          3.0117273323209934,
          2.999985407836045,
          2.9882434833510967,
          2.9765015588661488,
          2.964759634381201,
          2.953017709896253,
          2.941275785411305,
          2.9295338609263566,
          2.9177919364414087,
          2.9060500119564607,
          2.8943080874715124,
          2.8825661629865644,
          2.8708242385016165,
          2.8590823140166686,
          2.84734038953172,
          2.8355984650467723,
          2.823856540561824,
          2.812114616076876,
          2.800372691591928,
          2.78863076710698,
          2.776888842622032,
          2.765146918137084,
          2.7534049936521354,
          2.7416630691671875,
          2.7299211446822396,
          2.7181792201972916,
          2.7064372957123437,
          2.6946953712273953,
          2.682953446742447,
          2.671211522257499,
          2.659469597772551,
          2.647727673287603,
          2.6359857488026552,
          2.624243824317707,
          2.612501899832759,
          2.600759975347811,
          2.5890180508628626,
          2.5772761263779147,
          2.5655342018929668,
          2.553792277408019,
          2.5420503529230705,
          2.530308428438122,
          2.518566503953174,
          2.5068245794682262,
          2.4950826549832783,
          2.4833407304983304,
          2.4715988060133824,
          2.459856881528434,
          2.448114957043486,
          2.4363730325585378,
          2.42463110807359,
          2.412889183588642,
          2.401147259103694,
          2.3894053346187456,
          2.3776634101337972,
          2.3659214856488493
         ]
        },
        {
         "hovertemplate": "Funding: %{text}<br>Age: %{x}<br>GPA: %{y}<extra></extra>",
         "legendgroup": "Individual (Waived App Fee)",
         "marker": {
          "color": "#FFA15A",
          "line": {
           "color": "DarkSlateGrey",
           "width": 0.5
          },
          "opacity": 0.7,
          "size": 8
         },
         "mode": "markers",
         "name": "Individual (Waived App Fee)",
         "text": [
          "Individual (Waived App Fee)",
          "Individual (Waived App Fee)",
          "Individual (Waived App Fee)",
          "Individual (Waived App Fee)",
          "Individual (Waived App Fee)"
         ],
         "type": "scatter",
         "x": [
          58,
          33,
          57,
          55,
          55
         ],
         "y": [
          2.1,
          2.9,
          3.7,
          2,
          2
         ]
        },
        {
         "hoverinfo": "skip",
         "legendgroup": "Individual (Waived App Fee)",
         "line": {
          "color": "#FFA15A",
          "width": 2
         },
         "mode": "lines",
         "name": "Trendline (Individual (Waived App Fee))",
         "showlegend": false,
         "type": "scatter",
         "x": [
          24,
          24.404040404040405,
          24.80808080808081,
          25.21212121212121,
          25.616161616161616,
          26.02020202020202,
          26.424242424242426,
          26.828282828282827,
          27.232323232323232,
          27.636363636363637,
          28.04040404040404,
          28.444444444444443,
          28.848484848484848,
          29.252525252525253,
          29.656565656565657,
          30.060606060606062,
          30.464646464646464,
          30.86868686868687,
          31.272727272727273,
          31.676767676767675,
          32.08080808080808,
          32.484848484848484,
          32.888888888888886,
          33.292929292929294,
          33.696969696969695,
          34.101010101010104,
          34.505050505050505,
          34.90909090909091,
          35.313131313131315,
          35.717171717171716,
          36.121212121212125,
          36.525252525252526,
          36.92929292929293,
          37.333333333333336,
          37.73737373737374,
          38.141414141414145,
          38.54545454545455,
          38.94949494949495,
          39.35353535353535,
          39.75757575757576,
          40.161616161616166,
          40.56565656565657,
          40.96969696969697,
          41.37373737373737,
          41.77777777777778,
          42.18181818181818,
          42.58585858585859,
          42.98989898989899,
          43.39393939393939,
          43.7979797979798,
          44.2020202020202,
          44.60606060606061,
          45.01010101010101,
          45.41414141414141,
          45.81818181818181,
          46.22222222222222,
          46.62626262626263,
          47.03030303030303,
          47.43434343434343,
          47.838383838383834,
          48.24242424242424,
          48.64646464646465,
          49.05050505050505,
          49.45454545454545,
          49.858585858585855,
          50.26262626262626,
          50.66666666666667,
          51.07070707070707,
          51.474747474747474,
          51.878787878787875,
          52.282828282828284,
          52.686868686868685,
          53.09090909090909,
          53.494949494949495,
          53.898989898989896,
          54.3030303030303,
          54.707070707070706,
          55.111111111111114,
          55.515151515151516,
          55.91919191919192,
          56.323232323232325,
          56.72727272727273,
          57.13131313131313,
          57.535353535353536,
          57.93939393939394,
          58.343434343434346,
          58.74747474747475,
          59.15151515151515,
          59.55555555555556,
          59.95959595959596,
          60.36363636363636,
          60.76767676767677,
          61.17171717171717,
          61.57575757575758,
          61.97979797979798,
          62.38383838383838,
          62.78787878787879,
          63.19191919191919,
          63.5959595959596,
          64
         ],
         "y": [
          2.974863387978141,
          2.9684973597541893,
          2.9621313315302378,
          2.9557653033062863,
          2.9493992750823343,
          2.9430332468583824,
          2.936667218634431,
          2.9303011904104794,
          2.9239351621865275,
          2.9175691339625756,
          2.911203105738624,
          2.9048370775146726,
          2.8984710492907206,
          2.892105021066769,
          2.885738992842817,
          2.8793729646188657,
          2.873006936394914,
          2.8666409081709623,
          2.8602748799470104,
          2.853908851723059,
          2.847542823499107,
          2.841176795275155,
          2.8348107670512035,
          2.828444738827252,
          2.8220787106033,
          2.815712682379348,
          2.8093466541553966,
          2.802980625931445,
          2.796614597707493,
          2.7902485694835417,
          2.78388254125959,
          2.7775165130356383,
          2.7711504848116864,
          2.7647844565877344,
          2.758418428363783,
          2.7520524001398314,
          2.7456863719158795,
          2.739320343691928,
          2.732954315467976,
          2.7265882872440246,
          2.7202222590200726,
          2.713856230796121,
          2.707490202572169,
          2.7011241743482177,
          2.694758146124266,
          2.6883921179003143,
          2.6820260896763624,
          2.675660061452411,
          2.669294033228459,
          2.6629280050045074,
          2.6565619767805555,
          2.650195948556604,
          2.643829920332652,
          2.6374638921087006,
          2.631097863884749,
          2.624731835660797,
          2.618365807436845,
          2.6119997792128937,
          2.605633750988942,
          2.5992677227649903,
          2.5929016945410384,
          2.586535666317087,
          2.580169638093135,
          2.5738036098691834,
          2.5674375816452315,
          2.56107155342128,
          2.554705525197328,
          2.5483394969733766,
          2.5419734687494246,
          2.535607440525473,
          2.529241412301521,
          2.5228753840775697,
          2.516509355853618,
          2.5101433276296663,
          2.503777299405715,
          2.497411271181763,
          2.491045242957811,
          2.4846792147338594,
          2.478313186509908,
          2.471947158285956,
          2.465581130062004,
          2.4592151018380526,
          2.452849073614101,
          2.446483045390149,
          2.440117017166197,
          2.4337509889422457,
          2.4273849607182942,
          2.4210189324943423,
          2.4146529042703904,
          2.408286876046439,
          2.4019208478224874,
          2.3955548195985354,
          2.3891887913745835,
          2.382822763150632,
          2.3764567349266805,
          2.3700907067027286,
          2.3637246784787767,
          2.357358650254825,
          2.3509926220308737,
          2.3446265938069217
         ]
        },
        {
         "hovertemplate": "Funding: %{text}<br>Age: %{x}<br>GPA: %{y}<extra></extra>",
         "legendgroup": "Individual - SFC + $1000 SCHOLARSHIP",
         "marker": {
          "color": "#000000",
          "line": {
           "color": "DarkSlateGrey",
           "width": 0.5
          },
          "opacity": 0.7,
          "size": 8
         },
         "mode": "markers",
         "name": "Individual - SFC + $1000 SCHOLARSHIP",
         "text": [
          "Individual - SFC + $1000 SCHOLARSHIP",
          "Individual - SFC + $1000 SCHOLARSHIP",
          "Individual - SFC + $1000 SCHOLARSHIP",
          "Individual - SFC + $1000 SCHOLARSHIP"
         ],
         "type": "scatter",
         "x": [
          33,
          24,
          56,
          48
         ],
         "y": [
          3.7,
          3.7,
          3.4,
          3.4
         ]
        },
        {
         "hoverinfo": "skip",
         "legendgroup": "Individual - SFC + $1000 SCHOLARSHIP",
         "line": {
          "color": "#000000",
          "width": 2
         },
         "mode": "lines",
         "name": "Trendline (Individual - SFC + $1000 SCHOLARSHIP)",
         "showlegend": false,
         "type": "scatter",
         "x": [
          24,
          24.404040404040405,
          24.80808080808081,
          25.21212121212121,
          25.616161616161616,
          26.02020202020202,
          26.424242424242426,
          26.828282828282827,
          27.232323232323232,
          27.636363636363637,
          28.04040404040404,
          28.444444444444443,
          28.848484848484848,
          29.252525252525253,
          29.656565656565657,
          30.060606060606062,
          30.464646464646464,
          30.86868686868687,
          31.272727272727273,
          31.676767676767675,
          32.08080808080808,
          32.484848484848484,
          32.888888888888886,
          33.292929292929294,
          33.696969696969695,
          34.101010101010104,
          34.505050505050505,
          34.90909090909091,
          35.313131313131315,
          35.717171717171716,
          36.121212121212125,
          36.525252525252526,
          36.92929292929293,
          37.333333333333336,
          37.73737373737374,
          38.141414141414145,
          38.54545454545455,
          38.94949494949495,
          39.35353535353535,
          39.75757575757576,
          40.161616161616166,
          40.56565656565657,
          40.96969696969697,
          41.37373737373737,
          41.77777777777778,
          42.18181818181818,
          42.58585858585859,
          42.98989898989899,
          43.39393939393939,
          43.7979797979798,
          44.2020202020202,
          44.60606060606061,
          45.01010101010101,
          45.41414141414141,
          45.81818181818181,
          46.22222222222222,
          46.62626262626263,
          47.03030303030303,
          47.43434343434343,
          47.838383838383834,
          48.24242424242424,
          48.64646464646465,
          49.05050505050505,
          49.45454545454545,
          49.858585858585855,
          50.26262626262626,
          50.66666666666667,
          51.07070707070707,
          51.474747474747474,
          51.878787878787875,
          52.282828282828284,
          52.686868686868685,
          53.09090909090909,
          53.494949494949495,
          53.898989898989896,
          54.3030303030303,
          54.707070707070706,
          55.111111111111114,
          55.515151515151516,
          55.91919191919192,
          56.323232323232325,
          56.72727272727273,
          57.13131313131313,
          57.535353535353536,
          57.93939393939394,
          58.343434343434346,
          58.74747474747475,
          59.15151515151515,
          59.55555555555556,
          59.95959595959596,
          60.36363636363636,
          60.76767676767677,
          61.17171717171717,
          61.57575757575758,
          61.97979797979798,
          62.38383838383838,
          62.78787878787879,
          63.19191919191919,
          63.5959595959596,
          64
         ],
         "y": [
          3.7333733493397374,
          3.7288139498223547,
          3.724254550304972,
          3.7196951507875893,
          3.7151357512702066,
          3.710576351752824,
          3.706016952235441,
          3.7014575527180584,
          3.6968981532006757,
          3.692338753683293,
          3.6877793541659103,
          3.6832199546485276,
          3.678660555131145,
          3.674101155613762,
          3.6695417560963794,
          3.6649823565789967,
          3.660422957061614,
          3.6558635575442313,
          3.6513041580268486,
          3.646744758509466,
          3.6421853589920827,
          3.6376259594747005,
          3.6330665599573178,
          3.628507160439935,
          3.6239477609225523,
          3.6193883614051696,
          3.6148289618877865,
          3.610269562370404,
          3.605710162853021,
          3.6011507633356388,
          3.5965913638182556,
          3.5920319643008733,
          3.58747256478349,
          3.5829131652661075,
          3.5783537657487248,
          3.573794366231342,
          3.5692349667139593,
          3.5646755671965766,
          3.560116167679194,
          3.555556768161811,
          3.5509973686444285,
          3.546437969127046,
          3.541878569609663,
          3.5373191700922804,
          3.5327597705748977,
          3.528200371057515,
          3.5236409715401322,
          3.5190815720227495,
          3.514522172505367,
          3.509962772987984,
          3.5054033734706014,
          3.5008439739532187,
          3.496284574435836,
          3.4917251749184532,
          3.4871657754010705,
          3.482606375883688,
          3.478046976366305,
          3.4734875768489224,
          3.4689281773315397,
          3.464368777814157,
          3.4598093782967743,
          3.4552499787793916,
          3.450690579262009,
          3.446131179744626,
          3.4415717802272434,
          3.4370123807098607,
          3.432452981192478,
          3.4278935816750953,
          3.4233341821577126,
          3.41877478264033,
          3.414215383122947,
          3.4096559836055644,
          3.4050965840881817,
          3.400537184570799,
          3.3959777850534163,
          3.3914183855360336,
          3.386858986018651,
          3.382299586501268,
          3.3777401869838855,
          3.3731807874665027,
          3.36862138794912,
          3.3640619884317373,
          3.3595025889143546,
          3.354943189396972,
          3.350383789879589,
          3.3458243903622065,
          3.3412649908448238,
          3.336705591327441,
          3.3321461918100583,
          3.3275867922926756,
          3.323027392775293,
          3.31846799325791,
          3.3139085937405275,
          3.3093491942231448,
          3.304789794705762,
          3.3002303951883794,
          3.2956709956709966,
          3.291111596153614,
          3.286552196636231,
          3.2819927971188485
         ]
        },
        {
         "hovertemplate": "Funding: %{text}<br>Age: %{x}<br>GPA: %{y}<extra></extra>",
         "legendgroup": "Sponsored - SDF",
         "marker": {
          "color": "#AB63FA",
          "line": {
           "color": "DarkSlateGrey",
           "width": 0.5
          },
          "opacity": 0.7,
          "size": 8
         },
         "mode": "markers",
         "name": "Sponsored - SDF",
         "text": [
          "Sponsored - SDF",
          "Sponsored - SDF",
          "Sponsored - SDF"
         ],
         "type": "scatter",
         "x": [
          42,
          40,
          48
         ],
         "y": [
          2.6,
          3.5,
          3.2
         ]
        },
        {
         "hoverinfo": "skip",
         "legendgroup": "Sponsored - SDF",
         "line": {
          "color": "#AB63FA",
          "width": 2
         },
         "mode": "lines",
         "name": "Trendline (Sponsored - SDF)",
         "showlegend": false,
         "type": "scatter",
         "x": [
          24,
          24.404040404040405,
          24.80808080808081,
          25.21212121212121,
          25.616161616161616,
          26.02020202020202,
          26.424242424242426,
          26.828282828282827,
          27.232323232323232,
          27.636363636363637,
          28.04040404040404,
          28.444444444444443,
          28.848484848484848,
          29.252525252525253,
          29.656565656565657,
          30.060606060606062,
          30.464646464646464,
          30.86868686868687,
          31.272727272727273,
          31.676767676767675,
          32.08080808080808,
          32.484848484848484,
          32.888888888888886,
          33.292929292929294,
          33.696969696969695,
          34.101010101010104,
          34.505050505050505,
          34.90909090909091,
          35.313131313131315,
          35.717171717171716,
          36.121212121212125,
          36.525252525252526,
          36.92929292929293,
          37.333333333333336,
          37.73737373737374,
          38.141414141414145,
          38.54545454545455,
          38.94949494949495,
          39.35353535353535,
          39.75757575757576,
          40.161616161616166,
          40.56565656565657,
          40.96969696969697,
          41.37373737373737,
          41.77777777777778,
          42.18181818181818,
          42.58585858585859,
          42.98989898989899,
          43.39393939393939,
          43.7979797979798,
          44.2020202020202,
          44.60606060606061,
          45.01010101010101,
          45.41414141414141,
          45.81818181818181,
          46.22222222222222,
          46.62626262626263,
          47.03030303030303,
          47.43434343434343,
          47.838383838383834,
          48.24242424242424,
          48.64646464646465,
          49.05050505050505,
          49.45454545454545,
          49.858585858585855,
          50.26262626262626,
          50.66666666666667,
          51.07070707070707,
          51.474747474747474,
          51.878787878787875,
          52.282828282828284,
          52.686868686868685,
          53.09090909090909,
          53.494949494949495,
          53.898989898989896,
          54.3030303030303,
          54.707070707070706,
          55.111111111111114,
          55.515151515151516,
          55.91919191919192,
          56.323232323232325,
          56.72727272727273,
          57.13131313131313,
          57.535353535353536,
          57.93939393939394,
          58.343434343434346,
          58.74747474747475,
          59.15151515151515,
          59.55555555555556,
          59.95959595959596,
          60.36363636363636,
          60.76767676767677,
          61.17171717171717,
          61.57575757575758,
          61.97979797979798,
          62.38383838383838,
          62.78787878787879,
          63.19191919191919,
          63.5959595959596,
          64
         ],
         "y": [
          3.2115384615384612,
          3.209207459207459,
          3.2068764568764565,
          3.2045454545454546,
          3.2022144522144522,
          3.19988344988345,
          3.1975524475524475,
          3.195221445221445,
          3.1928904428904428,
          3.1905594405594404,
          3.188228438228438,
          3.1858974358974357,
          3.1835664335664333,
          3.181235431235431,
          3.1789044289044286,
          3.1765734265734262,
          3.174242424242424,
          3.1719114219114215,
          3.169580419580419,
          3.167249417249417,
          3.164918414918415,
          3.1625874125874125,
          3.16025641025641,
          3.1579254079254078,
          3.1555944055944054,
          3.153263403263403,
          3.1509324009324007,
          3.1486013986013983,
          3.146270396270396,
          3.1439393939393936,
          3.1416083916083912,
          3.139277389277389,
          3.1369463869463865,
          3.134615384615384,
          3.132284382284382,
          3.1299533799533794,
          3.1276223776223775,
          3.125291375291375,
          3.1229603729603728,
          3.1206293706293704,
          3.118298368298368,
          3.1159673659673657,
          3.1136363636363633,
          3.111305361305361,
          3.1089743589743586,
          3.1066433566433562,
          3.104312354312354,
          3.1019813519813515,
          3.099650349650349,
          3.097319347319347,
          3.0949883449883444,
          3.0926573426573425,
          3.09032634032634,
          3.0879953379953378,
          3.0856643356643354,
          3.083333333333333,
          3.0810023310023307,
          3.0786713286713283,
          3.076340326340326,
          3.0740093240093236,
          3.071678321678321,
          3.069347319347319,
          3.0670163170163165,
          3.064685314685314,
          3.062354312354312,
          3.0600233100233094,
          3.0576923076923075,
          3.055361305361305,
          3.0530303030303028,
          3.0506993006993004,
          3.048368298368298,
          3.0460372960372957,
          3.0437062937062933,
          3.041375291375291,
          3.0390442890442886,
          3.036713286713286,
          3.034382284382284,
          3.0320512820512815,
          3.029720279720279,
          3.0273892773892768,
          3.0250582750582744,
          3.0227272727272725,
          3.02039627039627,
          3.0180652680652678,
          3.0157342657342654,
          3.013403263403263,
          3.0110722610722607,
          3.0087412587412583,
          3.006410256410256,
          3.0040792540792536,
          3.001748251748251,
          2.999417249417249,
          2.9970862470862465,
          2.994755244755244,
          2.9924242424242418,
          2.9900932400932394,
          2.987762237762237,
          2.9854312354312347,
          2.9831002331002328,
          2.9807692307692304
         ]
        }
       ],
       "layout": {
        "font": {
         "color": "#7f7f7f",
         "family": "Arial",
         "size": 12
        },
        "height": 700,
        "hovermode": "closest",
        "template": {
         "data": {
          "bar": [
           {
            "error_x": {
             "color": "#2a3f5f"
            },
            "error_y": {
             "color": "#2a3f5f"
            },
            "marker": {
             "line": {
              "color": "white",
              "width": 0.5
             },
             "pattern": {
              "fillmode": "overlay",
              "size": 10,
              "solidity": 0.2
             }
            },
            "type": "bar"
           }
          ],
          "barpolar": [
           {
            "marker": {
             "line": {
              "color": "white",
              "width": 0.5
             },
             "pattern": {
              "fillmode": "overlay",
              "size": 10,
              "solidity": 0.2
             }
            },
            "type": "barpolar"
           }
          ],
          "carpet": [
           {
            "aaxis": {
             "endlinecolor": "#2a3f5f",
             "gridcolor": "#C8D4E3",
             "linecolor": "#C8D4E3",
             "minorgridcolor": "#C8D4E3",
             "startlinecolor": "#2a3f5f"
            },
            "baxis": {
             "endlinecolor": "#2a3f5f",
             "gridcolor": "#C8D4E3",
             "linecolor": "#C8D4E3",
             "minorgridcolor": "#C8D4E3",
             "startlinecolor": "#2a3f5f"
            },
            "type": "carpet"
           }
          ],
          "choropleth": [
           {
            "colorbar": {
             "outlinewidth": 0,
             "ticks": ""
            },
            "type": "choropleth"
           }
          ],
          "contour": [
           {
            "colorbar": {
             "outlinewidth": 0,
             "ticks": ""
            },
            "colorscale": [
             [
              0,
              "#0d0887"
             ],
             [
              0.1111111111111111,
              "#46039f"
             ],
             [
              0.2222222222222222,
              "#7201a8"
             ],
             [
              0.3333333333333333,
              "#9c179e"
             ],
             [
              0.4444444444444444,
              "#bd3786"
             ],
             [
              0.5555555555555556,
              "#d8576b"
             ],
             [
              0.6666666666666666,
              "#ed7953"
             ],
             [
              0.7777777777777778,
              "#fb9f3a"
             ],
             [
              0.8888888888888888,
              "#fdca26"
             ],
             [
              1,
              "#f0f921"
             ]
            ],
            "type": "contour"
           }
          ],
          "contourcarpet": [
           {
            "colorbar": {
             "outlinewidth": 0,
             "ticks": ""
            },
            "type": "contourcarpet"
           }
          ],
          "heatmap": [
           {
            "colorbar": {
             "outlinewidth": 0,
             "ticks": ""
            },
            "colorscale": [
             [
              0,
              "#0d0887"
             ],
             [
              0.1111111111111111,
              "#46039f"
             ],
             [
              0.2222222222222222,
              "#7201a8"
             ],
             [
              0.3333333333333333,
              "#9c179e"
             ],
             [
              0.4444444444444444,
              "#bd3786"
             ],
             [
              0.5555555555555556,
              "#d8576b"
             ],
             [
              0.6666666666666666,
              "#ed7953"
             ],
             [
              0.7777777777777778,
              "#fb9f3a"
             ],
             [
              0.8888888888888888,
              "#fdca26"
             ],
             [
              1,
              "#f0f921"
             ]
            ],
            "type": "heatmap"
           }
          ],
          "heatmapgl": [
           {
            "colorbar": {
             "outlinewidth": 0,
             "ticks": ""
            },
            "colorscale": [
             [
              0,
              "#0d0887"
             ],
             [
              0.1111111111111111,
              "#46039f"
             ],
             [
              0.2222222222222222,
              "#7201a8"
             ],
             [
              0.3333333333333333,
              "#9c179e"
             ],
             [
              0.4444444444444444,
              "#bd3786"
             ],
             [
              0.5555555555555556,
              "#d8576b"
             ],
             [
              0.6666666666666666,
              "#ed7953"
             ],
             [
              0.7777777777777778,
              "#fb9f3a"
             ],
             [
              0.8888888888888888,
              "#fdca26"
             ],
             [
              1,
              "#f0f921"
             ]
            ],
            "type": "heatmapgl"
           }
          ],
          "histogram": [
           {
            "marker": {
             "pattern": {
              "fillmode": "overlay",
              "size": 10,
              "solidity": 0.2
             }
            },
            "type": "histogram"
           }
          ],
          "histogram2d": [
           {
            "colorbar": {
             "outlinewidth": 0,
             "ticks": ""
            },
            "colorscale": [
             [
              0,
              "#0d0887"
             ],
             [
              0.1111111111111111,
              "#46039f"
             ],
             [
              0.2222222222222222,
              "#7201a8"
             ],
             [
              0.3333333333333333,
              "#9c179e"
             ],
             [
              0.4444444444444444,
              "#bd3786"
             ],
             [
              0.5555555555555556,
              "#d8576b"
             ],
             [
              0.6666666666666666,
              "#ed7953"
             ],
             [
              0.7777777777777778,
              "#fb9f3a"
             ],
             [
              0.8888888888888888,
              "#fdca26"
             ],
             [
              1,
              "#f0f921"
             ]
            ],
            "type": "histogram2d"
           }
          ],
          "histogram2dcontour": [
           {
            "colorbar": {
             "outlinewidth": 0,
             "ticks": ""
            },
            "colorscale": [
             [
              0,
              "#0d0887"
             ],
             [
              0.1111111111111111,
              "#46039f"
             ],
             [
              0.2222222222222222,
              "#7201a8"
             ],
             [
              0.3333333333333333,
              "#9c179e"
             ],
             [
              0.4444444444444444,
              "#bd3786"
             ],
             [
              0.5555555555555556,
              "#d8576b"
             ],
             [
              0.6666666666666666,
              "#ed7953"
             ],
             [
              0.7777777777777778,
              "#fb9f3a"
             ],
             [
              0.8888888888888888,
              "#fdca26"
             ],
             [
              1,
              "#f0f921"
             ]
            ],
            "type": "histogram2dcontour"
           }
          ],
          "mesh3d": [
           {
            "colorbar": {
             "outlinewidth": 0,
             "ticks": ""
            },
            "type": "mesh3d"
           }
          ],
          "parcoords": [
           {
            "line": {
             "colorbar": {
              "outlinewidth": 0,
              "ticks": ""
             }
            },
            "type": "parcoords"
           }
          ],
          "pie": [
           {
            "automargin": true,
            "type": "pie"
           }
          ],
          "scatter": [
           {
            "fillpattern": {
             "fillmode": "overlay",
             "size": 10,
             "solidity": 0.2
            },
            "type": "scatter"
           }
          ],
          "scatter3d": [
           {
            "line": {
             "colorbar": {
              "outlinewidth": 0,
              "ticks": ""
             }
            },
            "marker": {
             "colorbar": {
              "outlinewidth": 0,
              "ticks": ""
             }
            },
            "type": "scatter3d"
           }
          ],
          "scattercarpet": [
           {
            "marker": {
             "colorbar": {
              "outlinewidth": 0,
              "ticks": ""
             }
            },
            "type": "scattercarpet"
           }
          ],
          "scattergeo": [
           {
            "marker": {
             "colorbar": {
              "outlinewidth": 0,
              "ticks": ""
             }
            },
            "type": "scattergeo"
           }
          ],
          "scattergl": [
           {
            "marker": {
             "colorbar": {
              "outlinewidth": 0,
              "ticks": ""
             }
            },
            "type": "scattergl"
           }
          ],
          "scattermapbox": [
           {
            "marker": {
             "colorbar": {
              "outlinewidth": 0,
              "ticks": ""
             }
            },
            "type": "scattermapbox"
           }
          ],
          "scatterpolar": [
           {
            "marker": {
             "colorbar": {
              "outlinewidth": 0,
              "ticks": ""
             }
            },
            "type": "scatterpolar"
           }
          ],
          "scatterpolargl": [
           {
            "marker": {
             "colorbar": {
              "outlinewidth": 0,
              "ticks": ""
             }
            },
            "type": "scatterpolargl"
           }
          ],
          "scatterternary": [
           {
            "marker": {
             "colorbar": {
              "outlinewidth": 0,
              "ticks": ""
             }
            },
            "type": "scatterternary"
           }
          ],
          "surface": [
           {
            "colorbar": {
             "outlinewidth": 0,
             "ticks": ""
            },
            "colorscale": [
             [
              0,
              "#0d0887"
             ],
             [
              0.1111111111111111,
              "#46039f"
             ],
             [
              0.2222222222222222,
              "#7201a8"
             ],
             [
              0.3333333333333333,
              "#9c179e"
             ],
             [
              0.4444444444444444,
              "#bd3786"
             ],
             [
              0.5555555555555556,
              "#d8576b"
             ],
             [
              0.6666666666666666,
              "#ed7953"
             ],
             [
              0.7777777777777778,
              "#fb9f3a"
             ],
             [
              0.8888888888888888,
              "#fdca26"
             ],
             [
              1,
              "#f0f921"
             ]
            ],
            "type": "surface"
           }
          ],
          "table": [
           {
            "cells": {
             "fill": {
              "color": "#EBF0F8"
             },
             "line": {
              "color": "white"
             }
            },
            "header": {
             "fill": {
              "color": "#C8D4E3"
             },
             "line": {
              "color": "white"
             }
            },
            "type": "table"
           }
          ]
         },
         "layout": {
          "annotationdefaults": {
           "arrowcolor": "#2a3f5f",
           "arrowhead": 0,
           "arrowwidth": 1
          },
          "autotypenumbers": "strict",
          "coloraxis": {
           "colorbar": {
            "outlinewidth": 0,
            "ticks": ""
           }
          },
          "colorscale": {
           "diverging": [
            [
             0,
             "#8e0152"
            ],
            [
             0.1,
             "#c51b7d"
            ],
            [
             0.2,
             "#de77ae"
            ],
            [
             0.3,
             "#f1b6da"
            ],
            [
             0.4,
             "#fde0ef"
            ],
            [
             0.5,
             "#f7f7f7"
            ],
            [
             0.6,
             "#e6f5d0"
            ],
            [
             0.7,
             "#b8e186"
            ],
            [
             0.8,
             "#7fbc41"
            ],
            [
             0.9,
             "#4d9221"
            ],
            [
             1,
             "#276419"
            ]
           ],
           "sequential": [
            [
             0,
             "#0d0887"
            ],
            [
             0.1111111111111111,
             "#46039f"
            ],
            [
             0.2222222222222222,
             "#7201a8"
            ],
            [
             0.3333333333333333,
             "#9c179e"
            ],
            [
             0.4444444444444444,
             "#bd3786"
            ],
            [
             0.5555555555555556,
             "#d8576b"
            ],
            [
             0.6666666666666666,
             "#ed7953"
            ],
            [
             0.7777777777777778,
             "#fb9f3a"
            ],
            [
             0.8888888888888888,
             "#fdca26"
            ],
            [
             1,
             "#f0f921"
            ]
           ],
           "sequentialminus": [
            [
             0,
             "#0d0887"
            ],
            [
             0.1111111111111111,
             "#46039f"
            ],
            [
             0.2222222222222222,
             "#7201a8"
            ],
            [
             0.3333333333333333,
             "#9c179e"
            ],
            [
             0.4444444444444444,
             "#bd3786"
            ],
            [
             0.5555555555555556,
             "#d8576b"
            ],
            [
             0.6666666666666666,
             "#ed7953"
            ],
            [
             0.7777777777777778,
             "#fb9f3a"
            ],
            [
             0.8888888888888888,
             "#fdca26"
            ],
            [
             1,
             "#f0f921"
            ]
           ]
          },
          "colorway": [
           "#636efa",
           "#EF553B",
           "#00cc96",
           "#ab63fa",
           "#FFA15A",
           "#19d3f3",
           "#FF6692",
           "#B6E880",
           "#FF97FF",
           "#FECB52"
          ],
          "font": {
           "color": "#2a3f5f"
          },
          "geo": {
           "bgcolor": "white",
           "lakecolor": "white",
           "landcolor": "white",
           "showlakes": true,
           "showland": true,
           "subunitcolor": "#C8D4E3"
          },
          "hoverlabel": {
           "align": "left"
          },
          "hovermode": "closest",
          "mapbox": {
           "style": "light"
          },
          "paper_bgcolor": "white",
          "plot_bgcolor": "white",
          "polar": {
           "angularaxis": {
            "gridcolor": "#EBF0F8",
            "linecolor": "#EBF0F8",
            "ticks": ""
           },
           "bgcolor": "white",
           "radialaxis": {
            "gridcolor": "#EBF0F8",
            "linecolor": "#EBF0F8",
            "ticks": ""
           }
          },
          "scene": {
           "xaxis": {
            "backgroundcolor": "white",
            "gridcolor": "#DFE8F3",
            "gridwidth": 2,
            "linecolor": "#EBF0F8",
            "showbackground": true,
            "ticks": "",
            "zerolinecolor": "#EBF0F8"
           },
           "yaxis": {
            "backgroundcolor": "white",
            "gridcolor": "#DFE8F3",
            "gridwidth": 2,
            "linecolor": "#EBF0F8",
            "showbackground": true,
            "ticks": "",
            "zerolinecolor": "#EBF0F8"
           },
           "zaxis": {
            "backgroundcolor": "white",
            "gridcolor": "#DFE8F3",
            "gridwidth": 2,
            "linecolor": "#EBF0F8",
            "showbackground": true,
            "ticks": "",
            "zerolinecolor": "#EBF0F8"
           }
          },
          "shapedefaults": {
           "line": {
            "color": "#2a3f5f"
           }
          },
          "ternary": {
           "aaxis": {
            "gridcolor": "#DFE8F3",
            "linecolor": "#A2B1C6",
            "ticks": ""
           },
           "baxis": {
            "gridcolor": "#DFE8F3",
            "linecolor": "#A2B1C6",
            "ticks": ""
           },
           "bgcolor": "white",
           "caxis": {
            "gridcolor": "#DFE8F3",
            "linecolor": "#A2B1C6",
            "ticks": ""
           }
          },
          "title": {
           "x": 0.05
          },
          "xaxis": {
           "automargin": true,
           "gridcolor": "#EBF0F8",
           "linecolor": "#EBF0F8",
           "ticks": "",
           "title": {
            "standoff": 15
           },
           "zerolinecolor": "#EBF0F8",
           "zerolinewidth": 2
          },
          "yaxis": {
           "automargin": true,
           "gridcolor": "#EBF0F8",
           "linecolor": "#EBF0F8",
           "ticks": "",
           "title": {
            "standoff": 15
           },
           "zerolinecolor": "#EBF0F8",
           "zerolinewidth": 2
          }
         }
        },
        "title": {
         "text": "Cumulative GPA vs. Age, by Course Funding"
        },
        "width": 1000,
        "xaxis": {
         "title": {
          "text": "Age"
         }
        },
        "yaxis": {
         "range": [
          1.5,
          4.2
         ],
         "title": {
          "text": "Cumulative GPA"
         }
        }
       }
      }
     },
     "metadata": {},
     "output_type": "display_data"
    }
   ],
   "source": [
    "# Extract the relevant columns for plotting\n",
    "age = df['AGE']\n",
    "gpa = df['CUMULATIVE_GPA']\n",
    "\n",
    "# Create an empty Plotly figure\n",
    "fig = go.Figure()\n",
    "\n",
    "# Identify all unique course funding categories in the dataset\n",
    "course_funding_categories = df['COURSE FUNDING'].astype(str).unique()\n",
    "\n",
    "# Define a color mapping for consistent category colors\n",
    "color_map = {\n",
    "    'Individual': '#636EFA',\n",
    "    'Individual - SFC': '#EF553B',\n",
    "    'Sponsored': '#00CC96',\n",
    "    'Sponsored - SDF': '#AB63FA',\n",
    "    'Individual (Waived App Fee)': '#FFA15A'\n",
    "}\n",
    "\n",
    "# Loop through each funding category to plot points and trendlines\n",
    "for category in course_funding_categories:\n",
    "    \n",
    "    # Select only the rows for this category\n",
    "    mask = df['COURSE FUNDING'].astype(str) == category\n",
    "    x = age[mask]\n",
    "    y = gpa[mask]\n",
    "    \n",
    "    # Remove rows with missing values in either column\n",
    "    valid = x.notna() & y.notna()\n",
    "    x = x[valid]\n",
    "    y = y[valid]\n",
    "\n",
    "    # Add scatter plot for this funding category\n",
    "    fig.add_trace(\n",
    "        go.Scatter(\n",
    "            x=x, \n",
    "            y=y,\n",
    "            mode='markers',\n",
    "            name=category,\n",
    "            legendgroup=category,\n",
    "            marker=dict(\n",
    "                color=color_map.get(category, '#000000'),  # fallback to black if missing\n",
    "                size=8,\n",
    "                opacity=0.7,\n",
    "                line=dict(width=0.5, color='DarkSlateGrey')\n",
    "            ),\n",
    "            hovertemplate=\"Funding: %{text}<br>Age: %{x}<br>GPA: %{y}<extra></extra>\",\n",
    "            text=[category] * len(x)  # used for hover display\n",
    "        )\n",
    "    )\n",
    "\n",
    "    # Find the global min and max ages to keep trendlines consistent across categories\n",
    "    global_min_age = age.min(skipna=True)\n",
    "    global_max_age = age.max(skipna=True)\n",
    "\n",
    "    # If enough data points exist, fit and plot a linear trendline\n",
    "    if len(x) >= 2:\n",
    "        a, b = np.polyfit(x, y, 1)  # linear regression coefficients\n",
    "        x_line = np.linspace(global_min_age, global_max_age, 100)\n",
    "        y_line = a * x_line + b\n",
    "\n",
    "        fig.add_trace(\n",
    "            go.Scatter(\n",
    "                x=x_line, \n",
    "                y=y_line,\n",
    "                mode='lines',\n",
    "                name=f\"Trendline ({category})\",\n",
    "                legendgroup=category,\n",
    "                showlegend=False,\n",
    "                line=dict(\n",
    "                    color=color_map.get(category, '#000000'),\n",
    "                    width=2\n",
    "                ),\n",
    "                hoverinfo='skip'  # hide hover for trendline\n",
    "            )\n",
    "        )\n",
    "\n",
    "# Configure chart layout (title, axis labels, theme, size)\n",
    "fig.update_layout(\n",
    "    title='Cumulative GPA vs. Age, by Course Funding',\n",
    "    xaxis_title='Age',\n",
    "    yaxis_title='Cumulative GPA',\n",
    "    template='plotly_white',\n",
    "    hovermode='closest',\n",
    "    font=dict(family=\"Arial\", size=12, color=\"#7f7f7f\"),\n",
    "    height=700,\n",
    "    width=1000\n",
    ")\n",
    "\n",
    "# Set a fixed range for the Y-axis to maintain consistency\n",
    "fig.update_yaxes(range=[1.5, 4.2])\n",
    "\n",
    "# Display the figure\n",
    "fig.show()"
   ]
  },
  {
   "cell_type": "markdown",
   "id": "75f9a6a0-d32e-4ccc-b939-912483ab6ba0",
   "metadata": {},
   "source": [
    "## **Insights**\n",
    "- Older students generally have lower GPAs (downward sloping trend line) across most funding types, suggesting that age may be a factor influencing academic performance.\n",
    "- Funding schemes with stronger financial support, such as scholarships or subsidies, seem to reduce the negative impact of age on GPA. \n",
    "- Younger students, particularly those in Individual or Sponsored funding, tend to achieve higher GPAs, indicating that early career stage may be linked to stronger academic outcomes."
   ]
  },
  {
   "cell_type": "markdown",
   "id": "f34d432f-1a2c-42c2-929a-f8469636ec07",
   "metadata": {},
   "source": [
    "#"
   ]
  },
  {
   "cell_type": "markdown",
   "id": "59c24e36-958c-4beb-af8b-1eff5a1b70f6",
   "metadata": {},
   "source": [
    "## **Chart 4 : Heatmap (using plotly graph objects)**"
   ]
  },
  {
   "cell_type": "code",
   "execution_count": 8,
   "id": "43a168a8-52c9-494c-b3d6-365904e112b8",
   "metadata": {},
   "outputs": [
    {
     "data": {
      "application/vnd.plotly.v1+json": {
       "config": {
        "plotlyServerURL": "https://plot.ly"
       },
       "data": [
        {
         "colorbar": {
          "title": {
           "text": "Avg GPA"
          }
         },
         "colorscale": [
          [
           0,
           "rgb(255,255,217)"
          ],
          [
           0.125,
           "rgb(237,248,177)"
          ],
          [
           0.25,
           "rgb(199,233,180)"
          ],
          [
           0.375,
           "rgb(127,205,187)"
          ],
          [
           0.5,
           "rgb(65,182,196)"
          ],
          [
           0.625,
           "rgb(29,145,192)"
          ],
          [
           0.75,
           "rgb(34,94,168)"
          ],
          [
           0.875,
           "rgb(37,52,148)"
          ],
          [
           1,
           "rgb(8,29,88)"
          ]
         ],
         "customdata": [
          [
           41,
           0,
           0
          ],
          [
           159,
           152,
           148
          ]
         ],
         "hovertemplate": "<b>%{y}</b> | Fee: <b>%{x}</b><br>Avg GPA: %{z:.2f}<br>n: %{customdata}<extra></extra>",
         "type": "heatmap",
         "x": [
          "Low",
          "Mid",
          "High"
         ],
         "y": [
          "Full-Time",
          "Part-Time"
         ],
         "z": [
          [
           3.2658536585365856,
           null,
           null
          ],
          [
           3.110062893081761,
           3.093421052631579,
           3.0925675675675675
          ]
         ],
         "zmax": 4.2,
         "zmin": 1
        }
       ],
       "layout": {
        "annotations": [
         {
          "font": {
           "color": "black",
           "size": 13
          },
          "showarrow": false,
          "text": "3.27",
          "x": "Low",
          "y": "Full-Time"
         },
         {
          "font": {
           "color": "#6e6e6e",
           "size": 12
          },
          "showarrow": false,
          "text": "No data",
          "x": "Mid",
          "y": "Full-Time"
         },
         {
          "font": {
           "color": "#6e6e6e",
           "size": 12
          },
          "showarrow": false,
          "text": "No data",
          "x": "High",
          "y": "Full-Time"
         },
         {
          "font": {
           "color": "black",
           "size": 13
          },
          "showarrow": false,
          "text": "3.11",
          "x": "Low",
          "y": "Part-Time"
         },
         {
          "font": {
           "color": "black",
           "size": 13
          },
          "showarrow": false,
          "text": "3.09",
          "x": "Mid",
          "y": "Part-Time"
         },
         {
          "font": {
           "color": "black",
           "size": 13
          },
          "showarrow": false,
          "text": "3.09",
          "x": "High",
          "y": "Part-Time"
         }
        ],
        "font": {
         "size": 14
        },
        "height": 620,
        "margin": {
         "b": 50,
         "l": 50,
         "r": 30,
         "t": 70
        },
        "shapes": [
         {
          "fillcolor": "rgba(0,0,0,0)",
          "line": {
           "color": "#bdbdbd",
           "width": 1
          },
          "type": "rect",
          "x0": 0.5,
          "x1": 1.5,
          "y0": -0.5,
          "y1": 0.5
         },
         {
          "fillcolor": "rgba(0,0,0,0)",
          "line": {
           "color": "#bdbdbd",
           "width": 1
          },
          "type": "rect",
          "x0": 1.5,
          "x1": 2.5,
          "y0": -0.5,
          "y1": 0.5
         }
        ],
        "template": {
         "data": {
          "bar": [
           {
            "error_x": {
             "color": "#2a3f5f"
            },
            "error_y": {
             "color": "#2a3f5f"
            },
            "marker": {
             "line": {
              "color": "white",
              "width": 0.5
             },
             "pattern": {
              "fillmode": "overlay",
              "size": 10,
              "solidity": 0.2
             }
            },
            "type": "bar"
           }
          ],
          "barpolar": [
           {
            "marker": {
             "line": {
              "color": "white",
              "width": 0.5
             },
             "pattern": {
              "fillmode": "overlay",
              "size": 10,
              "solidity": 0.2
             }
            },
            "type": "barpolar"
           }
          ],
          "carpet": [
           {
            "aaxis": {
             "endlinecolor": "#2a3f5f",
             "gridcolor": "#C8D4E3",
             "linecolor": "#C8D4E3",
             "minorgridcolor": "#C8D4E3",
             "startlinecolor": "#2a3f5f"
            },
            "baxis": {
             "endlinecolor": "#2a3f5f",
             "gridcolor": "#C8D4E3",
             "linecolor": "#C8D4E3",
             "minorgridcolor": "#C8D4E3",
             "startlinecolor": "#2a3f5f"
            },
            "type": "carpet"
           }
          ],
          "choropleth": [
           {
            "colorbar": {
             "outlinewidth": 0,
             "ticks": ""
            },
            "type": "choropleth"
           }
          ],
          "contour": [
           {
            "colorbar": {
             "outlinewidth": 0,
             "ticks": ""
            },
            "colorscale": [
             [
              0,
              "#0d0887"
             ],
             [
              0.1111111111111111,
              "#46039f"
             ],
             [
              0.2222222222222222,
              "#7201a8"
             ],
             [
              0.3333333333333333,
              "#9c179e"
             ],
             [
              0.4444444444444444,
              "#bd3786"
             ],
             [
              0.5555555555555556,
              "#d8576b"
             ],
             [
              0.6666666666666666,
              "#ed7953"
             ],
             [
              0.7777777777777778,
              "#fb9f3a"
             ],
             [
              0.8888888888888888,
              "#fdca26"
             ],
             [
              1,
              "#f0f921"
             ]
            ],
            "type": "contour"
           }
          ],
          "contourcarpet": [
           {
            "colorbar": {
             "outlinewidth": 0,
             "ticks": ""
            },
            "type": "contourcarpet"
           }
          ],
          "heatmap": [
           {
            "colorbar": {
             "outlinewidth": 0,
             "ticks": ""
            },
            "colorscale": [
             [
              0,
              "#0d0887"
             ],
             [
              0.1111111111111111,
              "#46039f"
             ],
             [
              0.2222222222222222,
              "#7201a8"
             ],
             [
              0.3333333333333333,
              "#9c179e"
             ],
             [
              0.4444444444444444,
              "#bd3786"
             ],
             [
              0.5555555555555556,
              "#d8576b"
             ],
             [
              0.6666666666666666,
              "#ed7953"
             ],
             [
              0.7777777777777778,
              "#fb9f3a"
             ],
             [
              0.8888888888888888,
              "#fdca26"
             ],
             [
              1,
              "#f0f921"
             ]
            ],
            "type": "heatmap"
           }
          ],
          "heatmapgl": [
           {
            "colorbar": {
             "outlinewidth": 0,
             "ticks": ""
            },
            "colorscale": [
             [
              0,
              "#0d0887"
             ],
             [
              0.1111111111111111,
              "#46039f"
             ],
             [
              0.2222222222222222,
              "#7201a8"
             ],
             [
              0.3333333333333333,
              "#9c179e"
             ],
             [
              0.4444444444444444,
              "#bd3786"
             ],
             [
              0.5555555555555556,
              "#d8576b"
             ],
             [
              0.6666666666666666,
              "#ed7953"
             ],
             [
              0.7777777777777778,
              "#fb9f3a"
             ],
             [
              0.8888888888888888,
              "#fdca26"
             ],
             [
              1,
              "#f0f921"
             ]
            ],
            "type": "heatmapgl"
           }
          ],
          "histogram": [
           {
            "marker": {
             "pattern": {
              "fillmode": "overlay",
              "size": 10,
              "solidity": 0.2
             }
            },
            "type": "histogram"
           }
          ],
          "histogram2d": [
           {
            "colorbar": {
             "outlinewidth": 0,
             "ticks": ""
            },
            "colorscale": [
             [
              0,
              "#0d0887"
             ],
             [
              0.1111111111111111,
              "#46039f"
             ],
             [
              0.2222222222222222,
              "#7201a8"
             ],
             [
              0.3333333333333333,
              "#9c179e"
             ],
             [
              0.4444444444444444,
              "#bd3786"
             ],
             [
              0.5555555555555556,
              "#d8576b"
             ],
             [
              0.6666666666666666,
              "#ed7953"
             ],
             [
              0.7777777777777778,
              "#fb9f3a"
             ],
             [
              0.8888888888888888,
              "#fdca26"
             ],
             [
              1,
              "#f0f921"
             ]
            ],
            "type": "histogram2d"
           }
          ],
          "histogram2dcontour": [
           {
            "colorbar": {
             "outlinewidth": 0,
             "ticks": ""
            },
            "colorscale": [
             [
              0,
              "#0d0887"
             ],
             [
              0.1111111111111111,
              "#46039f"
             ],
             [
              0.2222222222222222,
              "#7201a8"
             ],
             [
              0.3333333333333333,
              "#9c179e"
             ],
             [
              0.4444444444444444,
              "#bd3786"
             ],
             [
              0.5555555555555556,
              "#d8576b"
             ],
             [
              0.6666666666666666,
              "#ed7953"
             ],
             [
              0.7777777777777778,
              "#fb9f3a"
             ],
             [
              0.8888888888888888,
              "#fdca26"
             ],
             [
              1,
              "#f0f921"
             ]
            ],
            "type": "histogram2dcontour"
           }
          ],
          "mesh3d": [
           {
            "colorbar": {
             "outlinewidth": 0,
             "ticks": ""
            },
            "type": "mesh3d"
           }
          ],
          "parcoords": [
           {
            "line": {
             "colorbar": {
              "outlinewidth": 0,
              "ticks": ""
             }
            },
            "type": "parcoords"
           }
          ],
          "pie": [
           {
            "automargin": true,
            "type": "pie"
           }
          ],
          "scatter": [
           {
            "fillpattern": {
             "fillmode": "overlay",
             "size": 10,
             "solidity": 0.2
            },
            "type": "scatter"
           }
          ],
          "scatter3d": [
           {
            "line": {
             "colorbar": {
              "outlinewidth": 0,
              "ticks": ""
             }
            },
            "marker": {
             "colorbar": {
              "outlinewidth": 0,
              "ticks": ""
             }
            },
            "type": "scatter3d"
           }
          ],
          "scattercarpet": [
           {
            "marker": {
             "colorbar": {
              "outlinewidth": 0,
              "ticks": ""
             }
            },
            "type": "scattercarpet"
           }
          ],
          "scattergeo": [
           {
            "marker": {
             "colorbar": {
              "outlinewidth": 0,
              "ticks": ""
             }
            },
            "type": "scattergeo"
           }
          ],
          "scattergl": [
           {
            "marker": {
             "colorbar": {
              "outlinewidth": 0,
              "ticks": ""
             }
            },
            "type": "scattergl"
           }
          ],
          "scattermapbox": [
           {
            "marker": {
             "colorbar": {
              "outlinewidth": 0,
              "ticks": ""
             }
            },
            "type": "scattermapbox"
           }
          ],
          "scatterpolar": [
           {
            "marker": {
             "colorbar": {
              "outlinewidth": 0,
              "ticks": ""
             }
            },
            "type": "scatterpolar"
           }
          ],
          "scatterpolargl": [
           {
            "marker": {
             "colorbar": {
              "outlinewidth": 0,
              "ticks": ""
             }
            },
            "type": "scatterpolargl"
           }
          ],
          "scatterternary": [
           {
            "marker": {
             "colorbar": {
              "outlinewidth": 0,
              "ticks": ""
             }
            },
            "type": "scatterternary"
           }
          ],
          "surface": [
           {
            "colorbar": {
             "outlinewidth": 0,
             "ticks": ""
            },
            "colorscale": [
             [
              0,
              "#0d0887"
             ],
             [
              0.1111111111111111,
              "#46039f"
             ],
             [
              0.2222222222222222,
              "#7201a8"
             ],
             [
              0.3333333333333333,
              "#9c179e"
             ],
             [
              0.4444444444444444,
              "#bd3786"
             ],
             [
              0.5555555555555556,
              "#d8576b"
             ],
             [
              0.6666666666666666,
              "#ed7953"
             ],
             [
              0.7777777777777778,
              "#fb9f3a"
             ],
             [
              0.8888888888888888,
              "#fdca26"
             ],
             [
              1,
              "#f0f921"
             ]
            ],
            "type": "surface"
           }
          ],
          "table": [
           {
            "cells": {
             "fill": {
              "color": "#EBF0F8"
             },
             "line": {
              "color": "white"
             }
            },
            "header": {
             "fill": {
              "color": "#C8D4E3"
             },
             "line": {
              "color": "white"
             }
            },
            "type": "table"
           }
          ]
         },
         "layout": {
          "annotationdefaults": {
           "arrowcolor": "#2a3f5f",
           "arrowhead": 0,
           "arrowwidth": 1
          },
          "autotypenumbers": "strict",
          "coloraxis": {
           "colorbar": {
            "outlinewidth": 0,
            "ticks": ""
           }
          },
          "colorscale": {
           "diverging": [
            [
             0,
             "#8e0152"
            ],
            [
             0.1,
             "#c51b7d"
            ],
            [
             0.2,
             "#de77ae"
            ],
            [
             0.3,
             "#f1b6da"
            ],
            [
             0.4,
             "#fde0ef"
            ],
            [
             0.5,
             "#f7f7f7"
            ],
            [
             0.6,
             "#e6f5d0"
            ],
            [
             0.7,
             "#b8e186"
            ],
            [
             0.8,
             "#7fbc41"
            ],
            [
             0.9,
             "#4d9221"
            ],
            [
             1,
             "#276419"
            ]
           ],
           "sequential": [
            [
             0,
             "#0d0887"
            ],
            [
             0.1111111111111111,
             "#46039f"
            ],
            [
             0.2222222222222222,
             "#7201a8"
            ],
            [
             0.3333333333333333,
             "#9c179e"
            ],
            [
             0.4444444444444444,
             "#bd3786"
            ],
            [
             0.5555555555555556,
             "#d8576b"
            ],
            [
             0.6666666666666666,
             "#ed7953"
            ],
            [
             0.7777777777777778,
             "#fb9f3a"
            ],
            [
             0.8888888888888888,
             "#fdca26"
            ],
            [
             1,
             "#f0f921"
            ]
           ],
           "sequentialminus": [
            [
             0,
             "#0d0887"
            ],
            [
             0.1111111111111111,
             "#46039f"
            ],
            [
             0.2222222222222222,
             "#7201a8"
            ],
            [
             0.3333333333333333,
             "#9c179e"
            ],
            [
             0.4444444444444444,
             "#bd3786"
            ],
            [
             0.5555555555555556,
             "#d8576b"
            ],
            [
             0.6666666666666666,
             "#ed7953"
            ],
            [
             0.7777777777777778,
             "#fb9f3a"
            ],
            [
             0.8888888888888888,
             "#fdca26"
            ],
            [
             1,
             "#f0f921"
            ]
           ]
          },
          "colorway": [
           "#636efa",
           "#EF553B",
           "#00cc96",
           "#ab63fa",
           "#FFA15A",
           "#19d3f3",
           "#FF6692",
           "#B6E880",
           "#FF97FF",
           "#FECB52"
          ],
          "font": {
           "color": "#2a3f5f"
          },
          "geo": {
           "bgcolor": "white",
           "lakecolor": "white",
           "landcolor": "white",
           "showlakes": true,
           "showland": true,
           "subunitcolor": "#C8D4E3"
          },
          "hoverlabel": {
           "align": "left"
          },
          "hovermode": "closest",
          "mapbox": {
           "style": "light"
          },
          "paper_bgcolor": "white",
          "plot_bgcolor": "white",
          "polar": {
           "angularaxis": {
            "gridcolor": "#EBF0F8",
            "linecolor": "#EBF0F8",
            "ticks": ""
           },
           "bgcolor": "white",
           "radialaxis": {
            "gridcolor": "#EBF0F8",
            "linecolor": "#EBF0F8",
            "ticks": ""
           }
          },
          "scene": {
           "xaxis": {
            "backgroundcolor": "white",
            "gridcolor": "#DFE8F3",
            "gridwidth": 2,
            "linecolor": "#EBF0F8",
            "showbackground": true,
            "ticks": "",
            "zerolinecolor": "#EBF0F8"
           },
           "yaxis": {
            "backgroundcolor": "white",
            "gridcolor": "#DFE8F3",
            "gridwidth": 2,
            "linecolor": "#EBF0F8",
            "showbackground": true,
            "ticks": "",
            "zerolinecolor": "#EBF0F8"
           },
           "zaxis": {
            "backgroundcolor": "white",
            "gridcolor": "#DFE8F3",
            "gridwidth": 2,
            "linecolor": "#EBF0F8",
            "showbackground": true,
            "ticks": "",
            "zerolinecolor": "#EBF0F8"
           }
          },
          "shapedefaults": {
           "line": {
            "color": "#2a3f5f"
           }
          },
          "ternary": {
           "aaxis": {
            "gridcolor": "#DFE8F3",
            "linecolor": "#A2B1C6",
            "ticks": ""
           },
           "baxis": {
            "gridcolor": "#DFE8F3",
            "linecolor": "#A2B1C6",
            "ticks": ""
           },
           "bgcolor": "white",
           "caxis": {
            "gridcolor": "#DFE8F3",
            "linecolor": "#A2B1C6",
            "ticks": ""
           }
          },
          "title": {
           "x": 0.05
          },
          "xaxis": {
           "automargin": true,
           "gridcolor": "#EBF0F8",
           "linecolor": "#EBF0F8",
           "ticks": "",
           "title": {
            "standoff": 15
           },
           "zerolinecolor": "#EBF0F8",
           "zerolinewidth": 2
          },
          "yaxis": {
           "automargin": true,
           "gridcolor": "#EBF0F8",
           "linecolor": "#EBF0F8",
           "ticks": "",
           "title": {
            "standoff": 15
           },
           "zerolinecolor": "#EBF0F8",
           "zerolinewidth": 2
          }
         }
        },
        "title": {
         "text": "Average GPA by Study Mode × Course Fee Bin"
        },
        "width": 1000,
        "xaxis": {
         "categoryarray": [
          "Low",
          "Mid",
          "High"
         ],
         "categoryorder": "array",
         "title": {
          "text": "Course Fee Bin"
         }
        },
        "yaxis": {
         "categoryarray": [
          "Full-Time",
          "Part-Time"
         ],
         "categoryorder": "array",
         "title": {
          "text": "Study Mode"
         }
        }
       }
      }
     },
     "metadata": {},
     "output_type": "display_data"
    }
   ],
   "source": [
    "# Columns to use and how many fee bins to create\n",
    "MODE_COL = 'FULL-TIME OR PART-TIME'\n",
    "FEE_COL  = 'COURSE FEE'\n",
    "GPA_COL  = 'CUMULATIVE_GPA'\n",
    "N_BINS   = 3\n",
    "\n",
    "# Keep only the columns we need and drop rows missing any of them\n",
    "df_plot = df[[MODE_COL, FEE_COL, GPA_COL]].copy().dropna(subset=[MODE_COL, FEE_COL, GPA_COL])\n",
    "\n",
    "# Make sure fee and GPA are numeric, then remove any rows that still fail\n",
    "df_plot[FEE_COL] = pd.to_numeric(df_plot[FEE_COL], errors='coerce')\n",
    "df_plot[GPA_COL] = pd.to_numeric(df_plot[GPA_COL], errors='coerce')\n",
    "df_plot = df_plot.dropna(subset=[FEE_COL, GPA_COL])\n",
    "\n",
    "# Create fee bins: try balanced quantile bins; if not possible, use equal-width bins\n",
    "try:\n",
    "    df_plot['FEE_BIN'] = pd.qcut(df_plot[FEE_COL], q=N_BINS, duplicates='drop')\n",
    "except ValueError:\n",
    "    df_plot['FEE_BIN'] = pd.cut(df_plot[FEE_COL], bins=N_BINS)\n",
    "\n",
    "# If we ended up with exactly 3 bins, label them Low/Mid/High in fee order\n",
    "if df_plot['FEE_BIN'].nunique() == 3:\n",
    "    order_by_median = (\n",
    "        df_plot.groupby('FEE_BIN', observed=False)[FEE_COL]\n",
    "               .median().sort_values().index.tolist()\n",
    "    )\n",
    "    label_map = {\n",
    "        order_by_median[0]: 'Low',\n",
    "        order_by_median[1]: 'Mid',\n",
    "        order_by_median[2]: 'High'\n",
    "    }\n",
    "    df_plot['FEE_BIN_LABEL'] = df_plot['FEE_BIN'].map(label_map)\n",
    "    fee_order = ['Low', 'Mid', 'High']\n",
    "# Otherwise keep the textual interval labels, ordered alphabetically\n",
    "else:\n",
    "    df_plot['FEE_BIN_LABEL'] = df_plot['FEE_BIN'].astype(str)\n",
    "    fee_order = sorted(df_plot['FEE_BIN_LABEL'].unique().tolist())\n",
    "\n",
    "# Compute average GPA for each Study Mode × Fee Bin\n",
    "avg_mat = (\n",
    "    df_plot.groupby([MODE_COL, 'FEE_BIN_LABEL'], observed=False)[GPA_COL]\n",
    "           .mean().reset_index()\n",
    "           .pivot(index=MODE_COL, columns='FEE_BIN_LABEL', values=GPA_COL)\n",
    "           .reindex(columns=fee_order)\n",
    ")\n",
    "\n",
    "# Also compute counts so we can show sample sizes in hover/annotations\n",
    "cnt_mat = (\n",
    "    df_plot.groupby([MODE_COL, 'FEE_BIN_LABEL'], observed=False)[GPA_COL]\n",
    "           .size().reset_index(name='n')\n",
    "           .pivot(index=MODE_COL, columns='FEE_BIN_LABEL', values='n')\n",
    "           .reindex(columns=fee_order)\n",
    ")\n",
    "\n",
    "# Align tables and fill missing counts with zero\n",
    "avg_mat = avg_mat.sort_index()\n",
    "cnt_mat = cnt_mat.reindex_like(avg_mat).fillna(0).astype(int)\n",
    "\n",
    "# Prepare arrays for the heatmap\n",
    "z = avg_mat.values\n",
    "x = avg_mat.columns.astype(str).tolist()\n",
    "y = avg_mat.index.astype(str).tolist()\n",
    "\n",
    "# Use a soft, readable color scale and fix the GPA range\n",
    "zmin, zmax = 1.0, 4.2\n",
    "colorscale = 'YlGnBu'\n",
    "\n",
    "# Build the heatmap\n",
    "fig = go.Figure()\n",
    "fig.add_trace(go.Heatmap(\n",
    "    z=z, x=x, y=y,\n",
    "    colorscale=colorscale, zmin=zmin, zmax=zmax,\n",
    "    colorbar_title='Avg GPA',\n",
    "    customdata=cnt_mat.values,\n",
    "    hovertemplate=(\n",
    "        \"<b>%{y}</b> | Fee: <b>%{x}</b><br>\"\n",
    "        \"Avg GPA: %{z:.2f}<br>\"\n",
    "        \"n: %{customdata}<extra></extra>\"\n",
    "    )\n",
    "))\n",
    "\n",
    "# Add text annotations in each cell; show \"No data\" where the mean is NaN\n",
    "for i, yy in enumerate(y):\n",
    "    for j, xx in enumerate(x):\n",
    "        val = z[i, j]\n",
    "        if np.isnan(val):\n",
    "            fig.add_annotation(\n",
    "                x=xx, y=yy, text='No data', showarrow=False,\n",
    "                font=dict(size=12, color='#6e6e6e')\n",
    "            )\n",
    "            # Optional light outline to make empty cells visible\n",
    "            fig.add_shape(\n",
    "                type='rect', x0=j-0.5, x1=j+0.5, y0=i-0.5, y1=i+0.5,\n",
    "                line=dict(color='#bdbdbd', width=1), fillcolor='rgba(0,0,0,0)'\n",
    "            )\n",
    "        else:\n",
    "            fig.add_annotation(\n",
    "                x=xx, y=yy, text=f'{val:.2f}', showarrow=False,\n",
    "                font=dict(size=13, color='black')\n",
    "            )\n",
    "\n",
    "# Style the figure and enforce category order for consistent layout\n",
    "fig.update_layout(\n",
    "    title='Average GPA by Study Mode × Course Fee Bin',\n",
    "    xaxis_title='Course Fee Bin',\n",
    "    yaxis_title='Study Mode',\n",
    "    template='plotly_white',\n",
    "    width=1000, height=620,\n",
    "    margin=dict(l=50, r=30, t=70, b=50),\n",
    "    font=dict(size=14)\n",
    ")\n",
    "fig.update_xaxes(categoryorder='array', categoryarray=x)\n",
    "fig.update_yaxes(categoryorder='array', categoryarray=y)\n",
    "\n",
    "# Render the chart\n",
    "fig.show()"
   ]
  },
  {
   "cell_type": "markdown",
   "id": "dc4bcf5d-d90e-4e4f-a6a0-29cce455416b",
   "metadata": {},
   "source": [
    "### **Insights**\n",
    "- Full-Time students in low-fee courses achieve the highest average GPA (3.27), suggesting that lower course costs may reduce financial stress, potentially supporting better academic performance, and when courses are full time it might suggest students can study better as seen with the highest average GPA.\n",
    "- Part-Time students have consistently lower GPAs (around 3.09–3.11) across all fee bins, which could indicate that balancing work and study negatively impacts academic results, regardless of course fee level.\n",
    "- No data for Full-Time students in mid/high-fee courses may point to program structure differences or missing enrolment groups, indicating a possible area for further data collection or investigation."
   ]
  },
  {
   "cell_type": "markdown",
   "id": "a3fdd392-e818-4893-b64d-5d7e8b23135c",
   "metadata": {},
   "source": [
    "#"
   ]
  },
  {
   "cell_type": "markdown",
   "id": "86d5351c-bcc3-4c6d-8a86-6d0d912f30d4",
   "metadata": {},
   "source": [
    "# **Conslusion**\n",
    "---"
   ]
  },
  {
   "cell_type": "markdown",
   "id": "4b461d43-f126-4c34-8005-e30c13402cf7",
   "metadata": {},
   "source": [
    "The analysis reveals several interlinked factors influencing student academic performance. Certificate programs tend to produce more consistent GPAs, while Diploma programs show greater variability and a higher proportion of at-risk students, particularly in courses such as Business Analytics and Intelligent Systems. Residency status and qualification type highlight a small but notable group of underperforming Singapore Citizens, indicating the need for targeted intervention. Age appears to negatively correlate with GPA, with younger students (especially those benefiting from substantial funding) achieving stronger results, suggesting that early engagement and financial support can be critical for success. Additionally, study mode and course fees reveal that Full-Time students in low-fee programs achieve the highest average GPAs, while Part-Time students underperform consistently, likely due to competing commitments."
   ]
  },
  {
   "cell_type": "markdown",
   "id": "e55b5e7a-4cc3-4dee-98ae-a58313c8f900",
   "metadata": {},
   "source": [
    "#\n",
    "\n",
    "##### **Actionable Recommendations :**\n",
    "\n",
    "- Targeted Support Programs – Introduce tailored academic support and mentoring for at-risk Diploma students, focusing on high-variability courses.\n",
    "\n",
    "- Enhanced Financial Aid & Scheduling Flexibility – Expand funding assistance and offer more flexible learning pathways for older and Part-Time students to mitigate performance gaps.\n",
    "\n",
    "- Continuous Monitoring & Data Enrichment – Address missing data gaps (e.g., Full-Time students in mid/high-fee courses) and monitor performance trends to refine support strategies over time."
   ]
  },
  {
   "cell_type": "markdown",
   "id": "31931e14-872c-4344-8579-9d18c0f8d784",
   "metadata": {},
   "source": [
    "#"
   ]
  },
  {
   "cell_type": "markdown",
   "id": "ac12bc0e-701e-4870-8232-84944959e50b",
   "metadata": {},
   "source": [
    "# **Dashboard**\n",
    "---"
   ]
  },
  {
   "cell_type": "markdown",
   "id": "0ef09a9b-01c3-4eb3-932f-09dfc7f83dde",
   "metadata": {},
   "source": [
    "#"
   ]
  },
  {
   "cell_type": "markdown",
   "id": "163f8199-eed5-43de-89c6-862b644773b1",
   "metadata": {},
   "source": [
    "### Data loading and constants"
   ]
  },
  {
   "cell_type": "code",
   "execution_count": 9,
   "id": "f8ca2595-e103-4840-a321-1254f3e962f1",
   "metadata": {},
   "outputs": [],
   "source": [
    "# Load the dataset and declare all column names in one place\n",
    "DF_PATH = \"cleaned_student_data.xlsx\"\n",
    "df = pd.read_excel(DF_PATH)\n",
    "\n",
    "COL_COURSE_NAME = \"COURSE NAME\"\n",
    "COL_CERT_TYPE   = \"COURSE_CERTIFICATION_TYPE\"\n",
    "COL_FUNDING     = \"COURSE FUNDING\"\n",
    "COL_RESIDENCY   = \"RESIDENCY STATUS\"\n",
    "COL_QUAL        = \"HIGHEST QUALIFICATION\"\n",
    "COL_GPA         = \"CUMULATIVE_GPA\"\n",
    "COL_GPA_BAND    = \"CGPA_PERFORMANCE_CATEGORY\"\n",
    "COL_AGE         = \"AGE\"\n",
    "COL_MODE        = \"FULL-TIME OR PART-TIME\"\n",
    "COL_FEE         = \"COURSE FEE\"\n",
    "COL_DATE        = \"COMPLETION DATE\"   # used for the date slider\n",
    "\n",
    "# Clean common string columns once so downstream filters are reliable\n",
    "for col in [COL_RESIDENCY, COL_QUAL, COL_MODE, COL_FUNDING]:\n",
    "    df[col] = (\n",
    "        df[col]\n",
    "        .astype(str)                # unify types\n",
    "        .str.strip()                # trim whitespace\n",
    "        .replace({\"nan\": None, \"None\": None, \"\": None})  # treat “nan”/empty as missing\n",
    "    )\n",
    "\n",
    "# Make missing residency explicit so it can be selected in the filter\n",
    "df[COL_RESIDENCY] = df[COL_RESIDENCY].fillna(\"Unknown/Missing Status\")\n",
    "\n",
    "# Create a cleaned residency column for filters and charts (title-cased + synonym mapping)\n",
    "COL_RESIDENCY_CLEAN = \"RESIDENCY_CLEAN\"\n",
    "\n",
    "def _standardize_residency(s: pd.Series) -> pd.Series:\n",
    "    # convert to strings, trim, and normalize obvious placeholders to None\n",
    "    s2 = (\n",
    "        s.astype(str)\n",
    "         .str.strip()\n",
    "         .replace({\"nan\": None, \"None\": None, \"\": None})\n",
    "    )\n",
    "    # title-case valid strings (e.g., 'foreigner' -> 'Foreigner')\n",
    "    s2 = s2.map(lambda x: x.title() if isinstance(x, str) else x)\n",
    "\n",
    "    # collapse common variants; extend this dictionary if you see more forms\n",
    "    synonym_map = {\n",
    "        \"Foreign\": \"Foreigner\",\n",
    "        \"Citizen\": \"Singapore Citizen\",\n",
    "        \"Singaporean\": \"Singapore Citizen\",\n",
    "    }\n",
    "    s2 = s2.replace(synonym_map)\n",
    "\n",
    "    # final fill for anything still missing\n",
    "    return s2.fillna(\"Unknown/Missing\")\n",
    "\n",
    "df[COL_RESIDENCY_CLEAN] = _standardize_residency(df[COL_RESIDENCY])\n",
    "\n",
    "# Parse completion dates once and prepare a numeric version for the RangeSlider\n",
    "# - _DATE is normalized to midnight so comparisons are stable\n",
    "# - _DATE_NUM is “days since 1970-01-01” (RangeSlider needs integers)\n",
    "df[COL_DATE] = pd.to_datetime(df[COL_DATE], errors=\"coerce\")\n",
    "df[\"_DATE\"] = df[COL_DATE].dt.normalize()\n",
    "\n",
    "epoch = pd.Timestamp(\"1970-01-01\")\n",
    "df[\"_DATE_NUM\"] = ((df[\"_DATE\"] - epoch) / pd.Timedelta(days=1)).astype(\"Int64\")\n",
    "\n",
    "# Compute slider bounds; if no valid dates exist, leave them as None so the slider can disable itself\n",
    "_date_min = df[\"_DATE\"].min()\n",
    "_date_max = df[\"_DATE\"].max()\n",
    "\n",
    "if pd.isna(_date_min) or pd.isna(_date_max):\n",
    "    _date_min_num = _date_max_num = None\n",
    "else:\n",
    "    _date_min_num = int((_date_min - epoch) / pd.Timedelta(days=1))\n",
    "    _date_max_num = int((_date_max - epoch) / pd.Timedelta(days=1))"
   ]
  },
  {
   "cell_type": "markdown",
   "id": "5d2cb69b-1d52-4612-abf0-89324b4d1954",
   "metadata": {},
   "source": [
    "#\n",
    "### Helper functions"
   ]
  },
  {
   "cell_type": "code",
   "execution_count": 10,
   "id": "96f7e0d8-dc44-4b74-969e-259721e39ee6",
   "metadata": {},
   "outputs": [],
   "source": [
    "# Helper functions\n",
    "\n",
    "def _clean_series(s: pd.Series) -> pd.Series:\n",
    "    \"\"\"\n",
    "    Normalize a text-like column:\n",
    "    - convert to string\n",
    "    - trim leading/trailing whitespace\n",
    "    - turn 'nan'/'None'/'' into actual missing values (NaN)\n",
    "    \"\"\"\n",
    "    return (\n",
    "        s.astype(str)\n",
    "         .str.strip()\n",
    "         .replace({\"nan\": None, \"None\": None, \"\": None})\n",
    "    )\n",
    "\n",
    "\n",
    "def apply_filters(\n",
    "    d: pd.DataFrame,\n",
    "    res: str,\n",
    "    qual: str,\n",
    "    fund: str,\n",
    "    mode: str,\n",
    "    date_range=None\n",
    ") -> pd.DataFrame:\n",
    "    \"\"\"\n",
    "    Apply all dashboard filters to a copy of the dataset.\n",
    "\n",
    "    Parameters\n",
    "    ----------\n",
    "    d : DataFrame\n",
    "        Source data.\n",
    "    res, qual, fund, mode : str\n",
    "        Selected values from the dropdowns; each may be 'All'.\n",
    "    date_range : list[int, int] or None\n",
    "        Two integers from the RangeSlider representing days since 1970-01-01.\n",
    "        If None, no date filtering is applied.\n",
    "\n",
    "    Returns\n",
    "    -------\n",
    "    DataFrame\n",
    "        The filtered dataset.\n",
    "    \"\"\"\n",
    "    out = d.copy()\n",
    "\n",
    "    # Categorical filters (skip when the selection is 'All')\n",
    "    if res  != \"All\":\n",
    "        out = out[out[COL_RESIDENCY_CLEAN].astype(str) == res]\n",
    "    if qual != \"All\":\n",
    "        out = out[out[COL_QUAL].astype(str) == qual]\n",
    "    if fund != \"All\":\n",
    "        out = out[out[COL_FUNDING].astype(str) == fund]\n",
    "    if mode != \"All\":\n",
    "        out = out[out[COL_MODE].astype(str) == mode]\n",
    "\n",
    "    # Date filter (convert epoch-day integers back to timestamps and filter _DATE)\n",
    "    if date_range and len(date_range) == 2 and \"_DATE\" in out.columns:\n",
    "        start_num, end_num = date_range\n",
    "        epoch = pd.Timestamp(\"1970-01-01\")\n",
    "        start = epoch + pd.to_timedelta(int(start_num), unit=\"D\")\n",
    "        end   = epoch + pd.to_timedelta(int(end_num),   unit=\"D\")\n",
    "        dates = pd.to_datetime(out[\"_DATE\"], errors=\"coerce\")\n",
    "        out = out[dates.between(start, end, inclusive=\"both\")]\n",
    "\n",
    "    return out\n",
    "\n",
    "\n",
    "def _no_data_fig(msg: str = \"No data for current filters\") -> go.Figure:\n",
    "    \"\"\"\n",
    "    Return a neutral placeholder figure with a friendly message\n",
    "    instead of raising errors when the filtered data is empty.\n",
    "    \"\"\"\n",
    "    fig = go.Figure()\n",
    "    fig.update_layout(\n",
    "        template=\"plotly_white\",\n",
    "        annotations=[dict(text=msg, showarrow=False, font=dict(size=16))],\n",
    "        xaxis_visible=False,\n",
    "        yaxis_visible=False,\n",
    "        height=420,\n",
    "    )\n",
    "    return fig"
   ]
  },
  {
   "cell_type": "markdown",
   "id": "5f326e75-cb94-4680-8dd1-f3225c3dce6a",
   "metadata": {},
   "source": [
    "#\n",
    "### Figure Builders"
   ]
  },
  {
   "cell_type": "code",
   "execution_count": 11,
   "id": "32f1f05c",
   "metadata": {},
   "outputs": [],
   "source": [
    "# Functions to build figures / charts\n",
    "\n",
    "def fig_box_by_course(d):\n",
    "    \"\"\"\n",
    "    Chart 1: Box plot of GPA by Course.\n",
    "    - Shows spread (quartiles, outliers) of GPA for each course.\n",
    "    - Color-coded by certification type for extra layer of insight.\n",
    "    - All individual data points are displayed on top of the box plot.\n",
    "    \"\"\"\n",
    "    if d.empty:\n",
    "        return _no_data_fig()\n",
    "\n",
    "    # Create box plot with Plotly Express\n",
    "    fig = px.box(\n",
    "        d,\n",
    "        x=COL_COURSE_NAME,\n",
    "        y=COL_GPA,\n",
    "        color=COL_CERT_TYPE,      # Differentiate courses by certification type\n",
    "        points=\"all\",             # Overlay all raw data points\n",
    "        title=\"Distribution of Cumulative GPA by Course\",\n",
    "        hover_data={\n",
    "            COL_CERT_TYPE: True,\n",
    "            COL_GPA: ':.2f',       # Format GPA to 2 decimal places\n",
    "            COL_COURSE_NAME: False\n",
    "        },\n",
    "        template=\"ggplot2\"\n",
    "    )\n",
    "\n",
    "    # Layout tuning for readability\n",
    "    fig.update_layout(\n",
    "        yaxis_title=\"Cumulative GPA\",\n",
    "        xaxis_title=\"Course Name\",\n",
    "        height=600\n",
    "    )\n",
    "    fig.update_yaxes(range=[1.5, 4.1])\n",
    "    fig.update_xaxes(tickangle=-45)  # Rotate course names to prevent overlap\n",
    "\n",
    "    return fig\n",
    "\n",
    "\n",
    "def fig_sunburst(d):\n",
    "    \"\"\"\n",
    "    Chart 2: Sunburst chart showing:\n",
    "        Residency → Highest Qualification → CGPA performance band.\n",
    "    - Counts number of students in each branch (not sum of GPA).\n",
    "    - Handles missing/null values gracefully.\n",
    "    - Uses unique IDs for each node so labels with same name in different branches work correctly.\n",
    "    \"\"\"\n",
    "    if d is None or d.empty:\n",
    "        return _no_data_fig(\"No data for current filters\")\n",
    "\n",
    "    L1, L2, L3 = COL_RESIDENCY_CLEAN, COL_QUAL, COL_GPA_BAND\n",
    "    for c in (L1, L2, L3):\n",
    "        if c not in d.columns:\n",
    "            return _no_data_fig(f\"Missing column: {c}\")\n",
    "\n",
    "    # Clean columns: strip whitespace, replace 'nan' with \"Unknown\"\n",
    "    t = d[[L1, L2, L3]].copy()\n",
    "    for col in (L1, L2, L3):\n",
    "        t[col] = t[col].astype(str).str.strip().replace({\"nan\": None}).fillna(\"Unknown\")\n",
    "\n",
    "    # Count how many rows in each category combination\n",
    "    g1 = t.groupby([L1], dropna=False).size().reset_index(name=\"n\")\n",
    "    g2 = t.groupby([L1, L2], dropna=False).size().reset_index(name=\"n\")\n",
    "    g3 = t.groupby([L1, L2, L3], dropna=False).size().reset_index(name=\"n\")\n",
    "\n",
    "    # Prepare arrays for Plotly Sunburst\n",
    "    ids, node_ids, node_lbls, node_pars, node_vals = {}, [], [], [], []\n",
    "\n",
    "    # Level 1: Residency\n",
    "    for _, r in g1.iterrows():\n",
    "        l1 = str(r[L1])\n",
    "        node_id = f\"R|{l1}\"\n",
    "        ids[(l1,)] = node_id\n",
    "        node_ids.append(node_id)\n",
    "        node_lbls.append(l1)\n",
    "        node_pars.append(\"\")  # Top level has no parent\n",
    "        node_vals.append(int(r[\"n\"]))\n",
    "\n",
    "    # Level 2: Qualification\n",
    "    for _, r in g2.iterrows():\n",
    "        l1, l2 = str(r[L1]), str(r[L2])\n",
    "        parent_id = ids.get((l1,))\n",
    "        if parent_id is None:\n",
    "            continue\n",
    "        node_id = f\"{parent_id}|Q|{l2}\"\n",
    "        ids[(l1, l2)] = node_id\n",
    "        node_ids.append(node_id)\n",
    "        node_lbls.append(l2)\n",
    "        node_pars.append(parent_id)\n",
    "        node_vals.append(int(r[\"n\"]))\n",
    "\n",
    "    # Level 3: CGPA Band\n",
    "    for _, r in g3.iterrows():\n",
    "        l1, l2, l3 = str(r[L1]), str(r[L2]), str(r[L3])\n",
    "        parent_id = ids.get((l1, l2))\n",
    "        if parent_id is None:\n",
    "            continue\n",
    "        node_id = f\"{parent_id}|B|{l3}\"\n",
    "        node_ids.append(node_id)\n",
    "        node_lbls.append(l3)\n",
    "        node_pars.append(parent_id)\n",
    "        node_vals.append(int(r[\"n\"]))\n",
    "\n",
    "    # If all counts are zero, skip drawing\n",
    "    if not node_ids or not any(v > 0 for v in node_vals):\n",
    "        return _no_data_fig(\"No counts to display for current filters\")\n",
    "\n",
    "    # Build the Sunburst chart\n",
    "    fig = go.Figure(go.Sunburst(\n",
    "        ids=node_ids, labels=node_lbls, parents=node_pars, values=node_vals,\n",
    "        branchvalues=\"total\", maxdepth=3,\n",
    "        hovertemplate=\"<b>%{label}</b><br>Count: %{value}<extra></extra>\"\n",
    "    ))\n",
    "    fig.update_layout(\n",
    "        title=\"Student Performance by Background (Residency → Qualification → CGPA Band)\",\n",
    "        template=\"simple_white\", height=600,\n",
    "        margin=dict(t=60, l=10, r=10, b=10)\n",
    "    )\n",
    "    return fig\n",
    "\n",
    "\n",
    "def fig_age_vs_gpa_by_funding(d):\n",
    "    \"\"\"\n",
    "    Chart 3: Scatter plot of GPA vs Age, colored by funding type.\n",
    "    - Each funding type has its own set of points.\n",
    "    - Adds a simple linear trendline for each funding type, spanning the full age range.\n",
    "    \"\"\"\n",
    "    if d.empty:\n",
    "        return _no_data_fig()\n",
    "\n",
    "    # Ensure numeric types for plotting\n",
    "    age = pd.to_numeric(d[COL_AGE], errors=\"coerce\")\n",
    "    gpa = pd.to_numeric(d[COL_GPA], errors=\"coerce\")\n",
    "    funding = d[COL_FUNDING].astype(str)\n",
    "\n",
    "    fig = go.Figure()\n",
    "    xmin, xmax = age.min(skipna=True), age.max(skipna=True)\n",
    "\n",
    "    # Draw one scatter + trendline per funding category\n",
    "    for fund in funding.dropna().unique():\n",
    "        mask = funding == fund\n",
    "        x, y = age[mask], gpa[mask]\n",
    "\n",
    "        # Remove rows with NaN age/GPA\n",
    "        valid = x.notna() & y.notna()\n",
    "        x, y = x[valid], y[valid]\n",
    "        if x.empty:\n",
    "            continue\n",
    "\n",
    "        # Scatter points\n",
    "        fig.add_trace(go.Scatter(\n",
    "            x=x, y=y, mode=\"markers\", name=fund, legendgroup=fund,\n",
    "            marker=dict(size=7, opacity=0.7, line=dict(width=0.5, color=\"DarkSlateGrey\")),\n",
    "           hovertemplate=f\"Funding: {fund}<br>Age: %{{x}}<br>GPA: %{{y:.2f}}<extra></extra>\"\n",
    "        ))\n",
    "\n",
    "        # Linear trendline fit\n",
    "        if len(x) >= 2 and np.isfinite(xmin) and np.isfinite(xmax):\n",
    "            a, b = np.polyfit(x, y, 1)  # slope, intercept\n",
    "            xx = np.linspace(xmin, xmax, 100)\n",
    "            yy = a * xx + b\n",
    "            fig.add_trace(go.Scatter(\n",
    "                x=xx, y=yy, mode=\"lines\", line=dict(width=2),\n",
    "                name=f\"Trend ({fund})\", legendgroup=fund,\n",
    "                showlegend=False, hoverinfo=\"skip\"\n",
    "            ))\n",
    "\n",
    "    fig.update_layout(\n",
    "        title=\"Cumulative GPA vs Age, by Course Funding\",\n",
    "        xaxis_title=\"Age\", yaxis_title=\"Cumulative GPA\",\n",
    "        template=\"simple_white\", height=600\n",
    "    )\n",
    "    fig.update_yaxes(range=[1.0, 4.2])\n",
    "    return fig\n",
    "\n",
    "\n",
    "def fig_mode_fee_heatmap(d):\n",
    "    \"\"\"\n",
    "    Chart 4: Heatmap of Avg GPA by Study Mode × Course Fee bin.\n",
    "    - Splits course fees into up to 3 bins (Low, Mid, High) using quantiles.\n",
    "    - Shows the average GPA in each cell, with counts on hover.\n",
    "    - Annotates cells directly with GPA values or \"No data\".\n",
    "    \"\"\"\n",
    "    if d.empty:\n",
    "        return _no_data_fig()\n",
    "\n",
    "    # Keep only needed columns and clean types\n",
    "    t = d[[COL_MODE, COL_FEE, COL_GPA]].copy()\n",
    "    t[COL_FEE] = pd.to_numeric(t[COL_FEE], errors=\"coerce\")\n",
    "    t[COL_GPA] = pd.to_numeric(t[COL_GPA], errors=\"coerce\")\n",
    "    t = t.dropna(subset=[COL_MODE, COL_FEE, COL_GPA])\n",
    "    if t.empty:\n",
    "        return _no_data_fig()\n",
    "\n",
    "    # Bin course fees into quantiles (or fixed-width bins if needed)\n",
    "    try:\n",
    "        t[\"FEE_BIN\"] = pd.qcut(t[COL_FEE], q=min(3, t[COL_FEE].nunique()), duplicates=\"drop\")\n",
    "    except ValueError:\n",
    "        t[\"FEE_BIN\"] = pd.cut(t[COL_FEE], bins=min(3, max(1, t[COL_FEE].nunique())), include_lowest=True)\n",
    "\n",
    "    # Determine bin order and assign friendly labels\n",
    "    cats = list(t[\"FEE_BIN\"].cat.categories) if hasattr(t[\"FEE_BIN\"].dtype, \"categories\") else sorted(t[\"FEE_BIN\"].unique())\n",
    "    if not cats:\n",
    "        return _no_data_fig()\n",
    "    if hasattr(cats[0], \"left\"):\n",
    "        mids = [(c.left + c.right) / 2 for c in cats]\n",
    "        ordered = [cats[i] for i in np.argsort(mids)]\n",
    "    else:\n",
    "        ordered = cats\n",
    "    names = [\"Low\", \"Mid\", \"High\"][:len(ordered)]\n",
    "    label_map = {ordered[i]: names[i] for i in range(len(ordered))}\n",
    "    t[\"FEE_BIN_LABEL\"] = t[\"FEE_BIN\"].map(label_map)\n",
    "    col_order = names\n",
    "\n",
    "    # Compute average GPA and student counts for each cell\n",
    "    avg = (t.groupby([COL_MODE, \"FEE_BIN_LABEL\"], observed=False)[COL_GPA]\n",
    "             .mean().reset_index()\n",
    "             .pivot(index=COL_MODE, columns=\"FEE_BIN_LABEL\", values=COL_GPA)\n",
    "             .reindex(columns=col_order))\n",
    "    cnt = (t.groupby([COL_MODE, \"FEE_BIN_LABEL\"], observed=False)[COL_GPA]\n",
    "             .size().reset_index(name=\"n\")\n",
    "             .pivot(index=COL_MODE, columns=\"FEE_BIN_LABEL\", values=\"n\")\n",
    "             .reindex(columns=col_order))\n",
    "    avg = avg.sort_index()\n",
    "    cnt = cnt.reindex_like(avg).fillna(0).astype(int)\n",
    "\n",
    "    # Build the heatmap\n",
    "    z, x, y = avg.values, list(avg.columns), list(avg.index)\n",
    "    fig = go.Figure(go.Heatmap(\n",
    "        z=z, x=x, y=y,\n",
    "        colorscale=\"YlGnBu\", zmin=1.0, zmax=4.2,\n",
    "        colorbar_title=\"Avg GPA\",\n",
    "        customdata=cnt.values,\n",
    "        hovertemplate=\"<b>%{y}</b> | Fee: <b>%{x}</b><br>Avg GPA: %{z:.2f}<br>n: %{customdata}<extra></extra>\"\n",
    "    ))\n",
    "\n",
    "    # Add text annotations for each cell\n",
    "    for i, yy in enumerate(y):\n",
    "        for j, xx in enumerate(x):\n",
    "            val = z[i, j]\n",
    "            txt = \"No data\" if pd.isna(val) else f\"{val:.2f}\"\n",
    "            col = \"#6e6e6e\" if pd.isna(val) else \"black\"\n",
    "            fig.add_annotation(x=xx, y=yy, text=txt, showarrow=False, font=dict(size=12, color=col))\n",
    "\n",
    "    fig.update_layout(\n",
    "        title=\"Average GPA by Study Mode × Course Fee Bin\",\n",
    "        xaxis_title=\"Course Fee Bin\", yaxis_title=\"Study Mode\",\n",
    "        template=\"plotly_white\", height=600\n",
    "    )\n",
    "    return fig"
   ]
  },
  {
   "cell_type": "markdown",
   "id": "76c6945e-59f0-4683-a4a1-0d5e2a62a610",
   "metadata": {},
   "source": [
    "#\n",
    "### Dashboard Layout"
   ]
  },
  {
   "cell_type": "code",
   "execution_count": 12,
   "id": "c8948041-7b0d-478e-a55e-c6fda5e6bddb",
   "metadata": {},
   "outputs": [],
   "source": [
    "# Create the Dash application with Bootstrap styling\n",
    "app = Dash(__name__, external_stylesheets=[dbc.themes.BOOTSTRAP])\n",
    "\n",
    "# Helper: build dropdown options from a DataFrame column\n",
    "# Cleans values, removes invalid entries, sorts them, and adds \"All\" at the top\n",
    "def _options_from(series):\n",
    "    \"\"\"Return a list of dropdown options with 'All' as the first choice.\"\"\"\n",
    "    vals = (\n",
    "        series.astype(str).str.strip()\n",
    "              .replace({\"nan\": None, \"None\": None, \"\" : None})\n",
    "              .dropna()\n",
    "              .unique()\n",
    "              .tolist()\n",
    "    )\n",
    "    vals = sorted(vals)\n",
    "    return [{\"label\": \"All\", \"value\": \"All\"}] + [{\"label\": v, \"value\": v} for v in vals]\n",
    "\n",
    "# Create the top row of dropdown filters: Residency, Qualification, Funding, Mode\n",
    "filters_row = dbc.Row(\n",
    "    [\n",
    "        dbc.Col(\n",
    "            [\n",
    "                html.Label(\"Residency Status\", className=\"form-label fw-semibold mb-1\", style={\"color\": \"#333\"}),\n",
    "                dcc.Dropdown(\n",
    "                    id=\"f-res\",\n",
    "                    options=_options_from(df[COL_RESIDENCY_CLEAN]),\n",
    "                    value=\"All\",\n",
    "                    clearable=False,\n",
    "                    persistence=True,\n",
    "                    placeholder=\"Select residency…\",\n",
    "                ),\n",
    "            ],\n",
    "            md=3,\n",
    "        ),\n",
    "        dbc.Col(\n",
    "            [\n",
    "                html.Label(\"Highest Qualification\", className=\"form-label fw-semibold mb-1\", style={\"color\": \"#333\"}),\n",
    "                dcc.Dropdown(\n",
    "                    id=\"f-qual\",\n",
    "                    options=_options_from(df[COL_QUAL]),\n",
    "                    value=\"All\",\n",
    "                    clearable=False,\n",
    "                    persistence=True,\n",
    "                    placeholder=\"Select qualification…\",\n",
    "                ),\n",
    "            ],\n",
    "            md=3,\n",
    "        ),\n",
    "        dbc.Col(\n",
    "            [\n",
    "                html.Label(\"Course Funding\", className=\"form-label fw-semibold mb-1\", style={\"color\": \"#333\"}),\n",
    "                dcc.Dropdown(\n",
    "                    id=\"f-fund\",\n",
    "                    options=_options_from(df[COL_FUNDING]),\n",
    "                    value=\"All\",\n",
    "                    clearable=False,\n",
    "                    persistence=True,\n",
    "                    placeholder=\"Select funding…\",\n",
    "                ),\n",
    "            ],\n",
    "            md=3,\n",
    "        ),\n",
    "        dbc.Col(\n",
    "            [\n",
    "                html.Label(\"Study Mode\", className=\"form-label fw-semibold mb-1\", style={\"color\": \"#333\"}),\n",
    "                dcc.Dropdown(\n",
    "                    id=\"f-mode\",\n",
    "                    options=_options_from(df[COL_MODE]),\n",
    "                    value=\"All\",\n",
    "                    clearable=False,\n",
    "                    persistence=True,\n",
    "                    placeholder=\"Select mode…\",\n",
    "                ),\n",
    "            ],\n",
    "            md=3,\n",
    "        ),\n",
    "    ],\n",
    "    className=\"g-3\",  # spacing between dropdowns\n",
    ")\n",
    "\n",
    "# Helper: convert numeric day count to a month/year string (not used in layout here)\n",
    "def _nice_date_from_num(dnum: int) -> str:\n",
    "    return (pd.Timestamp(\"1970-01-01\") + pd.to_timedelta(int(dnum), unit=\"D\")).strftime(\"%b %Y\")\n",
    "\n",
    "# First attempt at yearly marks for the date slider (will be replaced below)\n",
    "marks = {}\n",
    "if _date_min_num is not None and _date_max_num is not None:\n",
    "    year_starts = pd.date_range(_date_min.normalize().replace(month=1, day=1),\n",
    "                                _date_max.normalize().replace(month=1, day=1),\n",
    "                                freq=\"YS\")\n",
    "    for d in year_starts:\n",
    "        marks[int((d - pd.Timestamp(\"1970-01-01\")) / pd.Timedelta(days=1))] = d.strftime(\"%Y\")\n",
    "\n",
    "# Function to build clean yearly marks for the date slider\n",
    "def _build_year_marks(min_num, max_num):\n",
    "    \"\"\"Return a dictionary of marks {days_since_epoch: 'YYYY'}.\"\"\"\n",
    "    if min_num is None or max_num is None:\n",
    "        return {}\n",
    "    start = pd.to_datetime(min_num, unit=\"D\").normalize().replace(month=1, day=1)\n",
    "    end   = pd.to_datetime(max_num, unit=\"D\").normalize().replace(month=1, day=1)\n",
    "    marks = {}\n",
    "    for d in pd.date_range(start, end, freq=\"YS\"):\n",
    "        marks[int((d.value // 10**9) // 86400)] = d.strftime(\"%Y\")\n",
    "    return marks\n",
    "\n",
    "# Build marks for the date slider using the helper function\n",
    "marks = _build_year_marks(\n",
    "    _date_min_num if \"_date_min_num\" in globals() else None,\n",
    "    _date_max_num if \"_date_max_num\" in globals() else None\n",
    ")\n",
    "\n",
    "# Row containing the date range slider for filtering by course completion date\n",
    "date_row = dbc.Row(\n",
    "    [\n",
    "        dbc.Col(\n",
    "            [\n",
    "                html.Label(\"Completion Date Range\", className=\"form-label fw-semibold mb-1\", style={\"color\": \"#333\"}),\n",
    "                dcc.RangeSlider(\n",
    "                    id=\"f-date\",\n",
    "                    min=_date_min_num if \"_date_min_num\" in globals() and _date_min_num is not None else 0,\n",
    "                    max=_date_max_num if \"_date_max_num\" in globals() and _date_max_num is not None else 1,\n",
    "                    value=[\n",
    "                        _date_min_num if \"_date_min_num\" in globals() and _date_min_num is not None else 0,\n",
    "                        _date_max_num if \"_date_max_num\" in globals() and _date_max_num is not None else 1,\n",
    "                    ],\n",
    "                    step=30,  # roughly one month steps\n",
    "                    marks=marks,  # show only yearly ticks to reduce clutter\n",
    "                    tooltip={\"placement\": \"bottom\", \"always_visible\": False},\n",
    "                    allowCross=False,  # prevent start and end from crossing over\n",
    "                    disabled=not(\"_date_min_num\" in globals() and \"_date_max_num\" in globals() and\n",
    "                                 _date_min_num is not None and _date_max_num is not None),\n",
    "                ),\n",
    "            ],\n",
    "            md=12,\n",
    "        )\n",
    "    ],\n",
    "    className=\"g-2\",\n",
    ")\n",
    "\n",
    "# Create a 2×2 grid layout for the dashboard charts\n",
    "grid = dbc.Container([\n",
    "    dbc.Row([\n",
    "        dbc.Col(dcc.Graph(id=\"fig-1\"), md=6),\n",
    "        dbc.Col(dcc.Graph(id=\"fig-2\"), md=6),\n",
    "    ], className=\"g-3\"),\n",
    "    dbc.Row([\n",
    "        dbc.Col(dcc.Graph(id=\"fig-3\"), md=6),\n",
    "        dbc.Col(dcc.Graph(id=\"fig-4\"), md=6),\n",
    "    ], className=\"g-3\"),\n",
    "], fluid=True)\n",
    "\n",
    "# Full dashboard layout: title, description, filters, date slider, charts, takeaway\n",
    "app.layout = html.Div(\n",
    "    dbc.Container([\n",
    "        dbc.Row([\n",
    "            dbc.Col(html.H2(\"Academic Performance Insights\", style={\"color\": \"#333333\"}), md=9),\n",
    "            dbc.Col(html.Img(src=\"/assets/images.jpg\", style={\"height\": \"40px\"}), md=3, style={\"textAlign\": \"right\"})\n",
    "        ]),\n",
    "        dbc.Row([\n",
    "            dbc.Col(html.P(\"Identify patterns and underlying key factors shaping student performance.\",\n",
    "                           style={\"color\": \"#333333\"}), md=12)\n",
    "        ]),\n",
    "        html.Hr(),\n",
    "        filters_row,\n",
    "        date_row,    \n",
    "        html.Br(),\n",
    "        html.Br(),\n",
    "        grid,\n",
    "        html.Div(id=\"takeaway\", style={\"marginTop\": \"8px\", \"fontSize\": \"0.95rem\", \"color\": \"#222\"})\n",
    "    ], fluid=True),\n",
    "    style={\n",
    "        \"backgroundColor\": \"#e0e0e0\",\n",
    "        \"minHeight\": \"100vh\",\n",
    "        \"padding\": \"20px\"\n",
    "    }\n",
    ")"
   ]
  },
  {
   "cell_type": "markdown",
   "id": "78a8ca09-bc2a-4573-91c4-eda9343ad401",
   "metadata": {},
   "source": [
    "#\n",
    "### Callbacks "
   ]
  },
  {
   "cell_type": "code",
   "execution_count": 13,
   "id": "f2218f02-2818-4a44-aec9-4df12820a9b9",
   "metadata": {},
   "outputs": [],
   "source": [
    "@callback(\n",
    "    Output(\"fig-1\", \"figure\"),   # First chart\n",
    "    Output(\"fig-2\", \"figure\"),   # Second chart\n",
    "    Output(\"fig-3\", \"figure\"),   # Third chart\n",
    "    Output(\"fig-4\", \"figure\"),   # Fourth chart\n",
    "    Output(\"takeaway\", \"children\"),  # Text summary below charts\n",
    "    Input(\"f-res\", \"value\"),     # Residency dropdown\n",
    "    Input(\"f-qual\", \"value\"),    # Qualification dropdown\n",
    "    Input(\"f-fund\", \"value\"),    # Funding dropdown\n",
    "    Input(\"f-mode\", \"value\"),    # Study mode dropdown\n",
    "    Input(\"f-date\", \"value\"),    # Date range slider\n",
    ")\n",
    "def update_all(res, qual, fund, mode, date_range):\n",
    "    \"\"\"\n",
    "    Updates all four dashboard charts and the takeaway text \n",
    "    based on the current filter selections.\n",
    "    \"\"\"\n",
    "\n",
    "    # Filter the main dataset based on selected filters\n",
    "    d = apply_filters(df, res, qual, fund, mode, date_range=date_range)\n",
    "\n",
    "    # If no data matches the filters, return empty figures and a message\n",
    "    if d.empty:\n",
    "        no = _no_data_fig()\n",
    "        return no, no, no, no, \"No rows match the current filters.\"\n",
    "\n",
    "    # Generate each figure using the filtered dataset\n",
    "    fig1 = fig_box_by_course(d)         # Boxplot grouped by course\n",
    "    fig2 = fig_sunburst(d)              # Sunburst chart of category breakdowns\n",
    "    fig3 = fig_age_vs_gpa_by_funding(d) # Scatter + trendlines for age vs GPA\n",
    "    fig4 = fig_mode_fee_heatmap(d)      # Heatmap comparing study mode & fees\n",
    "\n",
    "    # Summary / insight text shown under the charts\n",
    "    takeaway = html.Div(\n",
    "        \"Certificate programs show steady GPAs, while Diplomas vary more, \"\n",
    "        \"with some at-risk groups—especially in Business Analytics and Intelligent Systems. \"\n",
    "        \"Younger, well-funded students perform best, suggesting early support and financial aid matter. \"\n",
    "        \"Full-Time, low-fee students excel, while Part-Time students often underperform due to external commitments.\",\n",
    "        style={\n",
    "            \"color\": \"#222222\",         # Dark grey text for readability\n",
    "            \"fontWeight\": \"bold\",       # Bold for emphasis\n",
    "            \"backgroundColor\": \"#f5f5f5\",  # Light grey background for contrast\n",
    "            \"padding\": \"10px\",          # Space around text\n",
    "            \"borderRadius\": \"5px\"       # Rounded edges for a clean look\n",
    "        }\n",
    "    )\n",
    "    \n",
    "    # Return updated figures and takeaway text to the dashboard\n",
    "    return fig1, fig2, fig3, fig4, takeaway"
   ]
  },
  {
   "cell_type": "markdown",
   "id": "d0236b7b-f25f-40b2-9a94-c315f6876e02",
   "metadata": {},
   "source": [
    "#\n",
    "### Run app"
   ]
  },
  {
   "cell_type": "code",
   "execution_count": 14,
   "id": "819aca82-215d-4cc8-b3e8-c4244b1a29a8",
   "metadata": {},
   "outputs": [
    {
     "data": {
      "text/html": [
       "\n",
       "        <iframe\n",
       "            width=\"100%\"\n",
       "            height=\"650\"\n",
       "            src=\"http://127.0.0.1:7060/\"\n",
       "            frameborder=\"0\"\n",
       "            allowfullscreen\n",
       "            \n",
       "        ></iframe>\n",
       "        "
      ],
      "text/plain": [
       "<IPython.lib.display.IFrame at 0x244469e9040>"
      ]
     },
     "metadata": {},
     "output_type": "display_data"
    }
   ],
   "source": [
    "# If the Dash app object doesn't have a `.run()` method,\n",
    "# alias `.run()` to use Dash's `.run_server()` method.\n",
    "# This allows the app to be started using either approach.\n",
    "if not hasattr(app, \"run\"):\n",
    "    app.run = app.run_server\n",
    "\n",
    "# Standard Python entry point — run the app only when this script\n",
    "# is executed directly (not when imported as a module).\n",
    "if __name__ == \"__main__\":\n",
    "    app.run(\n",
    "        debug=True,        # Enable debug mode for live reload & error messages\n",
    "        port=7060,         # Set server port (http://localhost:8060)\n",
    "        use_reloader=False # Avoid double execution in some environments\n",
    "    )"
   ]
  },
  {
   "cell_type": "markdown",
   "id": "7d4de766-3414-44fb-8367-0ff230aa6c53",
   "metadata": {},
   "source": [
    "#"
   ]
  },
  {
   "cell_type": "code",
   "execution_count": null,
   "id": "68f16cc4",
   "metadata": {},
   "outputs": [],
   "source": []
  },
  {
   "cell_type": "code",
   "execution_count": null,
   "id": "ba671f05",
   "metadata": {},
   "outputs": [],
   "source": []
  },
  {
   "cell_type": "markdown",
   "id": "e1d69d23-2c17-4ab9-b832-56229b7f17d2",
   "metadata": {},
   "source": [
    "# **Ethan's Part, 4 charts and 1 dashboard.**\n",
    "- Now here is Ethan's part. \n",
    "- 4 charts are built for display first, and then built into the dashboard."
   ]
  },
  {
   "cell_type": "code",
   "execution_count": 15,
   "id": "e9c17d76-1398-4e5a-bcb4-1ee6d57cb366",
   "metadata": {},
   "outputs": [
    {
     "name": "stdout",
     "output_type": "stream",
     "text": [
      "Successfully created the 'Years_Off_School' column.\n",
      "Displaying the first 5 rows with the new column:\n",
      "  DATE ATTAINED HIGHEST QUALIFICATION COMMENCEMENT DATE  Years_Off_School\n",
      "0                          2018-01-08        2022-04-18          4.273785\n",
      "1                          2018-01-08        2022-04-18          4.273785\n",
      "2                          2018-01-08        2022-04-18          4.273785\n",
      "3                          2016-06-08        2022-04-18          5.859001\n",
      "4                          2016-06-08        2022-04-18          5.859001\n",
      "\n",
      "Info for the new column:\n",
      "<class 'pandas.core.frame.DataFrame'>\n",
      "RangeIndex: 500 entries, 0 to 499\n",
      "Data columns (total 1 columns):\n",
      " #   Column            Non-Null Count  Dtype  \n",
      "---  ------            --------------  -----  \n",
      " 0   Years_Off_School  500 non-null    float64\n",
      "dtypes: float64(1)\n",
      "memory usage: 4.0 KB\n"
     ]
    }
   ],
   "source": [
    "import pandas as pd\n",
    "import numpy as np\n",
    "\n",
    "# --- 2. Convert Date Columns to Datetime Objects ---\n",
    "# We use errors='coerce' to turn any unparseable dates into NaT (Not a Time), which can be handled later.\n",
    "df['COMMENCEMENT DATE'] = pd.to_datetime(df['COMMENCEMENT DATE'], errors='coerce')\n",
    "df['DATE ATTAINED HIGHEST QUALIFICATION'] = pd.to_datetime(df['DATE ATTAINED HIGHEST QUALIFICATION'], errors='coerce')\n",
    "\n",
    "\n",
    "# --- 3. Calculate the Difference in Years ---\n",
    "# The difference between two datetime objects is a Timedelta object.\n",
    "time_difference = df['COMMENCEMENT DATE'] - df['DATE ATTAINED HIGHEST QUALIFICATION']\n",
    "\n",
    "# FIX: Divide the Timedelta by another Timedelta representing one year (365.25 days)\n",
    "# This avoids the \"Unit Y is not supported\" error.\n",
    "df['Years_Off_School'] = time_difference / pd.to_timedelta('365.25D')\n",
    "\n",
    "\n",
    "# --- 4. Verify the Result ---\n",
    "# Display the first few rows with the relevant columns to check the new column\n",
    "print(\"Successfully created the 'Years_Off_School' column.\")\n",
    "print(\"Displaying the first 5 rows with the new column:\")\n",
    "print(df[['DATE ATTAINED HIGHEST QUALIFICATION', 'COMMENCEMENT DATE', 'Years_Off_School']].head())\n",
    "\n",
    "# You can also check the data type and for any missing values\n",
    "print(\"\\nInfo for the new column:\")\n",
    "df[['Years_Off_School']].info()\n"
   ]
  },
  {
   "cell_type": "markdown",
   "id": "cd927643",
   "metadata": {},
   "source": [
    "# \n",
    "# **Visualisations**\n",
    "---"
   ]
  },
  {
   "cell_type": "markdown",
   "id": "7e05a254",
   "metadata": {},
   "source": [
    "## **Chart 1 : Course Performance Matrix (Heatmap)**\n",
    "\n"
   ]
  },
  {
   "cell_type": "code",
   "execution_count": 16,
   "id": "c5a63e50",
   "metadata": {},
   "outputs": [
    {
     "name": "stdout",
     "output_type": "stream",
     "text": [
      "Generating GPA-based Course Performance Heatmap using go...\n"
     ]
    },
    {
     "name": "stderr",
     "output_type": "stream",
     "text": [
      "C:\\Users\\ngwen\\AppData\\Local\\Temp\\ipykernel_21996\\1213210585.py:41: FutureWarning:\n",
      "\n",
      "DataFrame.applymap has been deprecated. Use DataFrame.map instead.\n",
      "\n"
     ]
    },
    {
     "data": {
      "application/vnd.plotly.v1+json": {
       "config": {
        "plotlyServerURL": "https://plot.ly"
       },
       "data": [
        {
         "colorscale": [
          [
           0,
           "rgb(165,0,38)"
          ],
          [
           0.1,
           "rgb(215,48,39)"
          ],
          [
           0.2,
           "rgb(244,109,67)"
          ],
          [
           0.3,
           "rgb(253,174,97)"
          ],
          [
           0.4,
           "rgb(254,224,139)"
          ],
          [
           0.5,
           "rgb(255,255,191)"
          ],
          [
           0.6,
           "rgb(217,239,139)"
          ],
          [
           0.7,
           "rgb(166,217,106)"
          ],
          [
           0.8,
           "rgb(102,189,99)"
          ],
          [
           0.9,
           "rgb(26,152,80)"
          ],
          [
           1,
           "rgb(0,104,55)"
          ]
         ],
         "hovertemplate": "<b>%{y}</b><br><b>%{x}</b><br>Average GPA: %{z:.2f}<extra></extra>",
         "text": [
          [
           "",
           "12.1%",
           "15.2%",
           "30.3%",
           "42.4%",
           ""
          ],
          [
           "2.0%",
           "10.1%",
           "21.2%",
           "30.3%",
           "33.3%",
           "3.0%"
          ],
          [
           "",
           "19.0%",
           "16.7%",
           "16.7%",
           "45.2%",
           "2.4%"
          ],
          [
           "",
           "26.7%",
           "20.0%",
           "20.0%",
           "33.3%",
           ""
          ],
          [
           "",
           "11.6%",
           "20.9%",
           "37.2%",
           "27.9%",
           "2.3%"
          ],
          [
           "3.6%",
           "14.3%",
           "14.3%",
           "39.3%",
           "28.6%",
           ""
          ]
         ],
         "texttemplate": "%{text}",
         "type": "heatmap",
         "x": [
          "Fail",
          "Credit",
          "Good Credit",
          "Good",
          "Very Good",
          "Excellent"
         ],
         "y": [
          "Certificate in Digital Marketing",
          "Certificate in HR Management",
          "Diploma in Business Administration",
          "Diploma in Business Analytics",
          "Specialist Diploma in Business Innovation and Design",
          "Specialist Diploma in Intelligent Systems"
         ],
         "z": [
          [
           null,
           2.175,
           2.78,
           3.3299999999999996,
           3.7214285714285715,
           null
          ],
          [
           1.75,
           2.1849999999999996,
           2.7523809523809524,
           3.216666666666667,
           3.675757575757576,
           4
          ],
          [
           null,
           2.2,
           2.742857142857143,
           3.2809523809523813,
           3.6473684210526316,
           4
          ],
          [
           null,
           2.140625,
           2.733333333333333,
           3.35,
           3.65,
           null
          ],
          [
           null,
           2.1399999999999997,
           2.6666666666666665,
           3.2,
           3.608333333333333,
           4
          ],
          [
           1.8,
           2.375,
           2.65,
           3.2,
           3.76875,
           null
          ]
         ],
         "zmid": 2.5
        }
       ],
       "layout": {
        "coloraxis": {
         "colorbar": {
          "title": {
           "text": "Average GPA"
          }
         }
        },
        "template": {
         "data": {
          "bar": [
           {
            "error_x": {
             "color": "#2a3f5f"
            },
            "error_y": {
             "color": "#2a3f5f"
            },
            "marker": {
             "line": {
              "color": "#E5ECF6",
              "width": 0.5
             },
             "pattern": {
              "fillmode": "overlay",
              "size": 10,
              "solidity": 0.2
             }
            },
            "type": "bar"
           }
          ],
          "barpolar": [
           {
            "marker": {
             "line": {
              "color": "#E5ECF6",
              "width": 0.5
             },
             "pattern": {
              "fillmode": "overlay",
              "size": 10,
              "solidity": 0.2
             }
            },
            "type": "barpolar"
           }
          ],
          "carpet": [
           {
            "aaxis": {
             "endlinecolor": "#2a3f5f",
             "gridcolor": "white",
             "linecolor": "white",
             "minorgridcolor": "white",
             "startlinecolor": "#2a3f5f"
            },
            "baxis": {
             "endlinecolor": "#2a3f5f",
             "gridcolor": "white",
             "linecolor": "white",
             "minorgridcolor": "white",
             "startlinecolor": "#2a3f5f"
            },
            "type": "carpet"
           }
          ],
          "choropleth": [
           {
            "colorbar": {
             "outlinewidth": 0,
             "ticks": ""
            },
            "type": "choropleth"
           }
          ],
          "contour": [
           {
            "colorbar": {
             "outlinewidth": 0,
             "ticks": ""
            },
            "colorscale": [
             [
              0,
              "#0d0887"
             ],
             [
              0.1111111111111111,
              "#46039f"
             ],
             [
              0.2222222222222222,
              "#7201a8"
             ],
             [
              0.3333333333333333,
              "#9c179e"
             ],
             [
              0.4444444444444444,
              "#bd3786"
             ],
             [
              0.5555555555555556,
              "#d8576b"
             ],
             [
              0.6666666666666666,
              "#ed7953"
             ],
             [
              0.7777777777777778,
              "#fb9f3a"
             ],
             [
              0.8888888888888888,
              "#fdca26"
             ],
             [
              1,
              "#f0f921"
             ]
            ],
            "type": "contour"
           }
          ],
          "contourcarpet": [
           {
            "colorbar": {
             "outlinewidth": 0,
             "ticks": ""
            },
            "type": "contourcarpet"
           }
          ],
          "heatmap": [
           {
            "colorbar": {
             "outlinewidth": 0,
             "ticks": ""
            },
            "colorscale": [
             [
              0,
              "#0d0887"
             ],
             [
              0.1111111111111111,
              "#46039f"
             ],
             [
              0.2222222222222222,
              "#7201a8"
             ],
             [
              0.3333333333333333,
              "#9c179e"
             ],
             [
              0.4444444444444444,
              "#bd3786"
             ],
             [
              0.5555555555555556,
              "#d8576b"
             ],
             [
              0.6666666666666666,
              "#ed7953"
             ],
             [
              0.7777777777777778,
              "#fb9f3a"
             ],
             [
              0.8888888888888888,
              "#fdca26"
             ],
             [
              1,
              "#f0f921"
             ]
            ],
            "type": "heatmap"
           }
          ],
          "heatmapgl": [
           {
            "colorbar": {
             "outlinewidth": 0,
             "ticks": ""
            },
            "colorscale": [
             [
              0,
              "#0d0887"
             ],
             [
              0.1111111111111111,
              "#46039f"
             ],
             [
              0.2222222222222222,
              "#7201a8"
             ],
             [
              0.3333333333333333,
              "#9c179e"
             ],
             [
              0.4444444444444444,
              "#bd3786"
             ],
             [
              0.5555555555555556,
              "#d8576b"
             ],
             [
              0.6666666666666666,
              "#ed7953"
             ],
             [
              0.7777777777777778,
              "#fb9f3a"
             ],
             [
              0.8888888888888888,
              "#fdca26"
             ],
             [
              1,
              "#f0f921"
             ]
            ],
            "type": "heatmapgl"
           }
          ],
          "histogram": [
           {
            "marker": {
             "pattern": {
              "fillmode": "overlay",
              "size": 10,
              "solidity": 0.2
             }
            },
            "type": "histogram"
           }
          ],
          "histogram2d": [
           {
            "colorbar": {
             "outlinewidth": 0,
             "ticks": ""
            },
            "colorscale": [
             [
              0,
              "#0d0887"
             ],
             [
              0.1111111111111111,
              "#46039f"
             ],
             [
              0.2222222222222222,
              "#7201a8"
             ],
             [
              0.3333333333333333,
              "#9c179e"
             ],
             [
              0.4444444444444444,
              "#bd3786"
             ],
             [
              0.5555555555555556,
              "#d8576b"
             ],
             [
              0.6666666666666666,
              "#ed7953"
             ],
             [
              0.7777777777777778,
              "#fb9f3a"
             ],
             [
              0.8888888888888888,
              "#fdca26"
             ],
             [
              1,
              "#f0f921"
             ]
            ],
            "type": "histogram2d"
           }
          ],
          "histogram2dcontour": [
           {
            "colorbar": {
             "outlinewidth": 0,
             "ticks": ""
            },
            "colorscale": [
             [
              0,
              "#0d0887"
             ],
             [
              0.1111111111111111,
              "#46039f"
             ],
             [
              0.2222222222222222,
              "#7201a8"
             ],
             [
              0.3333333333333333,
              "#9c179e"
             ],
             [
              0.4444444444444444,
              "#bd3786"
             ],
             [
              0.5555555555555556,
              "#d8576b"
             ],
             [
              0.6666666666666666,
              "#ed7953"
             ],
             [
              0.7777777777777778,
              "#fb9f3a"
             ],
             [
              0.8888888888888888,
              "#fdca26"
             ],
             [
              1,
              "#f0f921"
             ]
            ],
            "type": "histogram2dcontour"
           }
          ],
          "mesh3d": [
           {
            "colorbar": {
             "outlinewidth": 0,
             "ticks": ""
            },
            "type": "mesh3d"
           }
          ],
          "parcoords": [
           {
            "line": {
             "colorbar": {
              "outlinewidth": 0,
              "ticks": ""
             }
            },
            "type": "parcoords"
           }
          ],
          "pie": [
           {
            "automargin": true,
            "type": "pie"
           }
          ],
          "scatter": [
           {
            "fillpattern": {
             "fillmode": "overlay",
             "size": 10,
             "solidity": 0.2
            },
            "type": "scatter"
           }
          ],
          "scatter3d": [
           {
            "line": {
             "colorbar": {
              "outlinewidth": 0,
              "ticks": ""
             }
            },
            "marker": {
             "colorbar": {
              "outlinewidth": 0,
              "ticks": ""
             }
            },
            "type": "scatter3d"
           }
          ],
          "scattercarpet": [
           {
            "marker": {
             "colorbar": {
              "outlinewidth": 0,
              "ticks": ""
             }
            },
            "type": "scattercarpet"
           }
          ],
          "scattergeo": [
           {
            "marker": {
             "colorbar": {
              "outlinewidth": 0,
              "ticks": ""
             }
            },
            "type": "scattergeo"
           }
          ],
          "scattergl": [
           {
            "marker": {
             "colorbar": {
              "outlinewidth": 0,
              "ticks": ""
             }
            },
            "type": "scattergl"
           }
          ],
          "scattermapbox": [
           {
            "marker": {
             "colorbar": {
              "outlinewidth": 0,
              "ticks": ""
             }
            },
            "type": "scattermapbox"
           }
          ],
          "scatterpolar": [
           {
            "marker": {
             "colorbar": {
              "outlinewidth": 0,
              "ticks": ""
             }
            },
            "type": "scatterpolar"
           }
          ],
          "scatterpolargl": [
           {
            "marker": {
             "colorbar": {
              "outlinewidth": 0,
              "ticks": ""
             }
            },
            "type": "scatterpolargl"
           }
          ],
          "scatterternary": [
           {
            "marker": {
             "colorbar": {
              "outlinewidth": 0,
              "ticks": ""
             }
            },
            "type": "scatterternary"
           }
          ],
          "surface": [
           {
            "colorbar": {
             "outlinewidth": 0,
             "ticks": ""
            },
            "colorscale": [
             [
              0,
              "#0d0887"
             ],
             [
              0.1111111111111111,
              "#46039f"
             ],
             [
              0.2222222222222222,
              "#7201a8"
             ],
             [
              0.3333333333333333,
              "#9c179e"
             ],
             [
              0.4444444444444444,
              "#bd3786"
             ],
             [
              0.5555555555555556,
              "#d8576b"
             ],
             [
              0.6666666666666666,
              "#ed7953"
             ],
             [
              0.7777777777777778,
              "#fb9f3a"
             ],
             [
              0.8888888888888888,
              "#fdca26"
             ],
             [
              1,
              "#f0f921"
             ]
            ],
            "type": "surface"
           }
          ],
          "table": [
           {
            "cells": {
             "fill": {
              "color": "#EBF0F8"
             },
             "line": {
              "color": "white"
             }
            },
            "header": {
             "fill": {
              "color": "#C8D4E3"
             },
             "line": {
              "color": "white"
             }
            },
            "type": "table"
           }
          ]
         },
         "layout": {
          "annotationdefaults": {
           "arrowcolor": "#2a3f5f",
           "arrowhead": 0,
           "arrowwidth": 1
          },
          "autotypenumbers": "strict",
          "coloraxis": {
           "colorbar": {
            "outlinewidth": 0,
            "ticks": ""
           }
          },
          "colorscale": {
           "diverging": [
            [
             0,
             "#8e0152"
            ],
            [
             0.1,
             "#c51b7d"
            ],
            [
             0.2,
             "#de77ae"
            ],
            [
             0.3,
             "#f1b6da"
            ],
            [
             0.4,
             "#fde0ef"
            ],
            [
             0.5,
             "#f7f7f7"
            ],
            [
             0.6,
             "#e6f5d0"
            ],
            [
             0.7,
             "#b8e186"
            ],
            [
             0.8,
             "#7fbc41"
            ],
            [
             0.9,
             "#4d9221"
            ],
            [
             1,
             "#276419"
            ]
           ],
           "sequential": [
            [
             0,
             "#0d0887"
            ],
            [
             0.1111111111111111,
             "#46039f"
            ],
            [
             0.2222222222222222,
             "#7201a8"
            ],
            [
             0.3333333333333333,
             "#9c179e"
            ],
            [
             0.4444444444444444,
             "#bd3786"
            ],
            [
             0.5555555555555556,
             "#d8576b"
            ],
            [
             0.6666666666666666,
             "#ed7953"
            ],
            [
             0.7777777777777778,
             "#fb9f3a"
            ],
            [
             0.8888888888888888,
             "#fdca26"
            ],
            [
             1,
             "#f0f921"
            ]
           ],
           "sequentialminus": [
            [
             0,
             "#0d0887"
            ],
            [
             0.1111111111111111,
             "#46039f"
            ],
            [
             0.2222222222222222,
             "#7201a8"
            ],
            [
             0.3333333333333333,
             "#9c179e"
            ],
            [
             0.4444444444444444,
             "#bd3786"
            ],
            [
             0.5555555555555556,
             "#d8576b"
            ],
            [
             0.6666666666666666,
             "#ed7953"
            ],
            [
             0.7777777777777778,
             "#fb9f3a"
            ],
            [
             0.8888888888888888,
             "#fdca26"
            ],
            [
             1,
             "#f0f921"
            ]
           ]
          },
          "colorway": [
           "#636efa",
           "#EF553B",
           "#00cc96",
           "#ab63fa",
           "#FFA15A",
           "#19d3f3",
           "#FF6692",
           "#B6E880",
           "#FF97FF",
           "#FECB52"
          ],
          "font": {
           "color": "#2a3f5f"
          },
          "geo": {
           "bgcolor": "white",
           "lakecolor": "white",
           "landcolor": "#E5ECF6",
           "showlakes": true,
           "showland": true,
           "subunitcolor": "white"
          },
          "hoverlabel": {
           "align": "left"
          },
          "hovermode": "closest",
          "mapbox": {
           "style": "light"
          },
          "paper_bgcolor": "white",
          "plot_bgcolor": "#E5ECF6",
          "polar": {
           "angularaxis": {
            "gridcolor": "white",
            "linecolor": "white",
            "ticks": ""
           },
           "bgcolor": "#E5ECF6",
           "radialaxis": {
            "gridcolor": "white",
            "linecolor": "white",
            "ticks": ""
           }
          },
          "scene": {
           "xaxis": {
            "backgroundcolor": "#E5ECF6",
            "gridcolor": "white",
            "gridwidth": 2,
            "linecolor": "white",
            "showbackground": true,
            "ticks": "",
            "zerolinecolor": "white"
           },
           "yaxis": {
            "backgroundcolor": "#E5ECF6",
            "gridcolor": "white",
            "gridwidth": 2,
            "linecolor": "white",
            "showbackground": true,
            "ticks": "",
            "zerolinecolor": "white"
           },
           "zaxis": {
            "backgroundcolor": "#E5ECF6",
            "gridcolor": "white",
            "gridwidth": 2,
            "linecolor": "white",
            "showbackground": true,
            "ticks": "",
            "zerolinecolor": "white"
           }
          },
          "shapedefaults": {
           "line": {
            "color": "#2a3f5f"
           }
          },
          "ternary": {
           "aaxis": {
            "gridcolor": "white",
            "linecolor": "white",
            "ticks": ""
           },
           "baxis": {
            "gridcolor": "white",
            "linecolor": "white",
            "ticks": ""
           },
           "bgcolor": "#E5ECF6",
           "caxis": {
            "gridcolor": "white",
            "linecolor": "white",
            "ticks": ""
           }
          },
          "title": {
           "x": 0.05
          },
          "xaxis": {
           "automargin": true,
           "gridcolor": "white",
           "linecolor": "white",
           "ticks": "",
           "title": {
            "standoff": 15
           },
           "zerolinecolor": "white",
           "zerolinewidth": 2
          },
          "yaxis": {
           "automargin": true,
           "gridcolor": "white",
           "linecolor": "white",
           "ticks": "",
           "title": {
            "standoff": 15
           },
           "zerolinecolor": "white",
           "zerolinewidth": 2
          }
         }
        },
        "title": {
         "text": "Course Performance Matrix (Color = Avg. GPA, Text = % of Students)"
        },
        "xaxis": {
         "side": "top",
         "title": {
          "text": "Performance Category"
         }
        },
        "yaxis": {
         "title": {
          "text": "Course Name"
         }
        }
       }
      }
     },
     "metadata": {},
     "output_type": "display_data"
    }
   ],
   "source": [
    "import pandas as pd\n",
    "import plotly.graph_objects as go\n",
    "\n",
    "\n",
    "\n",
    "\n",
    "# Get a single, final performance category for each student\n",
    "student_final_status = df.drop_duplicates(subset='STUDENT ID', keep='last').copy()\n",
    "\n",
    "# Pivot 1: To get the AVERAGE GPA for the color of the cells\n",
    "gpa_heatmap_data = student_final_status.pivot_table(\n",
    "    index='COURSE NAME', \n",
    "    columns='CGPA_PERFORMANCE_CATEGORY', \n",
    "    values='CUMULATIVE_GPA',\n",
    "    aggfunc='mean' # The aggregation function is now 'mean'\n",
    ")\n",
    "\n",
    "# Pivot 2: To get the PERCENTAGE for the text inside the cells\n",
    "percentage_data = pd.crosstab(\n",
    "    index=student_final_status['COURSE NAME'], \n",
    "    columns=student_final_status['CGPA_PERFORMANCE_CATEGORY'],\n",
    "    normalize='index'\n",
    ") * 100\n",
    "\n",
    "# --- Reorder columns for both tables to ensure they match ---\n",
    "category_order = ['Fail', 'Credit', 'Good Credit', 'Good', 'Very Good', 'Excellent']\n",
    "for cat in category_order:\n",
    "    if cat not in gpa_heatmap_data.columns:\n",
    "        gpa_heatmap_data[cat] = 0 # Use 0 for GPA as a placeholder\n",
    "    if cat not in percentage_data.columns:\n",
    "        percentage_data[cat] = 0\n",
    "\n",
    "gpa_heatmap_data = gpa_heatmap_data[category_order]\n",
    "percentage_data = percentage_data[category_order]\n",
    " \n",
    "\n",
    "# --- 3. Create the Heatmap using Graph Objects ---\n",
    "print(\"Generating GPA-based Course Performance Heatmap using go...\")\n",
    "\n",
    "# Prepare the text for the cells (formatted percentages)\n",
    "text_values = percentage_data.applymap(lambda x: f'{x:.1f}%' if x > 0 else '')\n",
    "\n",
    "# Create the figure using go.Figure and add a go.Heatmap trace\n",
    "fig = go.Figure(data=go.Heatmap(\n",
    "    z=gpa_heatmap_data.values,\n",
    "    x=gpa_heatmap_data.columns,\n",
    "    y=gpa_heatmap_data.index,\n",
    "    colorscale='RdYlGn',\n",
    "    zmid=2.5, # Midpoint for the color scale\n",
    "    text=text_values,\n",
    "    texttemplate=\"%{text}\",\n",
    "    hovertemplate=\"<b>%{y}</b><br><b>%{x}</b><br>Average GPA: %{z:.2f}<extra></extra>\"\n",
    "))\n",
    "\n",
    "# --- 4. Customize the Layout ---\n",
    "fig.update_layout(\n",
    "    title='Course Performance Matrix (Color = Avg. GPA, Text = % of Students)',\n",
    "    xaxis=dict(title=\"Performance Category\", side=\"top\"),\n",
    "    yaxis=dict(title=\"Course Name\"),\n",
    "    coloraxis_colorbar=dict(title=\"Average GPA\")\n",
    ")\n",
    "\n",
    "# Show the plot\n",
    "fig.show()\n"
   ]
  },
  {
   "cell_type": "markdown",
   "id": "52bbb825",
   "metadata": {},
   "source": [
    "### **Insights**\n",
    "\n",
    "- **Program Hierarchy Confirmed**: Certificate programs (HR Management and Digital Marketing) demonstrate superior performance consistency, with Certificate in HR Management showing 33.3% \"Very Good\" and 3.0% \"Excellent\" compared to diploma programs. Certificate in Digital Marketing achieves 42.4% \"Very Good\" with no visible failure rates, establishing certificates as the institutional benchmark.\n",
    "\n",
    "- **Critical Risk Programs Identified**: Specialist Diploma in Intelligent Systems shows a concerning 3.6% failure rate with only 28.6% achieving \"Very Good,\" while Diploma in Business Analytics exhibits the highest credit concentration at 26.7%, indicating significant performance challenges requiring immediate intervention.\n",
    "\n",
    "- **Actionable Insight**: Implement immediate curriculum review and enhanced student support for Diploma in Business Analytics and Specialist Diploma in Intelligent Systems, using the proven pedagogical approaches from Certificate programs. Consider restructuring these high-risk programs into modular, competency-based formats that mirror the success patterns observed in certificate-level education.\n"
   ]
  },
  {
   "cell_type": "markdown",
   "id": "1cdae714",
   "metadata": {},
   "source": [
    "## **Chart 2: Impact of Time Off School on Final Cumulative GPA (Scatter Plot)**\n",
    "\n"
   ]
  },
  {
   "cell_type": "code",
   "execution_count": 17,
   "id": "9c378aa1",
   "metadata": {},
   "outputs": [
    {
     "name": "stdout",
     "output_type": "stream",
     "text": [
      "Generating scatter plot of 'Years Off School' vs. Final Cumulative GPA...\n"
     ]
    },
    {
     "data": {
      "application/vnd.plotly.v1+json": {
       "config": {
        "plotlyServerURL": "https://plot.ly"
       },
       "data": [
        {
         "hovertemplate": "<b>Years Off</b>: %{x:.1f}<br><b>Final CGPA</b>: %{y:.2f}<br><b>Qualification</b>: %{fullData.name}<extra></extra>",
         "legendgroup": "Certificate",
         "marker": {
          "color": "#636efa",
          "symbol": "circle"
         },
         "mode": "markers",
         "name": "Certificate",
         "orientation": "v",
         "showlegend": true,
         "type": "scatter",
         "x": [
          4.27378507871321,
          5.859000684462697,
          24.78028747433265,
          26.69678302532512,
          21.946611909650922,
          4.947296372347707,
          9.612594113620808,
          4.774811772758385,
          6.193018480492813,
          23.77549623545517,
          4.024640657084189,
          4.1067761806981515,
          29.596167008898014,
          9.190965092402465,
          6.694045174537988,
          22.439425051334702,
          6.439425051334703,
          18.187542778918548,
          21.932922655715263,
          25.17453798767967,
          6.113620807665982,
          4.219028062970568,
          26.444900752908968,
          24.73100616016427,
          26.6694045174538,
          21.89185489390828,
          4.930869267624915,
          9.557837097878165,
          2.7214236824093088,
          6.138261464750171,
          29.587953456536617,
          12.361396303901437,
          2.751540041067762,
          5.776865160848733,
          6.617385352498289,
          4.944558521560575,
          4.553045859000685,
          4.5804243668720055,
          7.000684462696783,
          4,
          5.916495550992471,
          10.08350444900753,
          7.572895277207392,
          5.6563997262149215,
          17.322381930184804,
          14.989733059548255,
          4.854209445585216,
          3.436002737850787,
          6.006844626967831,
          8.09034907597536,
          4.8405201916495555,
          5.426420260095825,
          6.669404517453799,
          9.25119780971937,
          8.747433264887064,
          6.050650239561944,
          4.799452429842574,
          6.965092402464066,
          5.631759069130732,
          4.331279945242985,
          4.917180013689254,
          6.083504449007529,
          6.083504449007529,
          6.2559890485968515,
          5.623545516769336,
          26.869267624914443,
          17.19917864476386,
          16.44626967830253,
          16.197125256673512,
          4.342231348391513,
          4.427104722792608,
          5.127994524298426,
          3.477070499657769,
          18.89664613278576,
          4.479123887748118,
          6.891170431211499,
          21.311430527036276
         ],
         "xaxis": "x",
         "y": [
          3.6,
          3.5,
          2.1,
          2,
          2.9,
          3.4,
          3.1,
          3.9,
          3.5,
          2.6,
          3.7,
          3.9,
          2.3,
          3.2,
          3.5,
          2.4,
          3.5,
          2.9,
          2.4,
          2.1,
          3.6,
          3.6,
          2.2,
          2.1,
          2.025,
          2.9,
          3.4,
          2.7,
          3.9,
          3.5,
          2.3,
          2.5,
          3.4,
          3.7,
          3.6,
          3.7,
          3.4,
          3.7,
          2.8,
          3.4,
          3.2,
          2.3,
          3.4,
          3.5,
          2.5,
          2.3,
          3.9,
          3.4,
          3.1,
          2.8,
          3.9,
          3.4,
          3.6,
          3.8,
          2.9,
          3.7,
          3.7,
          3.4,
          3.7,
          3.9,
          3.4,
          3.2,
          2.7,
          3.8,
          3.5,
          2.8,
          2.3,
          2.5,
          3,
          3.7,
          3.5,
          3,
          3.5,
          2.3,
          3.5,
          2.8,
          2.3
         ],
         "yaxis": "y"
        },
        {
         "hovertemplate": "<b>Years Off</b>: %{x:.1f}<br><b>Final CGPA</b>: %{y:.2f}<br><b>Qualification</b>: %{fullData.name}<extra></extra>",
         "legendgroup": "Degree",
         "marker": {
          "color": "#EF553B",
          "symbol": "circle"
         },
         "mode": "markers",
         "name": "Degree",
         "orientation": "v",
         "showlegend": true,
         "type": "scatter",
         "x": [
          6.694045174537988,
          3.6906228610540723,
          6.176591375770021,
          6.3408624229979464,
          5.8507871321013,
          5.946611909650924,
          4.199863107460644,
          15.860369609856264,
          27.863107460643395,
          6.053388090349076,
          2.7679671457905544,
          7.630390143737166,
          16.917180013689254,
          14.245037645448322,
          6.666666666666667,
          7.085557837097878,
          5.831622176591376,
          5.278576317590692,
          5.6125941136208075,
          5.032169746748802,
          7.173169062286106,
          5.256673511293634,
          5.960301163586585,
          7.129363449691992,
          4.791238877481177,
          6.3709787816564,
          6.537987679671458,
          7.79192334017796,
          5.705681040383299,
          6.954140999315538,
          4.539356605065024,
          9.374401095140314,
          6.283367556468172,
          6.198494182067077,
          5.451060917180014,
          5.284052019164956,
          5.366187542778919,
          4.870636550308008,
          5.533196440793977,
          6.11088295687885,
          6.277891854893908,
          4.944558521560575,
          8.279260780287474,
          5.278576317590692,
          4.607802874743326,
          18.255989048596852,
          25.089664613278575,
          5.760438056125941,
          4.813141683778234,
          25.065023956194388,
          5.645448323066393,
          6.310746064339494,
          5.144421629021219,
          11.723477070499658,
          11.058179329226558,
          25.39630390143737,
          7.394934976043806,
          4.826830937713894,
          4.076659822039699,
          3.994524298425736,
          6.160164271047228,
          8.580424366872005,
          4.454483230663929,
          10.03422313483915,
          6.951403148528406,
          5.117043121149897,
          7.671457905544147,
          19.515400410677618,
          6.513347022587269,
          7.263518138261465,
          5.69472963723477,
          27.94524298425736,
          3.6112251882272415,
          3.7782340862423,
          0.8213552361396304,
          4.071184120465435,
          1.9876796714579055,
          3.154004106776181,
          4.574948665297741,
          2.4476386036960984,
          4.030116358658453,
          2.943189596167009,
          25.35523613963039,
          4.632443531827516,
          12.71731690622861,
          16.632443531827516,
          10.050650239561945,
          5.801505817932923,
          5.130732375085558,
          6.1300479123887746,
          28.577686516084874,
          5.9958932238193015,
          23.20602327173169,
          6.036960985626283,
          7.36208076659822,
          6.535249828884326,
          22.45311430527036,
          4.4955509924709105,
          5.470225872689938,
          4.161533196440794,
          12.999315537303216,
          5.9986310746064335,
          15.498973305954825,
          4.862422997946612,
          27.433264887063654,
          15.488021902806297,
          6.239561943874059,
          4.900752908966461,
          3.594798083504449,
          7.049965776865161,
          7.107460643394935,
          6.187542778918549,
          28.859685147159478,
          4.355920602327173
         ],
         "xaxis": "x",
         "y": [
          3.366666666666667,
          3.4,
          3.7,
          3.6,
          3.1,
          3.8,
          4,
          2.9,
          2.2,
          3.5,
          3.7,
          3.2,
          2,
          2.9,
          3.4,
          3,
          2.7,
          3.3,
          2.6,
          2.6,
          2.05,
          3.8,
          3.3,
          3.2,
          3.2,
          2.9,
          3.1,
          3.6,
          3.8,
          3.5,
          3.9,
          3.2,
          3.6,
          3.8,
          3.4,
          3.2,
          2.9,
          3.4,
          2.8,
          3.7,
          3.3,
          3.6,
          3.2,
          3.5,
          4,
          2.9,
          2.1,
          2.7,
          3.8,
          2,
          3,
          3.2,
          4,
          2.1,
          2.3,
          2.1,
          3.2,
          3.6,
          3.2,
          3.6,
          3.3,
          2.7,
          3.4,
          3,
          3.3,
          3.2,
          3.5,
          2.2,
          2.7,
          2.9,
          2.5,
          2.1,
          3.8,
          3.5,
          3.6,
          3.2,
          3.6,
          3.5,
          2.7,
          3.4,
          3,
          3.3,
          2,
          4,
          2.6,
          2.6,
          3.2,
          3.8,
          3.6,
          3.2,
          2.1,
          3,
          2.3,
          3.3,
          3.2,
          3.2,
          2.4,
          3.6,
          3.8,
          3.9,
          2.6,
          3.2,
          2.5,
          3,
          2.8,
          3.2,
          3.8,
          3.5,
          3.9,
          3.4,
          3.3,
          3,
          1.8,
          3.95
         ],
         "yaxis": "y"
        },
        {
         "hovertemplate": "<b>Years Off</b>: %{x:.1f}<br><b>Final CGPA</b>: %{y:.2f}<br><b>Qualification</b>: %{fullData.name}<extra></extra>",
         "legendgroup": "Diploma",
         "marker": {
          "color": "#00cc96",
          "symbol": "circle"
         },
         "mode": "markers",
         "name": "Diploma",
         "orientation": "v",
         "showlegend": true,
         "type": "scatter",
         "x": [
          4.188911704312115,
          6.861054072553046,
          22.94318959616701,
          5.859000684462697,
          6.691307323750856,
          6.776180698151951,
          19.110198494182068,
          2.7789185489390826,
          7.014373716632443,
          7.173169062286106,
          7.099247091033539,
          4.944558521560575,
          6.833675564681725,
          22.412046543463383,
          5.831622176591376,
          9.859000684462696,
          3.028062970568104,
          19.567419575633128,
          6.4284736481861735,
          5.724845995893224,
          4.284736481861739,
          1.5304585900068446,
          5.02943189596167,
          11.529089664613279,
          29.691991786447637,
          5.330595482546201,
          4.076659822039699,
          4.334017796030117,
          5.579739904175223,
          5.831622176591376,
          5.916495550992471,
          5.193702943189596,
          6.614647501711157,
          6.031485284052019,
          4.339493497604381,
          7.08829568788501,
          6.422997946611909,
          16.295687885010267,
          6.461327857631759,
          6.71047227926078,
          22.3709787816564,
          6.036960985626283,
          4.706365503080082,
          5.952087611225188,
          4.952772073921971,
          6.951403148528406,
          7.452429842573579,
          4.5338809034907595,
          7.036276522929501,
          4.692676249144422,
          4.531143052703627,
          6.444900752908967,
          5.174537987679671,
          14.841889117043122,
          6.841889117043121,
          6.1738535249828885,
          24.843258042436688,
          4.561259411362081,
          6.310746064339494,
          6.809034907597536,
          6.228610540725531,
          6.809034907597536,
          6.034223134839151,
          6.453114305270363,
          7.5044490075290895,
          7.5044490075290895,
          22.861054072553046,
          2.028747433264887,
          22.379192334017795
         ],
         "xaxis": "x",
         "y": [
          3.8,
          2.9,
          2.2,
          2.9,
          3.5,
          3.5,
          2.5,
          3.799999999999999,
          3.6,
          3.8,
          3.5,
          3.4,
          2.6,
          2.2,
          3.2,
          2.799999999999999,
          3.5,
          2.1,
          3.4,
          3.7,
          3.5,
          3.8,
          3.4,
          3.3,
          2,
          3.7,
          3.9,
          3.4,
          3.8,
          3,
          3.5,
          3.7,
          3.5,
          3.4,
          3.9,
          2.9,
          2.6,
          2.5,
          2.6,
          3.5,
          2.3,
          3.2,
          3.9,
          3.7,
          3.9,
          2.9,
          3.2,
          3.7,
          2.9,
          3.6,
          4,
          3.2,
          3.8,
          2.8,
          3.2,
          3.4,
          1.7,
          3.9,
          2.8,
          3.7,
          3.3,
          3.5,
          3.6,
          2.6,
          2.7,
          3.1,
          2.3,
          3.6,
          2.4
         ],
         "yaxis": "y"
        },
        {
         "hovertemplate": "<b>Years Off</b>: %{x:.1f}<br><b>Final CGPA</b>: %{y:.2f}<br><b>Qualification</b>: %{fullData.name}<extra></extra>",
         "legendgroup": "Master",
         "marker": {
          "color": "#FFA15A",
          "symbol": "circle"
         },
         "mode": "markers",
         "name": "Master",
         "orientation": "v",
         "showlegend": true,
         "type": "scatter",
         "x": [
          4.128678986995209,
          7.200547570157426,
          5.724845995893224,
          6.327173169062286,
          3.3210130047912387,
          6.38466803559206,
          15.488021902806297,
          4.648870636550308,
          16.298425735797398
         ],
         "xaxis": "x",
         "y": [
          3.5,
          3.2,
          3.2,
          3.2,
          3.2,
          3.4,
          2.7,
          3.7,
          3
         ],
         "yaxis": "y"
        },
        {
         "hovertemplate": "<b>OLS trendline</b><br>CUMULATIVE_GPA = -0.061966 * Years_Off_School + 3.72464<br>R<sup>2</sup>=0.610629<br><br>Years Between Qualification and Commencement=%{x}<br>Final Cumulative GPA=%{y} <b>(trend)</b><extra></extra>",
         "legendgroup": "Overall Trendline",
         "line": {
          "color": "#19d3f3"
         },
         "mode": "lines",
         "name": "Overall Trendline",
         "showlegend": true,
         "type": "scatter",
         "x": [
          0.8213552361396304,
          1.5304585900068446,
          1.9876796714579055,
          2.028747433264887,
          2.4476386036960984,
          2.7214236824093088,
          2.751540041067762,
          2.7679671457905544,
          2.7789185489390826,
          2.943189596167009,
          3.028062970568104,
          3.154004106776181,
          3.3210130047912387,
          3.436002737850787,
          3.477070499657769,
          3.594798083504449,
          3.6112251882272415,
          3.6906228610540723,
          3.7782340862423,
          3.994524298425736,
          4,
          4.024640657084189,
          4.030116358658453,
          4.071184120465435,
          4.076659822039699,
          4.076659822039699,
          4.1067761806981515,
          4.128678986995209,
          4.161533196440794,
          4.188911704312115,
          4.199863107460644,
          4.219028062970568,
          4.27378507871321,
          4.284736481861739,
          4.331279945242985,
          4.334017796030117,
          4.339493497604381,
          4.342231348391513,
          4.355920602327173,
          4.427104722792608,
          4.454483230663929,
          4.479123887748118,
          4.4955509924709105,
          4.531143052703627,
          4.5338809034907595,
          4.539356605065024,
          4.553045859000685,
          4.561259411362081,
          4.574948665297741,
          4.5804243668720055,
          4.607802874743326,
          4.632443531827516,
          4.648870636550308,
          4.692676249144422,
          4.706365503080082,
          4.774811772758385,
          4.791238877481177,
          4.799452429842574,
          4.813141683778234,
          4.826830937713894,
          4.8405201916495555,
          4.854209445585216,
          4.862422997946612,
          4.870636550308008,
          4.900752908966461,
          4.917180013689254,
          4.930869267624915,
          4.944558521560575,
          4.944558521560575,
          4.944558521560575,
          4.947296372347707,
          4.952772073921971,
          5.02943189596167,
          5.032169746748802,
          5.117043121149897,
          5.127994524298426,
          5.130732375085558,
          5.144421629021219,
          5.174537987679671,
          5.193702943189596,
          5.256673511293634,
          5.278576317590692,
          5.278576317590692,
          5.284052019164956,
          5.330595482546201,
          5.366187542778919,
          5.426420260095825,
          5.451060917180014,
          5.470225872689938,
          5.533196440793977,
          5.579739904175223,
          5.6125941136208075,
          5.623545516769336,
          5.631759069130732,
          5.645448323066393,
          5.6563997262149215,
          5.69472963723477,
          5.705681040383299,
          5.724845995893224,
          5.724845995893224,
          5.760438056125941,
          5.776865160848733,
          5.801505817932923,
          5.831622176591376,
          5.831622176591376,
          5.831622176591376,
          5.8507871321013,
          5.859000684462697,
          5.859000684462697,
          5.864476386036961,
          5.916495550992471,
          5.916495550992471,
          5.946611909650924,
          5.952087611225188,
          5.960301163586585,
          5.9958932238193015,
          5.9986310746064335,
          6.006844626967831,
          6.031485284052019,
          6.034223134839151,
          6.036960985626283,
          6.036960985626283,
          6.050650239561944,
          6.053388090349076,
          6.083504449007529,
          6.083504449007529,
          6.11088295687885,
          6.113620807665982,
          6.1300479123887746,
          6.138261464750171,
          6.160164271047228,
          6.1738535249828885,
          6.176591375770021,
          6.187542778918549,
          6.193018480492813,
          6.198494182067077,
          6.228610540725531,
          6.239561943874059,
          6.2559890485968515,
          6.277891854893908,
          6.283367556468172,
          6.310746064339494,
          6.310746064339494,
          6.327173169062286,
          6.3408624229979464,
          6.3709787816564,
          6.38466803559206,
          6.422997946611909,
          6.4284736481861735,
          6.439425051334703,
          6.444900752908967,
          6.453114305270363,
          6.461327857631759,
          6.513347022587269,
          6.535249828884326,
          6.537987679671458,
          6.614647501711157,
          6.617385352498289,
          6.666666666666667,
          6.669404517453799,
          6.691307323750856,
          6.694045174537988,
          6.694045174537988,
          6.71047227926078,
          6.776180698151951,
          6.809034907597536,
          6.809034907597536,
          6.833675564681725,
          6.841889117043121,
          6.861054072553046,
          6.891170431211499,
          6.951403148528406,
          6.951403148528406,
          6.954140999315538,
          6.965092402464066,
          7.000684462696783,
          7.014373716632443,
          7.036276522929501,
          7.049965776865161,
          7.085557837097878,
          7.08829568788501,
          7.099247091033539,
          7.107460643394935,
          7.129363449691992,
          7.173169062286106,
          7.173169062286106,
          7.200547570157426,
          7.263518138261465,
          7.36208076659822,
          7.394934976043806,
          7.452429842573579,
          7.5044490075290895,
          7.5044490075290895,
          7.572895277207392,
          7.630390143737166,
          7.671457905544147,
          7.79192334017796,
          8.09034907597536,
          8.279260780287474,
          8.580424366872005,
          8.747433264887064,
          9.190965092402465,
          9.25119780971937,
          9.374401095140314,
          9.557837097878165,
          9.612594113620808,
          9.859000684462696,
          10.03422313483915,
          10.050650239561945,
          10.08350444900753,
          11.058179329226558,
          11.529089664613279,
          11.723477070499658,
          12.361396303901437,
          12.71731690622861,
          12.999315537303216,
          14.245037645448322,
          14.841889117043122,
          14.989733059548255,
          15.488021902806297,
          15.488021902806297,
          15.498973305954825,
          15.860369609856264,
          16.197125256673512,
          16.295687885010267,
          16.298425735797398,
          16.44626967830253,
          16.632443531827516,
          16.917180013689254,
          17.19917864476386,
          17.322381930184804,
          18.187542778918548,
          18.255989048596852,
          18.89664613278576,
          19.110198494182068,
          19.515400410677618,
          19.567419575633128,
          21.311430527036276,
          21.89185489390828,
          21.932922655715263,
          21.946611909650922,
          22.3709787816564,
          22.379192334017795,
          22.412046543463383,
          22.439425051334702,
          22.45311430527036,
          22.861054072553046,
          22.94318959616701,
          23.20602327173169,
          23.77549623545517,
          24.73100616016427,
          24.78028747433265,
          24.843258042436688,
          25.065023956194388,
          25.089664613278575,
          25.17453798767967,
          25.35523613963039,
          25.39630390143737,
          26.444900752908968,
          26.6694045174538,
          26.69678302532512,
          26.869267624914443,
          27.433264887063654,
          27.863107460643395,
          27.94524298425736,
          28.577686516084874,
          28.859685147159478,
          29.587953456536617,
          29.596167008898014,
          29.691991786447637
         ],
         "xaxis": "x",
         "y": [
          3.673747388241543,
          3.62980712263733,
          3.601474982267046,
          3.598930179239775,
          3.572973188361611,
          3.5560078348464708,
          3.554141645959805,
          3.5531237247488967,
          3.552445110608291,
          3.542265898499207,
          3.5370066389095136,
          3.529202576292549,
          3.5188537106483135,
          3.511728262171955,
          3.5091834591446838,
          3.5018883571331734,
          3.5008704359222653,
          3.4959504834028747,
          3.4905215702780295,
          3.477118941001069,
          3.476779633930766,
          3.4752527521144034,
          3.4749134450441006,
          3.47236864201683,
          3.472029334946527,
          3.472029334946527,
          3.4701631460598614,
          3.46880591777865,
          3.4667700753568336,
          3.4650735400053194,
          3.4643949258647138,
          3.463207351118654,
          3.459814280415626,
          3.4591356662750203,
          3.4562515561774467,
          3.4560819026422953,
          3.4557425955719925,
          3.455572942036841,
          3.454724674361084,
          3.4503136824471476,
          3.4486171470956335,
          3.4470902652792708,
          3.4460723440683623,
          3.4438668481113943,
          3.443697194576243,
          3.44335788750594,
          3.442509619830183,
          3.4420006592247288,
          3.4411523915489717,
          3.440813084478669,
          3.439116549127155,
          3.4375896673107924,
          3.436571746099884,
          3.4338572895374617,
          3.4330090218617046,
          3.4287676834829197,
          3.4277497622720112,
          3.427240801666557,
          3.4263925339908,
          3.425544266315043,
          3.4246959986392858,
          3.423847730963529,
          3.423338770358075,
          3.4228298097526206,
          3.420963620865955,
          3.4199456996550466,
          3.4190974319792895,
          3.418249164303533,
          3.418249164303533,
          3.418249164303533,
          3.4180795107683815,
          3.4177402036980786,
          3.4129899047138395,
          3.412820251178688,
          3.4075609915889946,
          3.406882377448389,
          3.4067127239132375,
          3.4058644562374805,
          3.403998267350815,
          3.4028106926047554,
          3.398908661296273,
          3.3975514330150616,
          3.3975514330150616,
          3.3972121259447587,
          3.394328015847185,
          3.3921225198902167,
          3.388390142116886,
          3.3868632603005233,
          3.385675685554464,
          3.3817736542459813,
          3.3788895441484077,
          3.3768537017265907,
          3.376175087585985,
          3.375666126980531,
          3.374817859304774,
          3.3741392451641685,
          3.3717640956720487,
          3.371085481531443,
          3.369897906785383,
          3.369897906785383,
          3.367692410828415,
          3.3666744896175067,
          3.365147607801144,
          3.363281418914479,
          3.363281418914479,
          3.363281418914479,
          3.362093844168419,
          3.3615848835629647,
          3.3615848835629647,
          3.361245576492662,
          3.3580221593247854,
          3.3580221593247854,
          3.35615597043812,
          3.355816663367817,
          3.355307702762363,
          3.353102206805395,
          3.352932553270243,
          3.352423592664789,
          3.3508967108484264,
          3.350727057313275,
          3.3505574037781236,
          3.3505574037781236,
          3.3497091361023665,
          3.349539482567215,
          3.3476732936805496,
          3.3476732936805496,
          3.345976758329036,
          3.3458071047938844,
          3.344789183582976,
          3.3442802229775217,
          3.3429229946963104,
          3.3420747270205533,
          3.3419050734854023,
          3.3412264593447967,
          3.340887152274494,
          3.340547845204191,
          3.3386816563175254,
          3.33800304217692,
          3.3369851209660113,
          3.3356278926848004,
          3.3352885856144976,
          3.3335920502629834,
          3.3335920502629834,
          3.332574129052075,
          3.331725861376318,
          3.3298596724896528,
          3.3290114048138957,
          3.326636255321776,
          3.326296948251473,
          3.3256183341108674,
          3.3252790270405646,
          3.3247700664351107,
          3.3242611058296565,
          3.3210376886617796,
          3.3196804603805683,
          3.3195108068454173,
          3.3147605078611777,
          3.3145908543260267,
          3.3115370906933013,
          3.31136743715815,
          3.3100102088769385,
          3.309840555341787,
          3.309840555341787,
          3.3088226341308786,
          3.304750949287245,
          3.3027151068654286,
          3.3027151068654286,
          3.301188225049066,
          3.3006792644436116,
          3.2994916896975517,
          3.297625500810886,
          3.2938931230375554,
          3.2938931230375554,
          3.293723469502404,
          3.2930448553617984,
          3.2908393594048304,
          3.2899910917290733,
          3.288633863447862,
          3.287785595772105,
          3.285580099815137,
          3.2854104462799856,
          3.28473183213938,
          3.2842228715339257,
          3.2828656432527143,
          3.280151186690292,
          3.280151186690292,
          3.278454651338778,
          3.274552620030296,
          3.2684450927648454,
          3.2664092503430284,
          3.262846526104849,
          3.2596231089369727,
          3.2596231089369727,
          3.2553817705581873,
          3.251819046320008,
          3.249274243292737,
          3.2418094877460755,
          3.2233172524145726,
          3.211611158489126,
          3.1929492696224715,
          3.182600403978236,
          3.155116531283709,
          3.1513841535103784,
          3.1437497444285656,
          3.1323829575734212,
          3.1289898868703934,
          3.1137210687067673,
          3.1028632424570777,
          3.101845321246169,
          3.099809478824352,
          3.0394128203104533,
          3.0102324122644126,
          2.998187011268663,
          2.9586577375783865,
          2.9366027780087043,
          2.91912846388811,
          2.8419361053942223,
          2.804951634731217,
          2.7957903438330414,
          2.764913400435486,
          2.764913400435486,
          2.764234786294881,
          2.7418405196548954,
          2.720973134831273,
          2.714865607565823,
          2.714695954030671,
          2.7055346631324957,
          2.6939982227422004,
          2.676354255086455,
          2.6588799409658606,
          2.6512455318840473,
          2.5976350147762046,
          2.5933936763974197,
          2.5536947491719917,
          2.540461773430182,
          2.515353050227775,
          2.512129633059898,
          2.4040603311684556,
          2.3680937817163583,
          2.3655489786890875,
          2.3647007110133305,
          2.338404413064863,
          2.337895452459409,
          2.335859610037592,
          2.334163074686078,
          2.3333148070103213,
          2.3080364302727623,
          2.3029468242182203,
          2.2866600848436858,
          2.2513721495321946,
          2.1921630657643556,
          2.18910930213163,
          2.185207270823148,
          2.1714653344758843,
          2.1699384526595216,
          2.164679193069828,
          2.1534820597498356,
          2.150937256722565,
          2.085959952759578,
          2.072048362877163,
          2.070351827525649,
          2.0596636548111107,
          2.0247150265699223,
          1.9980794215511521,
          1.9929898154966101,
          1.9537998488766364,
          1.9363255347560422,
          1.8911976944057693,
          1.890688733800315,
          1.884750860070016
         ],
         "yaxis": "y"
        }
       ],
       "layout": {
        "annotations": [
         {
          "align": "left",
          "bgcolor": "rgba(255,255,255,0.5)",
          "bordercolor": "rgba(128,128,128,0.5)",
          "borderwidth": 1,
          "font": {
           "color": "black",
           "size": 12
          },
          "showarrow": false,
          "text": "CGPA = -0.0620 × Years_Off + 3.725<br>R² = 0.6106",
          "x": 0.02,
          "xref": "paper",
          "y": 1,
          "yanchor": "top",
          "yref": "paper"
         },
         {
          "font": {
           "color": "gray",
           "size": 10
          },
          "showarrow": false,
          "text": "Excellent",
          "x": 1,
          "xanchor": "left",
          "xref": "x domain",
          "y": 3.5,
          "yanchor": "middle",
          "yref": "y"
         },
         {
          "font": {
           "color": "gray",
           "size": 10
          },
          "showarrow": false,
          "text": "Good",
          "x": 1,
          "xanchor": "left",
          "xref": "x domain",
          "y": 3,
          "yanchor": "middle",
          "yref": "y"
         },
         {
          "font": {
           "color": "gray",
           "size": 10
          },
          "showarrow": false,
          "text": "Average",
          "x": 1,
          "xanchor": "left",
          "xref": "x domain",
          "y": 2.5,
          "yanchor": "middle",
          "yref": "y"
         },
         {
          "font": {
           "color": "gray",
           "size": 10
          },
          "showarrow": false,
          "text": "Poor",
          "x": 1,
          "xanchor": "left",
          "xref": "x domain",
          "y": 2,
          "yanchor": "middle",
          "yref": "y"
         }
        ],
        "legend": {
         "title": {
          "text": "Highest Qualification"
         },
         "tracegroupgap": 0
        },
        "shapes": [
         {
          "line": {
           "color": "gray",
           "dash": "solid"
          },
          "opacity": 0.3,
          "type": "line",
          "x0": 0,
          "x1": 1,
          "xref": "x domain",
          "y0": 3.5,
          "y1": 3.5,
          "yref": "y"
         },
         {
          "line": {
           "color": "gray",
           "dash": "solid"
          },
          "opacity": 0.3,
          "type": "line",
          "x0": 0,
          "x1": 1,
          "xref": "x domain",
          "y0": 3,
          "y1": 3,
          "yref": "y"
         },
         {
          "line": {
           "color": "gray",
           "dash": "solid"
          },
          "opacity": 0.3,
          "type": "line",
          "x0": 0,
          "x1": 1,
          "xref": "x domain",
          "y0": 2.5,
          "y1": 2.5,
          "yref": "y"
         },
         {
          "line": {
           "color": "gray",
           "dash": "solid"
          },
          "opacity": 0.3,
          "type": "line",
          "x0": 0,
          "x1": 1,
          "xref": "x domain",
          "y0": 2,
          "y1": 2,
          "yref": "y"
         }
        ],
        "template": {
         "data": {
          "bar": [
           {
            "error_x": {
             "color": "#2a3f5f"
            },
            "error_y": {
             "color": "#2a3f5f"
            },
            "marker": {
             "line": {
              "color": "#E5ECF6",
              "width": 0.5
             },
             "pattern": {
              "fillmode": "overlay",
              "size": 10,
              "solidity": 0.2
             }
            },
            "type": "bar"
           }
          ],
          "barpolar": [
           {
            "marker": {
             "line": {
              "color": "#E5ECF6",
              "width": 0.5
             },
             "pattern": {
              "fillmode": "overlay",
              "size": 10,
              "solidity": 0.2
             }
            },
            "type": "barpolar"
           }
          ],
          "carpet": [
           {
            "aaxis": {
             "endlinecolor": "#2a3f5f",
             "gridcolor": "white",
             "linecolor": "white",
             "minorgridcolor": "white",
             "startlinecolor": "#2a3f5f"
            },
            "baxis": {
             "endlinecolor": "#2a3f5f",
             "gridcolor": "white",
             "linecolor": "white",
             "minorgridcolor": "white",
             "startlinecolor": "#2a3f5f"
            },
            "type": "carpet"
           }
          ],
          "choropleth": [
           {
            "colorbar": {
             "outlinewidth": 0,
             "ticks": ""
            },
            "type": "choropleth"
           }
          ],
          "contour": [
           {
            "colorbar": {
             "outlinewidth": 0,
             "ticks": ""
            },
            "colorscale": [
             [
              0,
              "#0d0887"
             ],
             [
              0.1111111111111111,
              "#46039f"
             ],
             [
              0.2222222222222222,
              "#7201a8"
             ],
             [
              0.3333333333333333,
              "#9c179e"
             ],
             [
              0.4444444444444444,
              "#bd3786"
             ],
             [
              0.5555555555555556,
              "#d8576b"
             ],
             [
              0.6666666666666666,
              "#ed7953"
             ],
             [
              0.7777777777777778,
              "#fb9f3a"
             ],
             [
              0.8888888888888888,
              "#fdca26"
             ],
             [
              1,
              "#f0f921"
             ]
            ],
            "type": "contour"
           }
          ],
          "contourcarpet": [
           {
            "colorbar": {
             "outlinewidth": 0,
             "ticks": ""
            },
            "type": "contourcarpet"
           }
          ],
          "heatmap": [
           {
            "colorbar": {
             "outlinewidth": 0,
             "ticks": ""
            },
            "colorscale": [
             [
              0,
              "#0d0887"
             ],
             [
              0.1111111111111111,
              "#46039f"
             ],
             [
              0.2222222222222222,
              "#7201a8"
             ],
             [
              0.3333333333333333,
              "#9c179e"
             ],
             [
              0.4444444444444444,
              "#bd3786"
             ],
             [
              0.5555555555555556,
              "#d8576b"
             ],
             [
              0.6666666666666666,
              "#ed7953"
             ],
             [
              0.7777777777777778,
              "#fb9f3a"
             ],
             [
              0.8888888888888888,
              "#fdca26"
             ],
             [
              1,
              "#f0f921"
             ]
            ],
            "type": "heatmap"
           }
          ],
          "heatmapgl": [
           {
            "colorbar": {
             "outlinewidth": 0,
             "ticks": ""
            },
            "colorscale": [
             [
              0,
              "#0d0887"
             ],
             [
              0.1111111111111111,
              "#46039f"
             ],
             [
              0.2222222222222222,
              "#7201a8"
             ],
             [
              0.3333333333333333,
              "#9c179e"
             ],
             [
              0.4444444444444444,
              "#bd3786"
             ],
             [
              0.5555555555555556,
              "#d8576b"
             ],
             [
              0.6666666666666666,
              "#ed7953"
             ],
             [
              0.7777777777777778,
              "#fb9f3a"
             ],
             [
              0.8888888888888888,
              "#fdca26"
             ],
             [
              1,
              "#f0f921"
             ]
            ],
            "type": "heatmapgl"
           }
          ],
          "histogram": [
           {
            "marker": {
             "pattern": {
              "fillmode": "overlay",
              "size": 10,
              "solidity": 0.2
             }
            },
            "type": "histogram"
           }
          ],
          "histogram2d": [
           {
            "colorbar": {
             "outlinewidth": 0,
             "ticks": ""
            },
            "colorscale": [
             [
              0,
              "#0d0887"
             ],
             [
              0.1111111111111111,
              "#46039f"
             ],
             [
              0.2222222222222222,
              "#7201a8"
             ],
             [
              0.3333333333333333,
              "#9c179e"
             ],
             [
              0.4444444444444444,
              "#bd3786"
             ],
             [
              0.5555555555555556,
              "#d8576b"
             ],
             [
              0.6666666666666666,
              "#ed7953"
             ],
             [
              0.7777777777777778,
              "#fb9f3a"
             ],
             [
              0.8888888888888888,
              "#fdca26"
             ],
             [
              1,
              "#f0f921"
             ]
            ],
            "type": "histogram2d"
           }
          ],
          "histogram2dcontour": [
           {
            "colorbar": {
             "outlinewidth": 0,
             "ticks": ""
            },
            "colorscale": [
             [
              0,
              "#0d0887"
             ],
             [
              0.1111111111111111,
              "#46039f"
             ],
             [
              0.2222222222222222,
              "#7201a8"
             ],
             [
              0.3333333333333333,
              "#9c179e"
             ],
             [
              0.4444444444444444,
              "#bd3786"
             ],
             [
              0.5555555555555556,
              "#d8576b"
             ],
             [
              0.6666666666666666,
              "#ed7953"
             ],
             [
              0.7777777777777778,
              "#fb9f3a"
             ],
             [
              0.8888888888888888,
              "#fdca26"
             ],
             [
              1,
              "#f0f921"
             ]
            ],
            "type": "histogram2dcontour"
           }
          ],
          "mesh3d": [
           {
            "colorbar": {
             "outlinewidth": 0,
             "ticks": ""
            },
            "type": "mesh3d"
           }
          ],
          "parcoords": [
           {
            "line": {
             "colorbar": {
              "outlinewidth": 0,
              "ticks": ""
             }
            },
            "type": "parcoords"
           }
          ],
          "pie": [
           {
            "automargin": true,
            "type": "pie"
           }
          ],
          "scatter": [
           {
            "fillpattern": {
             "fillmode": "overlay",
             "size": 10,
             "solidity": 0.2
            },
            "type": "scatter"
           }
          ],
          "scatter3d": [
           {
            "line": {
             "colorbar": {
              "outlinewidth": 0,
              "ticks": ""
             }
            },
            "marker": {
             "colorbar": {
              "outlinewidth": 0,
              "ticks": ""
             }
            },
            "type": "scatter3d"
           }
          ],
          "scattercarpet": [
           {
            "marker": {
             "colorbar": {
              "outlinewidth": 0,
              "ticks": ""
             }
            },
            "type": "scattercarpet"
           }
          ],
          "scattergeo": [
           {
            "marker": {
             "colorbar": {
              "outlinewidth": 0,
              "ticks": ""
             }
            },
            "type": "scattergeo"
           }
          ],
          "scattergl": [
           {
            "marker": {
             "colorbar": {
              "outlinewidth": 0,
              "ticks": ""
             }
            },
            "type": "scattergl"
           }
          ],
          "scattermapbox": [
           {
            "marker": {
             "colorbar": {
              "outlinewidth": 0,
              "ticks": ""
             }
            },
            "type": "scattermapbox"
           }
          ],
          "scatterpolar": [
           {
            "marker": {
             "colorbar": {
              "outlinewidth": 0,
              "ticks": ""
             }
            },
            "type": "scatterpolar"
           }
          ],
          "scatterpolargl": [
           {
            "marker": {
             "colorbar": {
              "outlinewidth": 0,
              "ticks": ""
             }
            },
            "type": "scatterpolargl"
           }
          ],
          "scatterternary": [
           {
            "marker": {
             "colorbar": {
              "outlinewidth": 0,
              "ticks": ""
             }
            },
            "type": "scatterternary"
           }
          ],
          "surface": [
           {
            "colorbar": {
             "outlinewidth": 0,
             "ticks": ""
            },
            "colorscale": [
             [
              0,
              "#0d0887"
             ],
             [
              0.1111111111111111,
              "#46039f"
             ],
             [
              0.2222222222222222,
              "#7201a8"
             ],
             [
              0.3333333333333333,
              "#9c179e"
             ],
             [
              0.4444444444444444,
              "#bd3786"
             ],
             [
              0.5555555555555556,
              "#d8576b"
             ],
             [
              0.6666666666666666,
              "#ed7953"
             ],
             [
              0.7777777777777778,
              "#fb9f3a"
             ],
             [
              0.8888888888888888,
              "#fdca26"
             ],
             [
              1,
              "#f0f921"
             ]
            ],
            "type": "surface"
           }
          ],
          "table": [
           {
            "cells": {
             "fill": {
              "color": "#EBF0F8"
             },
             "line": {
              "color": "white"
             }
            },
            "header": {
             "fill": {
              "color": "#C8D4E3"
             },
             "line": {
              "color": "white"
             }
            },
            "type": "table"
           }
          ]
         },
         "layout": {
          "annotationdefaults": {
           "arrowcolor": "#2a3f5f",
           "arrowhead": 0,
           "arrowwidth": 1
          },
          "autotypenumbers": "strict",
          "coloraxis": {
           "colorbar": {
            "outlinewidth": 0,
            "ticks": ""
           }
          },
          "colorscale": {
           "diverging": [
            [
             0,
             "#8e0152"
            ],
            [
             0.1,
             "#c51b7d"
            ],
            [
             0.2,
             "#de77ae"
            ],
            [
             0.3,
             "#f1b6da"
            ],
            [
             0.4,
             "#fde0ef"
            ],
            [
             0.5,
             "#f7f7f7"
            ],
            [
             0.6,
             "#e6f5d0"
            ],
            [
             0.7,
             "#b8e186"
            ],
            [
             0.8,
             "#7fbc41"
            ],
            [
             0.9,
             "#4d9221"
            ],
            [
             1,
             "#276419"
            ]
           ],
           "sequential": [
            [
             0,
             "#0d0887"
            ],
            [
             0.1111111111111111,
             "#46039f"
            ],
            [
             0.2222222222222222,
             "#7201a8"
            ],
            [
             0.3333333333333333,
             "#9c179e"
            ],
            [
             0.4444444444444444,
             "#bd3786"
            ],
            [
             0.5555555555555556,
             "#d8576b"
            ],
            [
             0.6666666666666666,
             "#ed7953"
            ],
            [
             0.7777777777777778,
             "#fb9f3a"
            ],
            [
             0.8888888888888888,
             "#fdca26"
            ],
            [
             1,
             "#f0f921"
            ]
           ],
           "sequentialminus": [
            [
             0,
             "#0d0887"
            ],
            [
             0.1111111111111111,
             "#46039f"
            ],
            [
             0.2222222222222222,
             "#7201a8"
            ],
            [
             0.3333333333333333,
             "#9c179e"
            ],
            [
             0.4444444444444444,
             "#bd3786"
            ],
            [
             0.5555555555555556,
             "#d8576b"
            ],
            [
             0.6666666666666666,
             "#ed7953"
            ],
            [
             0.7777777777777778,
             "#fb9f3a"
            ],
            [
             0.8888888888888888,
             "#fdca26"
            ],
            [
             1,
             "#f0f921"
            ]
           ]
          },
          "colorway": [
           "#636efa",
           "#EF553B",
           "#00cc96",
           "#ab63fa",
           "#FFA15A",
           "#19d3f3",
           "#FF6692",
           "#B6E880",
           "#FF97FF",
           "#FECB52"
          ],
          "font": {
           "color": "#2a3f5f"
          },
          "geo": {
           "bgcolor": "white",
           "lakecolor": "white",
           "landcolor": "#E5ECF6",
           "showlakes": true,
           "showland": true,
           "subunitcolor": "white"
          },
          "hoverlabel": {
           "align": "left"
          },
          "hovermode": "closest",
          "mapbox": {
           "style": "light"
          },
          "paper_bgcolor": "white",
          "plot_bgcolor": "#E5ECF6",
          "polar": {
           "angularaxis": {
            "gridcolor": "white",
            "linecolor": "white",
            "ticks": ""
           },
           "bgcolor": "#E5ECF6",
           "radialaxis": {
            "gridcolor": "white",
            "linecolor": "white",
            "ticks": ""
           }
          },
          "scene": {
           "xaxis": {
            "backgroundcolor": "#E5ECF6",
            "gridcolor": "white",
            "gridwidth": 2,
            "linecolor": "white",
            "showbackground": true,
            "ticks": "",
            "zerolinecolor": "white"
           },
           "yaxis": {
            "backgroundcolor": "#E5ECF6",
            "gridcolor": "white",
            "gridwidth": 2,
            "linecolor": "white",
            "showbackground": true,
            "ticks": "",
            "zerolinecolor": "white"
           },
           "zaxis": {
            "backgroundcolor": "#E5ECF6",
            "gridcolor": "white",
            "gridwidth": 2,
            "linecolor": "white",
            "showbackground": true,
            "ticks": "",
            "zerolinecolor": "white"
           }
          },
          "shapedefaults": {
           "line": {
            "color": "#2a3f5f"
           }
          },
          "ternary": {
           "aaxis": {
            "gridcolor": "white",
            "linecolor": "white",
            "ticks": ""
           },
           "baxis": {
            "gridcolor": "white",
            "linecolor": "white",
            "ticks": ""
           },
           "bgcolor": "#E5ECF6",
           "caxis": {
            "gridcolor": "white",
            "linecolor": "white",
            "ticks": ""
           }
          },
          "title": {
           "x": 0.05
          },
          "xaxis": {
           "automargin": true,
           "gridcolor": "white",
           "linecolor": "white",
           "ticks": "",
           "title": {
            "standoff": 15
           },
           "zerolinecolor": "white",
           "zerolinewidth": 2
          },
          "yaxis": {
           "automargin": true,
           "gridcolor": "white",
           "linecolor": "white",
           "ticks": "",
           "title": {
            "standoff": 15
           },
           "zerolinecolor": "white",
           "zerolinewidth": 2
          }
         }
        },
        "title": {
         "text": "Impact of Time Off School on Final Cumulative GPA"
        },
        "xaxis": {
         "anchor": "y",
         "domain": [
          0,
          1
         ],
         "title": {
          "text": "Years Between Qualification and Commencement"
         }
        },
        "yaxis": {
         "anchor": "x",
         "domain": [
          0,
          1
         ],
         "title": {
          "text": "Final Cumulative GPA"
         }
        }
       }
      }
     },
     "metadata": {},
     "output_type": "display_data"
    }
   ],
   "source": [
    "import pandas as pd\n",
    "import plotly.express as px\n",
    "import numpy as np\n",
    "from scipy import stats\n",
    "\n",
    "# --- 1. Ensure 'Years_Off_School' column exists ---\n",
    "if 'Years_Off_School' not in df.columns:\n",
    "    print(\"Calculating 'Years_Off_School' column...\")\n",
    "    df['COMMENCEMENT DATE'] = pd.to_datetime(df['COMMENCEMENT DATE'], errors='coerce')\n",
    "    df['DATE ATTAINED HIGHEST QUALIFICATION'] = pd.to_datetime(df['DATE ATTAINED HIGHEST QUALIFICATION'], errors='coerce')\n",
    "    time_difference = df['COMMENCEMENT DATE'] - df['DATE ATTAINED HIGHEST QUALIFICATION']\n",
    "    df['Years_Off_School'] = time_difference / pd.to_timedelta('365.25D')\n",
    "\n",
    "# --- 2. Prepare Data for Plotting ---\n",
    "student_final_performance = df.drop_duplicates(subset='STUDENT ID', keep='last').copy()\n",
    "\n",
    "student_final_performance.dropna(subset=['Years_Off_School', 'CUMULATIVE_GPA'], inplace=True)\n",
    "student_final_performance = student_final_performance[\n",
    "    (student_final_performance['Years_Off_School'] >= 0) &\n",
    "    (student_final_performance['Years_Off_School'] <= 30)\n",
    "]\n",
    "\n",
    "# --- 3. Calculate Regression Equation ---\n",
    "# Calculate regression statistics\n",
    "x = student_final_performance['Years_Off_School']\n",
    "y = student_final_performance['CUMULATIVE_GPA']\n",
    "slope, intercept, r_value, p_value, std_err = stats.linregress(x, y)\n",
    "\n",
    "# Format equation\n",
    "if intercept >= 0:\n",
    "    equation_text = f\"CGPA = {slope:.4f} × Years_Off + {intercept:.3f}\"\n",
    "else:\n",
    "    equation_text = f\"CGPA = {slope:.4f} × Years_Off - {abs(intercept):.3f}\"\n",
    "\n",
    "# Add R² value\n",
    "r_squared = r_value ** 2\n",
    "equation_with_r2 = f\"{equation_text}<br>R² = {r_squared:.4f}\"\n",
    "\n",
    "# --- 4. Define Performance Thresholds ---\n",
    "category_thresholds = {\n",
    "    \"Excellent\": 3.5,\n",
    "    \"Good\": 3.0,\n",
    "    \"Average\": 2.5,\n",
    "    \"Poor\": 2.0\n",
    "}\n",
    "\n",
    "# --- 5. Create Scatter Plot ---\n",
    "print(\"Generating scatter plot of 'Years Off School' vs. Final Cumulative GPA...\")\n",
    "\n",
    "fig = px.scatter(\n",
    "    student_final_performance,\n",
    "    x='Years_Off_School',\n",
    "    y='CUMULATIVE_GPA',\n",
    "    color='HIGHEST QUALIFICATION',  # Keep dots colored by qualification\n",
    "    trendline='ols',  # Single global trendline\n",
    "    trendline_scope='overall',  # Ensures only one trendline\n",
    "    title='Impact of Time Off School on Final Cumulative GPA',\n",
    "    labels={\n",
    "        'Years_Off_School': 'Years Between Qualification and Commencement',\n",
    "        'CUMULATIVE_GPA': 'Final Cumulative GPA',\n",
    "        'HIGHEST QUALIFICATION': 'Highest Qualification'\n",
    "    }\n",
    ")\n",
    "\n",
    "# Customize hover\n",
    "fig.update_traces(\n",
    "    selector=dict(mode='markers'),\n",
    "    hovertemplate='<b>Years Off</b>: %{x:.1f}'\n",
    "                  '<br><b>Final CGPA</b>: %{y:.2f}'\n",
    "                  '<br><b>Qualification</b>: %{fullData.name}'\n",
    "                  '<extra></extra>'\n",
    ")\n",
    "\n",
    "# --- 6. Add Regression Equation to Graph ---\n",
    "fig.add_annotation(\n",
    "    x=0.02, y=1,\n",
    "    xref='paper', yref='paper',\n",
    "    text=equation_with_r2,\n",
    "    showarrow=False,\n",
    "    align='left',\n",
    "    yanchor='top',  # Anchor the top of the annotation to y=1.0\n",
    "    bgcolor='rgba(255,255,255,0.5)',\n",
    "    bordercolor='rgba(128,128,128,0.5)',\n",
    "    borderwidth=1,\n",
    "    font=dict(size=12, color='black')\n",
    ")\n",
    "\n",
    "# --- 7. Add Subtle Solid Threshold Lines ---\n",
    "for category, value in category_thresholds.items():\n",
    "    fig.add_hline(\n",
    "        y=value,\n",
    "        line_dash=\"solid\",  # Solid lines\n",
    "        line_color=\"gray\",\n",
    "        opacity=0.3,  # Less visible\n",
    "        annotation_text=category,\n",
    "        annotation_position=\"right\",\n",
    "        annotation_font=dict(color=\"gray\", size=10)\n",
    "    )\n",
    "\n",
    "# Show plot\n",
    "fig.show()"
   ]
  },
  {
   "cell_type": "markdown",
   "id": "3796d6ae",
   "metadata": {},
   "source": [
    "### **Insights**\n",
    "- **Quantified Academic Decay**: The regression analysis reveals a precise decline rate of -0.0620 GPA points per year away from education (R² = 0.6106), meaning a student with 10 years off school faces approximately a 0.62-point GPA penalty, representing the difference between \"Good\" and \"Very Good\" performance categories.\n",
    "\n",
    "- **Critical Threshold Identification**: Visual analysis shows the highest-performing students (GPA > 3.5) concentrate almost exclusively in the 0-8 year range, with performance becoming increasingly scattered and generally declining beyond 10 years, establishing a clear intervention threshold for at-risk mature students.\n",
    "\n",
    "- **Actionable Insight**: Develop a mandatory \"Academic Re-entry Program\" for students with 8+ years away from formal education, featuring intensive pre-enrollment modules covering study skills, digital literacy, and foundational subject knowledge. This targeted intervention should be implemented before course commencement to bridge the demonstrated performance gap."
   ]
  },
  {
   "cell_type": "markdown",
   "id": "2dfe52de",
   "metadata": {},
   "source": [
    "## **Chart 3: Accelerated vs. Standard Courses: Duration and Performance (Combination Chart)**\n",
    "\n"
   ]
  },
  {
   "cell_type": "code",
   "execution_count": 18,
   "id": "676a1d53",
   "metadata": {},
   "outputs": [
    {
     "data": {
      "application/vnd.plotly.v1+json": {
       "config": {
        "plotlyServerURL": "https://plot.ly"
       },
       "data": [
        {
         "customdata": [
          8,
          25,
          33,
          66,
          42,
          30,
          43,
          28
         ],
         "hovertemplate": "<b>%{y}</b><br>Avg. Duration: %{x:.1f} months<br>Student Count: %{customdata}<extra></extra>",
         "marker": {
          "color": [
           "red",
           "red",
           "red",
           "red",
           "#4A90E2",
           "#4A90E2",
           "#4A90E2",
           "#4A90E2"
          ]
         },
         "name": "Average Duration (Months)",
         "orientation": "h",
         "type": "bar",
         "x": [
          2.29,
          4.7464,
          1.8581818181818182,
          5.1893939393939394,
          16.84047619047619,
          16.899666666666665,
          11.06860465116279,
          11.058214285714286
         ],
         "y": [
          "Certificate in Digital Marketing (Accelerated)",
          "Certificate in Digital Marketing (Standard)",
          "Certificate in HR Management (Accelerated)",
          "Certificate in HR Management (Standard)",
          "Diploma in Business Administration (Standard)",
          "Diploma in Business Analytics (Standard)",
          "Specialist Diploma in Business Innovation and Design (Standard)",
          "Specialist Diploma in Intelligent Systems (Standard)"
         ]
        },
        {
         "customdata": [
          8,
          25,
          33,
          66,
          42,
          30,
          43,
          28
         ],
         "hovertemplate": "<b>%{y}</b><br>Average GPA: %{x:.2f}<br>Student Count: %{customdata}<extra></extra>",
         "line": {
          "color": "#50E3C2",
          "width": 3
         },
         "marker": {
          "color": "#D0021B",
          "size": 10
         },
         "mode": "lines+markers",
         "name": "Average GPA",
         "type": "scatter",
         "x": [
          3.325,
          3.2560000000000002,
          3.2515151515151515,
          3.115909090909091,
          3.168253968253968,
          3.004166666666667,
          3.097674418604651,
          3.1160714285714284
         ],
         "xaxis": "x2",
         "y": [
          "Certificate in Digital Marketing (Accelerated)",
          "Certificate in Digital Marketing (Standard)",
          "Certificate in HR Management (Accelerated)",
          "Certificate in HR Management (Standard)",
          "Diploma in Business Administration (Standard)",
          "Diploma in Business Analytics (Standard)",
          "Specialist Diploma in Business Innovation and Design (Standard)",
          "Specialist Diploma in Intelligent Systems (Standard)"
         ]
        }
       ],
       "layout": {
        "legend": {
         "font": {
          "size": 14
         },
         "orientation": "h",
         "x": 0,
         "xanchor": "left",
         "y": -0.2,
         "yanchor": "top"
        },
        "paper_bgcolor": "white",
        "plot_bgcolor": "white",
        "showlegend": true,
        "template": {
         "data": {
          "bar": [
           {
            "error_x": {
             "color": "#2a3f5f"
            },
            "error_y": {
             "color": "#2a3f5f"
            },
            "marker": {
             "line": {
              "color": "#E5ECF6",
              "width": 0.5
             },
             "pattern": {
              "fillmode": "overlay",
              "size": 10,
              "solidity": 0.2
             }
            },
            "type": "bar"
           }
          ],
          "barpolar": [
           {
            "marker": {
             "line": {
              "color": "#E5ECF6",
              "width": 0.5
             },
             "pattern": {
              "fillmode": "overlay",
              "size": 10,
              "solidity": 0.2
             }
            },
            "type": "barpolar"
           }
          ],
          "carpet": [
           {
            "aaxis": {
             "endlinecolor": "#2a3f5f",
             "gridcolor": "white",
             "linecolor": "white",
             "minorgridcolor": "white",
             "startlinecolor": "#2a3f5f"
            },
            "baxis": {
             "endlinecolor": "#2a3f5f",
             "gridcolor": "white",
             "linecolor": "white",
             "minorgridcolor": "white",
             "startlinecolor": "#2a3f5f"
            },
            "type": "carpet"
           }
          ],
          "choropleth": [
           {
            "colorbar": {
             "outlinewidth": 0,
             "ticks": ""
            },
            "type": "choropleth"
           }
          ],
          "contour": [
           {
            "colorbar": {
             "outlinewidth": 0,
             "ticks": ""
            },
            "colorscale": [
             [
              0,
              "#0d0887"
             ],
             [
              0.1111111111111111,
              "#46039f"
             ],
             [
              0.2222222222222222,
              "#7201a8"
             ],
             [
              0.3333333333333333,
              "#9c179e"
             ],
             [
              0.4444444444444444,
              "#bd3786"
             ],
             [
              0.5555555555555556,
              "#d8576b"
             ],
             [
              0.6666666666666666,
              "#ed7953"
             ],
             [
              0.7777777777777778,
              "#fb9f3a"
             ],
             [
              0.8888888888888888,
              "#fdca26"
             ],
             [
              1,
              "#f0f921"
             ]
            ],
            "type": "contour"
           }
          ],
          "contourcarpet": [
           {
            "colorbar": {
             "outlinewidth": 0,
             "ticks": ""
            },
            "type": "contourcarpet"
           }
          ],
          "heatmap": [
           {
            "colorbar": {
             "outlinewidth": 0,
             "ticks": ""
            },
            "colorscale": [
             [
              0,
              "#0d0887"
             ],
             [
              0.1111111111111111,
              "#46039f"
             ],
             [
              0.2222222222222222,
              "#7201a8"
             ],
             [
              0.3333333333333333,
              "#9c179e"
             ],
             [
              0.4444444444444444,
              "#bd3786"
             ],
             [
              0.5555555555555556,
              "#d8576b"
             ],
             [
              0.6666666666666666,
              "#ed7953"
             ],
             [
              0.7777777777777778,
              "#fb9f3a"
             ],
             [
              0.8888888888888888,
              "#fdca26"
             ],
             [
              1,
              "#f0f921"
             ]
            ],
            "type": "heatmap"
           }
          ],
          "heatmapgl": [
           {
            "colorbar": {
             "outlinewidth": 0,
             "ticks": ""
            },
            "colorscale": [
             [
              0,
              "#0d0887"
             ],
             [
              0.1111111111111111,
              "#46039f"
             ],
             [
              0.2222222222222222,
              "#7201a8"
             ],
             [
              0.3333333333333333,
              "#9c179e"
             ],
             [
              0.4444444444444444,
              "#bd3786"
             ],
             [
              0.5555555555555556,
              "#d8576b"
             ],
             [
              0.6666666666666666,
              "#ed7953"
             ],
             [
              0.7777777777777778,
              "#fb9f3a"
             ],
             [
              0.8888888888888888,
              "#fdca26"
             ],
             [
              1,
              "#f0f921"
             ]
            ],
            "type": "heatmapgl"
           }
          ],
          "histogram": [
           {
            "marker": {
             "pattern": {
              "fillmode": "overlay",
              "size": 10,
              "solidity": 0.2
             }
            },
            "type": "histogram"
           }
          ],
          "histogram2d": [
           {
            "colorbar": {
             "outlinewidth": 0,
             "ticks": ""
            },
            "colorscale": [
             [
              0,
              "#0d0887"
             ],
             [
              0.1111111111111111,
              "#46039f"
             ],
             [
              0.2222222222222222,
              "#7201a8"
             ],
             [
              0.3333333333333333,
              "#9c179e"
             ],
             [
              0.4444444444444444,
              "#bd3786"
             ],
             [
              0.5555555555555556,
              "#d8576b"
             ],
             [
              0.6666666666666666,
              "#ed7953"
             ],
             [
              0.7777777777777778,
              "#fb9f3a"
             ],
             [
              0.8888888888888888,
              "#fdca26"
             ],
             [
              1,
              "#f0f921"
             ]
            ],
            "type": "histogram2d"
           }
          ],
          "histogram2dcontour": [
           {
            "colorbar": {
             "outlinewidth": 0,
             "ticks": ""
            },
            "colorscale": [
             [
              0,
              "#0d0887"
             ],
             [
              0.1111111111111111,
              "#46039f"
             ],
             [
              0.2222222222222222,
              "#7201a8"
             ],
             [
              0.3333333333333333,
              "#9c179e"
             ],
             [
              0.4444444444444444,
              "#bd3786"
             ],
             [
              0.5555555555555556,
              "#d8576b"
             ],
             [
              0.6666666666666666,
              "#ed7953"
             ],
             [
              0.7777777777777778,
              "#fb9f3a"
             ],
             [
              0.8888888888888888,
              "#fdca26"
             ],
             [
              1,
              "#f0f921"
             ]
            ],
            "type": "histogram2dcontour"
           }
          ],
          "mesh3d": [
           {
            "colorbar": {
             "outlinewidth": 0,
             "ticks": ""
            },
            "type": "mesh3d"
           }
          ],
          "parcoords": [
           {
            "line": {
             "colorbar": {
              "outlinewidth": 0,
              "ticks": ""
             }
            },
            "type": "parcoords"
           }
          ],
          "pie": [
           {
            "automargin": true,
            "type": "pie"
           }
          ],
          "scatter": [
           {
            "fillpattern": {
             "fillmode": "overlay",
             "size": 10,
             "solidity": 0.2
            },
            "type": "scatter"
           }
          ],
          "scatter3d": [
           {
            "line": {
             "colorbar": {
              "outlinewidth": 0,
              "ticks": ""
             }
            },
            "marker": {
             "colorbar": {
              "outlinewidth": 0,
              "ticks": ""
             }
            },
            "type": "scatter3d"
           }
          ],
          "scattercarpet": [
           {
            "marker": {
             "colorbar": {
              "outlinewidth": 0,
              "ticks": ""
             }
            },
            "type": "scattercarpet"
           }
          ],
          "scattergeo": [
           {
            "marker": {
             "colorbar": {
              "outlinewidth": 0,
              "ticks": ""
             }
            },
            "type": "scattergeo"
           }
          ],
          "scattergl": [
           {
            "marker": {
             "colorbar": {
              "outlinewidth": 0,
              "ticks": ""
             }
            },
            "type": "scattergl"
           }
          ],
          "scattermapbox": [
           {
            "marker": {
             "colorbar": {
              "outlinewidth": 0,
              "ticks": ""
             }
            },
            "type": "scattermapbox"
           }
          ],
          "scatterpolar": [
           {
            "marker": {
             "colorbar": {
              "outlinewidth": 0,
              "ticks": ""
             }
            },
            "type": "scatterpolar"
           }
          ],
          "scatterpolargl": [
           {
            "marker": {
             "colorbar": {
              "outlinewidth": 0,
              "ticks": ""
             }
            },
            "type": "scatterpolargl"
           }
          ],
          "scatterternary": [
           {
            "marker": {
             "colorbar": {
              "outlinewidth": 0,
              "ticks": ""
             }
            },
            "type": "scatterternary"
           }
          ],
          "surface": [
           {
            "colorbar": {
             "outlinewidth": 0,
             "ticks": ""
            },
            "colorscale": [
             [
              0,
              "#0d0887"
             ],
             [
              0.1111111111111111,
              "#46039f"
             ],
             [
              0.2222222222222222,
              "#7201a8"
             ],
             [
              0.3333333333333333,
              "#9c179e"
             ],
             [
              0.4444444444444444,
              "#bd3786"
             ],
             [
              0.5555555555555556,
              "#d8576b"
             ],
             [
              0.6666666666666666,
              "#ed7953"
             ],
             [
              0.7777777777777778,
              "#fb9f3a"
             ],
             [
              0.8888888888888888,
              "#fdca26"
             ],
             [
              1,
              "#f0f921"
             ]
            ],
            "type": "surface"
           }
          ],
          "table": [
           {
            "cells": {
             "fill": {
              "color": "#EBF0F8"
             },
             "line": {
              "color": "white"
             }
            },
            "header": {
             "fill": {
              "color": "#C8D4E3"
             },
             "line": {
              "color": "white"
             }
            },
            "type": "table"
           }
          ]
         },
         "layout": {
          "annotationdefaults": {
           "arrowcolor": "#2a3f5f",
           "arrowhead": 0,
           "arrowwidth": 1
          },
          "autotypenumbers": "strict",
          "coloraxis": {
           "colorbar": {
            "outlinewidth": 0,
            "ticks": ""
           }
          },
          "colorscale": {
           "diverging": [
            [
             0,
             "#8e0152"
            ],
            [
             0.1,
             "#c51b7d"
            ],
            [
             0.2,
             "#de77ae"
            ],
            [
             0.3,
             "#f1b6da"
            ],
            [
             0.4,
             "#fde0ef"
            ],
            [
             0.5,
             "#f7f7f7"
            ],
            [
             0.6,
             "#e6f5d0"
            ],
            [
             0.7,
             "#b8e186"
            ],
            [
             0.8,
             "#7fbc41"
            ],
            [
             0.9,
             "#4d9221"
            ],
            [
             1,
             "#276419"
            ]
           ],
           "sequential": [
            [
             0,
             "#0d0887"
            ],
            [
             0.1111111111111111,
             "#46039f"
            ],
            [
             0.2222222222222222,
             "#7201a8"
            ],
            [
             0.3333333333333333,
             "#9c179e"
            ],
            [
             0.4444444444444444,
             "#bd3786"
            ],
            [
             0.5555555555555556,
             "#d8576b"
            ],
            [
             0.6666666666666666,
             "#ed7953"
            ],
            [
             0.7777777777777778,
             "#fb9f3a"
            ],
            [
             0.8888888888888888,
             "#fdca26"
            ],
            [
             1,
             "#f0f921"
            ]
           ],
           "sequentialminus": [
            [
             0,
             "#0d0887"
            ],
            [
             0.1111111111111111,
             "#46039f"
            ],
            [
             0.2222222222222222,
             "#7201a8"
            ],
            [
             0.3333333333333333,
             "#9c179e"
            ],
            [
             0.4444444444444444,
             "#bd3786"
            ],
            [
             0.5555555555555556,
             "#d8576b"
            ],
            [
             0.6666666666666666,
             "#ed7953"
            ],
            [
             0.7777777777777778,
             "#fb9f3a"
            ],
            [
             0.8888888888888888,
             "#fdca26"
            ],
            [
             1,
             "#f0f921"
            ]
           ]
          },
          "colorway": [
           "#636efa",
           "#EF553B",
           "#00cc96",
           "#ab63fa",
           "#FFA15A",
           "#19d3f3",
           "#FF6692",
           "#B6E880",
           "#FF97FF",
           "#FECB52"
          ],
          "font": {
           "color": "#2a3f5f"
          },
          "geo": {
           "bgcolor": "white",
           "lakecolor": "white",
           "landcolor": "#E5ECF6",
           "showlakes": true,
           "showland": true,
           "subunitcolor": "white"
          },
          "hoverlabel": {
           "align": "left"
          },
          "hovermode": "closest",
          "mapbox": {
           "style": "light"
          },
          "paper_bgcolor": "white",
          "plot_bgcolor": "#E5ECF6",
          "polar": {
           "angularaxis": {
            "gridcolor": "white",
            "linecolor": "white",
            "ticks": ""
           },
           "bgcolor": "#E5ECF6",
           "radialaxis": {
            "gridcolor": "white",
            "linecolor": "white",
            "ticks": ""
           }
          },
          "scene": {
           "xaxis": {
            "backgroundcolor": "#E5ECF6",
            "gridcolor": "white",
            "gridwidth": 2,
            "linecolor": "white",
            "showbackground": true,
            "ticks": "",
            "zerolinecolor": "white"
           },
           "yaxis": {
            "backgroundcolor": "#E5ECF6",
            "gridcolor": "white",
            "gridwidth": 2,
            "linecolor": "white",
            "showbackground": true,
            "ticks": "",
            "zerolinecolor": "white"
           },
           "zaxis": {
            "backgroundcolor": "#E5ECF6",
            "gridcolor": "white",
            "gridwidth": 2,
            "linecolor": "white",
            "showbackground": true,
            "ticks": "",
            "zerolinecolor": "white"
           }
          },
          "shapedefaults": {
           "line": {
            "color": "#2a3f5f"
           }
          },
          "ternary": {
           "aaxis": {
            "gridcolor": "white",
            "linecolor": "white",
            "ticks": ""
           },
           "baxis": {
            "gridcolor": "white",
            "linecolor": "white",
            "ticks": ""
           },
           "bgcolor": "#E5ECF6",
           "caxis": {
            "gridcolor": "white",
            "linecolor": "white",
            "ticks": ""
           }
          },
          "title": {
           "x": 0.05
          },
          "xaxis": {
           "automargin": true,
           "gridcolor": "white",
           "linecolor": "white",
           "ticks": "",
           "title": {
            "standoff": 15
           },
           "zerolinecolor": "white",
           "zerolinewidth": 2
          },
          "yaxis": {
           "automargin": true,
           "gridcolor": "white",
           "linecolor": "white",
           "ticks": "",
           "title": {
            "standoff": 15
           },
           "zerolinecolor": "white",
           "zerolinewidth": 2
          }
         }
        },
        "title": {
         "text": "Accelerated vs. Standard Courses: Duration and Performance",
         "x": 0.5
        },
        "xaxis": {
         "dtick": 2,
         "gridcolor": "lightgray",
         "showgrid": true,
         "title": {
          "text": "Average Course Duration (Months)"
         }
        },
        "xaxis2": {
         "overlaying": "x",
         "range": [
          0,
          4
         ],
         "showgrid": false,
         "side": "top",
         "title": {
          "text": "Average GPA"
         }
        },
        "yaxis": {
         "title": {
          "text": "Course Type"
         }
        }
       }
      }
     },
     "metadata": {},
     "output_type": "display_data"
    }
   ],
   "source": [
    "import pandas as pd\n",
    "import plotly.graph_objects as go\n",
    "\n",
    "# --- 1. Load the Data ---\n",
    "# (Assume df is already loaded with your dataset)\n",
    "\n",
    "# --- 2. Feature Engineering: Identify Accelerated Courses ---\n",
    "# Create a new column to flag students in the accelerated program\n",
    "df['Is_Accelerated'] = df['STUDENT ID'].str.contains('A', na=False)\n",
    "\n",
    "# Create a more descriptive course name for the plot's y-axis\n",
    "df['Course_Type_Name'] = df.apply(\n",
    "    lambda row: f\"{row['COURSE NAME']} (Accelerated)\" if row['Is_Accelerated'] else f\"{row['COURSE NAME']} (Standard)\",\n",
    "    axis=1\n",
    ")\n",
    "\n",
    "# --- 3. Aggregate Data ---\n",
    "# Get a single, final record for each student\n",
    "student_final_records = df.drop_duplicates(subset='STUDENT ID', keep='last')\n",
    "\n",
    "# Group by the new descriptive course name and calculate the required metrics\n",
    "course_comparison_summary = student_final_records.groupby('Course_Type_Name').agg(\n",
    "    Average_Duration=('COURSE_DURATION_MONTHS', 'mean'),\n",
    "    Average_GPA=('CUMULATIVE_GPA', 'mean'),\n",
    "    Number_of_Students=('STUDENT ID', 'nunique') # Added student count\n",
    ").reset_index()\n",
    "\n",
    "# Sort the data to group standard and accelerated versions of the same course together\n",
    "course_comparison_summary = course_comparison_summary.sort_values(by='Course_Type_Name', ascending=True)\n",
    "\n",
    "# --- 4. Color coding: Red for Certificates, Blue otherwise ---\n",
    "bar_colors = [\n",
    "    'red' if 'Certificate' in course else '#4A90E2'\n",
    "    for course in course_comparison_summary['Course_Type_Name']\n",
    "]\n",
    "\n",
    "# --- 5. Create the Combination Chart ---\n",
    "fig = go.Figure()\n",
    "\n",
    "# --- Add the Bar Chart (Average Course Duration) ---\n",
    "fig.add_trace(go.Bar(\n",
    "    y=course_comparison_summary['Course_Type_Name'],\n",
    "    x=course_comparison_summary['Average_Duration'],\n",
    "    name='Average Duration (Months)',\n",
    "    marker_color=bar_colors,  # Apply custom colors\n",
    "    orientation='h',\n",
    "    customdata=course_comparison_summary['Number_of_Students'], # Pass student count to hover\n",
    "    hovertemplate='<b>%{y}</b><br>Avg. Duration: %{x:.1f} months<br>Student Count: %{customdata}<extra></extra>'\n",
    "))\n",
    "\n",
    "# --- Add the Line Graph (Average GPA) ---\n",
    "fig.add_trace(go.Scatter(\n",
    "    y=course_comparison_summary['Course_Type_Name'],\n",
    "    x=course_comparison_summary['Average_GPA'],\n",
    "    name='Average GPA',\n",
    "    mode='lines+markers',\n",
    "    marker=dict(color='#D0021B', size=10),\n",
    "    line=dict(color='#50E3C2', width=3),\n",
    "    xaxis='x2',  # Assign this trace to the secondary x-axis\n",
    "    customdata=course_comparison_summary['Number_of_Students'], # Pass student count to hover\n",
    "    hovertemplate='<b>%{y}</b><br>Average GPA: %{x:.2f}<br>Student Count: %{customdata}<extra></extra>'\n",
    "))\n",
    "\n",
    "# --- 6. Customize the Layout ---\n",
    "fig.update_layout(\n",
    "    title_text='Accelerated vs. Standard Courses: Duration and Performance',\n",
    "    title_x=0.5,\n",
    "    yaxis_title='Course Type',\n",
    "    plot_bgcolor='white',\n",
    "    paper_bgcolor='white',\n",
    "    showlegend=True,\n",
    "    legend=dict(\n",
    "        orientation=\"h\",\n",
    "        yanchor=\"top\",\n",
    "        y=-0.2,\n",
    "        xanchor=\"left\",\n",
    "        x=0,\n",
    "        font=dict(size=14)\n",
    "    ),\n",
    "    # Primary x-axis (for bars) with grid lines\n",
    "    xaxis=dict(\n",
    "        title_text=\"Average Course Duration (Months)\",\n",
    "        showgrid=True,       # Enable grid lines for bar chart\n",
    "        gridcolor='lightgray',\n",
    "        dtick=2\n",
    "    ),\n",
    "    # Secondary x-axis (for line chart)\n",
    "    xaxis2=dict(\n",
    "        title_text=\"Average GPA\",\n",
    "        overlaying='x',\n",
    "        side='top',\n",
    "        range=[0, 4.0],\n",
    "        showgrid=False\n",
    "    )\n",
    ")\n",
    "\n",
    "# --- 7. Show the plot ---\n",
    "fig.show()\n"
   ]
  },
  {
   "cell_type": "markdown",
   "id": "f77dc29f",
   "metadata": {},
   "source": [
    "### **Insights**\n",
    "- **Efficiency-Excellence Paradox Confirmed**: Accelerated Certificate in HR Management achieves a 3.25 average GPA compared to 3.12 for the standard 6-month version, while requiring only 3 months duration. Similarly, accelerated Digital Marketing outperforms its standard counterpart, demonstrating that intensive learning environments enhance rather than compromise academic outcomes.\n",
    "\n",
    "- **Optimal Learning Intensity Model**: The data suggests that concentrated, focused study periods eliminate knowledge decay between sessions and may attract more motivated student cohorts, with accelerated programs consistently showing both shorter duration (red bars) and higher performance (red dots on the right axis).\n",
    "\n",
    "- **Actionable Insight**: Expand the accelerated learning model to additional certificate programs and pilot accelerated tracks for selected diploma courses, particularly targeting the underperforming programs identified in Chart 1. Implement enhanced admission criteria to maintain the quality advantage while scaling this proven success model across the institution.\n"
   ]
  },
  {
   "cell_type": "markdown",
   "id": "387d5194",
   "metadata": {},
   "source": [
    "## **Chart 4: Performance Distribution by Course Funding Type (100% Stacked Bar Chart)**\n",
    "\n"
   ]
  },
  {
   "cell_type": "code",
   "execution_count": 19,
   "id": "a49a711a",
   "metadata": {},
   "outputs": [
    {
     "data": {
      "application/vnd.plotly.v1+json": {
       "config": {
        "plotlyServerURL": "https://plot.ly"
       },
       "data": [
        {
         "alignmentgroup": "True",
         "hovertemplate": "<b>%{fullData.name}</b><br>Funding: %{x}<br>Percentage: %{y:.1f}%<br><extra></extra>",
         "legendgroup": "Fail",
         "marker": {
          "color": "#d32f2f",
          "pattern": {
           "shape": ""
          }
         },
         "name": "Fail",
         "offsetgroup": "Fail",
         "orientation": "v",
         "showlegend": true,
         "textfont": {
          "size": 10
         },
         "textposition": "inside",
         "texttemplate": "%{y:.1f}%",
         "type": "bar",
         "x": [
          "Individual",
          "Individual (Waived App Fee)",
          "Individual - SFC",
          "Individual - SFC + $1000 SCHOLARSHIP",
          "Sponsored",
          "Sponsored - SDF"
         ],
         "xaxis": "x",
         "y": [
          1.4084507042253522,
          0,
          1.4705882352941175,
          0,
          0,
          0
         ],
         "yaxis": "y"
        },
        {
         "alignmentgroup": "True",
         "hovertemplate": "<b>%{fullData.name}</b><br>Funding: %{x}<br>Percentage: %{y:.1f}%<br><extra></extra>",
         "legendgroup": "Credit",
         "marker": {
          "color": "#ff9800",
          "pattern": {
           "shape": ""
          }
         },
         "name": "Credit",
         "offsetgroup": "Credit",
         "orientation": "v",
         "showlegend": true,
         "textfont": {
          "size": 10
         },
         "textposition": "inside",
         "texttemplate": "%{y:.1f}%",
         "type": "bar",
         "x": [
          "Individual",
          "Individual (Waived App Fee)",
          "Individual - SFC",
          "Individual - SFC + $1000 SCHOLARSHIP",
          "Sponsored",
          "Sponsored - SDF"
         ],
         "xaxis": "x",
         "y": [
          12.676056338028168,
          50,
          17.647058823529413,
          0,
          12.962962962962962,
          0
         ],
         "yaxis": "y"
        },
        {
         "alignmentgroup": "True",
         "hovertemplate": "<b>%{fullData.name}</b><br>Funding: %{x}<br>Percentage: %{y:.1f}%<br><extra></extra>",
         "legendgroup": "Good Credit",
         "marker": {
          "color": "#fdd835",
          "pattern": {
           "shape": ""
          }
         },
         "name": "Good Credit",
         "offsetgroup": "Good Credit",
         "orientation": "v",
         "showlegend": true,
         "textfont": {
          "size": 10
         },
         "textposition": "inside",
         "texttemplate": "%{y:.1f}%",
         "type": "bar",
         "x": [
          "Individual",
          "Individual (Waived App Fee)",
          "Individual - SFC",
          "Individual - SFC + $1000 SCHOLARSHIP",
          "Sponsored",
          "Sponsored - SDF"
         ],
         "xaxis": "x",
         "y": [
          16.901408450704224,
          25,
          19.11764705882353,
          0,
          24.074074074074073,
          33.33333333333333
         ],
         "yaxis": "y"
        },
        {
         "alignmentgroup": "True",
         "hovertemplate": "<b>%{fullData.name}</b><br>Funding: %{x}<br>Percentage: %{y:.1f}%<br><extra></extra>",
         "legendgroup": "Good",
         "marker": {
          "color": "#8bc34a",
          "pattern": {
           "shape": ""
          }
         },
         "name": "Good",
         "offsetgroup": "Good",
         "orientation": "v",
         "showlegend": true,
         "textfont": {
          "size": 10
         },
         "textposition": "inside",
         "texttemplate": "%{y:.1f}%",
         "type": "bar",
         "x": [
          "Individual",
          "Individual (Waived App Fee)",
          "Individual - SFC",
          "Individual - SFC + $1000 SCHOLARSHIP",
          "Sponsored",
          "Sponsored - SDF"
         ],
         "xaxis": "x",
         "y": [
          36.61971830985916,
          0,
          17.647058823529413,
          50,
          24.074074074074073,
          33.33333333333333
         ],
         "yaxis": "y"
        },
        {
         "alignmentgroup": "True",
         "hovertemplate": "<b>%{fullData.name}</b><br>Funding: %{x}<br>Percentage: %{y:.1f}%<br><extra></extra>",
         "legendgroup": "Very Good",
         "marker": {
          "color": "#4caf50",
          "pattern": {
           "shape": ""
          }
         },
         "name": "Very Good",
         "offsetgroup": "Very Good",
         "orientation": "v",
         "showlegend": true,
         "textfont": {
          "size": 10
         },
         "textposition": "inside",
         "texttemplate": "%{y:.1f}%",
         "type": "bar",
         "x": [
          "Individual",
          "Individual (Waived App Fee)",
          "Individual - SFC",
          "Individual - SFC + $1000 SCHOLARSHIP",
          "Sponsored",
          "Sponsored - SDF"
         ],
         "xaxis": "x",
         "y": [
          30.985915492957744,
          25,
          39.705882352941174,
          50,
          38.88888888888889,
          33.33333333333333
         ],
         "yaxis": "y"
        },
        {
         "alignmentgroup": "True",
         "hovertemplate": "<b>%{fullData.name}</b><br>Funding: %{x}<br>Percentage: %{y:.1f}%<br><extra></extra>",
         "legendgroup": "Excellent",
         "marker": {
          "color": "#1b5e20",
          "pattern": {
           "shape": ""
          }
         },
         "name": "Excellent",
         "offsetgroup": "Excellent",
         "orientation": "v",
         "showlegend": true,
         "textfont": {
          "size": 10
         },
         "textposition": "inside",
         "texttemplate": "%{y:.1f}%",
         "type": "bar",
         "x": [
          "Individual",
          "Individual (Waived App Fee)",
          "Individual - SFC",
          "Individual - SFC + $1000 SCHOLARSHIP",
          "Sponsored",
          "Sponsored - SDF"
         ],
         "xaxis": "x",
         "y": [
          1.4084507042253522,
          0,
          4.411764705882353,
          0,
          0,
          0
         ],
         "yaxis": "y"
        }
       ],
       "layout": {
        "barmode": "relative",
        "font": {
         "size": 12
        },
        "height": 700,
        "legend": {
         "orientation": "h",
         "title": {
          "text": "CGPA_PERFORMANCE_CATEGORY"
         },
         "tracegroupgap": 0,
         "x": 1,
         "xanchor": "right",
         "y": 1.02,
         "yanchor": "bottom"
        },
        "margin": {
         "b": 150
        },
        "showlegend": true,
        "template": {
         "data": {
          "bar": [
           {
            "error_x": {
             "color": "#2a3f5f"
            },
            "error_y": {
             "color": "#2a3f5f"
            },
            "marker": {
             "line": {
              "color": "#E5ECF6",
              "width": 0.5
             },
             "pattern": {
              "fillmode": "overlay",
              "size": 10,
              "solidity": 0.2
             }
            },
            "type": "bar"
           }
          ],
          "barpolar": [
           {
            "marker": {
             "line": {
              "color": "#E5ECF6",
              "width": 0.5
             },
             "pattern": {
              "fillmode": "overlay",
              "size": 10,
              "solidity": 0.2
             }
            },
            "type": "barpolar"
           }
          ],
          "carpet": [
           {
            "aaxis": {
             "endlinecolor": "#2a3f5f",
             "gridcolor": "white",
             "linecolor": "white",
             "minorgridcolor": "white",
             "startlinecolor": "#2a3f5f"
            },
            "baxis": {
             "endlinecolor": "#2a3f5f",
             "gridcolor": "white",
             "linecolor": "white",
             "minorgridcolor": "white",
             "startlinecolor": "#2a3f5f"
            },
            "type": "carpet"
           }
          ],
          "choropleth": [
           {
            "colorbar": {
             "outlinewidth": 0,
             "ticks": ""
            },
            "type": "choropleth"
           }
          ],
          "contour": [
           {
            "colorbar": {
             "outlinewidth": 0,
             "ticks": ""
            },
            "colorscale": [
             [
              0,
              "#0d0887"
             ],
             [
              0.1111111111111111,
              "#46039f"
             ],
             [
              0.2222222222222222,
              "#7201a8"
             ],
             [
              0.3333333333333333,
              "#9c179e"
             ],
             [
              0.4444444444444444,
              "#bd3786"
             ],
             [
              0.5555555555555556,
              "#d8576b"
             ],
             [
              0.6666666666666666,
              "#ed7953"
             ],
             [
              0.7777777777777778,
              "#fb9f3a"
             ],
             [
              0.8888888888888888,
              "#fdca26"
             ],
             [
              1,
              "#f0f921"
             ]
            ],
            "type": "contour"
           }
          ],
          "contourcarpet": [
           {
            "colorbar": {
             "outlinewidth": 0,
             "ticks": ""
            },
            "type": "contourcarpet"
           }
          ],
          "heatmap": [
           {
            "colorbar": {
             "outlinewidth": 0,
             "ticks": ""
            },
            "colorscale": [
             [
              0,
              "#0d0887"
             ],
             [
              0.1111111111111111,
              "#46039f"
             ],
             [
              0.2222222222222222,
              "#7201a8"
             ],
             [
              0.3333333333333333,
              "#9c179e"
             ],
             [
              0.4444444444444444,
              "#bd3786"
             ],
             [
              0.5555555555555556,
              "#d8576b"
             ],
             [
              0.6666666666666666,
              "#ed7953"
             ],
             [
              0.7777777777777778,
              "#fb9f3a"
             ],
             [
              0.8888888888888888,
              "#fdca26"
             ],
             [
              1,
              "#f0f921"
             ]
            ],
            "type": "heatmap"
           }
          ],
          "heatmapgl": [
           {
            "colorbar": {
             "outlinewidth": 0,
             "ticks": ""
            },
            "colorscale": [
             [
              0,
              "#0d0887"
             ],
             [
              0.1111111111111111,
              "#46039f"
             ],
             [
              0.2222222222222222,
              "#7201a8"
             ],
             [
              0.3333333333333333,
              "#9c179e"
             ],
             [
              0.4444444444444444,
              "#bd3786"
             ],
             [
              0.5555555555555556,
              "#d8576b"
             ],
             [
              0.6666666666666666,
              "#ed7953"
             ],
             [
              0.7777777777777778,
              "#fb9f3a"
             ],
             [
              0.8888888888888888,
              "#fdca26"
             ],
             [
              1,
              "#f0f921"
             ]
            ],
            "type": "heatmapgl"
           }
          ],
          "histogram": [
           {
            "marker": {
             "pattern": {
              "fillmode": "overlay",
              "size": 10,
              "solidity": 0.2
             }
            },
            "type": "histogram"
           }
          ],
          "histogram2d": [
           {
            "colorbar": {
             "outlinewidth": 0,
             "ticks": ""
            },
            "colorscale": [
             [
              0,
              "#0d0887"
             ],
             [
              0.1111111111111111,
              "#46039f"
             ],
             [
              0.2222222222222222,
              "#7201a8"
             ],
             [
              0.3333333333333333,
              "#9c179e"
             ],
             [
              0.4444444444444444,
              "#bd3786"
             ],
             [
              0.5555555555555556,
              "#d8576b"
             ],
             [
              0.6666666666666666,
              "#ed7953"
             ],
             [
              0.7777777777777778,
              "#fb9f3a"
             ],
             [
              0.8888888888888888,
              "#fdca26"
             ],
             [
              1,
              "#f0f921"
             ]
            ],
            "type": "histogram2d"
           }
          ],
          "histogram2dcontour": [
           {
            "colorbar": {
             "outlinewidth": 0,
             "ticks": ""
            },
            "colorscale": [
             [
              0,
              "#0d0887"
             ],
             [
              0.1111111111111111,
              "#46039f"
             ],
             [
              0.2222222222222222,
              "#7201a8"
             ],
             [
              0.3333333333333333,
              "#9c179e"
             ],
             [
              0.4444444444444444,
              "#bd3786"
             ],
             [
              0.5555555555555556,
              "#d8576b"
             ],
             [
              0.6666666666666666,
              "#ed7953"
             ],
             [
              0.7777777777777778,
              "#fb9f3a"
             ],
             [
              0.8888888888888888,
              "#fdca26"
             ],
             [
              1,
              "#f0f921"
             ]
            ],
            "type": "histogram2dcontour"
           }
          ],
          "mesh3d": [
           {
            "colorbar": {
             "outlinewidth": 0,
             "ticks": ""
            },
            "type": "mesh3d"
           }
          ],
          "parcoords": [
           {
            "line": {
             "colorbar": {
              "outlinewidth": 0,
              "ticks": ""
             }
            },
            "type": "parcoords"
           }
          ],
          "pie": [
           {
            "automargin": true,
            "type": "pie"
           }
          ],
          "scatter": [
           {
            "fillpattern": {
             "fillmode": "overlay",
             "size": 10,
             "solidity": 0.2
            },
            "type": "scatter"
           }
          ],
          "scatter3d": [
           {
            "line": {
             "colorbar": {
              "outlinewidth": 0,
              "ticks": ""
             }
            },
            "marker": {
             "colorbar": {
              "outlinewidth": 0,
              "ticks": ""
             }
            },
            "type": "scatter3d"
           }
          ],
          "scattercarpet": [
           {
            "marker": {
             "colorbar": {
              "outlinewidth": 0,
              "ticks": ""
             }
            },
            "type": "scattercarpet"
           }
          ],
          "scattergeo": [
           {
            "marker": {
             "colorbar": {
              "outlinewidth": 0,
              "ticks": ""
             }
            },
            "type": "scattergeo"
           }
          ],
          "scattergl": [
           {
            "marker": {
             "colorbar": {
              "outlinewidth": 0,
              "ticks": ""
             }
            },
            "type": "scattergl"
           }
          ],
          "scattermapbox": [
           {
            "marker": {
             "colorbar": {
              "outlinewidth": 0,
              "ticks": ""
             }
            },
            "type": "scattermapbox"
           }
          ],
          "scatterpolar": [
           {
            "marker": {
             "colorbar": {
              "outlinewidth": 0,
              "ticks": ""
             }
            },
            "type": "scatterpolar"
           }
          ],
          "scatterpolargl": [
           {
            "marker": {
             "colorbar": {
              "outlinewidth": 0,
              "ticks": ""
             }
            },
            "type": "scatterpolargl"
           }
          ],
          "scatterternary": [
           {
            "marker": {
             "colorbar": {
              "outlinewidth": 0,
              "ticks": ""
             }
            },
            "type": "scatterternary"
           }
          ],
          "surface": [
           {
            "colorbar": {
             "outlinewidth": 0,
             "ticks": ""
            },
            "colorscale": [
             [
              0,
              "#0d0887"
             ],
             [
              0.1111111111111111,
              "#46039f"
             ],
             [
              0.2222222222222222,
              "#7201a8"
             ],
             [
              0.3333333333333333,
              "#9c179e"
             ],
             [
              0.4444444444444444,
              "#bd3786"
             ],
             [
              0.5555555555555556,
              "#d8576b"
             ],
             [
              0.6666666666666666,
              "#ed7953"
             ],
             [
              0.7777777777777778,
              "#fb9f3a"
             ],
             [
              0.8888888888888888,
              "#fdca26"
             ],
             [
              1,
              "#f0f921"
             ]
            ],
            "type": "surface"
           }
          ],
          "table": [
           {
            "cells": {
             "fill": {
              "color": "#EBF0F8"
             },
             "line": {
              "color": "white"
             }
            },
            "header": {
             "fill": {
              "color": "#C8D4E3"
             },
             "line": {
              "color": "white"
             }
            },
            "type": "table"
           }
          ]
         },
         "layout": {
          "annotationdefaults": {
           "arrowcolor": "#2a3f5f",
           "arrowhead": 0,
           "arrowwidth": 1
          },
          "autotypenumbers": "strict",
          "coloraxis": {
           "colorbar": {
            "outlinewidth": 0,
            "ticks": ""
           }
          },
          "colorscale": {
           "diverging": [
            [
             0,
             "#8e0152"
            ],
            [
             0.1,
             "#c51b7d"
            ],
            [
             0.2,
             "#de77ae"
            ],
            [
             0.3,
             "#f1b6da"
            ],
            [
             0.4,
             "#fde0ef"
            ],
            [
             0.5,
             "#f7f7f7"
            ],
            [
             0.6,
             "#e6f5d0"
            ],
            [
             0.7,
             "#b8e186"
            ],
            [
             0.8,
             "#7fbc41"
            ],
            [
             0.9,
             "#4d9221"
            ],
            [
             1,
             "#276419"
            ]
           ],
           "sequential": [
            [
             0,
             "#0d0887"
            ],
            [
             0.1111111111111111,
             "#46039f"
            ],
            [
             0.2222222222222222,
             "#7201a8"
            ],
            [
             0.3333333333333333,
             "#9c179e"
            ],
            [
             0.4444444444444444,
             "#bd3786"
            ],
            [
             0.5555555555555556,
             "#d8576b"
            ],
            [
             0.6666666666666666,
             "#ed7953"
            ],
            [
             0.7777777777777778,
             "#fb9f3a"
            ],
            [
             0.8888888888888888,
             "#fdca26"
            ],
            [
             1,
             "#f0f921"
            ]
           ],
           "sequentialminus": [
            [
             0,
             "#0d0887"
            ],
            [
             0.1111111111111111,
             "#46039f"
            ],
            [
             0.2222222222222222,
             "#7201a8"
            ],
            [
             0.3333333333333333,
             "#9c179e"
            ],
            [
             0.4444444444444444,
             "#bd3786"
            ],
            [
             0.5555555555555556,
             "#d8576b"
            ],
            [
             0.6666666666666666,
             "#ed7953"
            ],
            [
             0.7777777777777778,
             "#fb9f3a"
            ],
            [
             0.8888888888888888,
             "#fdca26"
            ],
            [
             1,
             "#f0f921"
            ]
           ]
          },
          "colorway": [
           "#636efa",
           "#EF553B",
           "#00cc96",
           "#ab63fa",
           "#FFA15A",
           "#19d3f3",
           "#FF6692",
           "#B6E880",
           "#FF97FF",
           "#FECB52"
          ],
          "font": {
           "color": "#2a3f5f"
          },
          "geo": {
           "bgcolor": "white",
           "lakecolor": "white",
           "landcolor": "#E5ECF6",
           "showlakes": true,
           "showland": true,
           "subunitcolor": "white"
          },
          "hoverlabel": {
           "align": "left"
          },
          "hovermode": "closest",
          "mapbox": {
           "style": "light"
          },
          "paper_bgcolor": "white",
          "plot_bgcolor": "#E5ECF6",
          "polar": {
           "angularaxis": {
            "gridcolor": "white",
            "linecolor": "white",
            "ticks": ""
           },
           "bgcolor": "#E5ECF6",
           "radialaxis": {
            "gridcolor": "white",
            "linecolor": "white",
            "ticks": ""
           }
          },
          "scene": {
           "xaxis": {
            "backgroundcolor": "#E5ECF6",
            "gridcolor": "white",
            "gridwidth": 2,
            "linecolor": "white",
            "showbackground": true,
            "ticks": "",
            "zerolinecolor": "white"
           },
           "yaxis": {
            "backgroundcolor": "#E5ECF6",
            "gridcolor": "white",
            "gridwidth": 2,
            "linecolor": "white",
            "showbackground": true,
            "ticks": "",
            "zerolinecolor": "white"
           },
           "zaxis": {
            "backgroundcolor": "#E5ECF6",
            "gridcolor": "white",
            "gridwidth": 2,
            "linecolor": "white",
            "showbackground": true,
            "ticks": "",
            "zerolinecolor": "white"
           }
          },
          "shapedefaults": {
           "line": {
            "color": "#2a3f5f"
           }
          },
          "ternary": {
           "aaxis": {
            "gridcolor": "white",
            "linecolor": "white",
            "ticks": ""
           },
           "baxis": {
            "gridcolor": "white",
            "linecolor": "white",
            "ticks": ""
           },
           "bgcolor": "#E5ECF6",
           "caxis": {
            "gridcolor": "white",
            "linecolor": "white",
            "ticks": ""
           }
          },
          "title": {
           "x": 0.05
          },
          "xaxis": {
           "automargin": true,
           "gridcolor": "white",
           "linecolor": "white",
           "ticks": "",
           "title": {
            "standoff": 15
           },
           "zerolinecolor": "white",
           "zerolinewidth": 2
          },
          "yaxis": {
           "automargin": true,
           "gridcolor": "white",
           "linecolor": "white",
           "ticks": "",
           "title": {
            "standoff": 15
           },
           "zerolinecolor": "white",
           "zerolinewidth": 2
          }
         }
        },
        "title": {
         "text": "Performance Distribution by Course Funding Type"
        },
        "width": 1200,
        "xaxis": {
         "anchor": "y",
         "domain": [
          0,
          1
         ],
         "tickangle": -45,
         "title": {
          "text": "COURSE FUNDING"
         }
        },
        "yaxis": {
         "anchor": "x",
         "domain": [
          0,
          1
         ],
         "title": {
          "text": "value"
         }
        }
       }
      }
     },
     "metadata": {},
     "output_type": "display_data"
    }
   ],
   "source": [
    "import pandas as pd\n",
    "import plotly.express as px\n",
    "\n",
    "\n",
    "\n",
    "# --- 2. Prepare the Data ---\n",
    "# Get a single, final record for each student for accurate analysis\n",
    "student_final_records = df.drop_duplicates(subset='STUDENT ID', keep='last').copy()\n",
    "\n",
    "# Create a cross-tabulation to get the percentage of students in each category per funding type\n",
    "performance_dist = pd.crosstab(\n",
    "    index=student_final_records['COURSE FUNDING'],\n",
    "    columns=student_final_records['CGPA_PERFORMANCE_CATEGORY'],\n",
    "    normalize='index'\n",
    ") * 100\n",
    "\n",
    "# Define the logical order for performance categories\n",
    "category_order = ['Fail', 'Credit', 'Good Credit', 'Good', 'Very Good', 'Excellent']\n",
    "for cat in category_order:\n",
    "    if cat not in performance_dist.columns:\n",
    "        performance_dist[cat] = 0\n",
    "performance_dist = performance_dist[category_order]\n",
    "\n",
    "# --- 3. Create the Enhanced Stacked Bar Chart ---\n",
    "\n",
    "# Define a better color scheme with a clear performance gradient\n",
    "improved_color_map = {\n",
    "    'Fail': '#d32f2f',       # Strong red\n",
    "    'Credit': '#ff9800',     # Orange  \n",
    "    'Good Credit': '#fdd835',       # Yellow\n",
    "    'Good': '#8bc34a',  # Light green\n",
    "    'Very Good': '#4caf50',    # Green\n",
    "    'Excellent': '#1b5e20'     # Dark green\n",
    "}\n",
    "\n",
    "# Create the enhanced stacked bar chart\n",
    "fig = px.bar(\n",
    "    performance_dist,\n",
    "    x=performance_dist.index,\n",
    "    y=performance_dist.columns,\n",
    "    title='Performance Distribution by Course Funding Type',\n",
    "    labels={\"x\": \"Course Funding Type\", \"y\": \"Percentage of Students (%)\", \"color\": \"Performance Category\"},\n",
    "    color_discrete_map=improved_color_map,\n",
    "    text_auto='.1f'  # Show percentages on bars\n",
    ")\n",
    "\n",
    "# Enhance layout and interactivity\n",
    "fig.update_layout(\n",
    "    xaxis_tickangle=-45,  # Rotate x-axis labels\n",
    "    height=700,           # Increased height\n",
    "    width=1200,           # Increased width\n",
    "    showlegend=True,\n",
    "    legend=dict(orientation=\"h\", yanchor=\"bottom\", y=1.02, xanchor=\"right\", x=1),\n",
    "    margin=dict(b=150),  # Increased bottom margin for rotated labels\n",
    "    font=dict(size=12)\n",
    ")\n",
    "\n",
    "# Improve hover information\n",
    "fig.update_traces(\n",
    "    hovertemplate='<b>%{fullData.name}</b><br>' +\n",
    "                  'Funding: %{x}<br>' +\n",
    "                  'Percentage: %{y:.1f}%<br>' +\n",
    "                  '<extra></extra>'\n",
    ")\n",
    "\n",
    "# Add percentage labels on bars and improve their appearance\n",
    "fig.update_traces(textposition='inside', textfont_size=10, texttemplate='%{y:.1f}%')\n",
    "\n",
    "# Show the plot\n",
    "fig.show()\n"
   ]
  },
  {
   "cell_type": "markdown",
   "id": "8244d060",
   "metadata": {},
   "source": [
    "### **Insights**\n",
    "- **Financial Security Performance Guarantee**: Students with comprehensive support show dramatically superior outcomes, with \"Individual - SFC + $1000 SCHOLARSHIP\" achieving 100% performance in \"Good\" or better categories, while \"Sponsored\" and \"Sponsored - SDF\" students concentrate heavily in \"Very Good\" and \"Excellent\" bands with minimal lower-tier performance.\n",
    "\n",
    "- **Self-Funded Risk Concentration**: \"Individual\" students show the most concerning profile with visible failure rates (red segments) and the highest proportion of \"Credit\" performance, while \"Individual (Waived App Fee)\" shows 50% credit concentration, indicating that partial financial relief alone is insufficient to guarantee success.\n",
    "\n",
    "- **Actionable Insight**: Establish a comprehensive financial aid expansion program targeting self-funded students, prioritizing those enrolled in high-risk programs. Create corporate partnership initiatives to increase sponsored student placements and implement income-based payment plans to reduce financial stress that demonstrably undermines academic performance.\n"
   ]
  },
  {
   "cell_type": "markdown",
   "id": "c3bee189",
   "metadata": {},
   "source": [
    "## **Comprehensive Analysis & Strategic Recommendations**\n",
    "\n",
    "The analysis reveals a sophisticated performance ecosystem where **program design, student preparation timeline, learning intensity, and financial security create multiplicative rather than additive effects** on academic success. Certificate programs emerge as the institutional gold standard, demonstrating that focused, competency-based education can achieve both efficiency and excellence when properly designed and supported.\n",
    "\n",
    "**The accelerated learning model represents a paradigm shift**, challenging traditional educational assumptions by proving that intensive, concentrated study periods enhance learning outcomes while reducing time-to-completion. The 3.25 vs 3.12 GPA difference in HR Management programs, combined with 50% time reduction, suggests that conventional semester-based pacing may actually impede optimal learning for motivated students.\n",
    "\n",
    "**Time away from education creates a measurable and predictable performance penalty** at -0.0620 GPA points per year, with the critical 8-10 year threshold marking where academic re-integration support becomes essential. This finding, combined with funding data showing that financial stress directly undermines academic achievement, reveals that mature students face compound disadvantages requiring targeted institutional responses.\n",
    "\n",
    "**Financial support emerges as the strongest predictor of academic success**, with comprehensive funding creating near-guaranteed positive outcomes while self-funded students bear disproportionate risk. The scholarship and sponsorship data provides compelling ROI evidence for expanded financial aid investment.\n",
    "\n",
    "### **Strategic Actionable Recommendations:**\n",
    "\n",
    "- **Accelerated Excellence Expansion** – Immediately scale the proven accelerated model to Diploma in Business Analytics and Specialist Diploma in Intelligent Systems, using the 3+ month intensive format with enhanced admission screening to address the identified performance gaps while reducing institutional resource allocation per successful graduate.\n",
    "\n",
    "- **Predictive Intervention Framework** – Implement a scoring system using years-away-from-education (weight: 0.6) and funding status (weight: 0.4) to identify high-risk students for mandatory pre-enrollment academic bridge programs, targeting the 8+ year demographic with intensive study skills, technology literacy, and subject-specific foundation modules.\n",
    "\n",
    "- **Financial Success Investment Strategy** – Establish a performance-based scholarship expansion targeting self-funded students in high-risk program categories, using the demonstrated 90%+ success rate of financially supported students to justify 3:1 ROI investment ratios in student aid programs.\n",
    "\n",
    "- **Program Performance Redesign** – Conduct immediate curriculum analysis of underperforming programs (Business Analytics, Intelligent Systems) using successful certificate program methodologies, focusing on competency-based assessment, industry-aligned content, and accelerated delivery where appropriate to achieve performance parity with institutional benchmarks."
   ]
  },
  {
   "cell_type": "markdown",
   "id": "9ad50414",
   "metadata": {},
   "source": [
    "# **Dashboard**\n",
    "---"
   ]
  },
  {
   "cell_type": "markdown",
   "id": "e2ae8911",
   "metadata": {},
   "source": [
    "#\n",
    "### Figure Builders"
   ]
  },
  {
   "cell_type": "code",
   "execution_count": 20,
   "id": "69076b55",
   "metadata": {},
   "outputs": [],
   "source": [
    "import pandas as pd\n",
    "import plotly.express as px\n",
    "import plotly.graph_objects as go\n",
    "from plotly.subplots import make_subplots\n",
    "import numpy as np\n",
    "from scipy import stats\n",
    "from dash import Dash, dcc, html, Input, Output, callback, State\n",
    "import dash_bootstrap_components as dbc\n",
    "\n",
    "# Define column mappings based on provided column names\n",
    "COL_STUDENT_ID = 'STUDENT ID'\n",
    "COL_COURSE_NAME = 'COURSE NAME'\n",
    "COL_GPA = 'CUMULATIVE_GPA'\n",
    "COL_CERT_TYPE = 'COURSE_CERTIFICATION_TYPE'\n",
    "COL_RESIDENCY_CLEAN = 'RESIDENCY STATUS'\n",
    "COL_QUAL = 'HIGHEST QUALIFICATION'\n",
    "COL_FUNDING = 'COURSE FUNDING'\n",
    "COL_MODE = 'FULL-TIME OR PART-TIME'\n",
    "COL_FEE = 'COURSE FEE'\n",
    "COL_AGE = 'AGE'\n",
    "COL_GPA_BAND = 'CGPA_PERFORMANCE_CATEGORY'\n",
    "COL_GENDER = 'GENDER'\n",
    "COL_DURATION = 'COURSE_DURATION_MONTHS'\n",
    "\n",
    "DF_PATH = \"cleaned_student_data.xlsx\"\n",
    "df = pd.read_excel(DF_PATH)\n",
    "# --- 2. Convert Date Columns to Datetime Objects ---\n",
    "# We use errors='coerce' to turn any unparseable dates into NaT (Not a Time), which can be handled later.\n",
    "df['COMMENCEMENT DATE'] = pd.to_datetime(df['COMMENCEMENT DATE'], errors='coerce')\n",
    "df['DATE ATTAINED HIGHEST QUALIFICATION'] = pd.to_datetime(df['DATE ATTAINED HIGHEST QUALIFICATION'], errors='coerce')\n",
    "\n",
    "\n",
    "# --- 3. Calculate the Difference in Years ---\n",
    "# The difference between two datetime objects is a Timedelta object.\n",
    "time_difference = df['COMMENCEMENT DATE'] - df['DATE ATTAINED HIGHEST QUALIFICATION']\n",
    "\n",
    "# FIX: Divide the Timedelta by another Timedelta representing one year (365.25 days)\n",
    "# This avoids the \"Unit Y is not supported\" error.\n",
    "df['Years_Off_School'] = time_difference / pd.to_timedelta('365.25D')\n",
    "\n",
    "# Dark and Light mode themes\n",
    "LIGHT_THEME = {\n",
    "    'bg_color': '#FFFFFF',\n",
    "    'paper_color': '#F8F9FA',\n",
    "    'text_color': '#2C3E50',\n",
    "    'grid_color': 'rgba(128,128,128,0.2)',\n",
    "    'template': 'simple_white'\n",
    "}\n",
    "\n",
    "DARK_THEME = {\n",
    "    'bg_color': '#2C3E50',\n",
    "    'paper_color': '#34495E',\n",
    "    'text_color': '#ECF0F1',\n",
    "    'grid_color': 'rgba(255,255,255,0.1)',\n",
    "    'template': 'plotly_dark'\n",
    "}\n",
    "\n",
    "# Helper function for empty data\n",
    "def _no_data_fig(msg=\"No data available for current filters\", is_dark=False):\n",
    "    \"\"\"Return an empty figure with a message when no data is available.\"\"\"\n",
    "    theme = DARK_THEME if is_dark else LIGHT_THEME\n",
    "    fig = go.Figure()\n",
    "    fig.add_annotation(\n",
    "        text=msg, x=0.5, y=0.5, xref=\"paper\", yref=\"paper\",\n",
    "        showarrow=False, font_size=16, font_color=theme['text_color']\n",
    "    )\n",
    "    fig.update_layout(\n",
    "        template=theme['template'],\n",
    "        plot_bgcolor=theme['bg_color'],\n",
    "        paper_bgcolor=theme['paper_color'],\n",
    "        height=400\n",
    "    )\n",
    "    return fig\n",
    "\n",
    "# Apply filters function - RENAMED to avoid collision\n",
    "def apply_advanced_filters(df, res_list, qual_list, fund_list, mode_list, gender_list, course_list):\n",
    "    \"\"\"Apply filters to the dataset based on multi-select selections.\"\"\"\n",
    "    d = df.copy()\n",
    "    \n",
    "    if res_list and \"All\" not in res_list:\n",
    "        d = d[d[COL_RESIDENCY_CLEAN].isin(res_list)]\n",
    "    if qual_list and \"All\" not in qual_list:\n",
    "        d = d[d[COL_QUAL].isin(qual_list)]\n",
    "    if fund_list and \"All\" not in fund_list:\n",
    "        d = d[d[COL_FUNDING].isin(fund_list)]\n",
    "    if mode_list and \"All\" not in mode_list:\n",
    "        d = d[d[COL_MODE].isin(mode_list)]\n",
    "    if gender_list and \"All\" not in gender_list:\n",
    "        d = d[d[COL_GENDER].isin(gender_list)]\n",
    "    if course_list and \"All\" not in course_list:\n",
    "        d = d[d[COL_COURSE_NAME].isin(course_list)]\n",
    "    \n",
    "    return d\n",
    "\n",
    "# Functions to build figures / charts\n",
    "\n",
    "def fig_course_performance_heatmap(d, is_dark=False):\n",
    "    \"\"\"Chart 1: Course Performance Matrix (Heatmap) - Plotly Graph Objects\"\"\"\n",
    "    theme = DARK_THEME if is_dark else LIGHT_THEME\n",
    "    \n",
    "    if d.empty:\n",
    "        return _no_data_fig(is_dark=is_dark)\n",
    "\n",
    "    try:\n",
    "        student_final_status = d.drop_duplicates(subset=COL_STUDENT_ID, keep='last').copy()\n",
    "        \n",
    "        if student_final_status.empty or COL_GPA_BAND not in student_final_status.columns:\n",
    "            return _no_data_fig(\"Missing required data for heatmap\", is_dark)\n",
    "\n",
    "        # Ensure we have valid data\n",
    "        student_final_status = student_final_status.dropna(subset=[COL_COURSE_NAME, COL_GPA_BAND, COL_GPA])\n",
    "        \n",
    "        if student_final_status.empty:\n",
    "            return _no_data_fig(\"No valid data after filtering\", is_dark)\n",
    "\n",
    "        # Create pivot tables\n",
    "        gpa_heatmap_data = student_final_status.pivot_table(\n",
    "            index=COL_COURSE_NAME, \n",
    "            columns=COL_GPA_BAND, \n",
    "            values=COL_GPA,\n",
    "            aggfunc='mean',\n",
    "            fill_value=np.nan  # Use NaN instead of 0 for empty cells\n",
    "        )\n",
    "\n",
    "        percentage_data = pd.crosstab(\n",
    "            index=student_final_status[COL_COURSE_NAME], \n",
    "            columns=student_final_status[COL_GPA_BAND],\n",
    "            normalize='index'\n",
    "        ) * 100\n",
    "\n",
    "        # Ensure consistent columns\n",
    "        all_categories = set(gpa_heatmap_data.columns) | set(percentage_data.columns)\n",
    "        category_order = ['Fail', 'Credit', 'Good Credit', 'Good', 'Very Good', 'Excellent']\n",
    "        available_categories = [cat for cat in category_order if cat in all_categories]\n",
    "        \n",
    "        if not available_categories:\n",
    "            return _no_data_fig(\"No performance categories found\", is_dark)\n",
    "\n",
    "        # Reindex both dataframes\n",
    "        gpa_heatmap_data = gpa_heatmap_data.reindex(columns=available_categories, fill_value=np.nan)\n",
    "        percentage_data = percentage_data.reindex(columns=available_categories, fill_value=0)\n",
    "\n",
    "        # Create text annotations - only show percentage if data exists\n",
    "        text_values = percentage_data.copy()\n",
    "        for i in range(len(text_values)):\n",
    "            for j in range(len(text_values.columns)):\n",
    "                if np.isnan(gpa_heatmap_data.iloc[i, j]):\n",
    "                    text_values.iloc[i, j] = \"No Data\"\n",
    "                elif text_values.iloc[i, j] > 0:\n",
    "                    text_values.iloc[i, j] = f'{text_values.iloc[i, j]:.1f}%'\n",
    "                else:\n",
    "                    text_values.iloc[i, j] = ''\n",
    "\n",
    "        # Create heatmap with improved handling of missing data\n",
    "        fig = go.Figure(data=go.Heatmap(\n",
    "            z=gpa_heatmap_data.values,\n",
    "            x=gpa_heatmap_data.columns,\n",
    "            y=gpa_heatmap_data.index,\n",
    "            colorscale=[[0, '#f0f0f0'], [0.5, \"#e7d10b\"], [1, '#4caf50']],  # Custom colorscale\n",
    "            zmid=2.5,\n",
    "            zmin=0,\n",
    "            zmax=4,\n",
    "            text=text_values.values,\n",
    "            texttemplate=\"%{text}\",\n",
    "            hovertemplate=\"<b>%{y}</b><br><b>%{x}</b><br>Average GPA: %{z:.2f}<extra></extra>\",\n",
    "            colorbar=dict(title=\"Average GPA\"),\n",
    "            textfont=dict(color=theme['text_color'])\n",
    "        ))\n",
    "\n",
    "        fig.update_layout(\n",
    "            title='Course Performance Matrix (Text = % of Students)',\n",
    "            xaxis=dict(title=\"Performance Category\", side=\"top\"),\n",
    "            yaxis=dict(title=\"Course Name\"),\n",
    "            height=500,\n",
    "            template=theme['template'],\n",
    "            margin=dict(t=80, b=50, l=250, r=100)\n",
    "        )\n",
    "\n",
    "        return fig\n",
    "\n",
    "    except Exception as e:\n",
    "        return _no_data_fig(f\"Error creating heatmap: {str(e)}\", is_dark)\n",
    "\n",
    "def fig_years_off_scatter(d, is_dark=False):\n",
    "    \"\"\"Chart 2: Impact of Time Off School on Final GPA - Plotly Express\"\"\"\n",
    "    theme = DARK_THEME if is_dark else LIGHT_THEME\n",
    "    \n",
    "    if d.empty:\n",
    "        return _no_data_fig(is_dark=is_dark)\n",
    "\n",
    "    try:\n",
    "        # Work with a copy to avoid modifying original data\n",
    "        df = d.copy()\n",
    "        \n",
    "        # --- 1. Ensure 'Years_Off_School' column exists ---\n",
    "        if 'Years_Off_School' not in df.columns:\n",
    "            print(\"Calculating 'Years_Off_School' column...\")\n",
    "            df['COMMENCEMENT DATE'] = pd.to_datetime(df['COMMENCEMENT DATE'], errors='coerce')\n",
    "            df['DATE ATTAINED HIGHEST QUALIFICATION'] = pd.to_datetime(df['DATE ATTAINED HIGHEST QUALIFICATION'], errors='coerce')\n",
    "            time_difference = df['COMMENCEMENT DATE'] - df['DATE ATTAINED HIGHEST QUALIFICATION']\n",
    "            df['Years_Off_School'] = time_difference / pd.to_timedelta('365.25D')\n",
    "\n",
    "        # --- 2. Prepare Data for Plotting ---\n",
    "        student_final_performance = df.drop_duplicates(subset=COL_STUDENT_ID, keep='last').copy()\n",
    "\n",
    "        student_final_performance.dropna(subset=['Years_Off_School', COL_GPA], inplace=True)\n",
    "        student_final_performance = student_final_performance[\n",
    "            (student_final_performance['Years_Off_School'] >= 0) &\n",
    "            (student_final_performance['Years_Off_School'] <= 30)\n",
    "        ]\n",
    "\n",
    "        if len(student_final_performance) < 5:\n",
    "            return _no_data_fig(\"Insufficient data for scatter plot\", is_dark)\n",
    "\n",
    "        # --- 3. Calculate Regression Equation ---\n",
    "        # Calculate regression statistics\n",
    "        x = student_final_performance['Years_Off_School']\n",
    "        y = student_final_performance[COL_GPA]\n",
    "        slope, intercept, r_value, p_value, std_err = stats.linregress(x, y)\n",
    "\n",
    "        # Format equation\n",
    "        if intercept >= 0:\n",
    "            equation_text = f\"CGPA = {slope:.4f} × Years_Off + {intercept:.3f}\"\n",
    "        else:\n",
    "            equation_text = f\"CGPA = {slope:.4f} × Years_Off - {abs(intercept):.3f}\"\n",
    "\n",
    "        # Add R² value\n",
    "        r_squared = r_value ** 2\n",
    "        equation_with_r2 = f\"{equation_text}<br>R² = {r_squared:.4f}\"\n",
    "\n",
    "        # --- 4. Define Performance Thresholds ---\n",
    "        category_thresholds = {\n",
    "            \"E\": 4.0,\n",
    "            \"VG\": 3.5,\n",
    "            \"G\": 3.0,\n",
    "            \"GC\": 2.5,\n",
    "            \"C\": 2.0\n",
    "        }\n",
    "\n",
    "        # --- 5. Create Scatter Plot ---\n",
    "        print(\"Generating scatter plot of 'Years Off School' vs. Final Cumulative GPA...\")\n",
    "\n",
    "        fig = px.scatter(\n",
    "            student_final_performance,\n",
    "            x='Years_Off_School',\n",
    "            y=COL_GPA,\n",
    "            color=COL_QUAL,  # Keep dots colored by qualification\n",
    "            trendline='ols',  # Single global trendline\n",
    "            trendline_scope='overall',  # Ensures only one trendline\n",
    "            title='Impact of Time Off School on Final Cumulative GPA',\n",
    "            labels={\n",
    "                'Years_Off_School': 'Years Between Qualification and Commencement',\n",
    "                COL_GPA: 'Final Cumulative GPA',\n",
    "                COL_QUAL: 'Highest Qualification'\n",
    "            }\n",
    "        )\n",
    "\n",
    "        # Apply theme AFTER creating the plot\n",
    "        fig.update_layout(template=theme['template'])\n",
    "\n",
    "        # Customize hover\n",
    "        fig.update_traces(\n",
    "            selector=dict(mode='markers'),\n",
    "            hovertemplate='<b>Years Off</b>: %{x:.1f}'\n",
    "                          '<br><b>Final CGPA</b>: %{y:.2f}'\n",
    "                          '<br><b>Qualification</b>: %{fullData.name}'\n",
    "                          '<extra></extra>'\n",
    "        )\n",
    "\n",
    "        # --- 6. Add Regression Equation to Graph ---\n",
    "        annotation_bg = 'rgba(255,255,255,0.5)' if not is_dark else 'rgba(0,0,0,0.7)'\n",
    "        annotation_color = 'black' if not is_dark else 'white'\n",
    "        \n",
    "        fig.add_annotation(\n",
    "            x=0.02, y=1,\n",
    "            xref='paper', yref='paper',\n",
    "            text=equation_with_r2,\n",
    "            showarrow=False,\n",
    "            align='left',\n",
    "            yanchor='top',  # Anchor the top of the annotation to y=1.0\n",
    "            bgcolor=annotation_bg,\n",
    "            bordercolor='rgba(128,128,128,0.5)',\n",
    "            borderwidth=1,\n",
    "            font=dict(size=12, color=annotation_color)\n",
    "        )\n",
    "\n",
    "        # --- 7. Add Subtle Solid Threshold Lines ---\n",
    "       \n",
    "        if is_dark:\n",
    "            threshold_color = \"lightgray\"\n",
    "            threshold_opacity = 0.5\n",
    "        else:\n",
    "            threshold_color = \"#666666\"  # Darker gray instead of \"gray\"\n",
    "            threshold_opacity = 0.6      # Higher opacity\n",
    "\n",
    "        for category, value in category_thresholds.items():\n",
    "            fig.add_hline(\n",
    "                y=value,\n",
    "                line_dash=\"solid\",  # Solid lines\n",
    "                line_color=threshold_color,\n",
    "                opacity=threshold_opacity,  # Increased opacity\n",
    "                annotation_text=category,\n",
    "                annotation_position=\"right\",\n",
    "                annotation_font=dict(color=threshold_color, size=10)\n",
    "            )\n",
    "\n",
    "        # CRITICAL: Set x-axis range to 0-30 (same as working version)\n",
    "        fig.update_layout(\n",
    "            height=500, \n",
    "            margin=dict(t=80, b=50, l=50, r=50),\n",
    "            xaxis=dict(range=[0, 30])\n",
    "        )\n",
    "        \n",
    "        return fig\n",
    "\n",
    "    except Exception as e:\n",
    "        return _no_data_fig(f\"Error creating scatter plot: {str(e)}\", is_dark)\n",
    "\n",
    "def fig_accelerated_tornado(d, is_dark=False):\n",
    "    \"\"\"Chart 3: Accelerated vs Standard Courses - Plotly Graph Objects\"\"\"\n",
    "    theme = DARK_THEME if is_dark else LIGHT_THEME\n",
    "    \n",
    "    if d.empty:\n",
    "        return _no_data_fig(is_dark=is_dark)\n",
    "\n",
    "    try:\n",
    "        d_copy = d.copy()\n",
    "        # Create course type differentiation\n",
    "        d_copy['Is_Accelerated'] = d_copy[COL_STUDENT_ID].str.contains('A', na=False)\n",
    "        d_copy['Course_Type_Name'] = d_copy.apply(\n",
    "            lambda row: f\"{row[COL_COURSE_NAME]} (Accelerated)\" if row['Is_Accelerated'] else f\"{row[COL_COURSE_NAME]} (Standard)\",\n",
    "            axis=1\n",
    "        )\n",
    "\n",
    "        student_final_records = d_copy.drop_duplicates(subset=COL_STUDENT_ID, keep='last')\n",
    "        student_final_records = student_final_records.dropna(subset=[COL_DURATION, COL_GPA])\n",
    "        \n",
    "        if student_final_records.empty:\n",
    "            return _no_data_fig(\"No data for tornado plot\", is_dark)\n",
    "\n",
    "        course_comparison_summary = student_final_records.groupby('Course_Type_Name').agg(\n",
    "            Average_Duration=(COL_DURATION, 'mean'),\n",
    "            Average_GPA=(COL_GPA, 'mean'),\n",
    "            Number_of_Students=(COL_STUDENT_ID, 'nunique')\n",
    "        ).reset_index()\n",
    "\n",
    "        if course_comparison_summary.empty:\n",
    "            return _no_data_fig(\"No course comparison data\", is_dark)\n",
    "\n",
    "        course_comparison_summary = course_comparison_summary.sort_values(by='Course_Type_Name', ascending=True)\n",
    "\n",
    "        # Create tornado plot\n",
    "        fig = go.Figure()\n",
    "\n",
    "        # Add duration bars\n",
    "        fig.add_trace(go.Bar(\n",
    "            y=course_comparison_summary['Course_Type_Name'],\n",
    "            x=course_comparison_summary['Average_Duration'],\n",
    "            name='Avg Duration (Months)',\n",
    "            marker_color='#4A90E2',\n",
    "            orientation='h',\n",
    "            customdata=course_comparison_summary['Number_of_Students'],\n",
    "            hovertemplate='<b>%{y}</b><br>Avg. Duration: %{x:.1f} months<br>Students: %{customdata}<extra></extra>'\n",
    "        ))\n",
    "\n",
    "        # Add GPA line\n",
    "        fig.add_trace(go.Scatter(\n",
    "            y=course_comparison_summary['Course_Type_Name'],\n",
    "            x=course_comparison_summary['Average_GPA'],\n",
    "            name='Average GPA',\n",
    "            mode='lines+markers',\n",
    "            marker=dict(color='#D0021B', size=8),\n",
    "            line=dict(color='#50E3C2', width=3),\n",
    "            xaxis='x2',\n",
    "            customdata=course_comparison_summary['Number_of_Students'],\n",
    "            hovertemplate='<b>%{y}</b><br>Avg GPA: %{x:.2f}<br>Students: %{customdata}<extra></extra>'\n",
    "        ))\n",
    "\n",
    "        fig.update_layout(\n",
    "            title='Accelerated vs. Standard Courses: Duration and Performance',\n",
    "            yaxis_title='Course Type',\n",
    "            xaxis=dict(title=\"Average Course Duration (Months)\", showgrid=True),\n",
    "            xaxis2=dict(title=\"Average GPA\", overlaying='x', side='top', range=[0, 4.0], showgrid=False),\n",
    "            template=theme['template'],\n",
    "            height=500,\n",
    "            margin=dict(t=80, b=50, l=250, r=50),\n",
    "            legend=dict(orientation=\"h\", yanchor=\"top\", y=-0.15, xanchor=\"left\", x=0)\n",
    "        )\n",
    "\n",
    "        return fig\n",
    "\n",
    "    except Exception as e:\n",
    "        return _no_data_fig(f\"Error creating tornado plot: {str(e)}\", is_dark)\n",
    "\n",
    "def fig_funding_performance_stacked(d, is_dark=False):\n",
    "    \"\"\"Chart 4: Performance Distribution by Course Funding - Plotly Graph Objects\"\"\"\n",
    "    theme = DARK_THEME if is_dark else LIGHT_THEME\n",
    "    \n",
    "    if d.empty:\n",
    "        return _no_data_fig(is_dark=is_dark)\n",
    "\n",
    "    try:\n",
    "        student_final_records = d.drop_duplicates(subset=COL_STUDENT_ID, keep='last').copy()\n",
    "        student_final_records = student_final_records.dropna(subset=[COL_FUNDING, COL_GPA_BAND])\n",
    "        \n",
    "        if student_final_records.empty:\n",
    "            return _no_data_fig(\"No funding performance data\", is_dark)\n",
    "        \n",
    "        performance_dist = pd.crosstab(\n",
    "            index=student_final_records[COL_FUNDING],\n",
    "            columns=student_final_records[COL_GPA_BAND],\n",
    "            normalize='index'\n",
    "        ) * 100\n",
    "\n",
    "        # Get available categories\n",
    "        available_categories = performance_dist.columns.tolist()\n",
    "        category_order = ['Fail', 'Credit', 'Good Credit', 'Good', 'Very Good', 'Excellent']\n",
    "        final_categories = [cat for cat in category_order if cat in available_categories]\n",
    "        \n",
    "        if not final_categories:\n",
    "            return _no_data_fig(\"No performance categories available\", is_dark)\n",
    "\n",
    "        performance_dist = performance_dist.reindex(columns=final_categories, fill_value=0)\n",
    "\n",
    "        color_map = {\n",
    "            'Fail': '#d32f2f', 'Credit': '#ff9800', 'Good Credit': '#fdd835',\n",
    "            'Good': '#8bc34a', 'Very Good': '#4caf50', 'Excellent': '#1b5e20'\n",
    "        }\n",
    "\n",
    "        fig = go.Figure()\n",
    "\n",
    "        for category in final_categories:\n",
    "            # Dynamic text color based on theme and background\n",
    "            text_color = 'white' if not is_dark else 'black'\n",
    "            \n",
    "            fig.add_trace(go.Bar(\n",
    "                name=category,\n",
    "                x=performance_dist.index,\n",
    "                y=performance_dist[category],\n",
    "                marker_color=color_map.get(category, '#888888'),\n",
    "                hovertemplate=f'<b>{category}</b><br>Funding: %{{x}}<br>Percentage: %{{y:.1f}}%<extra></extra>',\n",
    "                text=[f'{val:.1f}%' if val > 5 else '' for val in performance_dist[category]],\n",
    "                textposition='inside',\n",
    "                textfont=dict(color=text_color, size=12)  # Fixed text color for visibility\n",
    "            ))\n",
    "        button_font_color = 'black' if is_dark else theme['text_color']\n",
    "        fig.update_layout(\n",
    "            title='Performance Distribution by Course Funding Type',\n",
    "            xaxis=dict(title=\"Course Funding Type\", tickangle=-45),\n",
    "            yaxis=dict(title=\"Percentage of Students (%)\"),\n",
    "            barmode='stack',\n",
    "            template=theme['template'],\n",
    "            height=500,\n",
    "            margin=dict(t=80, b=100, l=50, r=150),\n",
    "            legend=dict(orientation=\"h\", yanchor=\"bottom\", y=1.02, xanchor=\"center\", x=0.5),\n",
    "            updatemenus=[\n",
    "                dict(\n",
    "                    type=\"buttons\",\n",
    "                    direction=\"down\",\n",
    "                    buttons=[\n",
    "                        dict(args=[\"visible\", [True] * len(final_categories)], label=\"Show All\", method=\"restyle\"),\n",
    "                        dict(args=[\"visible\", [cat in ['Fail', 'Credit'] for cat in final_categories]], \n",
    "                             label=\"At-Risk Only\", method=\"restyle\"),\n",
    "                        dict(args=[\"visible\", [cat in ['Good', 'Very Good', 'Excellent'] for cat in final_categories]], \n",
    "                             label=\"High Performers\", method=\"restyle\")\n",
    "                    ],\n",
    "                    pad={\"r\": 10, \"t\": 5, \"b\": 5},\n",
    "                    showactive=True,\n",
    "                    x=1.02,\n",
    "                    xanchor=\"left\", \n",
    "                    y=0.2,\n",
    "                    yanchor=\"bottom\",\n",
    "                    bgcolor=theme['paper_color'],\n",
    "                    bordercolor=theme['text_color'],\n",
    "                    font=dict(color=button_font_color, size=10)\n",
    "                )\n",
    "            ]\n",
    "        )\n",
    "\n",
    "        return fig\n",
    "\n",
    "    except Exception as e:\n",
    "        return _no_data_fig(f\"Error creating funding chart: {str(e)}\", is_dark)\n"
   ]
  },
  {
   "cell_type": "markdown",
   "id": "7c8b3370",
   "metadata": {},
   "source": [
    "#\n",
    "### Dashboard Layout"
   ]
  },
  {
   "cell_type": "code",
   "execution_count": 21,
   "id": "40992dbd",
   "metadata": {},
   "outputs": [],
   "source": [
    "# Create the Dash application\n",
    "app = Dash(__name__, external_stylesheets=[dbc.themes.BOOTSTRAP])\n",
    "\n",
    "# Helper function for dropdown options\n",
    "def _options_from(series):\n",
    "    \"\"\"Return a list of dropdown options with 'All' as the first choice.\"\"\"\n",
    "    try:\n",
    "        vals = (\n",
    "            series.astype(str).str.strip()\n",
    "                  .replace({\"nan\": None, \"None\": None, \"\" : None})\n",
    "                  .dropna()\n",
    "                  .unique()\n",
    "                  .tolist()\n",
    "        )\n",
    "        vals = sorted(vals)\n",
    "        return [{\"label\": \"All\", \"value\": \"All\"}] + [{\"label\": v, \"value\": v} for v in vals]\n",
    "    except:\n",
    "        return [{\"label\": \"All\", \"value\": \"All\"}]\n",
    "\n",
    "# Create filter controls with multi-select using actual data\n",
    "filters_row = dbc.Row([\n",
    "    dbc.Col([\n",
    "        html.Label(\"Course Selection\", className=\"form-label fw-semibold mb-1\", id=\"course-label\"),\n",
    "        dcc.Dropdown(\n",
    "            id=\"f-course\", \n",
    "            options=_options_from(df[COL_COURSE_NAME]) if not df.empty else [{\"label\": \"All\", \"value\": \"All\"}], \n",
    "            value=[\"All\"], \n",
    "            multi=True,\n",
    "            clearable=False, \n",
    "            placeholder=\"Select courses…\",\n",
    "            style={'color': '#333333'}\n",
    "        ),\n",
    "    ], md=4),\n",
    "    dbc.Col([\n",
    "        html.Label(\"Gender\", className=\"form-label fw-semibold mb-1\", id=\"gender-label\"),\n",
    "        dcc.Dropdown(\n",
    "            id=\"f-gender\", \n",
    "            options=_options_from(df[COL_GENDER]) if not df.empty else [{\"label\": \"All\", \"value\": \"All\"}], \n",
    "            value=[\"All\"], \n",
    "            multi=True,\n",
    "            clearable=False, \n",
    "            placeholder=\"Select gender…\",\n",
    "            style={'color': '#333333'}\n",
    "        ),\n",
    "    ], md=2),\n",
    "    dbc.Col([\n",
    "        html.Label(\"Residency\", className=\"form-label fw-semibold mb-1\", id=\"residency-label\"),\n",
    "        dcc.Dropdown(\n",
    "            id=\"f-res\", \n",
    "            options=_options_from(df[COL_RESIDENCY_CLEAN]) if not df.empty else [{\"label\": \"All\", \"value\": \"All\"}], \n",
    "            value=[\"All\"], \n",
    "            multi=True,\n",
    "            clearable=False, \n",
    "            placeholder=\"Select residency…\",\n",
    "            style={'color': '#333333'}\n",
    "        ),\n",
    "    ], md=2),\n",
    "    dbc.Col([\n",
    "        html.Label(\"Qualification\", className=\"form-label fw-semibold mb-1\", id=\"qualification-label\"),\n",
    "        dcc.Dropdown(\n",
    "            id=\"f-qual\", \n",
    "            options=_options_from(df[COL_QUAL]) if not df.empty else [{\"label\": \"All\", \"value\": \"All\"}], \n",
    "            value=[\"All\"], \n",
    "            multi=True,\n",
    "            clearable=False, \n",
    "            placeholder=\"Select qualification…\",\n",
    "            style={'color': '#333333'}\n",
    "        ),\n",
    "    ], md=2),\n",
    "    dbc.Col([\n",
    "        html.Label(\"Funding\", className=\"form-label fw-semibold mb-1\", id=\"funding-label\"),\n",
    "        dcc.Dropdown(\n",
    "            id=\"f-fund\", \n",
    "            options=_options_from(df[COL_FUNDING]) if not df.empty else [{\"label\": \"All\", \"value\": \"All\"}], \n",
    "            value=[\"All\"], \n",
    "            multi=True,\n",
    "            clearable=False, \n",
    "            placeholder=\"Select funding…\",\n",
    "            style={'color': '#333333'}\n",
    "        ),\n",
    "    ], md=2),\n",
    "], className=\"g-3 mb-3\")\n",
    "\n",
    "filters_row_2 = dbc.Row([\n",
    "    dbc.Col([\n",
    "        html.Label(\"Study Mode\", className=\"form-label fw-semibold mb-1\", id=\"mode-label\"),\n",
    "        dcc.Dropdown(\n",
    "            id=\"f-mode\", \n",
    "            options=_options_from(df[COL_MODE]) if not df.empty else [{\"label\": \"All\", \"value\": \"All\"}], \n",
    "            value=[\"All\"], \n",
    "            multi=True,\n",
    "            clearable=False, \n",
    "            placeholder=\"Select mode…\",\n",
    "            style={'color': '#333333'}\n",
    "        ),\n",
    "    ], md=3),\n",
    "    dbc.Col([\n",
    "        dbc.Button(\"Reset All Filters\", id=\"reset-btn\", color=\"secondary\", size=\"sm\", className=\"mt-4\"),\n",
    "    ], md=2),\n",
    "], className=\"g-3 mb-3\")\n",
    "\n",
    "# Create charts grid\n",
    "grid = dbc.Container([\n",
    "    dbc.Row([\n",
    "        dbc.Col(dcc.Graph(id=\"fig-1\"), md=6),\n",
    "        dbc.Col(dcc.Graph(id=\"fig-2\"), md=6),\n",
    "    ], className=\"g-3 mb-3\"),\n",
    "    dbc.Row([\n",
    "        dbc.Col(dcc.Graph(id=\"fig-3\"), md=6),\n",
    "        dbc.Col(dcc.Graph(id=\"fig-4\"), md=6),\n",
    "    ], className=\"g-3\"),\n",
    "], fluid=True)\n",
    "\n",
    "# Main layout\n",
    "app.layout = html.Div([\n",
    "    dcc.Store(id='theme-state', data={'is_dark': False}),\n",
    "    dbc.Container([\n",
    "        dbc.Row([\n",
    "            dbc.Col([\n",
    "                html.H2(\"Academic Performance Insights\", id=\"main-title\", style={\"color\": \"#333333\", \"marginBottom\": \"0px\"}),\n",
    "            ], md=8),\n",
    "            dbc.Col([\n",
    "                dbc.ButtonGroup([\n",
    "                    dbc.Button(\"🌙\", id=\"theme-toggle\", color=\"primary\", size=\"sm\", title=\"Toggle Dark/Light Mode\"),\n",
    "                ], className=\"me-3\"),\n",
    "                html.Img(\n",
    "                    src=\"assets/images.jpg\",\n",
    "                    id=\"logo\",\n",
    "                    style={\"height\": \"40px\", \"width\": \"auto\"}\n",
    "                )\n",
    "            ], md=4, style={\"textAlign\": \"right\", \"paddingTop\": \"10px\", \"display\": \"flex\", \"alignItems\": \"center\", \"justifyContent\": \"flex-end\"}),\n",
    "        ], className=\"mb-2\"),\n",
    "        dbc.Row([\n",
    "            dbc.Col([\n",
    "                html.P(\"Analyze student academic performance and demographic patterns to identify factors that influence student success and provide actionable insights for institutional improvement.\",\n",
    "                       id=\"subtitle\", style={\"color\": \"#333333\", \"marginBottom\": \"20px\"})\n",
    "            ], md=12)\n",
    "        ]),\n",
    "        html.Hr(id=\"divider\"),\n",
    "        filters_row,\n",
    "        filters_row_2,\n",
    "        html.Br(),\n",
    "        grid,\n",
    "        html.Div(id=\"takeaway\", style={\"marginTop\": \"20px\", \"fontSize\": \"0.95rem\", \"color\": \"#222\"})\n",
    "    ], fluid=True)\n",
    "], id=\"main-container\", style={\n",
    "    \"backgroundColor\": \"#e0e0e0\",\n",
    "    \"minHeight\": \"100vh\",\n",
    "    \"padding\": \"20px\"\n",
    "})\n"
   ]
  },
  {
   "cell_type": "markdown",
   "id": "b8ec4456",
   "metadata": {},
   "source": [
    "#\n",
    "### Callbacks "
   ]
  },
  {
   "cell_type": "code",
   "execution_count": 22,
   "id": "c92af619",
   "metadata": {},
   "outputs": [],
   "source": [
    "# Individual filter callbacks to handle \"All\" behavior\n",
    "def create_filter_callback(filter_id):\n",
    "    @callback(\n",
    "        Output(filter_id, \"value\"),\n",
    "        [Input(filter_id, \"value\")],\n",
    "        prevent_initial_call=True\n",
    "    )\n",
    "    def handle_filter(selected_values):\n",
    "        if not selected_values:\n",
    "            return [\"All\"]\n",
    "        \n",
    "        # If \"All\" is selected along with other values, remove \"All\"\n",
    "        if \"All\" in selected_values and len(selected_values) > 1:\n",
    "            return [v for v in selected_values if v != \"All\"]\n",
    "        \n",
    "        # If only \"All\" is selected, keep it\n",
    "        if selected_values == [\"All\"]:\n",
    "            return [\"All\"]\n",
    "        \n",
    "        # If specific values are selected, return them\n",
    "        return selected_values\n",
    "    \n",
    "    return handle_filter\n",
    "\n",
    "# Create individual filter callbacks\n",
    "create_filter_callback(\"f-course\")\n",
    "create_filter_callback(\"f-gender\") \n",
    "create_filter_callback(\"f-res\")\n",
    "create_filter_callback(\"f-qual\")\n",
    "create_filter_callback(\"f-fund\")\n",
    "create_filter_callback(\"f-mode\")\n",
    "\n",
    "# Callback for theme toggle\n",
    "@callback(\n",
    "    [Output('theme-state', 'data'),\n",
    "     Output('theme-toggle', 'children'),\n",
    "     Output('main-container', 'style'),\n",
    "     Output('main-title', 'style'),\n",
    "     Output('subtitle', 'style'),\n",
    "     Output('divider', 'style'),\n",
    "     Output('course-label', 'style'),\n",
    "     Output('gender-label', 'style'),\n",
    "     Output('residency-label', 'style'),\n",
    "     Output('qualification-label', 'style'),\n",
    "     Output('funding-label', 'style'),\n",
    "     Output('mode-label', 'style')],\n",
    "    [Input('theme-toggle', 'n_clicks')],\n",
    "    [State('theme-state', 'data')],\n",
    "    prevent_initial_call=False\n",
    ")\n",
    "def toggle_theme(n_clicks, theme_data):\n",
    "    if theme_data is None:\n",
    "        theme_data = {'is_dark': False}\n",
    "        \n",
    "    if n_clicks and n_clicks > 0:\n",
    "        theme_data['is_dark'] = not theme_data.get('is_dark', False)\n",
    "    \n",
    "    is_dark = theme_data.get('is_dark', False)\n",
    "    \n",
    "    if is_dark:\n",
    "        container_style = {\n",
    "            \"backgroundColor\": \"#1a1a1a\",\n",
    "            \"minHeight\": \"100vh\",\n",
    "            \"padding\": \"20px\",\n",
    "            \"color\": \"#ECF0F1\"\n",
    "        }\n",
    "        title_style = {\"color\": \"#ECF0F1\", \"marginBottom\": \"0px\"}\n",
    "        subtitle_style = {\"color\": \"#BDC3C7\", \"marginBottom\": \"20px\"}\n",
    "        divider_style = {\"borderColor\": \"#34495E\"}\n",
    "        label_style = {\"color\": \"#ECF0F1\"}\n",
    "        toggle_text = \"☀️\"\n",
    "    else:\n",
    "        container_style = {\n",
    "            \"backgroundColor\": \"#e0e0e0\",\n",
    "            \"minHeight\": \"100vh\",\n",
    "            \"padding\": \"20px\"\n",
    "        }\n",
    "        title_style = {\"color\": \"#333333\", \"marginBottom\": \"0px\"}\n",
    "        subtitle_style = {\"color\": \"#333333\", \"marginBottom\": \"20px\"}\n",
    "        divider_style = {\"borderColor\": \"#ddd\"}\n",
    "        label_style = {\"color\": \"#333333\"}\n",
    "        toggle_text = \"🌙\"\n",
    "    \n",
    "    return (theme_data, toggle_text, container_style, title_style, subtitle_style, divider_style,\n",
    "            label_style, label_style, label_style, label_style, label_style, label_style)\n",
    "\n",
    "# Reset filters callback\n",
    "@callback(\n",
    "    [Output(\"f-course\", \"value\", allow_duplicate=True),\n",
    "     Output(\"f-gender\", \"value\", allow_duplicate=True),\n",
    "     Output(\"f-res\", \"value\", allow_duplicate=True),\n",
    "     Output(\"f-qual\", \"value\", allow_duplicate=True),\n",
    "     Output(\"f-fund\", \"value\", allow_duplicate=True),\n",
    "     Output(\"f-mode\", \"value\", allow_duplicate=True)],\n",
    "    [Input(\"reset-btn\", \"n_clicks\")],\n",
    "    prevent_initial_call=True\n",
    ")\n",
    "def reset_filters(n_clicks):\n",
    "    if n_clicks:\n",
    "        return [\"All\"], [\"All\"], [\"All\"], [\"All\"], [\"All\"], [\"All\"]\n",
    "    return [\"All\"], [\"All\"], [\"All\"], [\"All\"], [\"All\"], [\"All\"]\n",
    "\n",
    "# Main callback for updating charts - UPDATED to use apply_advanced_filters\n",
    "@callback(\n",
    "    [Output(\"fig-1\", \"figure\"),\n",
    "     Output(\"fig-2\", \"figure\"),\n",
    "     Output(\"fig-3\", \"figure\"),\n",
    "     Output(\"fig-4\", \"figure\"),\n",
    "     Output(\"takeaway\", \"children\")],\n",
    "    [Input(\"f-course\", \"value\"),\n",
    "     Input(\"f-gender\", \"value\"),\n",
    "     Input(\"f-res\", \"value\"),\n",
    "     Input(\"f-qual\", \"value\"),\n",
    "     Input(\"f-fund\", \"value\"),\n",
    "     Input(\"f-mode\", \"value\"),\n",
    "     Input('theme-state', 'data')],\n",
    "    prevent_initial_call=False\n",
    ")\n",
    "def update_all(course_list, gender_list, res_list, qual_list, fund_list, mode_list, theme_data):\n",
    "    \"\"\"Update all charts based on filter selections.\"\"\"\n",
    "    \n",
    "    if theme_data is None:\n",
    "        theme_data = {'is_dark': False}\n",
    "    \n",
    "    is_dark = theme_data.get('is_dark', False)\n",
    "    \n",
    "    # Apply filters to the dataframe - UPDATED function name\n",
    "    d = apply_advanced_filters(df, res_list, qual_list, fund_list, mode_list, gender_list, course_list)\n",
    "\n",
    "    if d.empty:\n",
    "        no = _no_data_fig(\"No rows match the current filters.\", is_dark)\n",
    "        return no, no, no, no, \"No data available for current filter selection.\"\n",
    "\n",
    "    # Generate figures\n",
    "    fig1 = fig_course_performance_heatmap(d, is_dark)\n",
    "    fig2 = fig_years_off_scatter(d, is_dark)\n",
    "    fig3 = fig_accelerated_tornado(d, is_dark)\n",
    "    fig4 = fig_funding_performance_stacked(d, is_dark)\n",
    "\n",
    "    # Enhanced takeaway\n",
    "    theme_color = \"#ECF0F1\" if is_dark else \"#2C3E50\"\n",
    "    bg_color = \"#34495E\" if is_dark else \"#ECF0F1\"\n",
    "    border_color = \"#5D6D7E\" if is_dark else \"#BDC3C7\"\n",
    "    \n",
    "    takeaway = html.Div([\n",
    "        html.H5(\"Key Insights:\", style={\"color\": theme_color, \"marginBottom\": \"10px\"}),\n",
    "        html.Ul([\n",
    "            html.Li(\"Course performance varies significantly, with some programs showing consistently high failure rates requiring curriculum review\"),\n",
    "            html.Li(\"Career breaks of 2-5 years often correlate with better academic performance, suggesting professional experience enhances learning\"),\n",
    "            html.Li(\"Accelerated programs maintain comparable quality while reducing time-to-completion, making them effective for motivated students\"),\n",
    "            html.Li(\"Sponsored students demonstrate higher success rates, indicating the value of financial support and employer commitment\")\n",
    "        ], style={\"color\": theme_color if is_dark else \"#34495E\", \"lineHeight\": \"1.6\"})\n",
    "    ], style={\n",
    "        \"backgroundColor\": bg_color,\n",
    "        \"padding\": \"15px\",\n",
    "        \"borderRadius\": \"8px\",\n",
    "        \"border\": f\"1px solid {border_color}\",\n",
    "        \"marginTop\": \"20px\"\n",
    "    })\n",
    "    \n",
    "    return fig1, fig2, fig3, fig4, takeaway\n"
   ]
  },
  {
   "cell_type": "markdown",
   "id": "20376dd9",
   "metadata": {},
   "source": [
    "#\n",
    "### Run app"
   ]
  },
  {
   "cell_type": "code",
   "execution_count": 23,
   "id": "96ad9dfc",
   "metadata": {},
   "outputs": [
    {
     "data": {
      "text/html": [
       "\n",
       "        <iframe\n",
       "            width=\"100%\"\n",
       "            height=\"650\"\n",
       "            src=\"http://127.0.0.1:8070/\"\n",
       "            frameborder=\"0\"\n",
       "            allowfullscreen\n",
       "            \n",
       "        ></iframe>\n",
       "        "
      ],
      "text/plain": [
       "<IPython.lib.display.IFrame at 0x2444995f290>"
      ]
     },
     "metadata": {},
     "output_type": "display_data"
    }
   ],
   "source": [
    "if __name__ == '__main__':\n",
    "    app.run(debug=True, port=8070)"
   ]
  },
  {
   "cell_type": "markdown",
   "id": "6bf8fcad",
   "metadata": {},
   "source": [
    "## COMBINED"
   ]
  },
  {
   "cell_type": "code",
   "execution_count": null,
   "id": "2a963ebd",
   "metadata": {},
   "outputs": [
    {
     "name": "stdout",
     "output_type": "stream",
     "text": [
      "Calculating 'Years_Off_School' column...\n"
     ]
    },
    {
     "data": {
      "text/html": [
       "\n",
       "        <iframe\n",
       "            width=\"100%\"\n",
       "            height=\"650\"\n",
       "            src=\"http://127.0.0.1:8080/\"\n",
       "            frameborder=\"0\"\n",
       "            allowfullscreen\n",
       "            \n",
       "        ></iframe>\n",
       "        "
      ],
      "text/plain": [
       "<IPython.lib.display.IFrame at 0x24448496f30>"
      ]
     },
     "metadata": {},
     "output_type": "display_data"
    },
    {
     "name": "stderr",
     "output_type": "stream",
     "text": [
      "C:\\Users\\ngwen\\AppData\\Local\\Temp\\ipykernel_21996\\2654842681.py:441: FutureWarning:\n",
      "\n",
      "Setting an item of incompatible dtype is deprecated and will raise an error in a future version of pandas. Value 'No Data' has dtype incompatible with float64, please explicitly cast to a compatible dtype first.\n",
      "\n",
      "C:\\Users\\ngwen\\AppData\\Local\\Temp\\ipykernel_21996\\2654842681.py:443: FutureWarning:\n",
      "\n",
      "Setting an item of incompatible dtype is deprecated and will raise an error in a future version of pandas. Value '12.1%' has dtype incompatible with float64, please explicitly cast to a compatible dtype first.\n",
      "\n",
      "C:\\Users\\ngwen\\AppData\\Local\\Temp\\ipykernel_21996\\2654842681.py:443: FutureWarning:\n",
      "\n",
      "Setting an item of incompatible dtype is deprecated and will raise an error in a future version of pandas. Value '15.2%' has dtype incompatible with float64, please explicitly cast to a compatible dtype first.\n",
      "\n",
      "C:\\Users\\ngwen\\AppData\\Local\\Temp\\ipykernel_21996\\2654842681.py:443: FutureWarning:\n",
      "\n",
      "Setting an item of incompatible dtype is deprecated and will raise an error in a future version of pandas. Value '30.3%' has dtype incompatible with float64, please explicitly cast to a compatible dtype first.\n",
      "\n",
      "C:\\Users\\ngwen\\AppData\\Local\\Temp\\ipykernel_21996\\2654842681.py:443: FutureWarning:\n",
      "\n",
      "Setting an item of incompatible dtype is deprecated and will raise an error in a future version of pandas. Value '42.4%' has dtype incompatible with float64, please explicitly cast to a compatible dtype first.\n",
      "\n",
      "C:\\Users\\ngwen\\AppData\\Local\\Temp\\ipykernel_21996\\2654842681.py:441: FutureWarning:\n",
      "\n",
      "Setting an item of incompatible dtype is deprecated and will raise an error in a future version of pandas. Value 'No Data' has dtype incompatible with float64, please explicitly cast to a compatible dtype first.\n",
      "\n"
     ]
    },
    {
     "name": "stdout",
     "output_type": "stream",
     "text": [
      "Generating scatter plot of 'Years Off School' vs. Final Cumulative GPA...\n"
     ]
    },
    {
     "name": "stderr",
     "output_type": "stream",
     "text": [
      "C:\\Users\\ngwen\\AppData\\Local\\Temp\\ipykernel_21996\\2654842681.py:441: FutureWarning:\n",
      "\n",
      "Setting an item of incompatible dtype is deprecated and will raise an error in a future version of pandas. Value 'No Data' has dtype incompatible with float64, please explicitly cast to a compatible dtype first.\n",
      "\n",
      "C:\\Users\\ngwen\\AppData\\Local\\Temp\\ipykernel_21996\\2654842681.py:443: FutureWarning:\n",
      "\n",
      "Setting an item of incompatible dtype is deprecated and will raise an error in a future version of pandas. Value '12.1%' has dtype incompatible with float64, please explicitly cast to a compatible dtype first.\n",
      "\n",
      "C:\\Users\\ngwen\\AppData\\Local\\Temp\\ipykernel_21996\\2654842681.py:443: FutureWarning:\n",
      "\n",
      "Setting an item of incompatible dtype is deprecated and will raise an error in a future version of pandas. Value '15.2%' has dtype incompatible with float64, please explicitly cast to a compatible dtype first.\n",
      "\n",
      "C:\\Users\\ngwen\\AppData\\Local\\Temp\\ipykernel_21996\\2654842681.py:443: FutureWarning:\n",
      "\n",
      "Setting an item of incompatible dtype is deprecated and will raise an error in a future version of pandas. Value '30.3%' has dtype incompatible with float64, please explicitly cast to a compatible dtype first.\n",
      "\n",
      "C:\\Users\\ngwen\\AppData\\Local\\Temp\\ipykernel_21996\\2654842681.py:443: FutureWarning:\n",
      "\n",
      "Setting an item of incompatible dtype is deprecated and will raise an error in a future version of pandas. Value '42.4%' has dtype incompatible with float64, please explicitly cast to a compatible dtype first.\n",
      "\n",
      "C:\\Users\\ngwen\\AppData\\Local\\Temp\\ipykernel_21996\\2654842681.py:441: FutureWarning:\n",
      "\n",
      "Setting an item of incompatible dtype is deprecated and will raise an error in a future version of pandas. Value 'No Data' has dtype incompatible with float64, please explicitly cast to a compatible dtype first.\n",
      "\n"
     ]
    },
    {
     "name": "stdout",
     "output_type": "stream",
     "text": [
      "Generating scatter plot of 'Years Off School' vs. Final Cumulative GPA...\n"
     ]
    },
    {
     "name": "stderr",
     "output_type": "stream",
     "text": [
      "C:\\Users\\ngwen\\AppData\\Local\\Temp\\ipykernel_21996\\2654842681.py:441: FutureWarning:\n",
      "\n",
      "Setting an item of incompatible dtype is deprecated and will raise an error in a future version of pandas. Value 'No Data' has dtype incompatible with float64, please explicitly cast to a compatible dtype first.\n",
      "\n",
      "C:\\Users\\ngwen\\AppData\\Local\\Temp\\ipykernel_21996\\2654842681.py:443: FutureWarning:\n",
      "\n",
      "Setting an item of incompatible dtype is deprecated and will raise an error in a future version of pandas. Value '12.1%' has dtype incompatible with float64, please explicitly cast to a compatible dtype first.\n",
      "\n",
      "C:\\Users\\ngwen\\AppData\\Local\\Temp\\ipykernel_21996\\2654842681.py:443: FutureWarning:\n",
      "\n",
      "Setting an item of incompatible dtype is deprecated and will raise an error in a future version of pandas. Value '15.2%' has dtype incompatible with float64, please explicitly cast to a compatible dtype first.\n",
      "\n",
      "C:\\Users\\ngwen\\AppData\\Local\\Temp\\ipykernel_21996\\2654842681.py:443: FutureWarning:\n",
      "\n",
      "Setting an item of incompatible dtype is deprecated and will raise an error in a future version of pandas. Value '30.3%' has dtype incompatible with float64, please explicitly cast to a compatible dtype first.\n",
      "\n",
      "C:\\Users\\ngwen\\AppData\\Local\\Temp\\ipykernel_21996\\2654842681.py:443: FutureWarning:\n",
      "\n",
      "Setting an item of incompatible dtype is deprecated and will raise an error in a future version of pandas. Value '42.4%' has dtype incompatible with float64, please explicitly cast to a compatible dtype first.\n",
      "\n",
      "C:\\Users\\ngwen\\AppData\\Local\\Temp\\ipykernel_21996\\2654842681.py:441: FutureWarning:\n",
      "\n",
      "Setting an item of incompatible dtype is deprecated and will raise an error in a future version of pandas. Value 'No Data' has dtype incompatible with float64, please explicitly cast to a compatible dtype first.\n",
      "\n"
     ]
    },
    {
     "name": "stdout",
     "output_type": "stream",
     "text": [
      "Generating scatter plot of 'Years Off School' vs. Final Cumulative GPA...\n"
     ]
    },
    {
     "name": "stderr",
     "output_type": "stream",
     "text": [
      "C:\\Users\\ngwen\\AppData\\Local\\Temp\\ipykernel_21996\\2654842681.py:441: FutureWarning:\n",
      "\n",
      "Setting an item of incompatible dtype is deprecated and will raise an error in a future version of pandas. Value 'No Data' has dtype incompatible with float64, please explicitly cast to a compatible dtype first.\n",
      "\n",
      "C:\\Users\\ngwen\\AppData\\Local\\Temp\\ipykernel_21996\\2654842681.py:443: FutureWarning:\n",
      "\n",
      "Setting an item of incompatible dtype is deprecated and will raise an error in a future version of pandas. Value '12.1%' has dtype incompatible with float64, please explicitly cast to a compatible dtype first.\n",
      "\n",
      "C:\\Users\\ngwen\\AppData\\Local\\Temp\\ipykernel_21996\\2654842681.py:443: FutureWarning:\n",
      "\n",
      "Setting an item of incompatible dtype is deprecated and will raise an error in a future version of pandas. Value '15.2%' has dtype incompatible with float64, please explicitly cast to a compatible dtype first.\n",
      "\n",
      "C:\\Users\\ngwen\\AppData\\Local\\Temp\\ipykernel_21996\\2654842681.py:443: FutureWarning:\n",
      "\n",
      "Setting an item of incompatible dtype is deprecated and will raise an error in a future version of pandas. Value '30.3%' has dtype incompatible with float64, please explicitly cast to a compatible dtype first.\n",
      "\n",
      "C:\\Users\\ngwen\\AppData\\Local\\Temp\\ipykernel_21996\\2654842681.py:443: FutureWarning:\n",
      "\n",
      "Setting an item of incompatible dtype is deprecated and will raise an error in a future version of pandas. Value '42.4%' has dtype incompatible with float64, please explicitly cast to a compatible dtype first.\n",
      "\n",
      "C:\\Users\\ngwen\\AppData\\Local\\Temp\\ipykernel_21996\\2654842681.py:441: FutureWarning:\n",
      "\n",
      "Setting an item of incompatible dtype is deprecated and will raise an error in a future version of pandas. Value 'No Data' has dtype incompatible with float64, please explicitly cast to a compatible dtype first.\n",
      "\n"
     ]
    },
    {
     "name": "stdout",
     "output_type": "stream",
     "text": [
      "Generating scatter plot of 'Years Off School' vs. Final Cumulative GPA...\n"
     ]
    },
    {
     "name": "stderr",
     "output_type": "stream",
     "text": [
      "C:\\Users\\ngwen\\AppData\\Local\\Temp\\ipykernel_21996\\2654842681.py:441: FutureWarning:\n",
      "\n",
      "Setting an item of incompatible dtype is deprecated and will raise an error in a future version of pandas. Value 'No Data' has dtype incompatible with float64, please explicitly cast to a compatible dtype first.\n",
      "\n",
      "C:\\Users\\ngwen\\AppData\\Local\\Temp\\ipykernel_21996\\2654842681.py:443: FutureWarning:\n",
      "\n",
      "Setting an item of incompatible dtype is deprecated and will raise an error in a future version of pandas. Value '12.1%' has dtype incompatible with float64, please explicitly cast to a compatible dtype first.\n",
      "\n",
      "C:\\Users\\ngwen\\AppData\\Local\\Temp\\ipykernel_21996\\2654842681.py:443: FutureWarning:\n",
      "\n",
      "Setting an item of incompatible dtype is deprecated and will raise an error in a future version of pandas. Value '15.2%' has dtype incompatible with float64, please explicitly cast to a compatible dtype first.\n",
      "\n",
      "C:\\Users\\ngwen\\AppData\\Local\\Temp\\ipykernel_21996\\2654842681.py:443: FutureWarning:\n",
      "\n",
      "Setting an item of incompatible dtype is deprecated and will raise an error in a future version of pandas. Value '30.3%' has dtype incompatible with float64, please explicitly cast to a compatible dtype first.\n",
      "\n",
      "C:\\Users\\ngwen\\AppData\\Local\\Temp\\ipykernel_21996\\2654842681.py:443: FutureWarning:\n",
      "\n",
      "Setting an item of incompatible dtype is deprecated and will raise an error in a future version of pandas. Value '42.4%' has dtype incompatible with float64, please explicitly cast to a compatible dtype first.\n",
      "\n",
      "C:\\Users\\ngwen\\AppData\\Local\\Temp\\ipykernel_21996\\2654842681.py:441: FutureWarning:\n",
      "\n",
      "Setting an item of incompatible dtype is deprecated and will raise an error in a future version of pandas. Value 'No Data' has dtype incompatible with float64, please explicitly cast to a compatible dtype first.\n",
      "\n"
     ]
    },
    {
     "name": "stdout",
     "output_type": "stream",
     "text": [
      "Generating scatter plot of 'Years Off School' vs. Final Cumulative GPA...\n"
     ]
    },
    {
     "name": "stderr",
     "output_type": "stream",
     "text": [
      "C:\\Users\\ngwen\\AppData\\Local\\Temp\\ipykernel_21996\\2654842681.py:441: FutureWarning:\n",
      "\n",
      "Setting an item of incompatible dtype is deprecated and will raise an error in a future version of pandas. Value 'No Data' has dtype incompatible with float64, please explicitly cast to a compatible dtype first.\n",
      "\n",
      "C:\\Users\\ngwen\\AppData\\Local\\Temp\\ipykernel_21996\\2654842681.py:443: FutureWarning:\n",
      "\n",
      "Setting an item of incompatible dtype is deprecated and will raise an error in a future version of pandas. Value '12.1%' has dtype incompatible with float64, please explicitly cast to a compatible dtype first.\n",
      "\n",
      "C:\\Users\\ngwen\\AppData\\Local\\Temp\\ipykernel_21996\\2654842681.py:443: FutureWarning:\n",
      "\n",
      "Setting an item of incompatible dtype is deprecated and will raise an error in a future version of pandas. Value '15.2%' has dtype incompatible with float64, please explicitly cast to a compatible dtype first.\n",
      "\n",
      "C:\\Users\\ngwen\\AppData\\Local\\Temp\\ipykernel_21996\\2654842681.py:443: FutureWarning:\n",
      "\n",
      "Setting an item of incompatible dtype is deprecated and will raise an error in a future version of pandas. Value '30.3%' has dtype incompatible with float64, please explicitly cast to a compatible dtype first.\n",
      "\n",
      "C:\\Users\\ngwen\\AppData\\Local\\Temp\\ipykernel_21996\\2654842681.py:443: FutureWarning:\n",
      "\n",
      "Setting an item of incompatible dtype is deprecated and will raise an error in a future version of pandas. Value '42.4%' has dtype incompatible with float64, please explicitly cast to a compatible dtype first.\n",
      "\n",
      "C:\\Users\\ngwen\\AppData\\Local\\Temp\\ipykernel_21996\\2654842681.py:441: FutureWarning:\n",
      "\n",
      "Setting an item of incompatible dtype is deprecated and will raise an error in a future version of pandas. Value 'No Data' has dtype incompatible with float64, please explicitly cast to a compatible dtype first.\n",
      "\n"
     ]
    },
    {
     "name": "stdout",
     "output_type": "stream",
     "text": [
      "Generating scatter plot of 'Years Off School' vs. Final Cumulative GPA...\n"
     ]
    },
    {
     "name": "stderr",
     "output_type": "stream",
     "text": [
      "C:\\Users\\ngwen\\AppData\\Local\\Temp\\ipykernel_21996\\2654842681.py:441: FutureWarning:\n",
      "\n",
      "Setting an item of incompatible dtype is deprecated and will raise an error in a future version of pandas. Value 'No Data' has dtype incompatible with float64, please explicitly cast to a compatible dtype first.\n",
      "\n",
      "C:\\Users\\ngwen\\AppData\\Local\\Temp\\ipykernel_21996\\2654842681.py:443: FutureWarning:\n",
      "\n",
      "Setting an item of incompatible dtype is deprecated and will raise an error in a future version of pandas. Value '12.1%' has dtype incompatible with float64, please explicitly cast to a compatible dtype first.\n",
      "\n",
      "C:\\Users\\ngwen\\AppData\\Local\\Temp\\ipykernel_21996\\2654842681.py:443: FutureWarning:\n",
      "\n",
      "Setting an item of incompatible dtype is deprecated and will raise an error in a future version of pandas. Value '15.2%' has dtype incompatible with float64, please explicitly cast to a compatible dtype first.\n",
      "\n",
      "C:\\Users\\ngwen\\AppData\\Local\\Temp\\ipykernel_21996\\2654842681.py:443: FutureWarning:\n",
      "\n",
      "Setting an item of incompatible dtype is deprecated and will raise an error in a future version of pandas. Value '30.3%' has dtype incompatible with float64, please explicitly cast to a compatible dtype first.\n",
      "\n",
      "C:\\Users\\ngwen\\AppData\\Local\\Temp\\ipykernel_21996\\2654842681.py:443: FutureWarning:\n",
      "\n",
      "Setting an item of incompatible dtype is deprecated and will raise an error in a future version of pandas. Value '42.4%' has dtype incompatible with float64, please explicitly cast to a compatible dtype first.\n",
      "\n",
      "C:\\Users\\ngwen\\AppData\\Local\\Temp\\ipykernel_21996\\2654842681.py:441: FutureWarning:\n",
      "\n",
      "Setting an item of incompatible dtype is deprecated and will raise an error in a future version of pandas. Value 'No Data' has dtype incompatible with float64, please explicitly cast to a compatible dtype first.\n",
      "\n"
     ]
    },
    {
     "name": "stdout",
     "output_type": "stream",
     "text": [
      "Generating scatter plot of 'Years Off School' vs. Final Cumulative GPA...\n"
     ]
    },
    {
     "name": "stderr",
     "output_type": "stream",
     "text": [
      "C:\\Users\\ngwen\\AppData\\Local\\Temp\\ipykernel_21996\\2654842681.py:441: FutureWarning:\n",
      "\n",
      "Setting an item of incompatible dtype is deprecated and will raise an error in a future version of pandas. Value 'No Data' has dtype incompatible with float64, please explicitly cast to a compatible dtype first.\n",
      "\n",
      "C:\\Users\\ngwen\\AppData\\Local\\Temp\\ipykernel_21996\\2654842681.py:443: FutureWarning:\n",
      "\n",
      "Setting an item of incompatible dtype is deprecated and will raise an error in a future version of pandas. Value '12.1%' has dtype incompatible with float64, please explicitly cast to a compatible dtype first.\n",
      "\n",
      "C:\\Users\\ngwen\\AppData\\Local\\Temp\\ipykernel_21996\\2654842681.py:443: FutureWarning:\n",
      "\n",
      "Setting an item of incompatible dtype is deprecated and will raise an error in a future version of pandas. Value '15.2%' has dtype incompatible with float64, please explicitly cast to a compatible dtype first.\n",
      "\n",
      "C:\\Users\\ngwen\\AppData\\Local\\Temp\\ipykernel_21996\\2654842681.py:443: FutureWarning:\n",
      "\n",
      "Setting an item of incompatible dtype is deprecated and will raise an error in a future version of pandas. Value '30.3%' has dtype incompatible with float64, please explicitly cast to a compatible dtype first.\n",
      "\n",
      "C:\\Users\\ngwen\\AppData\\Local\\Temp\\ipykernel_21996\\2654842681.py:443: FutureWarning:\n",
      "\n",
      "Setting an item of incompatible dtype is deprecated and will raise an error in a future version of pandas. Value '42.4%' has dtype incompatible with float64, please explicitly cast to a compatible dtype first.\n",
      "\n",
      "C:\\Users\\ngwen\\AppData\\Local\\Temp\\ipykernel_21996\\2654842681.py:441: FutureWarning:\n",
      "\n",
      "Setting an item of incompatible dtype is deprecated and will raise an error in a future version of pandas. Value 'No Data' has dtype incompatible with float64, please explicitly cast to a compatible dtype first.\n",
      "\n"
     ]
    },
    {
     "name": "stdout",
     "output_type": "stream",
     "text": [
      "Generating scatter plot of 'Years Off School' vs. Final Cumulative GPA...\n"
     ]
    },
    {
     "name": "stderr",
     "output_type": "stream",
     "text": [
      "C:\\Users\\ngwen\\AppData\\Local\\Temp\\ipykernel_21996\\2654842681.py:441: FutureWarning:\n",
      "\n",
      "Setting an item of incompatible dtype is deprecated and will raise an error in a future version of pandas. Value 'No Data' has dtype incompatible with float64, please explicitly cast to a compatible dtype first.\n",
      "\n",
      "C:\\Users\\ngwen\\AppData\\Local\\Temp\\ipykernel_21996\\2654842681.py:443: FutureWarning:\n",
      "\n",
      "Setting an item of incompatible dtype is deprecated and will raise an error in a future version of pandas. Value '12.1%' has dtype incompatible with float64, please explicitly cast to a compatible dtype first.\n",
      "\n",
      "C:\\Users\\ngwen\\AppData\\Local\\Temp\\ipykernel_21996\\2654842681.py:443: FutureWarning:\n",
      "\n",
      "Setting an item of incompatible dtype is deprecated and will raise an error in a future version of pandas. Value '15.2%' has dtype incompatible with float64, please explicitly cast to a compatible dtype first.\n",
      "\n",
      "C:\\Users\\ngwen\\AppData\\Local\\Temp\\ipykernel_21996\\2654842681.py:443: FutureWarning:\n",
      "\n",
      "Setting an item of incompatible dtype is deprecated and will raise an error in a future version of pandas. Value '30.3%' has dtype incompatible with float64, please explicitly cast to a compatible dtype first.\n",
      "\n",
      "C:\\Users\\ngwen\\AppData\\Local\\Temp\\ipykernel_21996\\2654842681.py:443: FutureWarning:\n",
      "\n",
      "Setting an item of incompatible dtype is deprecated and will raise an error in a future version of pandas. Value '42.4%' has dtype incompatible with float64, please explicitly cast to a compatible dtype first.\n",
      "\n",
      "C:\\Users\\ngwen\\AppData\\Local\\Temp\\ipykernel_21996\\2654842681.py:441: FutureWarning:\n",
      "\n",
      "Setting an item of incompatible dtype is deprecated and will raise an error in a future version of pandas. Value 'No Data' has dtype incompatible with float64, please explicitly cast to a compatible dtype first.\n",
      "\n"
     ]
    },
    {
     "name": "stdout",
     "output_type": "stream",
     "text": [
      "Generating scatter plot of 'Years Off School' vs. Final Cumulative GPA...\n"
     ]
    },
    {
     "name": "stderr",
     "output_type": "stream",
     "text": [
      "C:\\Users\\ngwen\\AppData\\Local\\Temp\\ipykernel_21996\\2654842681.py:441: FutureWarning:\n",
      "\n",
      "Setting an item of incompatible dtype is deprecated and will raise an error in a future version of pandas. Value 'No Data' has dtype incompatible with float64, please explicitly cast to a compatible dtype first.\n",
      "\n",
      "C:\\Users\\ngwen\\AppData\\Local\\Temp\\ipykernel_21996\\2654842681.py:443: FutureWarning:\n",
      "\n",
      "Setting an item of incompatible dtype is deprecated and will raise an error in a future version of pandas. Value '12.1%' has dtype incompatible with float64, please explicitly cast to a compatible dtype first.\n",
      "\n",
      "C:\\Users\\ngwen\\AppData\\Local\\Temp\\ipykernel_21996\\2654842681.py:443: FutureWarning:\n",
      "\n",
      "Setting an item of incompatible dtype is deprecated and will raise an error in a future version of pandas. Value '15.2%' has dtype incompatible with float64, please explicitly cast to a compatible dtype first.\n",
      "\n",
      "C:\\Users\\ngwen\\AppData\\Local\\Temp\\ipykernel_21996\\2654842681.py:443: FutureWarning:\n",
      "\n",
      "Setting an item of incompatible dtype is deprecated and will raise an error in a future version of pandas. Value '30.3%' has dtype incompatible with float64, please explicitly cast to a compatible dtype first.\n",
      "\n",
      "C:\\Users\\ngwen\\AppData\\Local\\Temp\\ipykernel_21996\\2654842681.py:443: FutureWarning:\n",
      "\n",
      "Setting an item of incompatible dtype is deprecated and will raise an error in a future version of pandas. Value '42.4%' has dtype incompatible with float64, please explicitly cast to a compatible dtype first.\n",
      "\n",
      "C:\\Users\\ngwen\\AppData\\Local\\Temp\\ipykernel_21996\\2654842681.py:441: FutureWarning:\n",
      "\n",
      "Setting an item of incompatible dtype is deprecated and will raise an error in a future version of pandas. Value 'No Data' has dtype incompatible with float64, please explicitly cast to a compatible dtype first.\n",
      "\n"
     ]
    },
    {
     "name": "stdout",
     "output_type": "stream",
     "text": [
      "Generating scatter plot of 'Years Off School' vs. Final Cumulative GPA...\n"
     ]
    },
    {
     "name": "stderr",
     "output_type": "stream",
     "text": [
      "C:\\Users\\ngwen\\AppData\\Local\\Temp\\ipykernel_21996\\2654842681.py:441: FutureWarning:\n",
      "\n",
      "Setting an item of incompatible dtype is deprecated and will raise an error in a future version of pandas. Value 'No Data' has dtype incompatible with float64, please explicitly cast to a compatible dtype first.\n",
      "\n",
      "C:\\Users\\ngwen\\AppData\\Local\\Temp\\ipykernel_21996\\2654842681.py:443: FutureWarning:\n",
      "\n",
      "Setting an item of incompatible dtype is deprecated and will raise an error in a future version of pandas. Value '12.1%' has dtype incompatible with float64, please explicitly cast to a compatible dtype first.\n",
      "\n",
      "C:\\Users\\ngwen\\AppData\\Local\\Temp\\ipykernel_21996\\2654842681.py:443: FutureWarning:\n",
      "\n",
      "Setting an item of incompatible dtype is deprecated and will raise an error in a future version of pandas. Value '15.2%' has dtype incompatible with float64, please explicitly cast to a compatible dtype first.\n",
      "\n",
      "C:\\Users\\ngwen\\AppData\\Local\\Temp\\ipykernel_21996\\2654842681.py:443: FutureWarning:\n",
      "\n",
      "Setting an item of incompatible dtype is deprecated and will raise an error in a future version of pandas. Value '30.3%' has dtype incompatible with float64, please explicitly cast to a compatible dtype first.\n",
      "\n",
      "C:\\Users\\ngwen\\AppData\\Local\\Temp\\ipykernel_21996\\2654842681.py:443: FutureWarning:\n",
      "\n",
      "Setting an item of incompatible dtype is deprecated and will raise an error in a future version of pandas. Value '42.4%' has dtype incompatible with float64, please explicitly cast to a compatible dtype first.\n",
      "\n",
      "C:\\Users\\ngwen\\AppData\\Local\\Temp\\ipykernel_21996\\2654842681.py:441: FutureWarning:\n",
      "\n",
      "Setting an item of incompatible dtype is deprecated and will raise an error in a future version of pandas. Value 'No Data' has dtype incompatible with float64, please explicitly cast to a compatible dtype first.\n",
      "\n"
     ]
    },
    {
     "name": "stdout",
     "output_type": "stream",
     "text": [
      "Generating scatter plot of 'Years Off School' vs. Final Cumulative GPA...\n"
     ]
    },
    {
     "name": "stderr",
     "output_type": "stream",
     "text": [
      "C:\\Users\\ngwen\\AppData\\Local\\Temp\\ipykernel_21996\\2654842681.py:441: FutureWarning:\n",
      "\n",
      "Setting an item of incompatible dtype is deprecated and will raise an error in a future version of pandas. Value 'No Data' has dtype incompatible with float64, please explicitly cast to a compatible dtype first.\n",
      "\n",
      "C:\\Users\\ngwen\\AppData\\Local\\Temp\\ipykernel_21996\\2654842681.py:443: FutureWarning:\n",
      "\n",
      "Setting an item of incompatible dtype is deprecated and will raise an error in a future version of pandas. Value '12.1%' has dtype incompatible with float64, please explicitly cast to a compatible dtype first.\n",
      "\n",
      "C:\\Users\\ngwen\\AppData\\Local\\Temp\\ipykernel_21996\\2654842681.py:443: FutureWarning:\n",
      "\n",
      "Setting an item of incompatible dtype is deprecated and will raise an error in a future version of pandas. Value '15.2%' has dtype incompatible with float64, please explicitly cast to a compatible dtype first.\n",
      "\n",
      "C:\\Users\\ngwen\\AppData\\Local\\Temp\\ipykernel_21996\\2654842681.py:443: FutureWarning:\n",
      "\n",
      "Setting an item of incompatible dtype is deprecated and will raise an error in a future version of pandas. Value '30.3%' has dtype incompatible with float64, please explicitly cast to a compatible dtype first.\n",
      "\n",
      "C:\\Users\\ngwen\\AppData\\Local\\Temp\\ipykernel_21996\\2654842681.py:443: FutureWarning:\n",
      "\n",
      "Setting an item of incompatible dtype is deprecated and will raise an error in a future version of pandas. Value '42.4%' has dtype incompatible with float64, please explicitly cast to a compatible dtype first.\n",
      "\n",
      "C:\\Users\\ngwen\\AppData\\Local\\Temp\\ipykernel_21996\\2654842681.py:441: FutureWarning:\n",
      "\n",
      "Setting an item of incompatible dtype is deprecated and will raise an error in a future version of pandas. Value 'No Data' has dtype incompatible with float64, please explicitly cast to a compatible dtype first.\n",
      "\n"
     ]
    },
    {
     "name": "stdout",
     "output_type": "stream",
     "text": [
      "Generating scatter plot of 'Years Off School' vs. Final Cumulative GPA...\n"
     ]
    },
    {
     "name": "stderr",
     "output_type": "stream",
     "text": [
      "C:\\Users\\ngwen\\AppData\\Local\\Temp\\ipykernel_21996\\2654842681.py:441: FutureWarning:\n",
      "\n",
      "Setting an item of incompatible dtype is deprecated and will raise an error in a future version of pandas. Value 'No Data' has dtype incompatible with float64, please explicitly cast to a compatible dtype first.\n",
      "\n",
      "C:\\Users\\ngwen\\AppData\\Local\\Temp\\ipykernel_21996\\2654842681.py:443: FutureWarning:\n",
      "\n",
      "Setting an item of incompatible dtype is deprecated and will raise an error in a future version of pandas. Value '12.1%' has dtype incompatible with float64, please explicitly cast to a compatible dtype first.\n",
      "\n",
      "C:\\Users\\ngwen\\AppData\\Local\\Temp\\ipykernel_21996\\2654842681.py:443: FutureWarning:\n",
      "\n",
      "Setting an item of incompatible dtype is deprecated and will raise an error in a future version of pandas. Value '15.2%' has dtype incompatible with float64, please explicitly cast to a compatible dtype first.\n",
      "\n",
      "C:\\Users\\ngwen\\AppData\\Local\\Temp\\ipykernel_21996\\2654842681.py:443: FutureWarning:\n",
      "\n",
      "Setting an item of incompatible dtype is deprecated and will raise an error in a future version of pandas. Value '30.3%' has dtype incompatible with float64, please explicitly cast to a compatible dtype first.\n",
      "\n",
      "C:\\Users\\ngwen\\AppData\\Local\\Temp\\ipykernel_21996\\2654842681.py:443: FutureWarning:\n",
      "\n",
      "Setting an item of incompatible dtype is deprecated and will raise an error in a future version of pandas. Value '42.4%' has dtype incompatible with float64, please explicitly cast to a compatible dtype first.\n",
      "\n",
      "C:\\Users\\ngwen\\AppData\\Local\\Temp\\ipykernel_21996\\2654842681.py:441: FutureWarning:\n",
      "\n",
      "Setting an item of incompatible dtype is deprecated and will raise an error in a future version of pandas. Value 'No Data' has dtype incompatible with float64, please explicitly cast to a compatible dtype first.\n",
      "\n"
     ]
    },
    {
     "name": "stdout",
     "output_type": "stream",
     "text": [
      "Generating scatter plot of 'Years Off School' vs. Final Cumulative GPA...\n"
     ]
    },
    {
     "name": "stderr",
     "output_type": "stream",
     "text": [
      "C:\\Users\\ngwen\\AppData\\Local\\Temp\\ipykernel_21996\\2654842681.py:441: FutureWarning:\n",
      "\n",
      "Setting an item of incompatible dtype is deprecated and will raise an error in a future version of pandas. Value 'No Data' has dtype incompatible with float64, please explicitly cast to a compatible dtype first.\n",
      "\n",
      "C:\\Users\\ngwen\\AppData\\Local\\Temp\\ipykernel_21996\\2654842681.py:443: FutureWarning:\n",
      "\n",
      "Setting an item of incompatible dtype is deprecated and will raise an error in a future version of pandas. Value '12.1%' has dtype incompatible with float64, please explicitly cast to a compatible dtype first.\n",
      "\n",
      "C:\\Users\\ngwen\\AppData\\Local\\Temp\\ipykernel_21996\\2654842681.py:443: FutureWarning:\n",
      "\n",
      "Setting an item of incompatible dtype is deprecated and will raise an error in a future version of pandas. Value '15.2%' has dtype incompatible with float64, please explicitly cast to a compatible dtype first.\n",
      "\n",
      "C:\\Users\\ngwen\\AppData\\Local\\Temp\\ipykernel_21996\\2654842681.py:443: FutureWarning:\n",
      "\n",
      "Setting an item of incompatible dtype is deprecated and will raise an error in a future version of pandas. Value '30.3%' has dtype incompatible with float64, please explicitly cast to a compatible dtype first.\n",
      "\n",
      "C:\\Users\\ngwen\\AppData\\Local\\Temp\\ipykernel_21996\\2654842681.py:443: FutureWarning:\n",
      "\n",
      "Setting an item of incompatible dtype is deprecated and will raise an error in a future version of pandas. Value '42.4%' has dtype incompatible with float64, please explicitly cast to a compatible dtype first.\n",
      "\n",
      "C:\\Users\\ngwen\\AppData\\Local\\Temp\\ipykernel_21996\\2654842681.py:441: FutureWarning:\n",
      "\n",
      "Setting an item of incompatible dtype is deprecated and will raise an error in a future version of pandas. Value 'No Data' has dtype incompatible with float64, please explicitly cast to a compatible dtype first.\n",
      "\n"
     ]
    },
    {
     "name": "stdout",
     "output_type": "stream",
     "text": [
      "Generating scatter plot of 'Years Off School' vs. Final Cumulative GPA...\n"
     ]
    },
    {
     "name": "stderr",
     "output_type": "stream",
     "text": [
      "C:\\Users\\ngwen\\AppData\\Local\\Temp\\ipykernel_21996\\2654842681.py:441: FutureWarning:\n",
      "\n",
      "Setting an item of incompatible dtype is deprecated and will raise an error in a future version of pandas. Value 'No Data' has dtype incompatible with float64, please explicitly cast to a compatible dtype first.\n",
      "\n",
      "C:\\Users\\ngwen\\AppData\\Local\\Temp\\ipykernel_21996\\2654842681.py:443: FutureWarning:\n",
      "\n",
      "Setting an item of incompatible dtype is deprecated and will raise an error in a future version of pandas. Value '12.1%' has dtype incompatible with float64, please explicitly cast to a compatible dtype first.\n",
      "\n",
      "C:\\Users\\ngwen\\AppData\\Local\\Temp\\ipykernel_21996\\2654842681.py:443: FutureWarning:\n",
      "\n",
      "Setting an item of incompatible dtype is deprecated and will raise an error in a future version of pandas. Value '15.2%' has dtype incompatible with float64, please explicitly cast to a compatible dtype first.\n",
      "\n",
      "C:\\Users\\ngwen\\AppData\\Local\\Temp\\ipykernel_21996\\2654842681.py:443: FutureWarning:\n",
      "\n",
      "Setting an item of incompatible dtype is deprecated and will raise an error in a future version of pandas. Value '30.3%' has dtype incompatible with float64, please explicitly cast to a compatible dtype first.\n",
      "\n",
      "C:\\Users\\ngwen\\AppData\\Local\\Temp\\ipykernel_21996\\2654842681.py:443: FutureWarning:\n",
      "\n",
      "Setting an item of incompatible dtype is deprecated and will raise an error in a future version of pandas. Value '42.4%' has dtype incompatible with float64, please explicitly cast to a compatible dtype first.\n",
      "\n",
      "C:\\Users\\ngwen\\AppData\\Local\\Temp\\ipykernel_21996\\2654842681.py:441: FutureWarning:\n",
      "\n",
      "Setting an item of incompatible dtype is deprecated and will raise an error in a future version of pandas. Value 'No Data' has dtype incompatible with float64, please explicitly cast to a compatible dtype first.\n",
      "\n"
     ]
    },
    {
     "name": "stdout",
     "output_type": "stream",
     "text": [
      "Generating scatter plot of 'Years Off School' vs. Final Cumulative GPA...\n"
     ]
    },
    {
     "name": "stderr",
     "output_type": "stream",
     "text": [
      "C:\\Users\\ngwen\\AppData\\Local\\Temp\\ipykernel_21996\\2654842681.py:441: FutureWarning:\n",
      "\n",
      "Setting an item of incompatible dtype is deprecated and will raise an error in a future version of pandas. Value 'No Data' has dtype incompatible with float64, please explicitly cast to a compatible dtype first.\n",
      "\n",
      "C:\\Users\\ngwen\\AppData\\Local\\Temp\\ipykernel_21996\\2654842681.py:443: FutureWarning:\n",
      "\n",
      "Setting an item of incompatible dtype is deprecated and will raise an error in a future version of pandas. Value '12.1%' has dtype incompatible with float64, please explicitly cast to a compatible dtype first.\n",
      "\n",
      "C:\\Users\\ngwen\\AppData\\Local\\Temp\\ipykernel_21996\\2654842681.py:443: FutureWarning:\n",
      "\n",
      "Setting an item of incompatible dtype is deprecated and will raise an error in a future version of pandas. Value '15.2%' has dtype incompatible with float64, please explicitly cast to a compatible dtype first.\n",
      "\n",
      "C:\\Users\\ngwen\\AppData\\Local\\Temp\\ipykernel_21996\\2654842681.py:443: FutureWarning:\n",
      "\n",
      "Setting an item of incompatible dtype is deprecated and will raise an error in a future version of pandas. Value '30.3%' has dtype incompatible with float64, please explicitly cast to a compatible dtype first.\n",
      "\n",
      "C:\\Users\\ngwen\\AppData\\Local\\Temp\\ipykernel_21996\\2654842681.py:443: FutureWarning:\n",
      "\n",
      "Setting an item of incompatible dtype is deprecated and will raise an error in a future version of pandas. Value '42.4%' has dtype incompatible with float64, please explicitly cast to a compatible dtype first.\n",
      "\n",
      "C:\\Users\\ngwen\\AppData\\Local\\Temp\\ipykernel_21996\\2654842681.py:441: FutureWarning:\n",
      "\n",
      "Setting an item of incompatible dtype is deprecated and will raise an error in a future version of pandas. Value 'No Data' has dtype incompatible with float64, please explicitly cast to a compatible dtype first.\n",
      "\n"
     ]
    },
    {
     "name": "stdout",
     "output_type": "stream",
     "text": [
      "Generating scatter plot of 'Years Off School' vs. Final Cumulative GPA...\n"
     ]
    },
    {
     "name": "stderr",
     "output_type": "stream",
     "text": [
      "C:\\Users\\ngwen\\AppData\\Local\\Temp\\ipykernel_21996\\2654842681.py:441: FutureWarning:\n",
      "\n",
      "Setting an item of incompatible dtype is deprecated and will raise an error in a future version of pandas. Value 'No Data' has dtype incompatible with float64, please explicitly cast to a compatible dtype first.\n",
      "\n",
      "C:\\Users\\ngwen\\AppData\\Local\\Temp\\ipykernel_21996\\2654842681.py:443: FutureWarning:\n",
      "\n",
      "Setting an item of incompatible dtype is deprecated and will raise an error in a future version of pandas. Value '12.1%' has dtype incompatible with float64, please explicitly cast to a compatible dtype first.\n",
      "\n",
      "C:\\Users\\ngwen\\AppData\\Local\\Temp\\ipykernel_21996\\2654842681.py:443: FutureWarning:\n",
      "\n",
      "Setting an item of incompatible dtype is deprecated and will raise an error in a future version of pandas. Value '15.2%' has dtype incompatible with float64, please explicitly cast to a compatible dtype first.\n",
      "\n",
      "C:\\Users\\ngwen\\AppData\\Local\\Temp\\ipykernel_21996\\2654842681.py:443: FutureWarning:\n",
      "\n",
      "Setting an item of incompatible dtype is deprecated and will raise an error in a future version of pandas. Value '30.3%' has dtype incompatible with float64, please explicitly cast to a compatible dtype first.\n",
      "\n",
      "C:\\Users\\ngwen\\AppData\\Local\\Temp\\ipykernel_21996\\2654842681.py:443: FutureWarning:\n",
      "\n",
      "Setting an item of incompatible dtype is deprecated and will raise an error in a future version of pandas. Value '42.4%' has dtype incompatible with float64, please explicitly cast to a compatible dtype first.\n",
      "\n",
      "C:\\Users\\ngwen\\AppData\\Local\\Temp\\ipykernel_21996\\2654842681.py:441: FutureWarning:\n",
      "\n",
      "Setting an item of incompatible dtype is deprecated and will raise an error in a future version of pandas. Value 'No Data' has dtype incompatible with float64, please explicitly cast to a compatible dtype first.\n",
      "\n"
     ]
    },
    {
     "name": "stdout",
     "output_type": "stream",
     "text": [
      "Generating scatter plot of 'Years Off School' vs. Final Cumulative GPA...\n"
     ]
    },
    {
     "name": "stderr",
     "output_type": "stream",
     "text": [
      "C:\\Users\\ngwen\\AppData\\Local\\Temp\\ipykernel_21996\\2654842681.py:441: FutureWarning:\n",
      "\n",
      "Setting an item of incompatible dtype is deprecated and will raise an error in a future version of pandas. Value 'No Data' has dtype incompatible with float64, please explicitly cast to a compatible dtype first.\n",
      "\n",
      "C:\\Users\\ngwen\\AppData\\Local\\Temp\\ipykernel_21996\\2654842681.py:443: FutureWarning:\n",
      "\n",
      "Setting an item of incompatible dtype is deprecated and will raise an error in a future version of pandas. Value '12.1%' has dtype incompatible with float64, please explicitly cast to a compatible dtype first.\n",
      "\n",
      "C:\\Users\\ngwen\\AppData\\Local\\Temp\\ipykernel_21996\\2654842681.py:443: FutureWarning:\n",
      "\n",
      "Setting an item of incompatible dtype is deprecated and will raise an error in a future version of pandas. Value '15.2%' has dtype incompatible with float64, please explicitly cast to a compatible dtype first.\n",
      "\n",
      "C:\\Users\\ngwen\\AppData\\Local\\Temp\\ipykernel_21996\\2654842681.py:443: FutureWarning:\n",
      "\n",
      "Setting an item of incompatible dtype is deprecated and will raise an error in a future version of pandas. Value '30.3%' has dtype incompatible with float64, please explicitly cast to a compatible dtype first.\n",
      "\n",
      "C:\\Users\\ngwen\\AppData\\Local\\Temp\\ipykernel_21996\\2654842681.py:443: FutureWarning:\n",
      "\n",
      "Setting an item of incompatible dtype is deprecated and will raise an error in a future version of pandas. Value '42.4%' has dtype incompatible with float64, please explicitly cast to a compatible dtype first.\n",
      "\n",
      "C:\\Users\\ngwen\\AppData\\Local\\Temp\\ipykernel_21996\\2654842681.py:441: FutureWarning:\n",
      "\n",
      "Setting an item of incompatible dtype is deprecated and will raise an error in a future version of pandas. Value 'No Data' has dtype incompatible with float64, please explicitly cast to a compatible dtype first.\n",
      "\n"
     ]
    },
    {
     "name": "stdout",
     "output_type": "stream",
     "text": [
      "Generating scatter plot of 'Years Off School' vs. Final Cumulative GPA...\n"
     ]
    }
   ],
   "source": [
    " no"
   ]
  },
  {
   "cell_type": "code",
   "execution_count": null,
   "id": "4eb9d476",
   "metadata": {},
   "outputs": [],
   "source": []
  },
  {
   "cell_type": "code",
   "execution_count": null,
   "id": "93571651",
   "metadata": {},
   "outputs": [],
   "source": []
  },
  {
   "cell_type": "code",
   "execution_count": null,
   "id": "a84165f0",
   "metadata": {},
   "outputs": [],
   "source": []
  },
  {
   "cell_type": "code",
   "execution_count": null,
   "id": "b20e1507",
   "metadata": {},
   "outputs": [],
   "source": []
  },
  {
   "cell_type": "code",
   "execution_count": null,
   "id": "82837822",
   "metadata": {},
   "outputs": [],
   "source": []
  },
  {
   "cell_type": "code",
   "execution_count": null,
   "id": "6c98a4b1",
   "metadata": {},
   "outputs": [],
   "source": []
  },
  {
   "cell_type": "code",
   "execution_count": null,
   "id": "5047f9e0",
   "metadata": {},
   "outputs": [],
   "source": []
  },
  {
   "cell_type": "code",
   "execution_count": null,
   "id": "b4ee27eb",
   "metadata": {},
   "outputs": [],
   "source": []
  },
  {
   "cell_type": "code",
   "execution_count": null,
   "id": "6a8b2d21",
   "metadata": {},
   "outputs": [],
   "source": []
  }
 ],
 "metadata": {
  "kernelspec": {
   "display_name": "base",
   "language": "python",
   "name": "python3"
  },
  "language_info": {
   "codemirror_mode": {
    "name": "ipython",
    "version": 3
   },
   "file_extension": ".py",
   "mimetype": "text/x-python",
   "name": "python",
   "nbconvert_exporter": "python",
   "pygments_lexer": "ipython3",
   "version": "3.12.4"
  }
 },
 "nbformat": 4,
 "nbformat_minor": 5
}
